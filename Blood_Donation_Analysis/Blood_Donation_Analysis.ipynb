{
 "cells": [
  {
   "cell_type": "markdown",
   "id": "98badbd1",
   "metadata": {},
   "source": [
    "## Blood Donation Project"
   ]
  },
  {
   "cell_type": "markdown",
   "id": "153d3d07",
   "metadata": {},
   "source": [
    "### In this model, we have data of blood transfusions from a mobile donation center in Taiwan, we are trying to predict which individuals donated in March 2007.\n",
    "### We already have the target values of who donated in March 2007."
   ]
  },
  {
   "cell_type": "code",
   "execution_count": 1,
   "id": "f93ba49b",
   "metadata": {
    "ExecuteTime": {
     "end_time": "2023-09-19T13:21:44.524240Z",
     "start_time": "2023-09-19T13:21:23.918539Z"
    }
   },
   "outputs": [],
   "source": [
    "import numpy as np \n",
    "import pandas as pd\n",
    "import seaborn as sns\n",
    "import matplotlib.pyplot as plt\n",
    "%matplotlib inline\n",
    "from collections import Counter\n",
    "import warnings\n",
    "warnings.filterwarnings('ignore') "
   ]
  },
  {
   "cell_type": "code",
   "execution_count": 2,
   "id": "7d697fa5",
   "metadata": {
    "ExecuteTime": {
     "end_time": "2023-09-19T13:21:44.527643Z",
     "start_time": "2023-09-19T13:21:44.525784Z"
    }
   },
   "outputs": [],
   "source": [
    "import pandas as pd"
   ]
  },
  {
   "cell_type": "code",
   "execution_count": 4,
   "id": "828eeeb1",
   "metadata": {
    "ExecuteTime": {
     "end_time": "2023-09-19T13:22:11.557692Z",
     "start_time": "2023-09-19T13:22:11.514587Z"
    }
   },
   "outputs": [
    {
     "data": {
      "text/html": [
       "<div>\n",
       "<style scoped>\n",
       "    .dataframe tbody tr th:only-of-type {\n",
       "        vertical-align: middle;\n",
       "    }\n",
       "\n",
       "    .dataframe tbody tr th {\n",
       "        vertical-align: top;\n",
       "    }\n",
       "\n",
       "    .dataframe thead th {\n",
       "        text-align: right;\n",
       "    }\n",
       "</style>\n",
       "<table border=\"1\" class=\"dataframe\">\n",
       "  <thead>\n",
       "    <tr style=\"text-align: right;\">\n",
       "      <th></th>\n",
       "      <th>Recency (months)</th>\n",
       "      <th>Frequency (times)</th>\n",
       "      <th>Monetary (c.c. blood)</th>\n",
       "      <th>Time (months)</th>\n",
       "      <th>whether he/she donated blood in March 2007</th>\n",
       "    </tr>\n",
       "  </thead>\n",
       "  <tbody>\n",
       "    <tr>\n",
       "      <th>0</th>\n",
       "      <td>2</td>\n",
       "      <td>50</td>\n",
       "      <td>12500</td>\n",
       "      <td>98</td>\n",
       "      <td>1</td>\n",
       "    </tr>\n",
       "    <tr>\n",
       "      <th>1</th>\n",
       "      <td>0</td>\n",
       "      <td>13</td>\n",
       "      <td>3250</td>\n",
       "      <td>28</td>\n",
       "      <td>1</td>\n",
       "    </tr>\n",
       "    <tr>\n",
       "      <th>2</th>\n",
       "      <td>1</td>\n",
       "      <td>16</td>\n",
       "      <td>4000</td>\n",
       "      <td>35</td>\n",
       "      <td>1</td>\n",
       "    </tr>\n",
       "    <tr>\n",
       "      <th>3</th>\n",
       "      <td>2</td>\n",
       "      <td>20</td>\n",
       "      <td>5000</td>\n",
       "      <td>45</td>\n",
       "      <td>1</td>\n",
       "    </tr>\n",
       "    <tr>\n",
       "      <th>4</th>\n",
       "      <td>1</td>\n",
       "      <td>24</td>\n",
       "      <td>6000</td>\n",
       "      <td>77</td>\n",
       "      <td>0</td>\n",
       "    </tr>\n",
       "  </tbody>\n",
       "</table>\n",
       "</div>"
      ],
      "text/plain": [
       "   Recency (months)  Frequency (times)  Monetary (c.c. blood)  Time (months)  \\\n",
       "0                 2                 50                  12500             98   \n",
       "1                 0                 13                   3250             28   \n",
       "2                 1                 16                   4000             35   \n",
       "3                 2                 20                   5000             45   \n",
       "4                 1                 24                   6000             77   \n",
       "\n",
       "   whether he/she donated blood in March 2007  \n",
       "0                                           1  \n",
       "1                                           1  \n",
       "2                                           1  \n",
       "3                                           1  \n",
       "4                                           0  "
      ]
     },
     "execution_count": 4,
     "metadata": {},
     "output_type": "execute_result"
    }
   ],
   "source": [
    "df = pd.read_csv('/Users/mahmooooodie/Desktop/DV PROJECTS/Python Practice Project/transfusion.data')\n",
    "df.head()"
   ]
  },
  {
   "cell_type": "code",
   "execution_count": 5,
   "id": "37ebefef",
   "metadata": {
    "ExecuteTime": {
     "end_time": "2023-09-19T13:22:13.308077Z",
     "start_time": "2023-09-19T13:22:13.302946Z"
    }
   },
   "outputs": [
    {
     "data": {
      "text/plain": [
       "(748, 5)"
      ]
     },
     "execution_count": 5,
     "metadata": {},
     "output_type": "execute_result"
    }
   ],
   "source": [
    "df.shape"
   ]
  },
  {
   "cell_type": "code",
   "execution_count": 6,
   "id": "74f4a367",
   "metadata": {
    "ExecuteTime": {
     "end_time": "2023-09-19T13:22:13.626243Z",
     "start_time": "2023-09-19T13:22:13.606497Z"
    }
   },
   "outputs": [
    {
     "data": {
      "text/html": [
       "<div>\n",
       "<style scoped>\n",
       "    .dataframe tbody tr th:only-of-type {\n",
       "        vertical-align: middle;\n",
       "    }\n",
       "\n",
       "    .dataframe tbody tr th {\n",
       "        vertical-align: top;\n",
       "    }\n",
       "\n",
       "    .dataframe thead th {\n",
       "        text-align: right;\n",
       "    }\n",
       "</style>\n",
       "<table border=\"1\" class=\"dataframe\">\n",
       "  <thead>\n",
       "    <tr style=\"text-align: right;\">\n",
       "      <th></th>\n",
       "      <th>recency</th>\n",
       "      <th>frequency</th>\n",
       "      <th>monetary</th>\n",
       "      <th>time</th>\n",
       "      <th>target</th>\n",
       "    </tr>\n",
       "  </thead>\n",
       "  <tbody>\n",
       "    <tr>\n",
       "      <th>0</th>\n",
       "      <td>2</td>\n",
       "      <td>50</td>\n",
       "      <td>12500</td>\n",
       "      <td>98</td>\n",
       "      <td>1</td>\n",
       "    </tr>\n",
       "    <tr>\n",
       "      <th>1</th>\n",
       "      <td>0</td>\n",
       "      <td>13</td>\n",
       "      <td>3250</td>\n",
       "      <td>28</td>\n",
       "      <td>1</td>\n",
       "    </tr>\n",
       "    <tr>\n",
       "      <th>2</th>\n",
       "      <td>1</td>\n",
       "      <td>16</td>\n",
       "      <td>4000</td>\n",
       "      <td>35</td>\n",
       "      <td>1</td>\n",
       "    </tr>\n",
       "    <tr>\n",
       "      <th>3</th>\n",
       "      <td>2</td>\n",
       "      <td>20</td>\n",
       "      <td>5000</td>\n",
       "      <td>45</td>\n",
       "      <td>1</td>\n",
       "    </tr>\n",
       "    <tr>\n",
       "      <th>4</th>\n",
       "      <td>1</td>\n",
       "      <td>24</td>\n",
       "      <td>6000</td>\n",
       "      <td>77</td>\n",
       "      <td>0</td>\n",
       "    </tr>\n",
       "  </tbody>\n",
       "</table>\n",
       "</div>"
      ],
      "text/plain": [
       "   recency  frequency  monetary  time  target\n",
       "0        2         50     12500    98       1\n",
       "1        0         13      3250    28       1\n",
       "2        1         16      4000    35       1\n",
       "3        2         20      5000    45       1\n",
       "4        1         24      6000    77       0"
      ]
     },
     "execution_count": 6,
     "metadata": {},
     "output_type": "execute_result"
    }
   ],
   "source": [
    "new_columns = {\n",
    "    'Recency (months)':'recency',\n",
    "    'Frequency (times)': 'frequency',\n",
    "    'Monetary (c.c. blood)' : 'monetary',\n",
    "    'Time (months)':'time',\n",
    "    'whether he/she donated blood in March 2007':'target'   \n",
    "}\n",
    "df.rename(columns = new_columns, inplace=True)\n",
    "df.head()"
   ]
  },
  {
   "cell_type": "code",
   "execution_count": 7,
   "id": "128c3172",
   "metadata": {
    "ExecuteTime": {
     "end_time": "2023-09-19T13:22:14.182138Z",
     "start_time": "2023-09-19T13:22:14.148154Z"
    }
   },
   "outputs": [
    {
     "name": "stdout",
     "output_type": "stream",
     "text": [
      "<class 'pandas.core.frame.DataFrame'>\n",
      "RangeIndex: 748 entries, 0 to 747\n",
      "Data columns (total 5 columns):\n",
      " #   Column     Non-Null Count  Dtype\n",
      "---  ------     --------------  -----\n",
      " 0   recency    748 non-null    int64\n",
      " 1   frequency  748 non-null    int64\n",
      " 2   monetary   748 non-null    int64\n",
      " 3   time       748 non-null    int64\n",
      " 4   target     748 non-null    int64\n",
      "dtypes: int64(5)\n",
      "memory usage: 29.3 KB\n"
     ]
    }
   ],
   "source": [
    "df.info()"
   ]
  },
  {
   "cell_type": "code",
   "execution_count": 8,
   "id": "bcd2492b",
   "metadata": {
    "ExecuteTime": {
     "end_time": "2023-09-19T13:22:14.709167Z",
     "start_time": "2023-09-19T13:22:14.702139Z"
    }
   },
   "outputs": [
    {
     "data": {
      "text/plain": [
       "recency      0\n",
       "frequency    0\n",
       "monetary     0\n",
       "time         0\n",
       "target       0\n",
       "dtype: int64"
      ]
     },
     "execution_count": 8,
     "metadata": {},
     "output_type": "execute_result"
    }
   ],
   "source": [
    "df.isnull().sum()"
   ]
  },
  {
   "cell_type": "code",
   "execution_count": 9,
   "id": "b52d41f5",
   "metadata": {
    "ExecuteTime": {
     "end_time": "2023-09-19T13:22:15.660967Z",
     "start_time": "2023-09-19T13:22:15.651084Z"
    }
   },
   "outputs": [
    {
     "data": {
      "text/plain": [
       "False"
      ]
     },
     "execution_count": 9,
     "metadata": {},
     "output_type": "execute_result"
    }
   ],
   "source": [
    "df.isnull().sum().any()  # checks for any null values at all"
   ]
  },
  {
   "cell_type": "code",
   "execution_count": 10,
   "id": "fd144736",
   "metadata": {
    "ExecuteTime": {
     "end_time": "2023-09-19T13:22:15.849077Z",
     "start_time": "2023-09-19T13:22:15.829396Z"
    }
   },
   "outputs": [
    {
     "data": {
      "text/plain": [
       "215"
      ]
     },
     "execution_count": 10,
     "metadata": {},
     "output_type": "execute_result"
    }
   ],
   "source": [
    "df.duplicated().sum()"
   ]
  },
  {
   "cell_type": "code",
   "execution_count": 11,
   "id": "eac26d27",
   "metadata": {
    "ExecuteTime": {
     "end_time": "2023-09-19T13:22:16.004714Z",
     "start_time": "2023-09-19T13:22:15.995394Z"
    }
   },
   "outputs": [
    {
     "data": {
      "text/plain": [
       "recency      int64\n",
       "frequency    int64\n",
       "monetary     int64\n",
       "time         int64\n",
       "target       int64\n",
       "dtype: object"
      ]
     },
     "execution_count": 11,
     "metadata": {},
     "output_type": "execute_result"
    }
   ],
   "source": [
    "df.dtypes"
   ]
  },
  {
   "cell_type": "code",
   "execution_count": 12,
   "id": "0ffe1d9d",
   "metadata": {
    "ExecuteTime": {
     "end_time": "2023-09-19T13:22:16.184355Z",
     "start_time": "2023-09-19T13:22:16.151241Z"
    }
   },
   "outputs": [
    {
     "data": {
      "text/html": [
       "<div>\n",
       "<style scoped>\n",
       "    .dataframe tbody tr th:only-of-type {\n",
       "        vertical-align: middle;\n",
       "    }\n",
       "\n",
       "    .dataframe tbody tr th {\n",
       "        vertical-align: top;\n",
       "    }\n",
       "\n",
       "    .dataframe thead th {\n",
       "        text-align: right;\n",
       "    }\n",
       "</style>\n",
       "<table border=\"1\" class=\"dataframe\">\n",
       "  <thead>\n",
       "    <tr style=\"text-align: right;\">\n",
       "      <th></th>\n",
       "      <th>count</th>\n",
       "      <th>mean</th>\n",
       "      <th>std</th>\n",
       "      <th>min</th>\n",
       "      <th>25%</th>\n",
       "      <th>50%</th>\n",
       "      <th>75%</th>\n",
       "      <th>max</th>\n",
       "    </tr>\n",
       "  </thead>\n",
       "  <tbody>\n",
       "    <tr>\n",
       "      <th>recency</th>\n",
       "      <td>748.0</td>\n",
       "      <td>9.506684</td>\n",
       "      <td>8.095396</td>\n",
       "      <td>0.0</td>\n",
       "      <td>2.75</td>\n",
       "      <td>7.0</td>\n",
       "      <td>14.0</td>\n",
       "      <td>74.0</td>\n",
       "    </tr>\n",
       "    <tr>\n",
       "      <th>frequency</th>\n",
       "      <td>748.0</td>\n",
       "      <td>5.514706</td>\n",
       "      <td>5.839307</td>\n",
       "      <td>1.0</td>\n",
       "      <td>2.00</td>\n",
       "      <td>4.0</td>\n",
       "      <td>7.0</td>\n",
       "      <td>50.0</td>\n",
       "    </tr>\n",
       "    <tr>\n",
       "      <th>monetary</th>\n",
       "      <td>748.0</td>\n",
       "      <td>1378.676471</td>\n",
       "      <td>1459.826781</td>\n",
       "      <td>250.0</td>\n",
       "      <td>500.00</td>\n",
       "      <td>1000.0</td>\n",
       "      <td>1750.0</td>\n",
       "      <td>12500.0</td>\n",
       "    </tr>\n",
       "    <tr>\n",
       "      <th>time</th>\n",
       "      <td>748.0</td>\n",
       "      <td>34.282086</td>\n",
       "      <td>24.376714</td>\n",
       "      <td>2.0</td>\n",
       "      <td>16.00</td>\n",
       "      <td>28.0</td>\n",
       "      <td>50.0</td>\n",
       "      <td>98.0</td>\n",
       "    </tr>\n",
       "    <tr>\n",
       "      <th>target</th>\n",
       "      <td>748.0</td>\n",
       "      <td>0.237968</td>\n",
       "      <td>0.426124</td>\n",
       "      <td>0.0</td>\n",
       "      <td>0.00</td>\n",
       "      <td>0.0</td>\n",
       "      <td>0.0</td>\n",
       "      <td>1.0</td>\n",
       "    </tr>\n",
       "  </tbody>\n",
       "</table>\n",
       "</div>"
      ],
      "text/plain": [
       "           count         mean          std    min     25%     50%     75%  \\\n",
       "recency    748.0     9.506684     8.095396    0.0    2.75     7.0    14.0   \n",
       "frequency  748.0     5.514706     5.839307    1.0    2.00     4.0     7.0   \n",
       "monetary   748.0  1378.676471  1459.826781  250.0  500.00  1000.0  1750.0   \n",
       "time       748.0    34.282086    24.376714    2.0   16.00    28.0    50.0   \n",
       "target     748.0     0.237968     0.426124    0.0    0.00     0.0     0.0   \n",
       "\n",
       "               max  \n",
       "recency       74.0  \n",
       "frequency     50.0  \n",
       "monetary   12500.0  \n",
       "time          98.0  \n",
       "target         1.0  "
      ]
     },
     "execution_count": 12,
     "metadata": {},
     "output_type": "execute_result"
    }
   ],
   "source": [
    "df.describe().T"
   ]
  },
  {
   "cell_type": "code",
   "execution_count": 13,
   "id": "284731d1",
   "metadata": {
    "ExecuteTime": {
     "end_time": "2023-09-19T13:22:16.318542Z",
     "start_time": "2023-09-19T13:22:16.310866Z"
    }
   },
   "outputs": [
    {
     "data": {
      "text/plain": [
       "array([ 2,  0,  1,  4,  5,  9,  3, 12,  6, 11, 10, 13,  8, 14,  7, 16, 15,\n",
       "       23, 21, 18, 22, 26, 35, 38, 40, 74, 20, 17, 25, 39, 72])"
      ]
     },
     "execution_count": 13,
     "metadata": {},
     "output_type": "execute_result"
    }
   ],
   "source": [
    "df.recency.unique()"
   ]
  },
  {
   "cell_type": "code",
   "execution_count": 14,
   "id": "2338e897",
   "metadata": {
    "ExecuteTime": {
     "end_time": "2023-09-19T13:22:16.470516Z",
     "start_time": "2023-09-19T13:22:16.462829Z"
    }
   },
   "outputs": [
    {
     "data": {
      "text/plain": [
       "array([50, 13, 16, 20, 24,  4,  7, 12,  9, 46, 23,  3, 10,  6,  5, 14, 15,\n",
       "       11,  8,  2, 19, 17,  1, 22, 18, 38, 43, 34, 44, 26, 41, 21, 33])"
      ]
     },
     "execution_count": 14,
     "metadata": {},
     "output_type": "execute_result"
    }
   ],
   "source": [
    "df.frequency.unique()"
   ]
  },
  {
   "cell_type": "code",
   "execution_count": 15,
   "id": "f99716ca",
   "metadata": {
    "ExecuteTime": {
     "end_time": "2023-09-19T13:22:16.627885Z",
     "start_time": "2023-09-19T13:22:16.620871Z"
    }
   },
   "outputs": [
    {
     "data": {
      "text/plain": [
       "array([12500,  3250,  4000,  5000,  6000,  1000,  1750,  3000,  2250,\n",
       "       11500,  5750,   750,  2500,  1500,  1250,  3500,  3750,  2750,\n",
       "        2000,   500,  4750,  4250,   250,  5500,  4500,  9500, 10750,\n",
       "        8500, 11000,  6500, 10250,  5250,  8250])"
      ]
     },
     "execution_count": 15,
     "metadata": {},
     "output_type": "execute_result"
    }
   ],
   "source": [
    "df.monetary.unique()"
   ]
  },
  {
   "cell_type": "code",
   "execution_count": 16,
   "id": "740e4c12",
   "metadata": {
    "ExecuteTime": {
     "end_time": "2023-09-19T13:22:16.789026Z",
     "start_time": "2023-09-19T13:22:16.779061Z"
    }
   },
   "outputs": [
    {
     "data": {
      "text/plain": [
       "array([98, 28, 35, 45, 77,  4, 14, 22, 58, 47, 15, 11, 48, 49, 16, 40, 34,\n",
       "       21, 26, 64, 57, 53, 69, 36,  2, 46, 52, 81, 29,  9, 74, 25, 51, 71,\n",
       "       23, 86, 38, 76, 70, 59, 82, 61, 79, 41, 33, 10, 95, 88, 19, 37, 39,\n",
       "       78, 42, 27, 24, 63, 43, 75, 73, 50, 60, 17, 72, 62, 30, 31, 65, 89,\n",
       "       87, 93, 83, 32, 12, 18, 55,  3, 13, 54])"
      ]
     },
     "execution_count": 16,
     "metadata": {},
     "output_type": "execute_result"
    }
   ],
   "source": [
    "df.time.unique()"
   ]
  },
  {
   "cell_type": "code",
   "execution_count": 17,
   "id": "e01103ca",
   "metadata": {
    "ExecuteTime": {
     "end_time": "2023-09-19T13:22:16.970287Z",
     "start_time": "2023-09-19T13:22:16.962655Z"
    }
   },
   "outputs": [
    {
     "data": {
      "text/plain": [
       "9.506684491978609"
      ]
     },
     "execution_count": 17,
     "metadata": {},
     "output_type": "execute_result"
    }
   ],
   "source": [
    "df['recency'].mean()"
   ]
  },
  {
   "cell_type": "code",
   "execution_count": 18,
   "id": "9dddcc63",
   "metadata": {
    "ExecuteTime": {
     "end_time": "2023-09-19T13:22:17.138315Z",
     "start_time": "2023-09-19T13:22:17.131871Z"
    }
   },
   "outputs": [
    {
     "data": {
      "text/plain": [
       "50"
      ]
     },
     "execution_count": 18,
     "metadata": {},
     "output_type": "execute_result"
    }
   ],
   "source": [
    "df['frequency'].max()"
   ]
  },
  {
   "cell_type": "code",
   "execution_count": 19,
   "id": "1ab1f625",
   "metadata": {
    "ExecuteTime": {
     "end_time": "2023-09-19T13:22:17.503532Z",
     "start_time": "2023-09-19T13:22:17.495160Z"
    }
   },
   "outputs": [
    {
     "data": {
      "text/plain": [
       "28.0"
      ]
     },
     "execution_count": 19,
     "metadata": {},
     "output_type": "execute_result"
    }
   ],
   "source": [
    "df['time'].median()"
   ]
  },
  {
   "cell_type": "code",
   "execution_count": 20,
   "id": "fa1f5613",
   "metadata": {
    "ExecuteTime": {
     "end_time": "2023-09-19T13:22:17.663616Z",
     "start_time": "2023-09-19T13:22:17.655717Z"
    }
   },
   "outputs": [
    {
     "data": {
      "text/plain": [
       "1459.826780772503"
      ]
     },
     "execution_count": 20,
     "metadata": {},
     "output_type": "execute_result"
    }
   ],
   "source": [
    "df['monetary'].std()"
   ]
  },
  {
   "cell_type": "code",
   "execution_count": 21,
   "id": "d4c93f6e",
   "metadata": {
    "ExecuteTime": {
     "end_time": "2023-09-19T13:22:17.800709Z",
     "start_time": "2023-09-19T13:22:17.794880Z"
    }
   },
   "outputs": [
    {
     "data": {
      "text/plain": [
       "78"
      ]
     },
     "execution_count": 21,
     "metadata": {},
     "output_type": "execute_result"
    }
   ],
   "source": [
    "df['time'].nunique()"
   ]
  },
  {
   "cell_type": "code",
   "execution_count": 22,
   "id": "79f46ff6",
   "metadata": {
    "ExecuteTime": {
     "end_time": "2023-09-19T13:22:17.927852Z",
     "start_time": "2023-09-19T13:22:17.914838Z"
    }
   },
   "outputs": [
    {
     "name": "stdout",
     "output_type": "stream",
     "text": [
      "0.23796791443850268\n",
      "0.23796791443850268\n"
     ]
    }
   ],
   "source": [
    "# ratio of target = 1 to total number of donors\n",
    "print(df.target.value_counts()[1]/len(df))\n",
    "print(df.target.value_counts(normalize = True)[1])"
   ]
  },
  {
   "cell_type": "code",
   "execution_count": 23,
   "id": "aab6e844",
   "metadata": {
    "ExecuteTime": {
     "end_time": "2023-09-19T13:22:18.135584Z",
     "start_time": "2023-09-19T13:22:18.123584Z"
    }
   },
   "outputs": [
    {
     "data": {
      "text/plain": [
       "0       True\n",
       "1       True\n",
       "2       True\n",
       "3       True\n",
       "4       True\n",
       "       ...  \n",
       "743    False\n",
       "744    False\n",
       "745    False\n",
       "746    False\n",
       "747    False\n",
       "Name: recency, Length: 748, dtype: bool"
      ]
     },
     "execution_count": 23,
     "metadata": {},
     "output_type": "execute_result"
    }
   ],
   "source": [
    "df['recency'] < 10"
   ]
  },
  {
   "cell_type": "code",
   "execution_count": 24,
   "id": "d39b9d6f",
   "metadata": {
    "ExecuteTime": {
     "end_time": "2023-09-19T13:22:18.590083Z",
     "start_time": "2023-09-19T13:22:18.575354Z"
    }
   },
   "outputs": [
    {
     "data": {
      "text/html": [
       "<div>\n",
       "<style scoped>\n",
       "    .dataframe tbody tr th:only-of-type {\n",
       "        vertical-align: middle;\n",
       "    }\n",
       "\n",
       "    .dataframe tbody tr th {\n",
       "        vertical-align: top;\n",
       "    }\n",
       "\n",
       "    .dataframe thead th {\n",
       "        text-align: right;\n",
       "    }\n",
       "</style>\n",
       "<table border=\"1\" class=\"dataframe\">\n",
       "  <thead>\n",
       "    <tr style=\"text-align: right;\">\n",
       "      <th></th>\n",
       "      <th>recency</th>\n",
       "      <th>frequency</th>\n",
       "      <th>monetary</th>\n",
       "      <th>time</th>\n",
       "      <th>target</th>\n",
       "    </tr>\n",
       "  </thead>\n",
       "  <tbody>\n",
       "    <tr>\n",
       "      <th>0</th>\n",
       "      <td>2</td>\n",
       "      <td>50</td>\n",
       "      <td>12500</td>\n",
       "      <td>98</td>\n",
       "      <td>1</td>\n",
       "    </tr>\n",
       "    <tr>\n",
       "      <th>1</th>\n",
       "      <td>0</td>\n",
       "      <td>13</td>\n",
       "      <td>3250</td>\n",
       "      <td>28</td>\n",
       "      <td>1</td>\n",
       "    </tr>\n",
       "    <tr>\n",
       "      <th>2</th>\n",
       "      <td>1</td>\n",
       "      <td>16</td>\n",
       "      <td>4000</td>\n",
       "      <td>35</td>\n",
       "      <td>1</td>\n",
       "    </tr>\n",
       "    <tr>\n",
       "      <th>3</th>\n",
       "      <td>2</td>\n",
       "      <td>20</td>\n",
       "      <td>5000</td>\n",
       "      <td>45</td>\n",
       "      <td>1</td>\n",
       "    </tr>\n",
       "    <tr>\n",
       "      <th>4</th>\n",
       "      <td>1</td>\n",
       "      <td>24</td>\n",
       "      <td>6000</td>\n",
       "      <td>77</td>\n",
       "      <td>0</td>\n",
       "    </tr>\n",
       "    <tr>\n",
       "      <th>...</th>\n",
       "      <td>...</td>\n",
       "      <td>...</td>\n",
       "      <td>...</td>\n",
       "      <td>...</td>\n",
       "      <td>...</td>\n",
       "    </tr>\n",
       "    <tr>\n",
       "      <th>653</th>\n",
       "      <td>4</td>\n",
       "      <td>2</td>\n",
       "      <td>500</td>\n",
       "      <td>30</td>\n",
       "      <td>0</td>\n",
       "    </tr>\n",
       "    <tr>\n",
       "      <th>656</th>\n",
       "      <td>4</td>\n",
       "      <td>2</td>\n",
       "      <td>500</td>\n",
       "      <td>31</td>\n",
       "      <td>0</td>\n",
       "    </tr>\n",
       "    <tr>\n",
       "      <th>669</th>\n",
       "      <td>2</td>\n",
       "      <td>3</td>\n",
       "      <td>750</td>\n",
       "      <td>75</td>\n",
       "      <td>1</td>\n",
       "    </tr>\n",
       "    <tr>\n",
       "      <th>670</th>\n",
       "      <td>2</td>\n",
       "      <td>3</td>\n",
       "      <td>750</td>\n",
       "      <td>77</td>\n",
       "      <td>0</td>\n",
       "    </tr>\n",
       "    <tr>\n",
       "      <th>681</th>\n",
       "      <td>4</td>\n",
       "      <td>2</td>\n",
       "      <td>500</td>\n",
       "      <td>46</td>\n",
       "      <td>0</td>\n",
       "    </tr>\n",
       "  </tbody>\n",
       "</table>\n",
       "<p>401 rows × 5 columns</p>\n",
       "</div>"
      ],
      "text/plain": [
       "     recency  frequency  monetary  time  target\n",
       "0          2         50     12500    98       1\n",
       "1          0         13      3250    28       1\n",
       "2          1         16      4000    35       1\n",
       "3          2         20      5000    45       1\n",
       "4          1         24      6000    77       0\n",
       "..       ...        ...       ...   ...     ...\n",
       "653        4          2       500    30       0\n",
       "656        4          2       500    31       0\n",
       "669        2          3       750    75       1\n",
       "670        2          3       750    77       0\n",
       "681        4          2       500    46       0\n",
       "\n",
       "[401 rows x 5 columns]"
      ]
     },
     "execution_count": 24,
     "metadata": {},
     "output_type": "execute_result"
    }
   ],
   "source": [
    "# filtering recency values less than 10\n",
    "\n",
    "df[df['recency'] < 10]"
   ]
  },
  {
   "cell_type": "code",
   "execution_count": 25,
   "id": "ad149dfa",
   "metadata": {
    "ExecuteTime": {
     "end_time": "2023-09-19T13:22:19.062890Z",
     "start_time": "2023-09-19T13:22:19.056799Z"
    }
   },
   "outputs": [
    {
     "data": {
      "text/plain": [
       "401"
      ]
     },
     "execution_count": 25,
     "metadata": {},
     "output_type": "execute_result"
    }
   ],
   "source": [
    "# Counting how many recency values are less than 10\n",
    "\n",
    "len(df[df['recency'] < 10])"
   ]
  },
  {
   "cell_type": "code",
   "execution_count": 26,
   "id": "e1dcb9e5",
   "metadata": {
    "ExecuteTime": {
     "end_time": "2023-09-19T13:22:19.588915Z",
     "start_time": "2023-09-19T13:22:19.582728Z"
    }
   },
   "outputs": [
    {
     "data": {
      "text/plain": [
       "329"
      ]
     },
     "execution_count": 26,
     "metadata": {},
     "output_type": "execute_result"
    }
   ],
   "source": [
    "# selecting donors who have donated at least 5 times\n",
    "\n",
    "len(df[df['frequency'] >=  5])"
   ]
  },
  {
   "cell_type": "code",
   "execution_count": 27,
   "id": "fb1d0802",
   "metadata": {
    "ExecuteTime": {
     "end_time": "2023-09-19T13:22:20.182157Z",
     "start_time": "2023-09-19T13:22:20.164287Z"
    }
   },
   "outputs": [
    {
     "data": {
      "text/html": [
       "<div>\n",
       "<style scoped>\n",
       "    .dataframe tbody tr th:only-of-type {\n",
       "        vertical-align: middle;\n",
       "    }\n",
       "\n",
       "    .dataframe tbody tr th {\n",
       "        vertical-align: top;\n",
       "    }\n",
       "\n",
       "    .dataframe thead th {\n",
       "        text-align: right;\n",
       "    }\n",
       "</style>\n",
       "<table border=\"1\" class=\"dataframe\">\n",
       "  <thead>\n",
       "    <tr style=\"text-align: right;\">\n",
       "      <th></th>\n",
       "      <th>recency</th>\n",
       "      <th>frequency</th>\n",
       "      <th>monetary</th>\n",
       "      <th>time</th>\n",
       "      <th>target</th>\n",
       "      <th>timespan</th>\n",
       "    </tr>\n",
       "  </thead>\n",
       "  <tbody>\n",
       "    <tr>\n",
       "      <th>0</th>\n",
       "      <td>2</td>\n",
       "      <td>50</td>\n",
       "      <td>12500</td>\n",
       "      <td>98</td>\n",
       "      <td>1</td>\n",
       "      <td>96</td>\n",
       "    </tr>\n",
       "    <tr>\n",
       "      <th>1</th>\n",
       "      <td>0</td>\n",
       "      <td>13</td>\n",
       "      <td>3250</td>\n",
       "      <td>28</td>\n",
       "      <td>1</td>\n",
       "      <td>28</td>\n",
       "    </tr>\n",
       "    <tr>\n",
       "      <th>2</th>\n",
       "      <td>1</td>\n",
       "      <td>16</td>\n",
       "      <td>4000</td>\n",
       "      <td>35</td>\n",
       "      <td>1</td>\n",
       "      <td>34</td>\n",
       "    </tr>\n",
       "    <tr>\n",
       "      <th>3</th>\n",
       "      <td>2</td>\n",
       "      <td>20</td>\n",
       "      <td>5000</td>\n",
       "      <td>45</td>\n",
       "      <td>1</td>\n",
       "      <td>43</td>\n",
       "    </tr>\n",
       "    <tr>\n",
       "      <th>4</th>\n",
       "      <td>1</td>\n",
       "      <td>24</td>\n",
       "      <td>6000</td>\n",
       "      <td>77</td>\n",
       "      <td>0</td>\n",
       "      <td>76</td>\n",
       "    </tr>\n",
       "    <tr>\n",
       "      <th>...</th>\n",
       "      <td>...</td>\n",
       "      <td>...</td>\n",
       "      <td>...</td>\n",
       "      <td>...</td>\n",
       "      <td>...</td>\n",
       "      <td>...</td>\n",
       "    </tr>\n",
       "    <tr>\n",
       "      <th>743</th>\n",
       "      <td>23</td>\n",
       "      <td>2</td>\n",
       "      <td>500</td>\n",
       "      <td>38</td>\n",
       "      <td>0</td>\n",
       "      <td>15</td>\n",
       "    </tr>\n",
       "    <tr>\n",
       "      <th>744</th>\n",
       "      <td>21</td>\n",
       "      <td>2</td>\n",
       "      <td>500</td>\n",
       "      <td>52</td>\n",
       "      <td>0</td>\n",
       "      <td>31</td>\n",
       "    </tr>\n",
       "    <tr>\n",
       "      <th>745</th>\n",
       "      <td>23</td>\n",
       "      <td>3</td>\n",
       "      <td>750</td>\n",
       "      <td>62</td>\n",
       "      <td>0</td>\n",
       "      <td>39</td>\n",
       "    </tr>\n",
       "    <tr>\n",
       "      <th>746</th>\n",
       "      <td>39</td>\n",
       "      <td>1</td>\n",
       "      <td>250</td>\n",
       "      <td>39</td>\n",
       "      <td>0</td>\n",
       "      <td>0</td>\n",
       "    </tr>\n",
       "    <tr>\n",
       "      <th>747</th>\n",
       "      <td>72</td>\n",
       "      <td>1</td>\n",
       "      <td>250</td>\n",
       "      <td>72</td>\n",
       "      <td>0</td>\n",
       "      <td>0</td>\n",
       "    </tr>\n",
       "  </tbody>\n",
       "</table>\n",
       "<p>748 rows × 6 columns</p>\n",
       "</div>"
      ],
      "text/plain": [
       "     recency  frequency  monetary  time  target  timespan\n",
       "0          2         50     12500    98       1        96\n",
       "1          0         13      3250    28       1        28\n",
       "2          1         16      4000    35       1        34\n",
       "3          2         20      5000    45       1        43\n",
       "4          1         24      6000    77       0        76\n",
       "..       ...        ...       ...   ...     ...       ...\n",
       "743       23          2       500    38       0        15\n",
       "744       21          2       500    52       0        31\n",
       "745       23          3       750    62       0        39\n",
       "746       39          1       250    39       0         0\n",
       "747       72          1       250    72       0         0\n",
       "\n",
       "[748 rows x 6 columns]"
      ]
     },
     "execution_count": 27,
     "metadata": {},
     "output_type": "execute_result"
    }
   ],
   "source": [
    "df['timespan'] = df['time'] - df['recency']\n",
    "df"
   ]
  },
  {
   "cell_type": "code",
   "execution_count": 30,
   "id": "46137209",
   "metadata": {
    "ExecuteTime": {
     "end_time": "2023-09-19T13:33:12.417040Z",
     "start_time": "2023-09-19T13:33:12.407651Z"
    }
   },
   "outputs": [],
   "source": [
    "# finding outliers with z scores above 3\n",
    "\n",
    "\n",
    "from scipy import stats"
   ]
  },
  {
   "cell_type": "code",
   "execution_count": 38,
   "id": "5eaf198f",
   "metadata": {
    "ExecuteTime": {
     "end_time": "2023-09-19T13:40:15.456656Z",
     "start_time": "2023-09-19T13:40:15.434521Z"
    }
   },
   "outputs": [],
   "source": [
    "z_score = np.abs(stats.zscore(df['monetary']))\n",
    "outliers = np.where(z_score > 2.97)"
   ]
  },
  {
   "cell_type": "code",
   "execution_count": 39,
   "id": "5f71c505",
   "metadata": {
    "ExecuteTime": {
     "end_time": "2023-09-19T13:40:16.539691Z",
     "start_time": "2023-09-19T13:40:16.526736Z"
    }
   },
   "outputs": [
    {
     "data": {
      "text/plain": [
       "0      7.623346\n",
       "1      1.282738\n",
       "2      1.796842\n",
       "3      2.482313\n",
       "4      3.167784\n",
       "         ...   \n",
       "743    0.602307\n",
       "744    0.602307\n",
       "745    0.430940\n",
       "746    0.773675\n",
       "747    0.773675\n",
       "Name: monetary, Length: 748, dtype: float64"
      ]
     },
     "execution_count": 39,
     "metadata": {},
     "output_type": "execute_result"
    }
   ],
   "source": [
    "z_score"
   ]
  },
  {
   "cell_type": "code",
   "execution_count": 40,
   "id": "409be589",
   "metadata": {
    "ExecuteTime": {
     "end_time": "2023-09-19T13:40:16.725786Z",
     "start_time": "2023-09-19T13:40:16.715383Z"
    }
   },
   "outputs": [
    {
     "data": {
      "text/plain": [
       "(array([  0,   4,   9, 115, 341, 500, 502, 503, 504, 505, 517, 528]),)"
      ]
     },
     "execution_count": 40,
     "metadata": {},
     "output_type": "execute_result"
    }
   ],
   "source": [
    "outliers"
   ]
  },
  {
   "cell_type": "code",
   "execution_count": 41,
   "id": "938e247c",
   "metadata": {
    "ExecuteTime": {
     "end_time": "2023-09-19T13:40:17.623010Z",
     "start_time": "2023-09-19T13:40:17.602030Z"
    }
   },
   "outputs": [
    {
     "data": {
      "text/html": [
       "<div>\n",
       "<style scoped>\n",
       "    .dataframe tbody tr th:only-of-type {\n",
       "        vertical-align: middle;\n",
       "    }\n",
       "\n",
       "    .dataframe tbody tr th {\n",
       "        vertical-align: top;\n",
       "    }\n",
       "\n",
       "    .dataframe thead th {\n",
       "        text-align: right;\n",
       "    }\n",
       "</style>\n",
       "<table border=\"1\" class=\"dataframe\">\n",
       "  <thead>\n",
       "    <tr style=\"text-align: right;\">\n",
       "      <th></th>\n",
       "      <th>recency</th>\n",
       "      <th>frequency</th>\n",
       "      <th>monetary</th>\n",
       "      <th>time</th>\n",
       "      <th>target</th>\n",
       "      <th>timespan</th>\n",
       "    </tr>\n",
       "  </thead>\n",
       "  <tbody>\n",
       "    <tr>\n",
       "      <th>0</th>\n",
       "      <td>2</td>\n",
       "      <td>50</td>\n",
       "      <td>12500</td>\n",
       "      <td>98</td>\n",
       "      <td>1</td>\n",
       "      <td>96</td>\n",
       "    </tr>\n",
       "    <tr>\n",
       "      <th>4</th>\n",
       "      <td>1</td>\n",
       "      <td>24</td>\n",
       "      <td>6000</td>\n",
       "      <td>77</td>\n",
       "      <td>0</td>\n",
       "      <td>76</td>\n",
       "    </tr>\n",
       "    <tr>\n",
       "      <th>9</th>\n",
       "      <td>5</td>\n",
       "      <td>46</td>\n",
       "      <td>11500</td>\n",
       "      <td>98</td>\n",
       "      <td>1</td>\n",
       "      <td>93</td>\n",
       "    </tr>\n",
       "    <tr>\n",
       "      <th>115</th>\n",
       "      <td>11</td>\n",
       "      <td>24</td>\n",
       "      <td>6000</td>\n",
       "      <td>64</td>\n",
       "      <td>0</td>\n",
       "      <td>53</td>\n",
       "    </tr>\n",
       "    <tr>\n",
       "      <th>341</th>\n",
       "      <td>23</td>\n",
       "      <td>38</td>\n",
       "      <td>9500</td>\n",
       "      <td>98</td>\n",
       "      <td>0</td>\n",
       "      <td>75</td>\n",
       "    </tr>\n",
       "    <tr>\n",
       "      <th>500</th>\n",
       "      <td>2</td>\n",
       "      <td>43</td>\n",
       "      <td>10750</td>\n",
       "      <td>86</td>\n",
       "      <td>1</td>\n",
       "      <td>84</td>\n",
       "    </tr>\n",
       "    <tr>\n",
       "      <th>502</th>\n",
       "      <td>2</td>\n",
       "      <td>34</td>\n",
       "      <td>8500</td>\n",
       "      <td>77</td>\n",
       "      <td>1</td>\n",
       "      <td>75</td>\n",
       "    </tr>\n",
       "    <tr>\n",
       "      <th>503</th>\n",
       "      <td>2</td>\n",
       "      <td>44</td>\n",
       "      <td>11000</td>\n",
       "      <td>98</td>\n",
       "      <td>0</td>\n",
       "      <td>96</td>\n",
       "    </tr>\n",
       "    <tr>\n",
       "      <th>504</th>\n",
       "      <td>0</td>\n",
       "      <td>26</td>\n",
       "      <td>6500</td>\n",
       "      <td>76</td>\n",
       "      <td>1</td>\n",
       "      <td>76</td>\n",
       "    </tr>\n",
       "    <tr>\n",
       "      <th>505</th>\n",
       "      <td>2</td>\n",
       "      <td>41</td>\n",
       "      <td>10250</td>\n",
       "      <td>98</td>\n",
       "      <td>1</td>\n",
       "      <td>96</td>\n",
       "    </tr>\n",
       "    <tr>\n",
       "      <th>517</th>\n",
       "      <td>4</td>\n",
       "      <td>33</td>\n",
       "      <td>8250</td>\n",
       "      <td>98</td>\n",
       "      <td>1</td>\n",
       "      <td>94</td>\n",
       "    </tr>\n",
       "    <tr>\n",
       "      <th>528</th>\n",
       "      <td>5</td>\n",
       "      <td>24</td>\n",
       "      <td>6000</td>\n",
       "      <td>79</td>\n",
       "      <td>0</td>\n",
       "      <td>74</td>\n",
       "    </tr>\n",
       "  </tbody>\n",
       "</table>\n",
       "</div>"
      ],
      "text/plain": [
       "     recency  frequency  monetary  time  target  timespan\n",
       "0          2         50     12500    98       1        96\n",
       "4          1         24      6000    77       0        76\n",
       "9          5         46     11500    98       1        93\n",
       "115       11         24      6000    64       0        53\n",
       "341       23         38      9500    98       0        75\n",
       "500        2         43     10750    86       1        84\n",
       "502        2         34      8500    77       1        75\n",
       "503        2         44     11000    98       0        96\n",
       "504        0         26      6500    76       1        76\n",
       "505        2         41     10250    98       1        96\n",
       "517        4         33      8250    98       1        94\n",
       "528        5         24      6000    79       0        74"
      ]
     },
     "execution_count": 41,
     "metadata": {},
     "output_type": "execute_result"
    }
   ],
   "source": [
    "df.iloc[outliers]"
   ]
  },
  {
   "cell_type": "code",
   "execution_count": 42,
   "id": "97f1bc79",
   "metadata": {
    "ExecuteTime": {
     "end_time": "2023-09-19T13:50:48.284219Z",
     "start_time": "2023-09-19T13:50:48.246670Z"
    }
   },
   "outputs": [
    {
     "data": {
      "text/html": [
       "<div>\n",
       "<style scoped>\n",
       "    .dataframe tbody tr th:only-of-type {\n",
       "        vertical-align: middle;\n",
       "    }\n",
       "\n",
       "    .dataframe tbody tr th {\n",
       "        vertical-align: top;\n",
       "    }\n",
       "\n",
       "    .dataframe thead th {\n",
       "        text-align: right;\n",
       "    }\n",
       "</style>\n",
       "<table border=\"1\" class=\"dataframe\">\n",
       "  <thead>\n",
       "    <tr style=\"text-align: right;\">\n",
       "      <th></th>\n",
       "      <th>recency</th>\n",
       "      <th>frequency</th>\n",
       "      <th>monetary</th>\n",
       "      <th>time</th>\n",
       "      <th>target</th>\n",
       "      <th>timespan</th>\n",
       "      <th>donorscore</th>\n",
       "    </tr>\n",
       "  </thead>\n",
       "  <tbody>\n",
       "    <tr>\n",
       "      <th>0</th>\n",
       "      <td>2</td>\n",
       "      <td>50</td>\n",
       "      <td>12500</td>\n",
       "      <td>98</td>\n",
       "      <td>1</td>\n",
       "      <td>96</td>\n",
       "      <td>50.500000</td>\n",
       "    </tr>\n",
       "    <tr>\n",
       "      <th>1</th>\n",
       "      <td>0</td>\n",
       "      <td>13</td>\n",
       "      <td>3250</td>\n",
       "      <td>28</td>\n",
       "      <td>1</td>\n",
       "      <td>28</td>\n",
       "      <td>inf</td>\n",
       "    </tr>\n",
       "    <tr>\n",
       "      <th>2</th>\n",
       "      <td>1</td>\n",
       "      <td>16</td>\n",
       "      <td>4000</td>\n",
       "      <td>35</td>\n",
       "      <td>1</td>\n",
       "      <td>34</td>\n",
       "      <td>17.000000</td>\n",
       "    </tr>\n",
       "    <tr>\n",
       "      <th>3</th>\n",
       "      <td>2</td>\n",
       "      <td>20</td>\n",
       "      <td>5000</td>\n",
       "      <td>45</td>\n",
       "      <td>1</td>\n",
       "      <td>43</td>\n",
       "      <td>20.500000</td>\n",
       "    </tr>\n",
       "    <tr>\n",
       "      <th>4</th>\n",
       "      <td>1</td>\n",
       "      <td>24</td>\n",
       "      <td>6000</td>\n",
       "      <td>77</td>\n",
       "      <td>0</td>\n",
       "      <td>76</td>\n",
       "      <td>25.000000</td>\n",
       "    </tr>\n",
       "    <tr>\n",
       "      <th>...</th>\n",
       "      <td>...</td>\n",
       "      <td>...</td>\n",
       "      <td>...</td>\n",
       "      <td>...</td>\n",
       "      <td>...</td>\n",
       "      <td>...</td>\n",
       "      <td>...</td>\n",
       "    </tr>\n",
       "    <tr>\n",
       "      <th>743</th>\n",
       "      <td>23</td>\n",
       "      <td>2</td>\n",
       "      <td>500</td>\n",
       "      <td>38</td>\n",
       "      <td>0</td>\n",
       "      <td>15</td>\n",
       "      <td>2.043478</td>\n",
       "    </tr>\n",
       "    <tr>\n",
       "      <th>744</th>\n",
       "      <td>21</td>\n",
       "      <td>2</td>\n",
       "      <td>500</td>\n",
       "      <td>52</td>\n",
       "      <td>0</td>\n",
       "      <td>31</td>\n",
       "      <td>2.047619</td>\n",
       "    </tr>\n",
       "    <tr>\n",
       "      <th>745</th>\n",
       "      <td>23</td>\n",
       "      <td>3</td>\n",
       "      <td>750</td>\n",
       "      <td>62</td>\n",
       "      <td>0</td>\n",
       "      <td>39</td>\n",
       "      <td>3.043478</td>\n",
       "    </tr>\n",
       "    <tr>\n",
       "      <th>746</th>\n",
       "      <td>39</td>\n",
       "      <td>1</td>\n",
       "      <td>250</td>\n",
       "      <td>39</td>\n",
       "      <td>0</td>\n",
       "      <td>0</td>\n",
       "      <td>1.025641</td>\n",
       "    </tr>\n",
       "    <tr>\n",
       "      <th>747</th>\n",
       "      <td>72</td>\n",
       "      <td>1</td>\n",
       "      <td>250</td>\n",
       "      <td>72</td>\n",
       "      <td>0</td>\n",
       "      <td>0</td>\n",
       "      <td>1.013889</td>\n",
       "    </tr>\n",
       "  </tbody>\n",
       "</table>\n",
       "<p>748 rows × 7 columns</p>\n",
       "</div>"
      ],
      "text/plain": [
       "     recency  frequency  monetary  time  target  timespan  donorscore\n",
       "0          2         50     12500    98       1        96   50.500000\n",
       "1          0         13      3250    28       1        28         inf\n",
       "2          1         16      4000    35       1        34   17.000000\n",
       "3          2         20      5000    45       1        43   20.500000\n",
       "4          1         24      6000    77       0        76   25.000000\n",
       "..       ...        ...       ...   ...     ...       ...         ...\n",
       "743       23          2       500    38       0        15    2.043478\n",
       "744       21          2       500    52       0        31    2.047619\n",
       "745       23          3       750    62       0        39    3.043478\n",
       "746       39          1       250    39       0         0    1.025641\n",
       "747       72          1       250    72       0         0    1.013889\n",
       "\n",
       "[748 rows x 7 columns]"
      ]
     },
     "execution_count": 42,
     "metadata": {},
     "output_type": "execute_result"
    }
   ],
   "source": [
    "df['donorscore'] = (1/df.recency) + df.frequency\n",
    "df"
   ]
  },
  {
   "cell_type": "code",
   "execution_count": 44,
   "id": "8232caf8",
   "metadata": {
    "ExecuteTime": {
     "end_time": "2023-09-19T13:52:18.130126Z",
     "start_time": "2023-09-19T13:52:18.086190Z"
    }
   },
   "outputs": [
    {
     "data": {
      "text/html": [
       "<div>\n",
       "<style scoped>\n",
       "    .dataframe tbody tr th:only-of-type {\n",
       "        vertical-align: middle;\n",
       "    }\n",
       "\n",
       "    .dataframe tbody tr th {\n",
       "        vertical-align: top;\n",
       "    }\n",
       "\n",
       "    .dataframe thead th {\n",
       "        text-align: right;\n",
       "    }\n",
       "</style>\n",
       "<table border=\"1\" class=\"dataframe\">\n",
       "  <thead>\n",
       "    <tr style=\"text-align: right;\">\n",
       "      <th></th>\n",
       "      <th>recency</th>\n",
       "      <th>frequency</th>\n",
       "      <th>monetary</th>\n",
       "      <th>time</th>\n",
       "      <th>target</th>\n",
       "      <th>timespan</th>\n",
       "      <th>donorscore</th>\n",
       "      <th>donorscore1</th>\n",
       "    </tr>\n",
       "  </thead>\n",
       "  <tbody>\n",
       "    <tr>\n",
       "      <th>0</th>\n",
       "      <td>2</td>\n",
       "      <td>50</td>\n",
       "      <td>12500</td>\n",
       "      <td>98</td>\n",
       "      <td>1</td>\n",
       "      <td>96</td>\n",
       "      <td>50.5</td>\n",
       "      <td>50.5</td>\n",
       "    </tr>\n",
       "    <tr>\n",
       "      <th>1</th>\n",
       "      <td>0</td>\n",
       "      <td>13</td>\n",
       "      <td>3250</td>\n",
       "      <td>28</td>\n",
       "      <td>1</td>\n",
       "      <td>28</td>\n",
       "      <td>inf</td>\n",
       "      <td>13.0</td>\n",
       "    </tr>\n",
       "    <tr>\n",
       "      <th>2</th>\n",
       "      <td>1</td>\n",
       "      <td>16</td>\n",
       "      <td>4000</td>\n",
       "      <td>35</td>\n",
       "      <td>1</td>\n",
       "      <td>34</td>\n",
       "      <td>17.0</td>\n",
       "      <td>17.0</td>\n",
       "    </tr>\n",
       "    <tr>\n",
       "      <th>3</th>\n",
       "      <td>2</td>\n",
       "      <td>20</td>\n",
       "      <td>5000</td>\n",
       "      <td>45</td>\n",
       "      <td>1</td>\n",
       "      <td>43</td>\n",
       "      <td>20.5</td>\n",
       "      <td>20.5</td>\n",
       "    </tr>\n",
       "    <tr>\n",
       "      <th>4</th>\n",
       "      <td>1</td>\n",
       "      <td>24</td>\n",
       "      <td>6000</td>\n",
       "      <td>77</td>\n",
       "      <td>0</td>\n",
       "      <td>76</td>\n",
       "      <td>25.0</td>\n",
       "      <td>25.0</td>\n",
       "    </tr>\n",
       "  </tbody>\n",
       "</table>\n",
       "</div>"
      ],
      "text/plain": [
       "   recency  frequency  monetary  time  target  timespan  donorscore  \\\n",
       "0        2         50     12500    98       1        96        50.5   \n",
       "1        0         13      3250    28       1        28         inf   \n",
       "2        1         16      4000    35       1        34        17.0   \n",
       "3        2         20      5000    45       1        43        20.5   \n",
       "4        1         24      6000    77       0        76        25.0   \n",
       "\n",
       "   donorscore1  \n",
       "0         50.5  \n",
       "1         13.0  \n",
       "2         17.0  \n",
       "3         20.5  \n",
       "4         25.0  "
      ]
     },
     "execution_count": 44,
     "metadata": {},
     "output_type": "execute_result"
    }
   ],
   "source": [
    "df['donorscore1'] = np.where(df.recency == 0, df.frequency, (1/df.recency) + df.frequency )\n",
    "df.head(5)"
   ]
  },
  {
   "cell_type": "code",
   "execution_count": 48,
   "id": "28e69dd5",
   "metadata": {
    "ExecuteTime": {
     "end_time": "2023-09-19T13:59:40.578698Z",
     "start_time": "2023-09-19T13:59:40.547239Z"
    }
   },
   "outputs": [
    {
     "data": {
      "text/plain": [
       "0      8\n",
       "1      2\n",
       "2      2\n",
       "3      3\n",
       "4      6\n",
       "      ..\n",
       "743    3\n",
       "744    4\n",
       "745    5\n",
       "746    3\n",
       "747    6\n",
       "Name: years, Length: 748, dtype: int64"
      ]
     },
     "execution_count": 48,
     "metadata": {},
     "output_type": "execute_result"
    }
   ],
   "source": [
    "df['years'] = df.time//12\n",
    "df['years']"
   ]
  },
  {
   "cell_type": "code",
   "execution_count": 50,
   "id": "011a6ae9",
   "metadata": {
    "ExecuteTime": {
     "end_time": "2023-09-19T13:59:59.664508Z",
     "start_time": "2023-09-19T13:59:59.641261Z"
    }
   },
   "outputs": [
    {
     "data": {
      "text/html": [
       "<div>\n",
       "<style scoped>\n",
       "    .dataframe tbody tr th:only-of-type {\n",
       "        vertical-align: middle;\n",
       "    }\n",
       "\n",
       "    .dataframe tbody tr th {\n",
       "        vertical-align: top;\n",
       "    }\n",
       "\n",
       "    .dataframe thead th {\n",
       "        text-align: right;\n",
       "    }\n",
       "</style>\n",
       "<table border=\"1\" class=\"dataframe\">\n",
       "  <thead>\n",
       "    <tr style=\"text-align: right;\">\n",
       "      <th></th>\n",
       "      <th>recency</th>\n",
       "      <th>frequency</th>\n",
       "      <th>monetary</th>\n",
       "      <th>time</th>\n",
       "      <th>target</th>\n",
       "      <th>timespan</th>\n",
       "      <th>donorscore</th>\n",
       "      <th>donorscore1</th>\n",
       "      <th>years</th>\n",
       "      <th>months</th>\n",
       "    </tr>\n",
       "  </thead>\n",
       "  <tbody>\n",
       "    <tr>\n",
       "      <th>0</th>\n",
       "      <td>2</td>\n",
       "      <td>50</td>\n",
       "      <td>12500</td>\n",
       "      <td>98</td>\n",
       "      <td>1</td>\n",
       "      <td>96</td>\n",
       "      <td>50.5</td>\n",
       "      <td>50.5</td>\n",
       "      <td>8</td>\n",
       "      <td>2</td>\n",
       "    </tr>\n",
       "    <tr>\n",
       "      <th>1</th>\n",
       "      <td>0</td>\n",
       "      <td>13</td>\n",
       "      <td>3250</td>\n",
       "      <td>28</td>\n",
       "      <td>1</td>\n",
       "      <td>28</td>\n",
       "      <td>inf</td>\n",
       "      <td>13.0</td>\n",
       "      <td>2</td>\n",
       "      <td>4</td>\n",
       "    </tr>\n",
       "    <tr>\n",
       "      <th>2</th>\n",
       "      <td>1</td>\n",
       "      <td>16</td>\n",
       "      <td>4000</td>\n",
       "      <td>35</td>\n",
       "      <td>1</td>\n",
       "      <td>34</td>\n",
       "      <td>17.0</td>\n",
       "      <td>17.0</td>\n",
       "      <td>2</td>\n",
       "      <td>11</td>\n",
       "    </tr>\n",
       "    <tr>\n",
       "      <th>3</th>\n",
       "      <td>2</td>\n",
       "      <td>20</td>\n",
       "      <td>5000</td>\n",
       "      <td>45</td>\n",
       "      <td>1</td>\n",
       "      <td>43</td>\n",
       "      <td>20.5</td>\n",
       "      <td>20.5</td>\n",
       "      <td>3</td>\n",
       "      <td>9</td>\n",
       "    </tr>\n",
       "    <tr>\n",
       "      <th>4</th>\n",
       "      <td>1</td>\n",
       "      <td>24</td>\n",
       "      <td>6000</td>\n",
       "      <td>77</td>\n",
       "      <td>0</td>\n",
       "      <td>76</td>\n",
       "      <td>25.0</td>\n",
       "      <td>25.0</td>\n",
       "      <td>6</td>\n",
       "      <td>5</td>\n",
       "    </tr>\n",
       "  </tbody>\n",
       "</table>\n",
       "</div>"
      ],
      "text/plain": [
       "   recency  frequency  monetary  time  target  timespan  donorscore  \\\n",
       "0        2         50     12500    98       1        96        50.5   \n",
       "1        0         13      3250    28       1        28         inf   \n",
       "2        1         16      4000    35       1        34        17.0   \n",
       "3        2         20      5000    45       1        43        20.5   \n",
       "4        1         24      6000    77       0        76        25.0   \n",
       "\n",
       "   donorscore1  years  months  \n",
       "0         50.5      8       2  \n",
       "1         13.0      2       4  \n",
       "2         17.0      2      11  \n",
       "3         20.5      3       9  \n",
       "4         25.0      6       5  "
      ]
     },
     "execution_count": 50,
     "metadata": {},
     "output_type": "execute_result"
    }
   ],
   "source": [
    "df['months'] = df.time % 12\n",
    "df.head(5)"
   ]
  },
  {
   "cell_type": "code",
   "execution_count": 53,
   "id": "d236c46a",
   "metadata": {
    "ExecuteTime": {
     "end_time": "2023-09-19T14:10:53.296522Z",
     "start_time": "2023-09-19T14:10:53.283736Z"
    }
   },
   "outputs": [
    {
     "data": {
      "text/plain": [
       "target         1.000000\n",
       "donorscore1    0.225380\n",
       "monetary       0.218633\n",
       "frequency      0.218633\n",
       "donorscore     0.216745\n",
       "timespan       0.056986\n",
       "months        -0.021089\n",
       "years         -0.032680\n",
       "time          -0.035854\n",
       "recency       -0.279869\n",
       "Name: target, dtype: float64"
      ]
     },
     "execution_count": 53,
     "metadata": {},
     "output_type": "execute_result"
    }
   ],
   "source": [
    "df.corr()['target'].sort_values(ascending = False)"
   ]
  },
  {
   "cell_type": "code",
   "execution_count": 54,
   "id": "f48b934c",
   "metadata": {
    "ExecuteTime": {
     "end_time": "2023-09-19T14:16:42.230105Z",
     "start_time": "2023-09-19T14:16:42.177980Z"
    }
   },
   "outputs": [
    {
     "data": {
      "text/html": [
       "<div>\n",
       "<style scoped>\n",
       "    .dataframe tbody tr th:only-of-type {\n",
       "        vertical-align: middle;\n",
       "    }\n",
       "\n",
       "    .dataframe tbody tr th {\n",
       "        vertical-align: top;\n",
       "    }\n",
       "\n",
       "    .dataframe thead th {\n",
       "        text-align: right;\n",
       "    }\n",
       "</style>\n",
       "<table border=\"1\" class=\"dataframe\">\n",
       "  <thead>\n",
       "    <tr style=\"text-align: right;\">\n",
       "      <th></th>\n",
       "      <th>recency</th>\n",
       "      <th>frequency</th>\n",
       "      <th>monetary</th>\n",
       "      <th>time</th>\n",
       "      <th>target</th>\n",
       "      <th>timespan</th>\n",
       "      <th>donorscore</th>\n",
       "      <th>donorscore1</th>\n",
       "      <th>years</th>\n",
       "      <th>months</th>\n",
       "      <th>freqgroup</th>\n",
       "    </tr>\n",
       "  </thead>\n",
       "  <tbody>\n",
       "    <tr>\n",
       "      <th>545</th>\n",
       "      <td>4</td>\n",
       "      <td>2</td>\n",
       "      <td>500</td>\n",
       "      <td>4</td>\n",
       "      <td>1</td>\n",
       "      <td>0</td>\n",
       "      <td>2.250000</td>\n",
       "      <td>2.250000</td>\n",
       "      <td>0</td>\n",
       "      <td>4</td>\n",
       "      <td>Low</td>\n",
       "    </tr>\n",
       "    <tr>\n",
       "      <th>60</th>\n",
       "      <td>2</td>\n",
       "      <td>7</td>\n",
       "      <td>1750</td>\n",
       "      <td>29</td>\n",
       "      <td>0</td>\n",
       "      <td>27</td>\n",
       "      <td>7.500000</td>\n",
       "      <td>7.500000</td>\n",
       "      <td>2</td>\n",
       "      <td>5</td>\n",
       "      <td>Medium</td>\n",
       "    </tr>\n",
       "    <tr>\n",
       "      <th>483</th>\n",
       "      <td>23</td>\n",
       "      <td>1</td>\n",
       "      <td>250</td>\n",
       "      <td>23</td>\n",
       "      <td>0</td>\n",
       "      <td>0</td>\n",
       "      <td>1.043478</td>\n",
       "      <td>1.043478</td>\n",
       "      <td>1</td>\n",
       "      <td>11</td>\n",
       "      <td>Low</td>\n",
       "    </tr>\n",
       "    <tr>\n",
       "      <th>412</th>\n",
       "      <td>16</td>\n",
       "      <td>1</td>\n",
       "      <td>250</td>\n",
       "      <td>16</td>\n",
       "      <td>0</td>\n",
       "      <td>0</td>\n",
       "      <td>1.062500</td>\n",
       "      <td>1.062500</td>\n",
       "      <td>1</td>\n",
       "      <td>4</td>\n",
       "      <td>Low</td>\n",
       "    </tr>\n",
       "    <tr>\n",
       "      <th>129</th>\n",
       "      <td>2</td>\n",
       "      <td>2</td>\n",
       "      <td>500</td>\n",
       "      <td>10</td>\n",
       "      <td>1</td>\n",
       "      <td>8</td>\n",
       "      <td>2.500000</td>\n",
       "      <td>2.500000</td>\n",
       "      <td>0</td>\n",
       "      <td>10</td>\n",
       "      <td>Low</td>\n",
       "    </tr>\n",
       "  </tbody>\n",
       "</table>\n",
       "</div>"
      ],
      "text/plain": [
       "     recency  frequency  monetary  time  target  timespan  donorscore  \\\n",
       "545        4          2       500     4       1         0    2.250000   \n",
       "60         2          7      1750    29       0        27    7.500000   \n",
       "483       23          1       250    23       0         0    1.043478   \n",
       "412       16          1       250    16       0         0    1.062500   \n",
       "129        2          2       500    10       1         8    2.500000   \n",
       "\n",
       "     donorscore1  years  months freqgroup  \n",
       "545     2.250000      0       4       Low  \n",
       "60      7.500000      2       5    Medium  \n",
       "483     1.043478      1      11       Low  \n",
       "412     1.062500      1       4       Low  \n",
       "129     2.500000      0      10       Low  "
      ]
     },
     "execution_count": 54,
     "metadata": {},
     "output_type": "execute_result"
    }
   ],
   "source": [
    "bins = [0,5,10,50]\n",
    "groups = ['Low', 'Medium', 'High']\n",
    "df['freqgroup'] = pd.cut(df['frequency'], bins, labels = groups)\n",
    "df.sample(5)"
   ]
  },
  {
   "cell_type": "code",
   "execution_count": 58,
   "id": "675389a8",
   "metadata": {
    "ExecuteTime": {
     "end_time": "2023-09-19T14:17:00.349551Z",
     "start_time": "2023-09-19T14:17:00.327528Z"
    }
   },
   "outputs": [
    {
     "data": {
      "text/html": [
       "<div>\n",
       "<style scoped>\n",
       "    .dataframe tbody tr th:only-of-type {\n",
       "        vertical-align: middle;\n",
       "    }\n",
       "\n",
       "    .dataframe tbody tr th {\n",
       "        vertical-align: top;\n",
       "    }\n",
       "\n",
       "    .dataframe thead th {\n",
       "        text-align: right;\n",
       "    }\n",
       "</style>\n",
       "<table border=\"1\" class=\"dataframe\">\n",
       "  <thead>\n",
       "    <tr style=\"text-align: right;\">\n",
       "      <th></th>\n",
       "      <th>recency</th>\n",
       "      <th>frequency</th>\n",
       "      <th>monetary</th>\n",
       "      <th>time</th>\n",
       "      <th>target</th>\n",
       "      <th>timespan</th>\n",
       "      <th>donorscore</th>\n",
       "      <th>donorscore1</th>\n",
       "      <th>years</th>\n",
       "      <th>months</th>\n",
       "      <th>freqgroup</th>\n",
       "    </tr>\n",
       "  </thead>\n",
       "  <tbody>\n",
       "    <tr>\n",
       "      <th>505</th>\n",
       "      <td>2</td>\n",
       "      <td>41</td>\n",
       "      <td>10250</td>\n",
       "      <td>98</td>\n",
       "      <td>1</td>\n",
       "      <td>96</td>\n",
       "      <td>41.500000</td>\n",
       "      <td>41.500000</td>\n",
       "      <td>8</td>\n",
       "      <td>2</td>\n",
       "      <td>High</td>\n",
       "    </tr>\n",
       "    <tr>\n",
       "      <th>159</th>\n",
       "      <td>2</td>\n",
       "      <td>1</td>\n",
       "      <td>250</td>\n",
       "      <td>2</td>\n",
       "      <td>0</td>\n",
       "      <td>0</td>\n",
       "      <td>1.500000</td>\n",
       "      <td>1.500000</td>\n",
       "      <td>0</td>\n",
       "      <td>2</td>\n",
       "      <td>Low</td>\n",
       "    </tr>\n",
       "    <tr>\n",
       "      <th>577</th>\n",
       "      <td>9</td>\n",
       "      <td>9</td>\n",
       "      <td>2250</td>\n",
       "      <td>38</td>\n",
       "      <td>0</td>\n",
       "      <td>29</td>\n",
       "      <td>9.111111</td>\n",
       "      <td>9.111111</td>\n",
       "      <td>3</td>\n",
       "      <td>2</td>\n",
       "      <td>Medium</td>\n",
       "    </tr>\n",
       "    <tr>\n",
       "      <th>521</th>\n",
       "      <td>2</td>\n",
       "      <td>11</td>\n",
       "      <td>2750</td>\n",
       "      <td>41</td>\n",
       "      <td>1</td>\n",
       "      <td>39</td>\n",
       "      <td>11.500000</td>\n",
       "      <td>11.500000</td>\n",
       "      <td>3</td>\n",
       "      <td>5</td>\n",
       "      <td>High</td>\n",
       "    </tr>\n",
       "    <tr>\n",
       "      <th>348</th>\n",
       "      <td>11</td>\n",
       "      <td>1</td>\n",
       "      <td>250</td>\n",
       "      <td>11</td>\n",
       "      <td>0</td>\n",
       "      <td>0</td>\n",
       "      <td>1.090909</td>\n",
       "      <td>1.090909</td>\n",
       "      <td>0</td>\n",
       "      <td>11</td>\n",
       "      <td>Low</td>\n",
       "    </tr>\n",
       "  </tbody>\n",
       "</table>\n",
       "</div>"
      ],
      "text/plain": [
       "     recency  frequency  monetary  time  target  timespan  donorscore  \\\n",
       "505        2         41     10250    98       1        96   41.500000   \n",
       "159        2          1       250     2       0         0    1.500000   \n",
       "577        9          9      2250    38       0        29    9.111111   \n",
       "521        2         11      2750    41       1        39   11.500000   \n",
       "348       11          1       250    11       0         0    1.090909   \n",
       "\n",
       "     donorscore1  years  months freqgroup  \n",
       "505    41.500000      8       2      High  \n",
       "159     1.500000      0       2       Low  \n",
       "577     9.111111      3       2    Medium  \n",
       "521    11.500000      3       5      High  \n",
       "348     1.090909      0      11       Low  "
      ]
     },
     "execution_count": 58,
     "metadata": {},
     "output_type": "execute_result"
    }
   ],
   "source": [
    "df.sample(5)"
   ]
  },
  {
   "cell_type": "code",
   "execution_count": 59,
   "id": "b2eedb89",
   "metadata": {
    "ExecuteTime": {
     "end_time": "2023-09-19T14:19:00.766936Z",
     "start_time": "2023-09-19T14:19:00.734839Z"
    }
   },
   "outputs": [
    {
     "data": {
      "text/plain": [
       "freqgroup\n",
       "Low        624.220374\n",
       "Medium    1855.182927\n",
       "High      4143.203883\n",
       "Name: monetary, dtype: float64"
      ]
     },
     "execution_count": 59,
     "metadata": {},
     "output_type": "execute_result"
    }
   ],
   "source": [
    "df.groupby('freqgroup')['monetary'].mean()"
   ]
  },
  {
   "cell_type": "code",
   "execution_count": 61,
   "id": "66ef6ba1",
   "metadata": {
    "ExecuteTime": {
     "end_time": "2023-09-19T14:21:44.482593Z",
     "start_time": "2023-09-19T14:21:44.443132Z"
    }
   },
   "outputs": [
    {
     "data": {
      "text/html": [
       "<div>\n",
       "<style scoped>\n",
       "    .dataframe tbody tr th:only-of-type {\n",
       "        vertical-align: middle;\n",
       "    }\n",
       "\n",
       "    .dataframe tbody tr th {\n",
       "        vertical-align: top;\n",
       "    }\n",
       "\n",
       "    .dataframe thead th {\n",
       "        text-align: right;\n",
       "    }\n",
       "</style>\n",
       "<table border=\"1\" class=\"dataframe\">\n",
       "  <thead>\n",
       "    <tr style=\"text-align: right;\">\n",
       "      <th></th>\n",
       "      <th>recency</th>\n",
       "      <th>frequency</th>\n",
       "      <th>monetary</th>\n",
       "      <th>time</th>\n",
       "      <th>target</th>\n",
       "      <th>timespan</th>\n",
       "      <th>donorscore</th>\n",
       "      <th>donorscore1</th>\n",
       "      <th>years</th>\n",
       "      <th>months</th>\n",
       "      <th>freqgroup</th>\n",
       "      <th>recgroup</th>\n",
       "    </tr>\n",
       "  </thead>\n",
       "  <tbody>\n",
       "    <tr>\n",
       "      <th>60</th>\n",
       "      <td>2</td>\n",
       "      <td>7</td>\n",
       "      <td>1750</td>\n",
       "      <td>29</td>\n",
       "      <td>0</td>\n",
       "      <td>27</td>\n",
       "      <td>7.500000</td>\n",
       "      <td>7.500000</td>\n",
       "      <td>2</td>\n",
       "      <td>5</td>\n",
       "      <td>Medium</td>\n",
       "      <td>0-6 m</td>\n",
       "    </tr>\n",
       "    <tr>\n",
       "      <th>647</th>\n",
       "      <td>2</td>\n",
       "      <td>2</td>\n",
       "      <td>500</td>\n",
       "      <td>33</td>\n",
       "      <td>0</td>\n",
       "      <td>31</td>\n",
       "      <td>2.500000</td>\n",
       "      <td>2.500000</td>\n",
       "      <td>2</td>\n",
       "      <td>9</td>\n",
       "      <td>Low</td>\n",
       "      <td>0-6 m</td>\n",
       "    </tr>\n",
       "    <tr>\n",
       "      <th>638</th>\n",
       "      <td>11</td>\n",
       "      <td>4</td>\n",
       "      <td>1000</td>\n",
       "      <td>27</td>\n",
       "      <td>0</td>\n",
       "      <td>16</td>\n",
       "      <td>4.090909</td>\n",
       "      <td>4.090909</td>\n",
       "      <td>2</td>\n",
       "      <td>3</td>\n",
       "      <td>Low</td>\n",
       "      <td>6-12 m</td>\n",
       "    </tr>\n",
       "    <tr>\n",
       "      <th>422</th>\n",
       "      <td>21</td>\n",
       "      <td>2</td>\n",
       "      <td>500</td>\n",
       "      <td>23</td>\n",
       "      <td>0</td>\n",
       "      <td>2</td>\n",
       "      <td>2.047619</td>\n",
       "      <td>2.047619</td>\n",
       "      <td>1</td>\n",
       "      <td>11</td>\n",
       "      <td>Low</td>\n",
       "      <td>12-24 m</td>\n",
       "    </tr>\n",
       "    <tr>\n",
       "      <th>216</th>\n",
       "      <td>4</td>\n",
       "      <td>1</td>\n",
       "      <td>250</td>\n",
       "      <td>4</td>\n",
       "      <td>0</td>\n",
       "      <td>0</td>\n",
       "      <td>1.250000</td>\n",
       "      <td>1.250000</td>\n",
       "      <td>0</td>\n",
       "      <td>4</td>\n",
       "      <td>Low</td>\n",
       "      <td>0-6 m</td>\n",
       "    </tr>\n",
       "  </tbody>\n",
       "</table>\n",
       "</div>"
      ],
      "text/plain": [
       "     recency  frequency  monetary  time  target  timespan  donorscore  \\\n",
       "60         2          7      1750    29       0        27    7.500000   \n",
       "647        2          2       500    33       0        31    2.500000   \n",
       "638       11          4      1000    27       0        16    4.090909   \n",
       "422       21          2       500    23       0         2    2.047619   \n",
       "216        4          1       250     4       0         0    1.250000   \n",
       "\n",
       "     donorscore1  years  months freqgroup recgroup  \n",
       "60      7.500000      2       5    Medium    0-6 m  \n",
       "647     2.500000      2       9       Low    0-6 m  \n",
       "638     4.090909      2       3       Low   6-12 m  \n",
       "422     2.047619      1      11       Low  12-24 m  \n",
       "216     1.250000      0       4       Low    0-6 m  "
      ]
     },
     "execution_count": 61,
     "metadata": {},
     "output_type": "execute_result"
    }
   ],
   "source": [
    "bins = [0,6,12,24,36,74]\n",
    "groups = ['0-6 m', '6-12 m', '12-24 m', '24-36 m', '36-74']\n",
    "df['recgroup'] = pd.cut(df['recency'], bins, labels = groups)\n",
    "df.sample(5)"
   ]
  },
  {
   "cell_type": "code",
   "execution_count": 62,
   "id": "f39f6053",
   "metadata": {
    "ExecuteTime": {
     "end_time": "2023-09-19T14:23:21.546777Z",
     "start_time": "2023-09-19T14:23:21.523868Z"
    }
   },
   "outputs": [
    {
     "data": {
      "text/plain": [
       "0    0.762\n",
       "1    0.238\n",
       "Name: target, dtype: float64"
      ]
     },
     "execution_count": 62,
     "metadata": {},
     "output_type": "execute_result"
    }
   ],
   "source": [
    "df.target.value_counts(normalize = True).round(3)"
   ]
  },
  {
   "cell_type": "code",
   "execution_count": 63,
   "id": "9119726c",
   "metadata": {
    "ExecuteTime": {
     "end_time": "2023-09-19T14:24:59.587997Z",
     "start_time": "2023-09-19T14:24:59.530502Z"
    }
   },
   "outputs": [
    {
     "data": {
      "text/html": [
       "<div>\n",
       "<style scoped>\n",
       "    .dataframe tbody tr th:only-of-type {\n",
       "        vertical-align: middle;\n",
       "    }\n",
       "\n",
       "    .dataframe tbody tr th {\n",
       "        vertical-align: top;\n",
       "    }\n",
       "\n",
       "    .dataframe thead th {\n",
       "        text-align: right;\n",
       "    }\n",
       "</style>\n",
       "<table border=\"1\" class=\"dataframe\">\n",
       "  <thead>\n",
       "    <tr style=\"text-align: right;\">\n",
       "      <th></th>\n",
       "      <th>Column Name</th>\n",
       "      <th>Number of Unique Values</th>\n",
       "      <th>Unique Values</th>\n",
       "      <th>Data Type</th>\n",
       "    </tr>\n",
       "  </thead>\n",
       "  <tbody>\n",
       "    <tr>\n",
       "      <th>0</th>\n",
       "      <td>recency</td>\n",
       "      <td>31</td>\n",
       "      <td>-</td>\n",
       "      <td>int64</td>\n",
       "    </tr>\n",
       "    <tr>\n",
       "      <th>1</th>\n",
       "      <td>frequency</td>\n",
       "      <td>33</td>\n",
       "      <td>-</td>\n",
       "      <td>int64</td>\n",
       "    </tr>\n",
       "    <tr>\n",
       "      <th>2</th>\n",
       "      <td>monetary</td>\n",
       "      <td>33</td>\n",
       "      <td>-</td>\n",
       "      <td>int64</td>\n",
       "    </tr>\n",
       "    <tr>\n",
       "      <th>3</th>\n",
       "      <td>time</td>\n",
       "      <td>78</td>\n",
       "      <td>-</td>\n",
       "      <td>int64</td>\n",
       "    </tr>\n",
       "    <tr>\n",
       "      <th>4</th>\n",
       "      <td>target</td>\n",
       "      <td>2</td>\n",
       "      <td>[1, 0]</td>\n",
       "      <td>int64</td>\n",
       "    </tr>\n",
       "    <tr>\n",
       "      <th>5</th>\n",
       "      <td>timespan</td>\n",
       "      <td>90</td>\n",
       "      <td>-</td>\n",
       "      <td>int64</td>\n",
       "    </tr>\n",
       "    <tr>\n",
       "      <th>6</th>\n",
       "      <td>donorscore</td>\n",
       "      <td>184</td>\n",
       "      <td>-</td>\n",
       "      <td>float64</td>\n",
       "    </tr>\n",
       "    <tr>\n",
       "      <th>7</th>\n",
       "      <td>donorscore1</td>\n",
       "      <td>186</td>\n",
       "      <td>-</td>\n",
       "      <td>float64</td>\n",
       "    </tr>\n",
       "    <tr>\n",
       "      <th>8</th>\n",
       "      <td>years</td>\n",
       "      <td>9</td>\n",
       "      <td>-</td>\n",
       "      <td>int64</td>\n",
       "    </tr>\n",
       "    <tr>\n",
       "      <th>9</th>\n",
       "      <td>months</td>\n",
       "      <td>12</td>\n",
       "      <td>-</td>\n",
       "      <td>int64</td>\n",
       "    </tr>\n",
       "    <tr>\n",
       "      <th>10</th>\n",
       "      <td>freqgroup</td>\n",
       "      <td>3</td>\n",
       "      <td>['High', 'Low', 'Medium']\n",
       "Categories (3, objec...</td>\n",
       "      <td>category</td>\n",
       "    </tr>\n",
       "    <tr>\n",
       "      <th>11</th>\n",
       "      <td>recgroup</td>\n",
       "      <td>5</td>\n",
       "      <td>['0-6 m', NaN, '6-12 m', '12-24 m', '24-36 m',...</td>\n",
       "      <td>category</td>\n",
       "    </tr>\n",
       "  </tbody>\n",
       "</table>\n",
       "</div>"
      ],
      "text/plain": [
       "    Column Name  Number of Unique Values  \\\n",
       "0       recency                       31   \n",
       "1     frequency                       33   \n",
       "2      monetary                       33   \n",
       "3          time                       78   \n",
       "4        target                        2   \n",
       "5      timespan                       90   \n",
       "6    donorscore                      184   \n",
       "7   donorscore1                      186   \n",
       "8         years                        9   \n",
       "9        months                       12   \n",
       "10    freqgroup                        3   \n",
       "11     recgroup                        5   \n",
       "\n",
       "                                       Unique Values  Data Type  \n",
       "0                                                   -     int64  \n",
       "1                                                   -     int64  \n",
       "2                                                   -     int64  \n",
       "3                                                   -     int64  \n",
       "4                                              [1, 0]     int64  \n",
       "5                                                   -     int64  \n",
       "6                                                   -   float64  \n",
       "7                                                   -   float64  \n",
       "8                                                   -     int64  \n",
       "9                                                   -     int64  \n",
       "10  ['High', 'Low', 'Medium']\n",
       "Categories (3, objec...  category  \n",
       "11  ['0-6 m', NaN, '6-12 m', '12-24 m', '24-36 m',...  category  "
      ]
     },
     "execution_count": 63,
     "metadata": {},
     "output_type": "execute_result"
    }
   ],
   "source": [
    "output_data = []\n",
    "\n",
    "for col in df.columns:\n",
    "    \n",
    "    # If the number of unique values in the column is less than or equal to 5\n",
    "    if df.loc[:, col].nunique() <= 5:\n",
    "        # Get the unique values in the column\n",
    "        unique_values = df.loc[:, col].unique()\n",
    "        # Append the column name, number of unique values, unique values, and data type to the output data\n",
    "        output_data.append([col, df.loc[:, col].nunique(), unique_values, df.loc[:, col].dtype])\n",
    "    else:\n",
    "        # Otherwise, append only the column name, number of unique values, and data type to the output data\n",
    "        output_data.append([col, df.loc[:, col].nunique(),\"-\", df.loc[:, col].dtype])\n",
    "\n",
    "output_df = pd.DataFrame(output_data, columns=['Column Name', 'Number of Unique Values', ' Unique Values ', 'Data Type'])\n",
    "\n",
    "output_df"
   ]
  },
  {
   "cell_type": "code",
   "execution_count": 64,
   "id": "e31e743a",
   "metadata": {
    "ExecuteTime": {
     "end_time": "2023-09-19T14:25:50.158369Z",
     "start_time": "2023-09-19T14:25:50.133556Z"
    }
   },
   "outputs": [],
   "source": [
    "def grab_col_names(dataframe, cat_th=10):\n",
    "\n",
    "    # cat_cols\n",
    "    cat_cols = [col for col in dataframe.columns if dataframe[col].dtypes == \"O\"]\n",
    "    num_but_cat = [col for col in dataframe.columns if dataframe[col].nunique() < cat_th and\n",
    "                   dataframe[col].dtypes != \"O\"]    \n",
    "    cat_cols = cat_cols + num_but_cat\n",
    "    \n",
    "\n",
    "    # num_cols\n",
    "    num_cols = [col for col in dataframe.columns if dataframe[col].dtypes != \"O\"]\n",
    "    num_cols = [col for col in num_cols if col not in cat_cols]\n",
    "\n",
    "    print(f\"Features: {dataframe.shape[1]}\")\n",
    "    print(f'Number of Categorical Features: {len(cat_cols)}')\n",
    "    print(f'Number of Numeric Features: {len(num_cols)}')\n",
    "    print(f\"Categorical Features: {cat_cols}\") \n",
    "    print(f\"Numeric Features: {num_cols}\")\n",
    "    \n",
    "    return cat_cols, num_cols"
   ]
  },
  {
   "cell_type": "code",
   "execution_count": 65,
   "id": "fd0c6365",
   "metadata": {
    "ExecuteTime": {
     "end_time": "2023-09-19T14:25:57.868535Z",
     "start_time": "2023-09-19T14:25:57.855991Z"
    }
   },
   "outputs": [
    {
     "name": "stdout",
     "output_type": "stream",
     "text": [
      "Features: 12\n",
      "Number of Categorical Features: 4\n",
      "Number of Numeric Features: 8\n",
      "Categorical Features: ['target', 'years', 'freqgroup', 'recgroup']\n",
      "Numeric Features: ['recency', 'frequency', 'monetary', 'time', 'timespan', 'donorscore', 'donorscore1', 'months']\n"
     ]
    }
   ],
   "source": [
    "cat_cols, num_cols = grab_col_names(df)"
   ]
  },
  {
   "cell_type": "code",
   "execution_count": 66,
   "id": "a2558932",
   "metadata": {
    "ExecuteTime": {
     "end_time": "2023-09-19T14:26:16.798906Z",
     "start_time": "2023-09-19T14:26:16.744833Z"
    }
   },
   "outputs": [
    {
     "name": "stdout",
     "output_type": "stream",
     "text": [
      "Data shape: (748, 12)\n",
      "___________________________\n",
      "Data Types:\n",
      "int64       8\n",
      "float64     2\n",
      "category    1\n",
      "category    1\n",
      "Name: Types, dtype: int64\n",
      "___________________________\n"
     ]
    },
    {
     "data": {
      "text/html": [
       "<div>\n",
       "<style scoped>\n",
       "    .dataframe tbody tr th:only-of-type {\n",
       "        vertical-align: middle;\n",
       "    }\n",
       "\n",
       "    .dataframe tbody tr th {\n",
       "        vertical-align: top;\n",
       "    }\n",
       "\n",
       "    .dataframe thead th {\n",
       "        text-align: right;\n",
       "    }\n",
       "</style>\n",
       "<table border=\"1\" class=\"dataframe\">\n",
       "  <thead>\n",
       "    <tr style=\"text-align: right;\">\n",
       "      <th></th>\n",
       "      <th>Types</th>\n",
       "      <th>Counts</th>\n",
       "      <th>Uniques</th>\n",
       "      <th>Nulls</th>\n",
       "      <th>Min</th>\n",
       "      <th>Max</th>\n",
       "    </tr>\n",
       "  </thead>\n",
       "  <tbody>\n",
       "    <tr>\n",
       "      <th>donorscore</th>\n",
       "      <td>float64</td>\n",
       "      <td>748</td>\n",
       "      <td>184</td>\n",
       "      <td>0</td>\n",
       "      <td>1.013514</td>\n",
       "      <td>inf</td>\n",
       "    </tr>\n",
       "    <tr>\n",
       "      <th>donorscore1</th>\n",
       "      <td>float64</td>\n",
       "      <td>748</td>\n",
       "      <td>186</td>\n",
       "      <td>0</td>\n",
       "      <td>1.013514</td>\n",
       "      <td>50.5</td>\n",
       "    </tr>\n",
       "    <tr>\n",
       "      <th>freqgroup</th>\n",
       "      <td>category</td>\n",
       "      <td>748</td>\n",
       "      <td>3</td>\n",
       "      <td>0</td>\n",
       "      <td>Low</td>\n",
       "      <td>High</td>\n",
       "    </tr>\n",
       "    <tr>\n",
       "      <th>frequency</th>\n",
       "      <td>int64</td>\n",
       "      <td>748</td>\n",
       "      <td>33</td>\n",
       "      <td>0</td>\n",
       "      <td>1</td>\n",
       "      <td>50</td>\n",
       "    </tr>\n",
       "    <tr>\n",
       "      <th>monetary</th>\n",
       "      <td>int64</td>\n",
       "      <td>748</td>\n",
       "      <td>33</td>\n",
       "      <td>0</td>\n",
       "      <td>250</td>\n",
       "      <td>12500</td>\n",
       "    </tr>\n",
       "    <tr>\n",
       "      <th>months</th>\n",
       "      <td>int64</td>\n",
       "      <td>748</td>\n",
       "      <td>12</td>\n",
       "      <td>0</td>\n",
       "      <td>0</td>\n",
       "      <td>11</td>\n",
       "    </tr>\n",
       "    <tr>\n",
       "      <th>recency</th>\n",
       "      <td>int64</td>\n",
       "      <td>748</td>\n",
       "      <td>31</td>\n",
       "      <td>0</td>\n",
       "      <td>0</td>\n",
       "      <td>74</td>\n",
       "    </tr>\n",
       "    <tr>\n",
       "      <th>recgroup</th>\n",
       "      <td>category</td>\n",
       "      <td>743</td>\n",
       "      <td>6</td>\n",
       "      <td>5</td>\n",
       "      <td>0-6 m</td>\n",
       "      <td>36-74</td>\n",
       "    </tr>\n",
       "    <tr>\n",
       "      <th>target</th>\n",
       "      <td>int64</td>\n",
       "      <td>748</td>\n",
       "      <td>2</td>\n",
       "      <td>0</td>\n",
       "      <td>0</td>\n",
       "      <td>1</td>\n",
       "    </tr>\n",
       "    <tr>\n",
       "      <th>time</th>\n",
       "      <td>int64</td>\n",
       "      <td>748</td>\n",
       "      <td>78</td>\n",
       "      <td>0</td>\n",
       "      <td>2</td>\n",
       "      <td>98</td>\n",
       "    </tr>\n",
       "    <tr>\n",
       "      <th>timespan</th>\n",
       "      <td>int64</td>\n",
       "      <td>748</td>\n",
       "      <td>90</td>\n",
       "      <td>0</td>\n",
       "      <td>0</td>\n",
       "      <td>96</td>\n",
       "    </tr>\n",
       "    <tr>\n",
       "      <th>years</th>\n",
       "      <td>int64</td>\n",
       "      <td>748</td>\n",
       "      <td>9</td>\n",
       "      <td>0</td>\n",
       "      <td>0</td>\n",
       "      <td>8</td>\n",
       "    </tr>\n",
       "  </tbody>\n",
       "</table>\n",
       "</div>"
      ],
      "text/plain": [
       "                Types  Counts  Uniques  Nulls       Min    Max\n",
       "donorscore    float64     748      184      0  1.013514    inf\n",
       "donorscore1   float64     748      186      0  1.013514   50.5\n",
       "freqgroup    category     748        3      0       Low   High\n",
       "frequency       int64     748       33      0         1     50\n",
       "monetary        int64     748       33      0       250  12500\n",
       "months          int64     748       12      0         0     11\n",
       "recency         int64     748       31      0         0     74\n",
       "recgroup     category     743        6      5     0-6 m  36-74\n",
       "target          int64     748        2      0         0      1\n",
       "time            int64     748       78      0         2     98\n",
       "timespan        int64     748       90      0         0     96\n",
       "years           int64     748        9      0         0      8"
      ]
     },
     "execution_count": 66,
     "metadata": {},
     "output_type": "execute_result"
    }
   ],
   "source": [
    "def summary(df, pred=None):\n",
    "    obs = df.shape[0]\n",
    "    Types = df.dtypes\n",
    "    Counts = df.apply(lambda x: x.count())\n",
    "    Min = df.min()\n",
    "    Max = df.max()\n",
    "    Uniques = df.apply(lambda x: x.unique().shape[0])\n",
    "    Nulls = df.apply(lambda x: x.isnull().sum())\n",
    "    print('Data shape:', df.shape)\n",
    "\n",
    "    if pred is None:\n",
    "        cols = ['Types', 'Counts', 'Uniques', 'Nulls', 'Min', 'Max']\n",
    "        str = pd.concat([Types, Counts, Uniques, Nulls, Min, Max], axis = 1, sort=True)\n",
    "\n",
    "    str.columns = cols\n",
    "    print('___________________________\\nData Types:')\n",
    "    print(str.Types.value_counts())\n",
    "    print('___________________________')\n",
    "    return str\n",
    "\n",
    "summary(df)"
   ]
  },
  {
   "cell_type": "code",
   "execution_count": 67,
   "id": "a4da5594",
   "metadata": {
    "ExecuteTime": {
     "end_time": "2023-09-19T14:26:55.832151Z",
     "start_time": "2023-09-19T14:26:55.819699Z"
    }
   },
   "outputs": [],
   "source": [
    "def duplicate_values(df):\n",
    "    print(\"Duplicate check...\")\n",
    "    num_duplicates = df.duplicated(subset=None, keep='first').sum()\n",
    "    if num_duplicates > 0:\n",
    "        print(\"There are\", num_duplicates, \"duplicated observations in the dataset.\")\n",
    "        df.drop_duplicates(keep='first', inplace=True)\n",
    "        print(num_duplicates, \"duplicates were dropped!\")\n",
    "        print('*' * 100)\n",
    "    else:\n",
    "        print(\"There are no duplicated observations in the dataset.\")"
   ]
  },
  {
   "cell_type": "code",
   "execution_count": 68,
   "id": "3b01afb7",
   "metadata": {
    "ExecuteTime": {
     "end_time": "2023-09-19T14:27:08.953890Z",
     "start_time": "2023-09-19T14:27:08.924753Z"
    }
   },
   "outputs": [
    {
     "name": "stdout",
     "output_type": "stream",
     "text": [
      "Duplicate check...\n",
      "There are 215 duplicated observations in the dataset.\n",
      "215 duplicates were dropped!\n",
      "****************************************************************************************************\n"
     ]
    }
   ],
   "source": [
    "duplicate_values(df)"
   ]
  },
  {
   "cell_type": "code",
   "execution_count": 69,
   "id": "39773b66",
   "metadata": {
    "ExecuteTime": {
     "end_time": "2023-09-19T14:27:15.160107Z",
     "start_time": "2023-09-19T14:27:15.144068Z"
    }
   },
   "outputs": [
    {
     "name": "stdout",
     "output_type": "stream",
     "text": [
      "Duplicate check...\n",
      "There are no duplicated observations in the dataset.\n"
     ]
    }
   ],
   "source": [
    "duplicate_values(df)"
   ]
  },
  {
   "cell_type": "code",
   "execution_count": 70,
   "id": "7027b41b",
   "metadata": {
    "ExecuteTime": {
     "end_time": "2023-09-19T14:27:30.000843Z",
     "start_time": "2023-09-19T14:27:29.981585Z"
    }
   },
   "outputs": [],
   "source": [
    "def missing_values(df):\n",
    "    missing_number = df.isnull().sum().sort_values(ascending = False)\n",
    "    missing_percent = (df.isnull().sum() / df.isnull().count()).sort_values(ascending = False)\n",
    "    missing_values = pd.concat([missing_number, missing_percent], axis = 1, keys = ['Missing_Number', 'Missing_Percent'])\n",
    "    return missing_values[missing_values['Missing_Number'] > 0]"
   ]
  },
  {
   "cell_type": "code",
   "execution_count": 71,
   "id": "147f3aef",
   "metadata": {
    "ExecuteTime": {
     "end_time": "2023-09-19T14:27:40.083848Z",
     "start_time": "2023-09-19T14:27:40.052193Z"
    }
   },
   "outputs": [
    {
     "data": {
      "text/html": [
       "<div>\n",
       "<style scoped>\n",
       "    .dataframe tbody tr th:only-of-type {\n",
       "        vertical-align: middle;\n",
       "    }\n",
       "\n",
       "    .dataframe tbody tr th {\n",
       "        vertical-align: top;\n",
       "    }\n",
       "\n",
       "    .dataframe thead th {\n",
       "        text-align: right;\n",
       "    }\n",
       "</style>\n",
       "<table border=\"1\" class=\"dataframe\">\n",
       "  <thead>\n",
       "    <tr style=\"text-align: right;\">\n",
       "      <th></th>\n",
       "      <th>Missing_Number</th>\n",
       "      <th>Missing_Percent</th>\n",
       "    </tr>\n",
       "  </thead>\n",
       "  <tbody>\n",
       "    <tr>\n",
       "      <th>recgroup</th>\n",
       "      <td>5</td>\n",
       "      <td>0.009381</td>\n",
       "    </tr>\n",
       "  </tbody>\n",
       "</table>\n",
       "</div>"
      ],
      "text/plain": [
       "          Missing_Number  Missing_Percent\n",
       "recgroup               5         0.009381"
      ]
     },
     "execution_count": 71,
     "metadata": {},
     "output_type": "execute_result"
    }
   ],
   "source": [
    "missing_values(df)"
   ]
  },
  {
   "cell_type": "code",
   "execution_count": 72,
   "id": "143be02c",
   "metadata": {
    "ExecuteTime": {
     "end_time": "2023-09-19T14:27:52.182846Z",
     "start_time": "2023-09-19T14:27:52.169356Z"
    }
   },
   "outputs": [],
   "source": [
    "def value_cnt(df, column_name):\n",
    "    vc = df[column_name].value_counts()\n",
    "    vc_norm = df[column_name].value_counts(normalize=True).round(3)\n",
    "\n",
    "    vc = vc.rename_axis('workclass').reset_index(name='counts')\n",
    "    vc_norm = vc_norm.rename_axis('workclass').reset_index(name='norm_counts')\n",
    "\n",
    "    df_result = pd.concat([vc['workclass'], vc['counts'], vc_norm['norm_counts']], axis=1)\n",
    "    \n",
    "    return df_result"
   ]
  },
  {
   "cell_type": "code",
   "execution_count": 74,
   "id": "94a48574",
   "metadata": {
    "ExecuteTime": {
     "end_time": "2023-09-19T14:28:10.391134Z",
     "start_time": "2023-09-19T14:28:10.368124Z"
    }
   },
   "outputs": [
    {
     "data": {
      "text/html": [
       "<div>\n",
       "<style scoped>\n",
       "    .dataframe tbody tr th:only-of-type {\n",
       "        vertical-align: middle;\n",
       "    }\n",
       "\n",
       "    .dataframe tbody tr th {\n",
       "        vertical-align: top;\n",
       "    }\n",
       "\n",
       "    .dataframe thead th {\n",
       "        text-align: right;\n",
       "    }\n",
       "</style>\n",
       "<table border=\"1\" class=\"dataframe\">\n",
       "  <thead>\n",
       "    <tr style=\"text-align: right;\">\n",
       "      <th></th>\n",
       "      <th>workclass</th>\n",
       "      <th>counts</th>\n",
       "      <th>norm_counts</th>\n",
       "    </tr>\n",
       "  </thead>\n",
       "  <tbody>\n",
       "    <tr>\n",
       "      <th>0</th>\n",
       "      <td>0</td>\n",
       "      <td>384</td>\n",
       "      <td>0.72</td>\n",
       "    </tr>\n",
       "    <tr>\n",
       "      <th>1</th>\n",
       "      <td>1</td>\n",
       "      <td>149</td>\n",
       "      <td>0.28</td>\n",
       "    </tr>\n",
       "  </tbody>\n",
       "</table>\n",
       "</div>"
      ],
      "text/plain": [
       "   workclass  counts  norm_counts\n",
       "0          0     384         0.72\n",
       "1          1     149         0.28"
      ]
     },
     "execution_count": 74,
     "metadata": {},
     "output_type": "execute_result"
    }
   ],
   "source": [
    "# Target görülme sıklığı, bir veri kümesindeki her bir Target değerin vaka sayısı olarak tanımlanır.\n",
    "# Yani Target sütunda kaç tane 1'e karşılık kaç tane 0 var? \n",
    "# Target insidansı bize veri setimizin ne kadar dengeli (veya dengesiz) olduğuna dair bir fikir verir.\n",
    "\n",
    "value_cnt(df, 'target')"
   ]
  },
  {
   "cell_type": "code",
   "execution_count": null,
   "id": "4c6992b0",
   "metadata": {},
   "outputs": [],
   "source": []
  }
 ],
 "metadata": {
  "kernelspec": {
   "display_name": "Python 3 (ipykernel)",
   "language": "python",
   "name": "python3"
  },
  "language_info": {
   "codemirror_mode": {
    "name": "ipython",
    "version": 3
   },
   "file_extension": ".py",
   "mimetype": "text/x-python",
   "name": "python",
   "nbconvert_exporter": "python",
   "pygments_lexer": "ipython3",
   "version": "3.9.12"
  },
  "toc": {
   "base_numbering": 1,
   "nav_menu": {},
   "number_sections": true,
   "sideBar": true,
   "skip_h1_title": false,
   "title_cell": "Table of Contents",
   "title_sidebar": "Contents",
   "toc_cell": false,
   "toc_position": {},
   "toc_section_display": true,
   "toc_window_display": false
  }
 },
 "nbformat": 4,
 "nbformat_minor": 5
}
