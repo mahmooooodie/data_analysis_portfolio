{
 "cells": [
  {
   "cell_type": "code",
   "execution_count": 19,
   "metadata": {},
   "outputs": [],
   "source": [
    "def stutter(word):\n",
    "\treturn word[0:2]+\"... \"+ word[0:2]+\"... \"+ word +\"?\""
   ]
  },
  {
   "cell_type": "code",
   "execution_count": 20,
   "metadata": {},
   "outputs": [
    {
     "ename": "NameError",
     "evalue": "name 'mahmud' is not defined",
     "output_type": "error",
     "traceback": [
      "\u001b[0;31m---------------------------------------------------------------------------\u001b[0m",
      "\u001b[0;31mNameError\u001b[0m                                 Traceback (most recent call last)",
      "Cell \u001b[0;32mIn[20], line 1\u001b[0m\n\u001b[0;32m----> 1\u001b[0m stutter(mahmud)\n",
      "\u001b[0;31mNameError\u001b[0m: name 'mahmud' is not defined"
     ]
    }
   ],
   "source": [
    "stutter(mahmud)"
   ]
  },
  {
   "cell_type": "code",
   "execution_count": 27,
   "metadata": {},
   "outputs": [],
   "source": [
    "def calculator(num1, operator, num2):\n",
    "\tif num2 == 0 and operator == \"/\":\n",
    "\t\treturn \"Can't divide by 0!\"\n",
    "\telse:\n",
    "\t\tif operator == \"+\":\n",
    "\t\t\treturn num1 + num2\n",
    "\t\telif operator == \"-\":\n",
    "\t\t\treturn num1 - num2\n",
    "\t\telif operator == \"/\":\n",
    "\t\t\treturn num1/num2\n",
    "\t\telif operator == \"*\":\n",
    "\t\t\treturn num1 * num2"
   ]
  },
  {
   "cell_type": "code",
   "execution_count": 29,
   "metadata": {},
   "outputs": [
    {
     "data": {
      "text/plain": [
       "\"Can't divide by 0!\""
      ]
     },
     "execution_count": 29,
     "metadata": {},
     "output_type": "execute_result"
    }
   ],
   "source": [
    "calculator(2,\"/\",0)"
   ]
  },
  {
   "cell_type": "code",
   "execution_count": 33,
   "metadata": {},
   "outputs": [],
   "source": [
    "def radians_to_degrees(rad):\n",
    "\tfrom math import pi\n",
    "\treturn round(rad * (180/pi),1)"
   ]
  },
  {
   "cell_type": "code",
   "execution_count": 34,
   "metadata": {},
   "outputs": [
    {
     "data": {
      "text/plain": [
       "57.3"
      ]
     },
     "execution_count": 34,
     "metadata": {},
     "output_type": "execute_result"
    }
   ],
   "source": [
    "radians_to_degrees(1)"
   ]
  },
  {
   "cell_type": "code",
   "execution_count": 40,
   "metadata": {},
   "outputs": [],
   "source": [
    "def color_invert(rgb):\n",
    "    list_1 = []\n",
    "    for i in rgb:\n",
    "        list_1.append(abs(i - 255))\n",
    "    tuple1 = tuple(list_1)\n",
    "\n",
    "    return tuple1\n",
    "\n"
   ]
  },
  {
   "cell_type": "code",
   "execution_count": 43,
   "metadata": {},
   "outputs": [
    {
     "data": {
      "text/plain": [
       "(255, 255, 255)"
      ]
     },
     "execution_count": 43,
     "metadata": {},
     "output_type": "execute_result"
    }
   ],
   "source": [
    "color_invert((0,0,0))"
   ]
  },
  {
   "cell_type": "code",
   "execution_count": 63,
   "metadata": {},
   "outputs": [],
   "source": [
    "def asc_des_none(lst, s):\n",
    "\tif s == \"None\":\n",
    "\t\treturn lst\n",
    "\telif s == \"Asc\":\n",
    "\t\treturn sorted(lst)\n",
    "\telif s == \"Des\":\n",
    "\t\treturn sorted(lst, reverse = 1)"
   ]
  },
  {
   "cell_type": "code",
   "execution_count": 65,
   "metadata": {},
   "outputs": [
    {
     "data": {
      "text/plain": [
       "[6, 5, 4, 2, 1]"
      ]
     },
     "execution_count": 65,
     "metadata": {},
     "output_type": "execute_result"
    }
   ],
   "source": [
    "asc_des_none([6,2,1,4,5], \"Des\")"
   ]
  },
  {
   "cell_type": "code",
   "execution_count": 62,
   "metadata": {},
   "outputs": [
    {
     "data": {
      "text/plain": [
       "[6, 5, 4, 2, 1]"
      ]
     },
     "execution_count": 62,
     "metadata": {},
     "output_type": "execute_result"
    }
   ],
   "source": [
    "sorted([6,2,1,4,5], reverse = 1)"
   ]
  },
  {
   "cell_type": "code",
   "execution_count": 67,
   "metadata": {},
   "outputs": [],
   "source": [
    "def to_jaden_case(string):\n",
    "    list_1 = string.split(\" \")\n",
    "    return list_1"
   ]
  },
  {
   "cell_type": "code",
   "execution_count": 69,
   "metadata": {},
   "outputs": [
    {
     "data": {
      "text/plain": [
       "['mahmud', 'is', 'cool']"
      ]
     },
     "execution_count": 69,
     "metadata": {},
     "output_type": "execute_result"
    }
   ],
   "source": [
    "to_jaden_case(\"mahmud is cool\")"
   ]
  },
  {
   "cell_type": "code",
   "execution_count": 70,
   "metadata": {},
   "outputs": [],
   "source": [
    "def to_jaden_case(string):\n",
    "    return string.title()"
   ]
  },
  {
   "cell_type": "code",
   "execution_count": 71,
   "metadata": {},
   "outputs": [
    {
     "ename": "NameError",
     "evalue": "name 'mahmud' is not defined",
     "output_type": "error",
     "traceback": [
      "\u001b[0;31m---------------------------------------------------------------------------\u001b[0m",
      "\u001b[0;31mNameError\u001b[0m                                 Traceback (most recent call last)",
      "Cell \u001b[0;32mIn[71], line 1\u001b[0m\n\u001b[0;32m----> 1\u001b[0m to_jaden_case(mahmud \u001b[39mis\u001b[39;00m cool)\n",
      "\u001b[0;31mNameError\u001b[0m: name 'mahmud' is not defined"
     ]
    }
   ],
   "source": [
    "to_jaden_case(mahmud is cool)"
   ]
  },
  {
   "cell_type": "code",
   "execution_count": 80,
   "metadata": {},
   "outputs": [],
   "source": [
    "def to_jaden_case(string):\n",
    "    empty = []\n",
    "    list_1 = string.split(\" \")\n",
    "    for i in list_1:\n",
    "        x = str(i).capitalize()\n",
    "        empty.append(x)\n",
    "    \n",
    "    return \" \".join(empty)\n",
    "\n",
    "\n"
   ]
  },
  {
   "cell_type": "code",
   "execution_count": 81,
   "metadata": {},
   "outputs": [
    {
     "data": {
      "text/plain": [
       "\"My Name Is Mahmud I Can't Swim\""
      ]
     },
     "execution_count": 81,
     "metadata": {},
     "output_type": "execute_result"
    }
   ],
   "source": [
    "to_jaden_case(\"my name is mahmud i can't swim\")"
   ]
  },
  {
   "cell_type": "code",
   "execution_count": 88,
   "metadata": {},
   "outputs": [
    {
     "name": "stdout",
     "output_type": "stream",
     "text": [
      "Weird\n"
     ]
    }
   ],
   "source": [
    "n = int(input(\"n\"))\n",
    "\n",
    "def integer(n):\n",
    "    \n",
    "    if n >= 1 and n <= 100:\n",
    "        if n % 2 == 1:\n",
    "            print(\"Weird\")\n",
    "        elif n % 2 == 0 and n >= 2 and n <= 5:\n",
    "            print(\"Not Weird\")\n",
    "        elif n % 2 == 0 and n >= 6 and n <= 20:\n",
    "            print(\"Weird\")\n",
    "        elif n % 2 == 0 and n > 20:\n",
    "            print(\"Not Weird\")\n",
    "\n",
    "integer(n)\n",
    "        "
   ]
  },
  {
   "cell_type": "code",
   "execution_count": 96,
   "metadata": {},
   "outputs": [
    {
     "name": "stdout",
     "output_type": "stream",
     "text": [
      "Not Weird\n"
     ]
    }
   ],
   "source": [
    "if __name__ == '__main__':\n",
    "    n = int(input().strip())\n",
    "\n",
    "def integer(n):\n",
    "    \n",
    "    if n >= 1 and n <= 100:\n",
    "        if n % 2 == 1:\n",
    "            print(\"Weird\")\n",
    "        elif n % 2 == 0 and n >= 2 and n <= 5:\n",
    "            print(\"Not Weird\")\n",
    "        elif n % 2 == 0 and n >= 6 and n <= 20:\n",
    "            print(\"Weird\")\n",
    "        elif n % 2 == 0 and n > 20:\n",
    "            print(\"Not Weird\")\n",
    "integer(n)"
   ]
  },
  {
   "cell_type": "code",
   "execution_count": 99,
   "metadata": {},
   "outputs": [
    {
     "name": "stdout",
     "output_type": "stream",
     "text": [
      "8\n",
      "-2\n",
      "15\n"
     ]
    }
   ],
   "source": [
    "if __name__ == '__main__':\n",
    "    a = int(input())\n",
    "    b = int(input())\n",
    "    if a >= 1 and a <= 100 and b >= 1 and b <= 100:\n",
    "        print(a + b)\n",
    "        print(a - b)\n",
    "        print(a * b)"
   ]
  },
  {
   "cell_type": "code",
   "execution_count": 103,
   "metadata": {},
   "outputs": [
    {
     "name": "stdout",
     "output_type": "stream",
     "text": [
      "0\n",
      "1\n",
      "4\n"
     ]
    }
   ],
   "source": [
    "if __name__ == '__main__':\n",
    "    n = int(input())\n",
    "    \n",
    "    if n >= 1 and n <= 20:\n",
    "        for i in range(0,n):\n",
    "            print(i ** 2)"
   ]
  },
  {
   "cell_type": "code",
   "execution_count": 111,
   "metadata": {},
   "outputs": [
    {
     "name": "stdout",
     "output_type": "stream",
     "text": [
      "False\n"
     ]
    }
   ],
   "source": [
    "def is_leap(year):\n",
    "    leap = False\n",
    "    if year >= 1900 and year <= 10 ** 5:\n",
    "        if year % 4 == 0 and not year % 100 == 0 or year % 400 == 0:\n",
    "            print(True)\n",
    "        else:\n",
    "            print(False)\n",
    "            \n",
    "    \n",
    "    \n",
    "    \n",
    "    # Write your logic here\n",
    "    \n",
    "\n",
    "year = int(input())\n",
    "is_leap (year)"
   ]
  },
  {
   "cell_type": "code",
   "execution_count": 116,
   "metadata": {},
   "outputs": [
    {
     "name": "stdout",
     "output_type": "stream",
     "text": [
      "False\n"
     ]
    }
   ],
   "source": [
    "def is_leap(year):\n",
    "    leap = False\n",
    "    if year >= 1900 and year <= 10 ** 5:\n",
    "        if year % 4 == 0 and not year % 100 == 0 or year % 400 == 0:\n",
    "            return True\n",
    "        else:\n",
    "            return False\n",
    "\n",
    "year = int(input())\n",
    "print(is_leap(year))"
   ]
  },
  {
   "cell_type": "code",
   "execution_count": 132,
   "metadata": {},
   "outputs": [
    {
     "name": "stdout",
     "output_type": "stream",
     "text": [
      "12345\n"
     ]
    }
   ],
   "source": [
    "if __name__ == '__main__':\n",
    "    n = int(input())\n",
    "    empty = \"\"\n",
    "    if n >= 1 and n <= 150:\n",
    "        for i in range(1,n+1):\n",
    "            empty += str(i)\n",
    "        print(empty)\n",
    "        "
   ]
  },
  {
   "cell_type": "code",
   "execution_count": 1,
   "metadata": {},
   "outputs": [
    {
     "ename": "NameError",
     "evalue": "name 'i' is not defined",
     "output_type": "error",
     "traceback": [
      "\u001b[0;31m---------------------------------------------------------------------------\u001b[0m",
      "\u001b[0;31mNameError\u001b[0m                                 Traceback (most recent call last)",
      "Cell \u001b[0;32mIn[1], line 4\u001b[0m\n\u001b[1;32m      1\u001b[0m UID \u001b[39m=\u001b[39m \u001b[39minput\u001b[39m(\u001b[39m\"\u001b[39m\u001b[39mPlease enter UID\u001b[39m\u001b[39m\"\u001b[39m)\n\u001b[1;32m      3\u001b[0m \u001b[39mif\u001b[39;00m UID\u001b[39m.\u001b[39misalnum() \u001b[39mand\u001b[39;00m \u001b[39mlen\u001b[39m(UID) \u001b[39m==\u001b[39m \u001b[39m10\u001b[39m:\n\u001b[0;32m----> 4\u001b[0m     \u001b[39mfor\u001b[39;00m i \u001b[39min\u001b[39;00m UID[i]:\n\u001b[1;32m      5\u001b[0m         \u001b[39mif\u001b[39;00m i\u001b[39m.\u001b[39misalnumalnum():\n\u001b[1;32m      6\u001b[0m             \u001b[39mprint\u001b[39m(\u001b[39m\"\u001b[39m\u001b[39mValid\u001b[39m\u001b[39m\"\u001b[39m)\n",
      "\u001b[0;31mNameError\u001b[0m: name 'i' is not defined"
     ]
    }
   ],
   "source": [
    "UID = input(\"Please enter UID\")\n",
    "\n",
    "if UID.isalnum() and len(UID) == 10:\n",
    "    \n",
    "        \n",
    "            print(\"Valid\")\n",
    "            "
   ]
  },
  {
   "cell_type": "code",
   "execution_count": 2,
   "metadata": {},
   "outputs": [
    {
     "name": "stdout",
     "output_type": "stream",
     "text": [
      "Invalid\n",
      "Invalid\n",
      "Valid\n",
      "Invalid\n",
      "Invalid\n",
      "Invalid\n",
      "Invalid\n"
     ]
    }
   ],
   "source": [
    "import re\n",
    "\n",
    "def validate_uid(uid):\n",
    "    # Check if UID has exactly 10 characters\n",
    "    if len(uid) != 10:\n",
    "        return False\n",
    "\n",
    "    # Check if UID contains at least 2 uppercase English alphabet characters\n",
    "    if not re.search(r'[A-Z].*[A-Z]', uid):\n",
    "        return False\n",
    "\n",
    "    # Check if UID contains at least 3 digits\n",
    "    if not re.search(r'\\d.*\\d.*\\d', uid):\n",
    "        return False\n",
    "\n",
    "    # Check if UID contains only alphanumeric characters\n",
    "    if not uid.isalnum():\n",
    "        return False\n",
    "\n",
    "    # Check if no character repeats\n",
    "    if len(set(uid)) != len(uid):\n",
    "        return False\n",
    "\n",
    "    return True\n",
    "\n",
    "# Read the number of test cases\n",
    "num_test_cases = int(input())\n",
    "\n",
    "# Process each test case\n",
    "for _ in range(num_test_cases):\n",
    "    uid = input()\n",
    "    if validate_uid(uid):\n",
    "        print('Valid')\n",
    "    else:\n",
    "        print('Invalid')"
   ]
  },
  {
   "cell_type": "code",
   "execution_count": 1,
   "metadata": {},
   "outputs": [
    {
     "name": "stdout",
     "output_type": "stream",
     "text": [
      "Invalid\n"
     ]
    }
   ],
   "source": [
    "import re\n",
    "\n",
    "def validate_credit_card(card_number):\n",
    "    # Check if card number starts with 4, 5, or 6\n",
    "    if not re.match(r'^[4-6]', card_number):\n",
    "        return False\n",
    "\n",
    "    # Remove hyphens from the card number\n",
    "    card_number = card_number.replace('-', '')\n",
    "\n",
    "    # Check if card number has exactly 16 digits\n",
    "    if not re.match(r'^\\d{16}$', card_number):\n",
    "        return False\n",
    "\n",
    "    # Check if card number only consists of digits (0-9)\n",
    "    if not card_number.isdigit():\n",
    "        return False\n",
    "\n",
    "    # Check if card number has groups of 4 digits separated by hyphen\n",
    "    if re.match(r'.*--.*', card_number):\n",
    "        return False\n",
    "\n",
    "    # Check if card number has 4 or more consecutive repeated digits\n",
    "    if re.search(r'(\\d)\\1{3}', card_number):\n",
    "        return False\n",
    "\n",
    "    return True\n",
    "\n",
    "# Read the number of credit card numbers\n",
    "n = int(input())\n",
    "\n",
    "# Process each credit card number\n",
    "for _ in range(n):\n",
    "    card_number = input()\n",
    "    if validate_credit_card(card_number):\n",
    "        print('Valid')\n",
    "        break\n",
    "    else:\n",
    "        print('Invalid')\n",
    "        break"
   ]
  }
 ],
 "metadata": {
  "kernelspec": {
   "display_name": "Python 3",
   "language": "python",
   "name": "python3"
  },
  "language_info": {
   "codemirror_mode": {
    "name": "ipython",
    "version": 3
   },
   "file_extension": ".py",
   "mimetype": "text/x-python",
   "name": "python",
   "nbconvert_exporter": "python",
   "pygments_lexer": "ipython3",
   "version": "3.11.4"
  },
  "orig_nbformat": 4
 },
 "nbformat": 4,
 "nbformat_minor": 2
}
