{
 "cells": [
  {
   "attachments": {},
   "cell_type": "markdown",
   "metadata": {},
   "source": [
    "### Polymorphism"
   ]
  },
  {
   "cell_type": "code",
   "execution_count": 5,
   "metadata": {},
   "outputs": [
    {
     "name": "stdout",
     "output_type": "stream",
     "text": [
      "dikdortgen area is: 20\n",
      "ucgen area is: 9.0\n"
     ]
    }
   ],
   "source": [
    "class Shapes:\n",
    "    def __init__(self, name):\n",
    "        self.name = name\n",
    "    def areacalc(self):\n",
    "        pass\n",
    "\n",
    "class Rectangle(Shapes):\n",
    "    def __init__(self, name, lenght, width):\n",
    "        super().__init__(name)\n",
    "        self.length = lenght\n",
    "        self.width = width\n",
    "    \n",
    "    def areacalc(self):\n",
    "        return self.length * self.width\n",
    "    \n",
    "class Triangle(Shapes):\n",
    "    def __init__(self, name, base, height):\n",
    "        super().__init__(name)\n",
    "        self.base = base\n",
    "        self.height = height\n",
    "\n",
    "    def areacalc(self):\n",
    "        return 0.5 * self.base * self.height\n",
    "\n",
    "rectangle = Rectangle(\"dikdortgen\", 4, 5)\n",
    "triangle = Triangle(\"ucgen\", 3, 6)\n",
    "\n",
    "shapes_list = [rectangle, triangle]\n",
    "\n",
    "for shape in shapes_list:\n",
    "    print(f\"{shape.name} area is: {shape.areacalc()}\")\n",
    "\n"
   ]
  },
  {
   "cell_type": "code",
   "execution_count": 6,
   "metadata": {},
   "outputs": [
    {
     "name": "stdout",
     "output_type": "stream",
     "text": [
      "Ali Kaya full salary is 60000\n",
      "Ayse Kucuk full salary is 20000\n",
      "Chris Brown full salary is 30000\n"
     ]
    }
   ],
   "source": [
    "class Employee:\n",
    "    def __init__(self, first,last):\n",
    "        self.first = first\n",
    "        self.last = last\n",
    "        \n",
    "    def salarycalc(self):\n",
    "        pass\n",
    "\n",
    "class Admin(Employee):\n",
    "    def __init__(self, first, last, salary, promo):\n",
    "        super().__init__(first, last)\n",
    "        self.salary = salary\n",
    "        self.promo = promo\n",
    "    \n",
    "    def salarycalc(self):\n",
    "        salarysum = self.salary + self.promo\n",
    "        print(f\"{self.first} {self.last} full salary is {salarysum}\")\n",
    "\n",
    "class Personel(Employee):\n",
    "    def __init__(self, first, last, salary):\n",
    "        super().__init__(first, last)\n",
    "        self.salary = salary\n",
    "\n",
    "    def salarycalc(self):\n",
    "        print(f\"{self.first} {self.last} full salary is {self.salary}\")\n",
    "\n",
    "workers = [\n",
    "Admin(\"Ali\",\"Kaya\", 50000, 10000), \n",
    "Personel(\"Ayse\", \"Kucuk\", 20000),\n",
    "Personel(\"Chris\", \"Brown\", 30000)\n",
    "]\n",
    "\n",
    "for worker in workers:\n",
    "    worker.salarycalc()"
   ]
  },
  {
   "attachments": {},
   "cell_type": "markdown",
   "metadata": {},
   "source": [
    "### Abstraction"
   ]
  },
  {
   "cell_type": "code",
   "execution_count": 7,
   "metadata": {},
   "outputs": [
    {
     "name": "stdout",
     "output_type": "stream",
     "text": [
      "20\n"
     ]
    }
   ],
   "source": [
    "class Stack:\n",
    "    def __init__(self):\n",
    "        self.items = []\n",
    "    def push(self, item):\n",
    "        self.items.append(item)\n",
    "    def pop(self):\n",
    "        return self.items.pop()\n",
    "    \n",
    "\n",
    "stack = Stack()\n",
    "stack.push(10)\n",
    "stack.push(20)\n",
    "\n",
    "print(stack.pop())\n",
    "    \n"
   ]
  },
  {
   "cell_type": "code",
   "execution_count": 11,
   "metadata": {},
   "outputs": [
    {
     "name": "stdout",
     "output_type": "stream",
     "text": [
      "50.24\n"
     ]
    }
   ],
   "source": [
    "from abc import ABC, abstractmethod\n",
    "\n",
    "class Shapes(ABC):\n",
    "    @abstractmethod\n",
    "    def area(self):\n",
    "        pass\n",
    "\n",
    "class Circle(Shapes):\n",
    "    def __init__(self, r):\n",
    "        self.r = r\n",
    "\n",
    "    def area(self):\n",
    "        return 3.14 * (self.r ** 2)\n",
    "\n",
    "circle = Circle(4)\n",
    "print(circle.area())"
   ]
  },
  {
   "attachments": {},
   "cell_type": "markdown",
   "metadata": {},
   "source": [
    "### Encapsulation"
   ]
  },
  {
   "attachments": {},
   "cell_type": "markdown",
   "metadata": {},
   "source": [
    "allows you to control objects by restricting other types of usage to other people"
   ]
  },
  {
   "cell_type": "code",
   "execution_count": 17,
   "metadata": {},
   "outputs": [
    {
     "name": "stdout",
     "output_type": "stream",
     "text": [
      "130000\n"
     ]
    },
    {
     "data": {
      "text/plain": [
       "130000"
      ]
     },
     "execution_count": 17,
     "metadata": {},
     "output_type": "execute_result"
    }
   ],
   "source": [
    "class Worker:\n",
    "    def __init__(self, name, salary):\n",
    "        self.name = name\n",
    "        self.__salary = salary              # to use encapsulation, you can write self.__parametername\n",
    "\n",
    "    def get_salary(self):                   # there are getters and setters\n",
    "        return self.__salary\n",
    "    \n",
    "    def set_salary(self,new_salary):         # get uses the encapuslated variable, without getter and setter, you can not use an encapuslated value\n",
    "        if new_salary > 0:\n",
    "            self.__salary = new_salary\n",
    "            print(new_salary)\n",
    "        else:\n",
    "            print(\"You can't do this!\")\n",
    "\n",
    "emp1 = Worker(\"Mahmud\", 90000)\n",
    "\n",
    "emp1.set_salary(130000)\n",
    "\n",
    "emp1.get_salary()"
   ]
  },
  {
   "cell_type": "code",
   "execution_count": null,
   "metadata": {},
   "outputs": [],
   "source": []
  }
 ],
 "metadata": {
  "kernelspec": {
   "display_name": "Python 3",
   "language": "python",
   "name": "python3"
  },
  "language_info": {
   "codemirror_mode": {
    "name": "ipython",
    "version": 3
   },
   "file_extension": ".py",
   "mimetype": "text/x-python",
   "name": "python",
   "nbconvert_exporter": "python",
   "pygments_lexer": "ipython3",
   "version": "3.11.4"
  },
  "orig_nbformat": 4
 },
 "nbformat": 4,
 "nbformat_minor": 2
}
