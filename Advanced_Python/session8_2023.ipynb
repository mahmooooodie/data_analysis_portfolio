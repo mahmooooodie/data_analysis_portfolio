{
 "cells": [
  {
   "attachments": {},
   "cell_type": "markdown",
   "metadata": {},
   "source": [
    "### try exceptions"
   ]
  },
  {
   "cell_type": "code",
   "execution_count": 1,
   "metadata": {},
   "outputs": [
    {
     "ename": "TypeError",
     "evalue": "can only concatenate str (not \"int\") to str",
     "output_type": "error",
     "traceback": [
      "\u001b[0;31m---------------------------------------------------------------------------\u001b[0m",
      "\u001b[0;31mTypeError\u001b[0m                                 Traceback (most recent call last)",
      "Cell \u001b[0;32mIn[1], line 1\u001b[0m\n\u001b[0;32m----> 1\u001b[0m \u001b[39m\"\u001b[39;49m\u001b[39m4\u001b[39;49m\u001b[39m\"\u001b[39;49m \u001b[39m+\u001b[39;49m \u001b[39m5\u001b[39;49m\n",
      "\u001b[0;31mTypeError\u001b[0m: can only concatenate str (not \"int\") to str"
     ]
    }
   ],
   "source": [
    "\"4\" + 5"
   ]
  },
  {
   "attachments": {},
   "cell_type": "markdown",
   "metadata": {},
   "source": [
    "try exceptions can be used to run a code even if its going to give an error"
   ]
  },
  {
   "attachments": {},
   "cell_type": "markdown",
   "metadata": {},
   "source": [
    "This is very useful because sometimes you write lines of code and press run all, the code will stop at error codes and not keep running. try exceptions prevent that from happening so other lines of code run as well."
   ]
  },
  {
   "cell_type": "code",
   "execution_count": 2,
   "metadata": {},
   "outputs": [
    {
     "name": "stdout",
     "output_type": "stream",
     "text": [
      "Do not show me error\n"
     ]
    }
   ],
   "source": [
    "try:\n",
    "    \"4\" + 5\n",
    "except:\n",
    "    print(\"Do not show me error\")"
   ]
  },
  {
   "cell_type": "code",
   "execution_count": 5,
   "metadata": {},
   "outputs": [
    {
     "name": "stdout",
     "output_type": "stream",
     "text": [
      "hatali\n"
     ]
    }
   ],
   "source": [
    "try:\n",
    "    \"4\"+ 5\n",
    "except TypeError:\n",
    "    print(\"hatali\")"
   ]
  },
  {
   "attachments": {},
   "cell_type": "markdown",
   "metadata": {},
   "source": [
    "We should use this when we can predict what type of error we might see to overcome it"
   ]
  },
  {
   "cell_type": "code",
   "execution_count": 7,
   "metadata": {},
   "outputs": [
    {
     "name": "stdout",
     "output_type": "stream",
     "text": [
      "hatali type error\n"
     ]
    }
   ],
   "source": [
    "try:\n",
    "    \"4\"+ 5\n",
    "except TypeError:\n",
    "    print(\"hatali type error\")\n",
    "except NameError:\n",
    "    print(\"hatali name error\")"
   ]
  },
  {
   "cell_type": "code",
   "execution_count": 10,
   "metadata": {},
   "outputs": [
    {
     "name": "stdout",
     "output_type": "stream",
     "text": [
      "If you are seeing this, there is an error with the numbers you entered\n"
     ]
    }
   ],
   "source": [
    "x = input(\"Please enter a number\")\n",
    "y = input(\"Please enter another number\")\n",
    "\n",
    "try:\n",
    "    print(int(x) / int(y))\n",
    "except:\n",
    "    print(\"If you are seeing this, there is an error with the numbers you entered\")"
   ]
  },
  {
   "attachments": {},
   "cell_type": "markdown",
   "metadata": {},
   "source": [
    "#### this is nice to use because you can keep running codes even if a user inputted a wrong argument into the input. Then we can define our own custom error message based on what they input"
   ]
  },
  {
   "cell_type": "code",
   "execution_count": 14,
   "metadata": {},
   "outputs": [
    {
     "name": "stdout",
     "output_type": "stream",
     "text": [
      "The error is : name 'a' is not defined\n"
     ]
    }
   ],
   "source": [
    "x = input(\"Please enter a number\")\n",
    "y = input(\"Please enter another number\")\n",
    "\n",
    "try:\n",
    "    print(int(x) / int(y))\n",
    "except ValueError:\n",
    "    print(\"You have not entered an integer type of input\")\n",
    "except ZeroDivisionError:\n",
    "    print(\"You can not divide by 0 dumbo\")\n",
    "except Exception as error:\n",
    "    print(f\"The error is : {error}\")"
   ]
  },
  {
   "cell_type": "code",
   "execution_count": 15,
   "metadata": {},
   "outputs": [
    {
     "name": "stdout",
     "output_type": "stream",
     "text": [
      "0.6400000000000001\n"
     ]
    }
   ],
   "source": [
    "## else ONLY works if try works.\n",
    "## if try does not work, else WILL NOT work\n",
    "\n",
    "\n",
    "\n",
    "x = input(\"Please enter a number\")\n",
    "y = input(\"Please enter another number\")\n",
    "\n",
    "try:\n",
    "    a = int(x) / int(y)\n",
    "except ValueError:\n",
    "    print(\"You have not entered an integer type of input\")\n",
    "except ZeroDivisionError:\n",
    "    print(\"You can not divide by 0 dumbo\")\n",
    "except Exception as error:\n",
    "    print(f\"The error is : {error}\")\n",
    "\n",
    "else:\n",
    "    print(a ** 2)"
   ]
  },
  {
   "attachments": {},
   "cell_type": "markdown",
   "metadata": {},
   "source": [
    "Problem:"
   ]
  },
  {
   "attachments": {},
   "cell_type": "markdown",
   "metadata": {},
   "source": [
    "get 2 numbers from user. divide those two numbers and add them to list. once list reaches 3 items. print the list"
   ]
  },
  {
   "cell_type": "code",
   "execution_count": 2,
   "metadata": {},
   "outputs": [
    {
     "name": "stdout",
     "output_type": "stream",
     "text": [
      "You have not entered an integer type of input\n",
      "You can not divide by 0 dumbo\n",
      "[0.8333333333333334, 0.875, 0.75]\n"
     ]
    }
   ],
   "source": [
    "list_1 = []\n",
    "\n",
    "while True:\n",
    "\n",
    "    x = input(\"Please enter a number\")\n",
    "    y = input(\"Please enter another number\")\n",
    "\n",
    "    try:\n",
    "        a = int(x) / int(y)\n",
    "    except ValueError:\n",
    "        print(\"You have not entered an integer type of input\")\n",
    "    except ZeroDivisionError:\n",
    "        print(\"You can not divide by 0 dumbo\")\n",
    "    except Exception as error:\n",
    "        print(f\"The error is : {error}\")\n",
    "    else:\n",
    "        list_1.append(a)\n",
    "        \n",
    "    if len(list_1) == 3:\n",
    "        break\n",
    "\n",
    "print(list_1)\n"
   ]
  },
  {
   "attachments": {},
   "cell_type": "markdown",
   "metadata": {},
   "source": [
    "Write a code that takes a number from user and squares it"
   ]
  },
  {
   "cell_type": "code",
   "execution_count": 4,
   "metadata": {},
   "outputs": [
    {
     "name": "stdout",
     "output_type": "stream",
     "text": [
      "You have entered a non integer number. Please enter again\n",
      "You have entered a non integer number. Please enter again\n",
      "You have entered a non integer number. Please enter again\n",
      "You have entered a non integer number. Please enter again\n",
      "You have entered a non integer number. Please enter again\n",
      "16\n"
     ]
    }
   ],
   "source": [
    "while True:\n",
    "    try:\n",
    "        x = int(input(\"Please enter a number\"))\n",
    "        break\n",
    "    except:\n",
    "        print(\"You have entered a non integer number. Please enter again\")\n",
    "\n",
    "print(x ** 2)"
   ]
  },
  {
   "cell_type": "code",
   "execution_count": 8,
   "metadata": {},
   "outputs": [
    {
     "name": "stdout",
     "output_type": "stream",
     "text": [
      "You have not entered an integer type of input\n",
      "I will work no matter what. Nobody can stop me!\n"
     ]
    }
   ],
   "source": [
    "# we have try, except, else, and finally\n",
    "\n",
    "\n",
    "x = input(\"Please enter a number\")\n",
    "y = input(\"Please enter another number\")\n",
    "\n",
    "try:\n",
    "    a = int(x) / int(y)\n",
    "except ValueError:\n",
    "    print(\"You have not entered an integer type of input\")\n",
    "except ZeroDivisionError:\n",
    "    print(\"You can not divide by 0 dumbo\")\n",
    "except Exception as error:\n",
    "    print(f\"The error is : {error}\")\n",
    "\n",
    "else:\n",
    "    print(a ** 2)\n",
    "\n",
    "finally:\n",
    "    print(\"I will work no matter what. Nobody can stop me!\")\n"
   ]
  },
  {
   "attachments": {},
   "cell_type": "markdown",
   "metadata": {},
   "source": [
    "## What have we learned?"
   ]
  },
  {
   "attachments": {},
   "cell_type": "markdown",
   "metadata": {},
   "source": [
    "try exceptions have 4 codes you can put in and they have to be in this order:\n",
    "-   try: tries if the function works or not\n",
    "-   except: if there is an error you can make it do something else\n",
    "-   else: only if try works, this line works\n",
    "-   finally: this line will work no matter what (unless it has an error in itself)"
   ]
  },
  {
   "attachments": {},
   "cell_type": "markdown",
   "metadata": {},
   "source": [
    "## Problem"
   ]
  },
  {
   "attachments": {},
   "cell_type": "markdown",
   "metadata": {},
   "source": [
    "use try exceptions to return only the integers in the list below"
   ]
  },
  {
   "cell_type": "code",
   "execution_count": 16,
   "metadata": {},
   "outputs": [],
   "source": [
    "liste = [\"yo yo\", 1,2, 8.3,4, 7.8, 9, \"balls\"]"
   ]
  },
  {
   "cell_type": "code",
   "execution_count": 18,
   "metadata": {},
   "outputs": [
    {
     "name": "stdout",
     "output_type": "stream",
     "text": [
      "[1, 2, 8, 4, 7, 9]\n"
     ]
    }
   ],
   "source": [
    "newlist1 = []\n",
    "\n",
    "for i in liste:\n",
    "    try:\n",
    "        x = int(i)\n",
    "    except:\n",
    "        continue\n",
    "    else:\n",
    "        newlist1.append(x)\n",
    "print(newlist1)"
   ]
  },
  {
   "attachments": {},
   "cell_type": "markdown",
   "metadata": {},
   "source": [
    "### Rock, Paper, Scissors -- Game"
   ]
  },
  {
   "cell_type": "code",
   "execution_count": 1,
   "metadata": {},
   "outputs": [
    {
     "name": "stdout",
     "output_type": "stream",
     "text": [
      "The computer has won the game!\n",
      "There has been a tie!\n",
      "There has been a tie!\n",
      "Congratulations! You have beaten the computer!\n",
      "Game Over!\n",
      "You have won 1 out of 4 games!\n"
     ]
    }
   ],
   "source": [
    "import random\n",
    "\n",
    "x = input(\"Would you like to play Rock, Paper, Scissors? (yes or no)\").lower()\n",
    "pc_list = [\"rock\",\"paper\",\"scissors\"]\n",
    "pc_counter = 0\n",
    "me_counter = 0\n",
    "tie_counter = 0\n",
    "while x == \"yes\":\n",
    "    pc = pc_list[random.randint(0,2)]\n",
    "    me = input(\"Choose one: Rock, Paper, or Scissors. Enter your choice!\").lower()\n",
    "\n",
    "    if (pc == \"rock\" and me == \"scissors\") or (pc == \"scissors\" and me == \"paper\") or (pc == \"paper\" and me == \"rock\"):\n",
    "        pc_counter += 1\n",
    "        winner = \"The computer has won the game!\"\n",
    "        \n",
    "    elif (me == \"rock\" and pc == \"scissors\") or (me == \"scissors\" and pc == \"paper\") or (me == \"paper\" and pc == \"rock\"):\n",
    "        me_counter += 1\n",
    "        winner = \"Congratulations! You have beaten the computer!\"\n",
    "    elif (me == \"rock\" and pc == \"rock\") or (me == \"scissors\" and pc == \"scissors\") or (me == \"paper\" and pc == \"paper\"):\n",
    "        tie_counter += 1\n",
    "        winner = \"There has been a tie!\"\n",
    "    else:\n",
    "        winner = \"Please enter a valid entry.\"\n",
    "\n",
    "    print(winner)\n",
    "    x = input(\"Would you like to continue playing Rock, Paper, Scissors? (yes or no)\").lower()\n",
    "print(\"Game Over!\")\n",
    "print(f\"You have won {me_counter} out of {me_counter + tie_counter + pc_counter} games!\")\n"
   ]
  }
 ],
 "metadata": {
  "kernelspec": {
   "display_name": "Python 3",
   "language": "python",
   "name": "python3"
  },
  "language_info": {
   "codemirror_mode": {
    "name": "ipython",
    "version": 3
   },
   "file_extension": ".py",
   "mimetype": "text/x-python",
   "name": "python",
   "nbconvert_exporter": "python",
   "pygments_lexer": "ipython3",
   "version": "3.11.4"
  },
  "orig_nbformat": 4
 },
 "nbformat": 4,
 "nbformat_minor": 2
}
