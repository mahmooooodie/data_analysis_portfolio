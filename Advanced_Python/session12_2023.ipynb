{
 "cells": [
  {
   "cell_type": "code",
   "execution_count": 4,
   "metadata": {},
   "outputs": [
    {
     "name": "stdout",
     "output_type": "stream",
     "text": [
      "merhaba has 3 vowels.\n"
     ]
    }
   ],
   "source": [
    "vowels = \"aeiou\"\n",
    "\n",
    "counter = 0\n",
    "\n",
    "word = input(\"Please enter a word\").lower()\n",
    "\n",
    "for letter in word:\n",
    "    if letter in vowels:\n",
    "        counter += 1\n",
    "\n",
    "mesaj = f\"{word} has {counter} vowels.\"\n",
    "print(mesaj)\n"
   ]
  },
  {
   "cell_type": "code",
   "execution_count": 17,
   "metadata": {},
   "outputs": [
    {
     "ename": "TypeError",
     "evalue": "artir() missing 1 required positional argument: 'kelime'",
     "output_type": "error",
     "traceback": [
      "\u001b[0;31m---------------------------------------------------------------------------\u001b[0m",
      "\u001b[0;31mTypeError\u001b[0m                                 Traceback (most recent call last)",
      "Cell \u001b[0;32mIn[17], line 26\u001b[0m\n\u001b[1;32m     23\u001b[0m     ekrana_goster(kelime)\n\u001b[1;32m     25\u001b[0m \u001b[39mif\u001b[39;00m \u001b[39m__name__\u001b[39m \u001b[39m==\u001b[39m \u001b[39m\"\u001b[39m\u001b[39m__main__\u001b[39m\u001b[39m\"\u001b[39m:\n\u001b[0;32m---> 26\u001b[0m     calistir()\n",
      "Cell \u001b[0;32mIn[17], line 23\u001b[0m, in \u001b[0;36mcalistir\u001b[0;34m()\u001b[0m\n\u001b[1;32m     21\u001b[0m \u001b[39mdef\u001b[39;00m \u001b[39mcalistir\u001b[39m():\n\u001b[1;32m     22\u001b[0m     kelime \u001b[39m=\u001b[39m kelime_sor()\n\u001b[0;32m---> 23\u001b[0m     ekrana_goster(kelime)\n",
      "Cell \u001b[0;32mIn[17], line 18\u001b[0m, in \u001b[0;36mekrana_goster\u001b[0;34m(kelime)\u001b[0m\n\u001b[1;32m     17\u001b[0m \u001b[39mdef\u001b[39;00m \u001b[39mekrana_goster\u001b[39m(kelime):\n\u001b[0;32m---> 18\u001b[0m     mesaj \u001b[39m=\u001b[39m \u001b[39mf\u001b[39m\u001b[39m\"\u001b[39m\u001b[39m{\u001b[39;00mkelime\u001b[39m}\u001b[39;00m\u001b[39m has \u001b[39m\u001b[39m{\u001b[39;00martir(sayac)\u001b[39m}\u001b[39;00m\u001b[39m vowels.\u001b[39m\u001b[39m\"\u001b[39m\n\u001b[1;32m     19\u001b[0m     \u001b[39mprint\u001b[39m(mesaj)\n",
      "\u001b[0;31mTypeError\u001b[0m: artir() missing 1 required positional argument: 'kelime'"
     ]
    }
   ],
   "source": [
    "sesli_harfler = \"aeiou\"\n",
    "sayac = 0\n",
    "\n",
    "def kelime_sor():\n",
    "    return input(\"Please enter a kelime\").lower()\n",
    "\n",
    "\n",
    "def seslidir(harf):\n",
    "    return harf in sesli_harfler\n",
    "\n",
    "def artir(sayac, kelime):\n",
    "    for harf in kelime:\n",
    "        if seslidir(harf):\n",
    "            sayac += 1\n",
    "    return sayac\n",
    "\n",
    "def ekrana_goster(kelime):\n",
    "    mesaj = f\"{kelime} has {artir(sayac)} vowels.\"\n",
    "    print(mesaj)\n",
    "\n",
    "def calistir():\n",
    "    kelime = kelime_sor()\n",
    "    ekrana_goster(kelime)\n",
    "\n",
    "if __name__ == \"__main__\":\n",
    "    calistir()"
   ]
  },
  {
   "cell_type": "code",
   "execution_count": 18,
   "metadata": {},
   "outputs": [
    {
     "name": "stdout",
     "output_type": "stream",
     "text": [
      "ma kelimesinde 1 sesli harf vardir\n"
     ]
    }
   ],
   "source": [
    "sesli_harfler = \"aeıioöuü\"\n",
    "sayac = 0\n",
    "def kelime_sor():\n",
    "    return input(\"bir kelime giriniz\").lower()\n",
    "def seslidir(harf):\n",
    "    return harf in sesli_harfler\n",
    "def artir(sayac, kelime):\n",
    "    for harf in kelime:\n",
    "        if seslidir(harf):\n",
    "            sayac += 1\n",
    "    return sayac\n",
    "def ekrana_goster(kelime):\n",
    "    mesaj = f\"{kelime} kelimesinde {artir(sayac, kelime)} sesli harf vardir\"\n",
    "    print(mesaj)\n",
    "def calistir():\n",
    "    kelime = kelime_sor()\n",
    "    ekrana_goster(kelime)\n",
    "if __name__ == '__main__':\n",
    "    calistir()"
   ]
  },
  {
   "cell_type": "code",
   "execution_count": 6,
   "metadata": {},
   "outputs": [
    {
     "name": "stdout",
     "output_type": "stream",
     "text": [
      "mahmd kelimesinde 1 sesli harf var\n"
     ]
    }
   ],
   "source": [
    "class vowelcounter:\n",
    "\n",
    "    def __init__(self):\n",
    "        self.sesli_harfler = \"aeiou\"\n",
    "        self.sayac = 0\n",
    "    \n",
    "    def kelime_sor(self):\n",
    "        return input(\"Enter a word\").lower()\n",
    "    def seslidir(self, harf):\n",
    "        return harf in self.sesli_harfler\n",
    "    def artir(self):\n",
    "        for harf in self.kelime:\n",
    "            if self.seslidir(harf):\n",
    "                self.sayac += 1\n",
    "        return self.sayac\n",
    "    def ekrana_goster(self):\n",
    "        sesli_harf_sayisi = self.artir()\n",
    "        mesaj = f\"{self.kelime} kelimesinde {sesli_harf_sayisi} sesli harf var\"\n",
    "        print(mesaj)\n",
    "    \n",
    "    def calistir(self):\n",
    "        self.kelime = self.kelime_sor()\n",
    "        self.ekrana_goster()\n",
    "    \n",
    "if __name__ == '__main__':\n",
    "    sayac = vowelcounter()\n",
    "    sayac.calistir()"
   ]
  },
  {
   "cell_type": "code",
   "execution_count": 9,
   "metadata": {},
   "outputs": [
    {
     "name": "stdout",
     "output_type": "stream",
     "text": [
      "bbaghanosuh kelimesinde 4 sesli harf vardır ve 7 sessiz harf vardir.\n"
     ]
    }
   ],
   "source": [
    "class vowelcounter:\n",
    "    def __init__(self):\n",
    "        self.sesli_harfler = \"aeıioöuü\"\n",
    "        self.seslisayac = 0\n",
    "        self.sessizsayac = 0\n",
    "\n",
    "    def kelime_sor(self):\n",
    "        return input(\"Bir kelime giriniz: \").lower()\n",
    "    \n",
    "    def seslidir(self, harf):\n",
    "        return harf in self.sesli_harfler\n",
    "    \n",
    "    def sessizdir(self, harf):\n",
    "        if harf not in self.sesli_harfler:\n",
    "            return harf\n",
    "    \n",
    "    def sesliartir(self):\n",
    "        for harf in self.kelime:\n",
    "            if self.seslidir(harf):\n",
    "                self.seslisayac += 1\n",
    "        return self.seslisayac\n",
    "    \n",
    "    def sessizartir(self):\n",
    "        for harf in self.kelime:\n",
    "            if self.sessizdir(harf):\n",
    "                self.sessizsayac += 1\n",
    "        return self.sessizsayac\n",
    "    def ekrana_goster(self):\n",
    "        sesli_harf_sayisi = self.sesliartir()\n",
    "        sessiz_harf_sayisi = self.sessizartir()\n",
    "        mesaj = f\"{self.kelime} kelimesinde {sesli_harf_sayisi} sesli harf vardır ve {sessiz_harf_sayisi} sessiz harf vardir.\"\n",
    "        print(mesaj)\n",
    "\n",
    "    def calistir(self):\n",
    "        self.kelime = self.kelime_sor()\n",
    "        self.ekrana_goster()\n",
    "\n",
    "if __name__ == '__main__':\n",
    "    seslisayac = vowelcounter()\n",
    "    seslisayac.calistir()"
   ]
  },
  {
   "cell_type": "code",
   "execution_count": 16,
   "metadata": {},
   "outputs": [
    {
     "name": "stdout",
     "output_type": "stream",
     "text": [
      "0\n",
      "2\n",
      "Mahmud\n"
     ]
    }
   ],
   "source": [
    "class employee:\n",
    "    promorate = 1.05\n",
    "    employeenum = 0\n",
    "\n",
    "    def __init__(self, name, lastname, wage):\n",
    "        self.name = name\n",
    "        self.lastname = lastname\n",
    "        self.wage = wage\n",
    "        self.email = f\"{name.lower()}.{lastname.lower()}@company.com\"\n",
    "\n",
    "        employee.employeenum += 1\n",
    "\n",
    "    def fullname(self):\n",
    "        return f\"{self.name} {self.lastname}\"\n",
    "    \n",
    "    def applypromo(self):\n",
    "        self.wage = self.wage * self.promotrate\n",
    "\n",
    "print(employee.employeenum)\n",
    "\n",
    "emp_1 = employee(\"Mahmud\",\"Apaydin\", 120000)\n",
    "emp_2 = employee(\"Nur\", \"Apaydin\", 200000)\n",
    "\n",
    "print(employee.employeenum)\n",
    "print(emp_1.name)"
   ]
  },
  {
   "attachments": {},
   "cell_type": "markdown",
   "metadata": {},
   "source": [
    "### Oject Oriented Methodology"
   ]
  },
  {
   "cell_type": "code",
   "execution_count": 17,
   "metadata": {},
   "outputs": [],
   "source": [
    "class vehicles:                                     # this whole thing is the parent class\n",
    "    def __init__(self, make, model, color):\n",
    "        self.make = make\n",
    "        self.model = model\n",
    "        self.color = color\n",
    "    \n",
    "    def moveit(self):\n",
    "        print(f\"{self.make} vehicle is moving\")\n",
    "\n",
    "    def stopit(self):\n",
    "        print(f\"{self.make} vehicle has stopped\")\n",
    "\n",
    "class car(vehicles):                                # this is an inheritance class which is under the parent class and uses it.\n",
    "    def __init__(self, make, model, color, speed):\n",
    "        super().__init__(make,model,color)          # use super() to use the make model color from above class\n",
    "        self.speed = speed                          # and we definied speed since we didnt have it above\n",
    "        \n",
    "    def moveit(self):\n",
    "        print(f\"the {self.make} {self.model} is moving\")\n",
    "    def stopit(self):\n",
    "        print(f\"the {self.make} {self.model} has stopped\")\n",
    "\n",
    "        \n",
    "class bikes(vehicles):\n",
    "    def __init__(self, make, model, color, gearbox):\n",
    "        super().__init__(make, model, color)\n",
    "        self.gearbox = gearbox \n",
    "\n",
    "    def moveit(self):\n",
    "        print(f\"the bike {self.make} is moving\")\n",
    "    def stopit(self):\n",
    "        print(f\"the bike {self.make} has stopped\")\n",
    "\n",
    "\n"
   ]
  },
  {
   "attachments": {},
   "cell_type": "markdown",
   "metadata": {},
   "source": [
    "now to use these classes were going to create objects"
   ]
  },
  {
   "cell_type": "code",
   "execution_count": 26,
   "metadata": {},
   "outputs": [
    {
     "name": "stdout",
     "output_type": "stream",
     "text": [
      "the BMW 330i is moving\n",
      "White\n"
     ]
    }
   ],
   "source": [
    "car1 = car(\"BMW\", \"330i\", \"White\", 160)\n",
    "\n",
    "car1.moveit()\n",
    "print(car1.color)"
   ]
  },
  {
   "cell_type": "code",
   "execution_count": 22,
   "metadata": {},
   "outputs": [
    {
     "name": "stdout",
     "output_type": "stream",
     "text": [
      "the bike Bisan has stopped\n"
     ]
    }
   ],
   "source": [
    "bike1 = bikes(\"Bisan\", \"Mountain Bike\", \"Black\", 8)\n",
    "\n",
    "bike1.stopit()"
   ]
  },
  {
   "cell_type": "code",
   "execution_count": 27,
   "metadata": {},
   "outputs": [
    {
     "name": "stdout",
     "output_type": "stream",
     "text": [
      "8\n"
     ]
    }
   ],
   "source": [
    "print(bike1.gearbox)"
   ]
  },
  {
   "cell_type": "code",
   "execution_count": null,
   "metadata": {},
   "outputs": [],
   "source": []
  }
 ],
 "metadata": {
  "kernelspec": {
   "display_name": "Python 3",
   "language": "python",
   "name": "python3"
  },
  "language_info": {
   "codemirror_mode": {
    "name": "ipython",
    "version": 3
   },
   "file_extension": ".py",
   "mimetype": "text/x-python",
   "name": "python",
   "nbconvert_exporter": "python",
   "pygments_lexer": "ipython3",
   "version": "3.11.4"
  },
  "orig_nbformat": 4
 },
 "nbformat": 4,
 "nbformat_minor": 2
}
