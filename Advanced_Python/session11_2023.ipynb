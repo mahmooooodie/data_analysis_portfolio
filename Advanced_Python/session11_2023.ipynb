{
 "cells": [
  {
   "attachments": {},
   "cell_type": "markdown",
   "metadata": {},
   "source": [
    "### Object Oriented Programming"
   ]
  },
  {
   "attachments": {},
   "cell_type": "markdown",
   "metadata": {},
   "source": [
    "object"
   ]
  },
  {
   "attachments": {},
   "cell_type": "markdown",
   "metadata": {},
   "source": [
    "instance"
   ]
  },
  {
   "attachments": {},
   "cell_type": "markdown",
   "metadata": {},
   "source": [
    "class"
   ]
  },
  {
   "cell_type": "code",
   "execution_count": 3,
   "metadata": {},
   "outputs": [
    {
     "name": "stdout",
     "output_type": "stream",
     "text": [
      "<class '__main__.Personel'>\n",
      "<__main__.Personel object at 0x103d11850>\n",
      "<__main__.Personel object at 0x1042c8610>\n"
     ]
    }
   ],
   "source": [
    "\n",
    "class Personel:         # we created a main class\n",
    "    pass\n",
    "per_1 = Personel()      # using the main personel class, we created an object\n",
    "per_2 = Personel()      # same with this one\n",
    "\n",
    "print(Personel)\n",
    "print(per_1)\n",
    "print(per_2)"
   ]
  },
  {
   "cell_type": "code",
   "execution_count": 18,
   "metadata": {},
   "outputs": [
    {
     "name": "stdout",
     "output_type": "stream",
     "text": [
      "<__main__.Personel object at 0x1042d4fd0>\n",
      "<__main__.Personel object at 0x1042d4490>\n",
      "akaya@gmail.com\n",
      "cr7@hotmail.com\n"
     ]
    }
   ],
   "source": [
    "class Personel:         \n",
    "    pass\n",
    "per_1 = Personel()      \n",
    "per_2 = Personel()      \n",
    "\n",
    "per_1.name = \"Ahmet\"                # Here we created our own instances\n",
    "per_1.lastname = \"Kaya\"             # but its not practical because we still wrote them one by one\n",
    "per_1.email = \"akaya@gmail.com\"\n",
    "\n",
    "per_2.name = \"Christiano\"\n",
    "per_2.lastname = \"Ronaldo\"\n",
    "per_2.email = \"cr7@hotmail.com\"\n",
    "\n",
    "\n",
    "print(per_1)\n",
    "print(per_2)\n",
    "print(per_1.email)\n",
    "print(per_2.email)\n"
   ]
  },
  {
   "cell_type": "code",
   "execution_count": 21,
   "metadata": {},
   "outputs": [
    {
     "name": "stdout",
     "output_type": "stream",
     "text": [
      "Ahmet\n",
      "Kaya\n",
      "60000\n",
      "ahmet.kaya@gmail.com\n",
      "Lionel\n",
      "Messi\n",
      "100000\n",
      "lionel.messi@gmail.com\n"
     ]
    }
   ],
   "source": [
    "class Personel:\n",
    "                    # Here we created a class\n",
    "\n",
    "    def tanimla(self,name,lastname, salary):\n",
    "                # here we created a function tanimla and defined the parameters\n",
    "\n",
    "        self.ad = name\n",
    "        self.soyad = lastname\n",
    "        self.maas = salary\n",
    "        self.eposta = f\"{name.lower()}.{lastname.lower()}@gmail.com\"\n",
    "\n",
    "\n",
    "        return self         # you always have to end a function with return\n",
    "\n",
    "\n",
    "per_1 = Personel().tanimla(name = \"Ahmet\", lastname = \"Kaya\", salary = 60000)   # we call them here\n",
    "\n",
    "per_2 = Personel().tanimla(\"Lionel\", \"Messi\", 100000)\n",
    "\n",
    "\n",
    "\n",
    "\n",
    "print(per_1.ad)\n",
    "print(per_1.soyad)\n",
    "print(per_1.maas)\n",
    "print(per_1.eposta)\n",
    "print(per_2.ad)\n",
    "print(per_2.soyad)\n",
    "print(per_2.maas)\n",
    "print(per_2.eposta)\n",
    "\n"
   ]
  },
  {
   "cell_type": "code",
   "execution_count": 22,
   "metadata": {},
   "outputs": [
    {
     "name": "stdout",
     "output_type": "stream",
     "text": [
      "Ahmet\n",
      "Kaya\n",
      "60000\n",
      "ahmet.kaya@gmail.com\n",
      "Lionel\n",
      "Messi\n",
      "100000\n",
      "lionel.messi@gmail.com\n"
     ]
    }
   ],
   "source": [
    "class Personel:             # this is another way to get the same results pracitcally\n",
    "\n",
    "    def __init__(self,name,lastname, salary):       #using __init__ we intialize the fucntion in the class with self\n",
    "                                                    #The __init__() function is called automatically every time the class is being used to create a new object.\n",
    "        self.ad = name\n",
    "        self.soyad = lastname\n",
    "        self.maas = salary\n",
    "        self.eposta = f\"{name.lower()}.{lastname.lower()}@gmail.com\"\n",
    "\n",
    "per_1 = Personel(name = \"Ahmet\", lastname = \"Kaya\", salary = 60000)   # we call them here with Personel\n",
    "\n",
    "per_2 = Personel(\"Lionel\", \"Messi\", 100000)\n",
    "\n",
    "print(per_1.ad)\n",
    "print(per_1.soyad)\n",
    "print(per_1.maas)\n",
    "print(per_1.eposta)\n",
    "print(per_2.ad)\n",
    "print(per_2.soyad)\n",
    "print(per_2.maas)\n",
    "print(per_2.eposta)"
   ]
  },
  {
   "cell_type": "code",
   "execution_count": 24,
   "metadata": {},
   "outputs": [
    {
     "name": "stdout",
     "output_type": "stream",
     "text": [
      "Ahmet\n",
      "Kaya\n",
      "60000\n",
      "Ahmet.Kaya@gmail.com\n",
      "Lionel\n",
      "Messi\n",
      "100000\n",
      "Lionel.Messi@gmail.com\n"
     ]
    }
   ],
   "source": [
    "class Personel:\n",
    "\n",
    "                # we can use another name such as object instead of self but we should use self\n",
    "    def __init__(object, name, lastname, salary):\n",
    "        object.ad = name\n",
    "        object.soyad = lastname\n",
    "        object.maas = salary\n",
    "        object.eposta = f\"{name}.{lastname}@gmail.com\"\n",
    "        \n",
    "per_1 = Personel(name = \"Ahmet\", lastname = \"Kaya\", salary = 60000)   # we call them here with Personel\n",
    "\n",
    "per_2 = Personel(\"Lionel\", \"Messi\", 100000)\n",
    "\n",
    "print(per_1.ad)\n",
    "print(per_1.soyad)\n",
    "print(per_1.maas)\n",
    "print(per_1.eposta)\n",
    "print(per_2.ad)\n",
    "print(per_2.soyad)\n",
    "print(per_2.maas)\n",
    "print(per_2.eposta)"
   ]
  },
  {
   "cell_type": "code",
   "execution_count": 27,
   "metadata": {},
   "outputs": [
    {
     "name": "stdout",
     "output_type": "stream",
     "text": [
      "Ahmet Kaya\n",
      "Lionel Messi\n",
      "Ahmet Kaya\n",
      "Lionel Messi\n"
     ]
    }
   ],
   "source": [
    "class Personel:            \n",
    "\n",
    "    def __init__(self,name,lastname, salary):       \n",
    "                                                    \n",
    "        self.ad = name\n",
    "        self.soyad = lastname\n",
    "        self.maas = salary\n",
    "        self.eposta = f\"{name.lower()}.{lastname.lower()}@gmail.com\"\n",
    "\n",
    "    def full_name(self):                        # we created a new function returning the full name\n",
    "\n",
    "        fullname = f\"{self.ad} {self.soyad}\"\n",
    "        print(fullname)\n",
    "        return fullname\n",
    "    \n",
    "per_1 = Personel(name = \"Ahmet\", lastname = \"Kaya\", salary = 60000)   \n",
    "\n",
    "per_2 = Personel(\"Lionel\", \"Messi\", 100000)\n",
    "\n",
    "print(per_1.full_name())            # since were calling a function on this one we have to open close paranthesis\n",
    "print(per_2.full_name())\n",
    "\n",
    "print(Personel.full_name(per_1))    # we can even call it like this by calling the class first and then its function\n",
    "print(Personel.full_name(per_2))    # then we can enter the parameters per_1 and per_2 to call them"
   ]
  },
  {
   "cell_type": "code",
   "execution_count": 29,
   "metadata": {},
   "outputs": [
    {
     "name": "stdout",
     "output_type": "stream",
     "text": [
      "Ahmet Kaya\n",
      "Lionel Messi\n",
      "Ahmet Kaya\n",
      "Lionel Messi\n"
     ]
    }
   ],
   "source": [
    "class Personel:            \n",
    "\n",
    "    def __init__(self,name,lastname, salary):       \n",
    "                                                    \n",
    "        self.ad = name\n",
    "        self.soyad = lastname\n",
    "        self.maas = salary\n",
    "        self.eposta = f\"{name.lower()}.{lastname.lower()}@gmail.com\"\n",
    "\n",
    "    def full_name(self):                        # we created a new function returning the full name\n",
    "\n",
    "        fullname = f\"{self.ad} {self.soyad}\"\n",
    "        print(fullname)\n",
    "        \n",
    "    \n",
    "per_1 = Personel(name = \"Ahmet\", lastname = \"Kaya\", salary = 60000)   \n",
    "\n",
    "per_2 = Personel(\"Lionel\", \"Messi\", 100000)\n",
    "\n",
    "per_1.full_name()           # since were calling a function on this one we have to open close paranthesis\n",
    "per_2.full_name()\n",
    "\n",
    "Personel.full_name(per_1)   # we can even call it like this by calling the class first and then its function\n",
    "Personel.full_name(per_2)    # then we can enter the parameters per_1 and per_2 to call them"
   ]
  },
  {
   "cell_type": "code",
   "execution_count": 35,
   "metadata": {},
   "outputs": [
    {
     "name": "stdout",
     "output_type": "stream",
     "text": [
      "60000\n",
      "60600\n",
      "{'ad': 'Ahmet',\n",
      " 'eposta': 'ahmet.kaya@gmail.com',\n",
      " 'maas': 60600,\n",
      " 'soyad': 'Kaya'}\n"
     ]
    }
   ],
   "source": [
    "# now lets say we want to increase salaries\n",
    "# we have to define an attribute\n",
    "\n",
    "\n",
    "class Personel:            \n",
    "\n",
    "    promorate = 1.01\n",
    "\n",
    "    def __init__(self,name,lastname, salary):       \n",
    "                                                    \n",
    "        self.ad = name\n",
    "        self.soyad = lastname\n",
    "        self.maas = salary\n",
    "        self.eposta = f\"{name.lower()}.{lastname.lower()}@gmail.com\"\n",
    "\n",
    "    def full_name(self):                        \n",
    "\n",
    "        fullname = f\"{self.ad} {self.soyad}\"\n",
    "        print(fullname)\n",
    "        return fullname\n",
    "    \n",
    "    def applypromo(self):\n",
    "        #self.maas = int(self.maas * self.promorate)  # to apply the promotion i still have to identify that it is part of self\n",
    "        self.maas = int(self.maas * Personel.promorate)\n",
    "\n",
    "\n",
    "per_1 = Personel(name = \"Ahmet\", lastname = \"Kaya\", salary = 60000)   \n",
    "\n",
    "per_2 = Personel(\"Lionel\", \"Messi\", 100000)\n",
    "\n",
    "\n",
    "print(per_1.maas)\n",
    "per_1.applypromo()\n",
    "print(per_1.maas)\n",
    "\n",
    "from pprint import pprint\n",
    "pprint(per_1.__dict__)    # we can use __dict__ method to view our inputs as dictionary\n"
   ]
  },
  {
   "cell_type": "code",
   "execution_count": 36,
   "metadata": {},
   "outputs": [
    {
     "name": "stdout",
     "output_type": "stream",
     "text": [
      "25000\n",
      "26250\n",
      "1.05\n",
      "1.05\n",
      "1.05\n",
      "{'ad': 'Esma',\n",
      " 'eposta': 'esma.sert@firmam.com',\n",
      " 'price': 26250,\n",
      " 'soyad': 'Sert'}\n",
      "___________________________\n",
      "mappingproxy({'__dict__': <attribute '__dict__' of 'Personel' objects>,\n",
      "              '__doc__': None,\n",
      "              '__init__': <function Personel.__init__ at 0x1047c5760>,\n",
      "              '__module__': '__main__',\n",
      "              '__weakref__': <attribute '__weakref__' of 'Personel' objects>,\n",
      "              'tam_isim': <function Personel.tam_isim at 0x1047c7f60>,\n",
      "              'zam_orani': 1.05,\n",
      "              'zam_uygula': <function Personel.zam_uygula at 0x1047c5120>})\n",
      "{'ad': 'Esma',\n",
      " 'eposta': 'esma.sert@firmam.com',\n",
      " 'price': 26250,\n",
      " 'soyad': 'Sert',\n",
      " 'zam_orani': 1.1}\n"
     ]
    }
   ],
   "source": [
    "class Personel:\n",
    "    zam_orani = 1.05\n",
    "    def __init__(self, isim, soyisim, maas):\n",
    "        self.ad = isim\n",
    "        self.soyad = soyisim\n",
    "        self.price = maas\n",
    "        self.eposta = f\"{isim.lower()}.{soyisim.lower()}@firmam.com\"\n",
    "    \n",
    "    def tam_isim(self):\n",
    "        return f\"{self.ad} {self.soyad}\"\n",
    "    \n",
    "    def zam_uygula(self):\n",
    "        self.price = int(self.price * self.zam_orani)\n",
    "\n",
    "\n",
    "\n",
    "per1 = Personel(\"Esma\", \"Sert\", 25000)\n",
    "per2 = Personel('Mary', 'Smith', 40000)\n",
    "\n",
    "print(per1.price)\n",
    "per1.zam_uygula()\n",
    "print(per1.price)\n",
    "\n",
    "print(Personel.zam_orani)\n",
    "print(per1.zam_orani)\n",
    "print(per2.zam_orani)\n",
    "\n",
    "from pprint import pprint\n",
    "\n",
    "pprint(per1.__dict__)\n",
    "per1.zam_orani = 1.1\n",
    "print(\"___________________________\")\n",
    "pprint(Personel.__dict__)\n",
    "pprint(per1.__dict__)"
   ]
  }
 ],
 "metadata": {
  "kernelspec": {
   "display_name": "Python 3",
   "language": "python",
   "name": "python3"
  },
  "language_info": {
   "codemirror_mode": {
    "name": "ipython",
    "version": 3
   },
   "file_extension": ".py",
   "mimetype": "text/x-python",
   "name": "python",
   "nbconvert_exporter": "python",
   "pygments_lexer": "ipython3",
   "version": "3.11.4"
  },
  "orig_nbformat": 4
 },
 "nbformat": 4,
 "nbformat_minor": 2
}
