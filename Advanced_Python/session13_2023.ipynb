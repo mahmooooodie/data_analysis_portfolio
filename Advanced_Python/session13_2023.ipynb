{
 "cells": [
  {
   "attachments": {},
   "cell_type": "markdown",
   "metadata": {},
   "source": [
    "### Inheritance and Polymorphism"
   ]
  },
  {
   "attachments": {},
   "cell_type": "markdown",
   "metadata": {},
   "source": [
    "for this example, i have used inheritance to inherit the parameters from the employee class for new classes below it"
   ]
  },
  {
   "cell_type": "code",
   "execution_count": 3,
   "metadata": {},
   "outputs": [
    {
     "name": "stdout",
     "output_type": "stream",
     "text": [
      "Coder Mahmud is ready to work.\n",
      "New secretary Jasmine is now working\n",
      "President Lionel Messi has been elected.\n",
      "New president Lionel Messi's employees:\n",
      "________\n",
      "Mahmud\n",
      "Jasmine\n"
     ]
    }
   ],
   "source": [
    "class employee:\n",
    "    def __init__(self, name, lastname, wage):\n",
    "        self.name = name\n",
    "        self.lastname = lastname\n",
    "        self.wage = wage\n",
    "\n",
    "class President(employee):\n",
    "    def __init__(self, name, lastname, wage, employees):\n",
    "        super().__init__(name, lastname, wage)\n",
    "        self.employees = employees\n",
    "        print(f\"President {self.name} {self.lastname} has been elected.\")\n",
    "\n",
    "class Coder(employee):\n",
    "    def __init__(self, name, lastname, wage, language):\n",
    "        super().__init__(name, lastname, wage,)\n",
    "        self.language = language\n",
    "        print(f\"Coder {self.name} is ready to work.\")\n",
    "\n",
    "class Secretary(employee):\n",
    "    def __init__(self, name, lastname, wage):\n",
    "        super().__init__(name, lastname, wage)\n",
    "        print(f\"New secretary {self.name} is now working\")\n",
    "\n",
    "coder1 = Coder(\"Mahmud\",\"Apaydin\", 100000, \"Python\")\n",
    "sec1 = Secretary(\"Jasmine\",\"Ortega\", 70000)\n",
    "pres1 = President(\"Lionel\", \"Messi\", 120000, [coder1,sec1])\n",
    "print(f\"New president {pres1.name} {pres1.lastname}'s employees:\") # since this is outside the def functions for classes, it doesnt need self, it needs the parameter name.attribute\n",
    "print(\"________\")\n",
    "print(f\"{coder1.name}\")\n",
    "print(f\"{sec1.name}\")\n",
    "\n"
   ]
  },
  {
   "cell_type": "code",
   "execution_count": 4,
   "metadata": {},
   "outputs": [
    {
     "name": "stdout",
     "output_type": "stream",
     "text": [
      "General Animals is on the move.\n",
      "General Animals is eating right now.\n",
      "King roars.\n",
      "King is hunting.\n"
     ]
    }
   ],
   "source": [
    "# single inheritance example\n",
    "\n",
    "class Animals:\n",
    "    def __init__(self, name):\n",
    "        self.name = name\n",
    "\n",
    "    def moveit(self):\n",
    "        print(f\"{self.name} is on the move.\")\n",
    "    \n",
    "    def eating(self):\n",
    "        print(f\"{self.name} is eating right now.\")\n",
    "\n",
    "class Lions(Animals):\n",
    "    def __init__(self, name):\n",
    "        super().__init__(name)\n",
    "    def roaring(self):\n",
    "        print(f\"{self.name} roars.\")\n",
    "    def hunt(self):\n",
    "        print(f\"{self.name} is hunting.\")\n",
    "\n",
    "\n",
    "animal = Animals(\"General Animals\")\n",
    "animal.moveit()\n",
    "animal.eating()\n",
    "\n",
    "lion_king = Lions(\"King\")\n",
    "lion_king.roaring()\n",
    "lion_king.hunt()\n"
   ]
  },
  {
   "attachments": {},
   "cell_type": "markdown",
   "metadata": {},
   "source": [
    "### Multiple Inheritance"
   ]
  },
  {
   "cell_type": "code",
   "execution_count": 9,
   "metadata": {},
   "outputs": [
    {
     "name": "stdout",
     "output_type": "stream",
     "text": [
      "Area is being calculated\n",
      "blue colored shape is being drawn\n",
      "Rectangles Area : 20\n",
      "red colored Rectangle is being drawn\n",
      "Squares Area : 36\n",
      "Yellow colored Square is being drawn\n"
     ]
    }
   ],
   "source": [
    "class Shapes:\n",
    "    def __init__(self, color):\n",
    "        self.color = color\n",
    "    def area_calc(self):\n",
    "        print(\"Area is being calculated\")\n",
    "    def draw(self):\n",
    "        print(f\"{self.color} colored shape is being drawn\")\n",
    "\n",
    "\n",
    "class Rectangle(Shapes):\n",
    "    def __init__(self, color, height, length):\n",
    "        super().__init__(color)\n",
    "        self.height = height\n",
    "        self.length = length\n",
    "    \n",
    "    def area_calc(self):\n",
    "        area = self.length * self.height\n",
    "        print(f\"Rectangles Area : {area}\")\n",
    "    def draw(self):\n",
    "        print(f\"{self.color} colored Rectangle is being drawn\")\n",
    "\n",
    "class Square(Rectangle):\n",
    "    def __init__(self, color, side_length):\n",
    "        super().__init__(color, side_length, side_length)\n",
    "    def area_calc(self):\n",
    "        area = self.height ** 2\n",
    "        print(f\"Squares Area : {area}\")\n",
    "    def draw(self):\n",
    "        print(f\"{self.color} colored Square is being drawn\")\n",
    "\n",
    "shape = Shapes(\"blue\")\n",
    "shape.area_calc()\n",
    "shape.draw()\n",
    "\n",
    "rectangle = Rectangle(\"red\", 4, 5)\n",
    "rectangle.area_calc()\n",
    "rectangle.draw()\n",
    "\n",
    "square = Square(\"Yellow\", 6)\n",
    "square.area_calc()\n",
    "square.draw()"
   ]
  },
  {
   "attachments": {},
   "cell_type": "markdown",
   "metadata": {},
   "source": [
    "### Hierarchical Inheritance"
   ]
  },
  {
   "cell_type": "code",
   "execution_count": 10,
   "metadata": {},
   "outputs": [
    {
     "name": "stdout",
     "output_type": "stream",
     "text": [
      "General Animals is running.\n",
      "General Animals is eating right now.\n",
      "KingKong is running.\n",
      "KingKong is jumping right now.\n",
      "KingKong is swimming\n",
      "Lucy is jumping right now.\n",
      "Lucy roars.\n",
      "Lucy is sleeping.\n"
     ]
    }
   ],
   "source": [
    "class Animals:\n",
    "    def __init__(self, name):\n",
    "        self.name = name\n",
    "\n",
    "    def run(self):\n",
    "        print(f\"{self.name} is running.\")\n",
    "    \n",
    "    def jump(self):\n",
    "        print(f\"{self.name} is jumping right now.\")\n",
    "\n",
    "    def eating(self):\n",
    "        print(f\"{self.name} is eating right now.\")\n",
    "\n",
    "\n",
    "class Gorillas(Animals):\n",
    "    def __init__(self, name):\n",
    "        super().__init__(name)\n",
    "    def swim(self):\n",
    "        print(f\"{self.name} is swimming\")\n",
    "\n",
    "class Tigers(Animals):\n",
    "    def __init__(self, name):\n",
    "        super().__init__(name)\n",
    "    def roaring(self):\n",
    "        print(f\"{self.name} roars.\")\n",
    "    def sleep(self):\n",
    "        print(f\"{self.name} is sleeping.\")\n",
    "\n",
    "animal = Animals(\"General Animals\")\n",
    "animal.run()\n",
    "animal.eating()\n",
    "\n",
    "gorilla = Gorillas(\"KingKong\")\n",
    "gorilla.run()\n",
    "gorilla.jump()\n",
    "gorilla.swim()\n",
    "\n",
    "tiger = Tigers(\"Lucy\")\n",
    "tiger.jump()\n",
    "tiger.roaring()\n",
    "tiger.sleep()\n"
   ]
  },
  {
   "attachments": {},
   "cell_type": "markdown",
   "metadata": {},
   "source": []
  }
 ],
 "metadata": {
  "kernelspec": {
   "display_name": "Python 3",
   "language": "python",
   "name": "python3"
  },
  "language_info": {
   "codemirror_mode": {
    "name": "ipython",
    "version": 3
   },
   "file_extension": ".py",
   "mimetype": "text/x-python",
   "name": "python",
   "nbconvert_exporter": "python",
   "pygments_lexer": "ipython3",
   "version": "3.11.4"
  },
  "orig_nbformat": 4
 },
 "nbformat": 4,
 "nbformat_minor": 2
}
