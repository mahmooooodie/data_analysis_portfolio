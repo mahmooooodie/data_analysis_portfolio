{
 "cells": [
  {
   "attachments": {},
   "cell_type": "markdown",
   "metadata": {},
   "source": [
    "Amicable Numbers\n",
    "\n",
    "ilk olarak tam bolen numarali listeliyorsunuz\n",
    "\n",
    "220 >>> [1,2,4,5,10,11,20,22,44,55,110]  sum >>> 284\n",
    "284 >>> [1,2,4,71,142]  sum >>> 200\n",
    "\n",
    "200 and 284 are amicable numbers"
   ]
  },
  {
   "attachments": {},
   "cell_type": "markdown",
   "metadata": {},
   "source": [
    "lets create a code where a user inputs a number and gets a print of its amicable number"
   ]
  },
  {
   "cell_type": "code",
   "execution_count": 9,
   "metadata": {},
   "outputs": [
    {
     "name": "stdout",
     "output_type": "stream",
     "text": [
      "your number is a single number\n"
     ]
    }
   ],
   "source": [
    "x = int(input(\"Please enter a number\"))\n",
    "sum_i = 0\n",
    "sum_j = 0\n",
    "for i in range(1,x):\n",
    "    if x % i == 0:\n",
    "        sum_i += i\n",
    "for j in range (1, sum_i):\n",
    "    if sum_i % j == 0:\n",
    "        sum_j += j\n",
    "\n",
    "if x == sum_j:\n",
    "    print(f\"{x} is amicable with {sum_i}\")\n",
    "else:\n",
    "    print(\"your number is a single number\")\n",
    "\n"
   ]
  },
  {
   "cell_type": "code",
   "execution_count": 12,
   "metadata": {},
   "outputs": [
    {
     "name": "stdout",
     "output_type": "stream",
     "text": [
      "220 is amicable with 284\n"
     ]
    }
   ],
   "source": [
    "x = int(input(\"Please enter a number\"))\n",
    "\n",
    "\n",
    "sum_i = sum([i for i in range(1,x) if x % i == 0])\n",
    "        \n",
    "sum_j = sum([j for j in range (1, sum_i) if sum_i % j == 0])\n",
    "      \n",
    "if x == sum_j:\n",
    "    print(f\"{x} is amicable with {sum_i}\")\n",
    "else:\n",
    "    print(\"your number is a single number\")"
   ]
  },
  {
   "attachments": {},
   "cell_type": "markdown",
   "metadata": {},
   "source": [
    "### Functions"
   ]
  },
  {
   "attachments": {},
   "cell_type": "markdown",
   "metadata": {},
   "source": [
    " funtions work in ways where you define your own function to use later on. It makes your life way easier when you have to keep using the same function over and over again"
   ]
  },
  {
   "attachments": {},
   "cell_type": "markdown",
   "metadata": {},
   "source": [
    "You can call your defined function whenevr you want"
   ]
  },
  {
   "attachments": {},
   "cell_type": "markdown",
   "metadata": {},
   "source": [
    "make sure to use with return rather than print if you want to use it for other places. "
   ]
  },
  {
   "cell_type": "code",
   "execution_count": null,
   "metadata": {},
   "outputs": [],
   "source": [
    "\"\"\" \n",
    "\n",
    "\n",
    "An Example line would be \n",
    "\n",
    "def function_name(parameters):\n",
    "    line of code \n",
    "    \n",
    "\n",
    "\"\"\""
   ]
  },
  {
   "cell_type": "code",
   "execution_count": 15,
   "metadata": {},
   "outputs": [],
   "source": [
    "def sum_of_squares(x,y):\n",
    "    print((x ** 2)+ (y ** 2))"
   ]
  },
  {
   "cell_type": "code",
   "execution_count": 16,
   "metadata": {},
   "outputs": [
    {
     "name": "stdout",
     "output_type": "stream",
     "text": [
      "13\n"
     ]
    }
   ],
   "source": [
    "sum_of_squares(2,3)"
   ]
  },
  {
   "cell_type": "code",
   "execution_count": 17,
   "metadata": {},
   "outputs": [
    {
     "name": "stdout",
     "output_type": "stream",
     "text": [
      "41\n"
     ]
    }
   ],
   "source": [
    "sum_of_squares(4,5)"
   ]
  },
  {
   "cell_type": "code",
   "execution_count": 18,
   "metadata": {},
   "outputs": [],
   "source": [
    "def multiply(a,b):\n",
    "    return a * b"
   ]
  },
  {
   "cell_type": "code",
   "execution_count": 19,
   "metadata": {},
   "outputs": [
    {
     "data": {
      "text/plain": [
       "12"
      ]
     },
     "execution_count": 19,
     "metadata": {},
     "output_type": "execute_result"
    }
   ],
   "source": [
    "multiply(3,4)"
   ]
  },
  {
   "cell_type": "code",
   "execution_count": 28,
   "metadata": {},
   "outputs": [],
   "source": [
    "# now lets make a simple calculator that does basic operations\n",
    "# adding a string between three quotation marks allows you to see information about the function\n",
    "\n",
    "\n",
    "\n",
    "def calculator(x, opr, y):\n",
    "\n",
    "    \"\"\"This function lets you use basic math operations\"\"\"\n",
    "\n",
    "    if opr == \"+\":\n",
    "        return x + y\n",
    "    elif opr == \"-\":\n",
    "        return x - y \n",
    "    elif opr == \"x\":\n",
    "        return x * y \n",
    "    elif opr == \"/\":\n",
    "        return x / y \n",
    "    else:\n",
    "        return \"faulty entry\""
   ]
  },
  {
   "cell_type": "code",
   "execution_count": 25,
   "metadata": {},
   "outputs": [
    {
     "data": {
      "text/plain": [
       "14"
      ]
     },
     "execution_count": 25,
     "metadata": {},
     "output_type": "execute_result"
    }
   ],
   "source": [
    "calculator( 9, \"+\", 5)"
   ]
  },
  {
   "cell_type": "code",
   "execution_count": 26,
   "metadata": {},
   "outputs": [
    {
     "data": {
      "text/plain": [
       "100"
      ]
     },
     "execution_count": 26,
     "metadata": {},
     "output_type": "execute_result"
    }
   ],
   "source": [
    "calculator(10, \"x\", 10)"
   ]
  },
  {
   "cell_type": "code",
   "execution_count": 31,
   "metadata": {},
   "outputs": [],
   "source": [
    "def my_len(iter):\n",
    "\n",
    "    \"\"\"Returns the length of the value entered\"\"\"\n",
    "\n",
    "    counter = 0 \n",
    "    for i in iter:\n",
    "        counter += 1\n",
    "\n",
    "    return counter\n",
    "\n"
   ]
  },
  {
   "cell_type": "code",
   "execution_count": 32,
   "metadata": {},
   "outputs": [
    {
     "data": {
      "text/plain": [
       "6"
      ]
     },
     "execution_count": 32,
     "metadata": {},
     "output_type": "execute_result"
    }
   ],
   "source": [
    "my_len(\"mahmud\")"
   ]
  },
  {
   "cell_type": "code",
   "execution_count": 33,
   "metadata": {},
   "outputs": [
    {
     "data": {
      "text/plain": [
       "'Returns the length of the value entered'"
      ]
     },
     "execution_count": 33,
     "metadata": {},
     "output_type": "execute_result"
    }
   ],
   "source": [
    "my_len.__doc__"
   ]
  },
  {
   "cell_type": "code",
   "execution_count": 52,
   "metadata": {},
   "outputs": [],
   "source": [
    "def len_int(x):\n",
    "    \"\"\"This function will return the length of integer number, no LISTS\"\"\"\n",
    "\n",
    "    if str(x).isdigit():\n",
    "        counter = 0\n",
    "\n",
    "        for i in str(x):\n",
    "            counter += 1\n",
    "        return counter\n",
    "    else:\n",
    "        return \"please enter a number inside the paranthesis\""
   ]
  },
  {
   "cell_type": "code",
   "execution_count": 53,
   "metadata": {},
   "outputs": [
    {
     "data": {
      "text/plain": [
       "'please enter a number inside the paranthesis'"
      ]
     },
     "execution_count": 53,
     "metadata": {},
     "output_type": "execute_result"
    }
   ],
   "source": [
    "len_int(\"mo\")"
   ]
  },
  {
   "attachments": {},
   "cell_type": "markdown",
   "metadata": {},
   "source": [
    "### writing a code that finds how many of each letter there are"
   ]
  },
  {
   "cell_type": "code",
   "execution_count": 57,
   "metadata": {},
   "outputs": [
    {
     "data": {
      "text/plain": [
       "{'t': 4,\n",
       " 'e': 4,\n",
       " 'c': 1,\n",
       " 'h': 3,\n",
       " 'p': 1,\n",
       " 'r': 2,\n",
       " 'o': 2,\n",
       " 'i': 2,\n",
       " 's': 2,\n",
       " 'b': 1,\n",
       " 'n': 1,\n",
       " 'w': 1,\n",
       " 'l': 1,\n",
       " 'd': 1}"
      ]
     },
     "execution_count": 57,
     "metadata": {},
     "output_type": "execute_result"
    }
   ],
   "source": [
    "my_dict = dict()\n",
    "sentence = \"Techpro is the best in the world\"\n",
    "\n",
    "for i in sentence.lower():\n",
    "    if i.isalpha():\n",
    "        if i in my_dict:\n",
    "            my_dict[i] += 1\n",
    "        else:\n",
    "            my_dict[i] = 1\n",
    "\n",
    "my_dict"
   ]
  },
  {
   "cell_type": "code",
   "execution_count": 60,
   "metadata": {},
   "outputs": [],
   "source": [
    "def finding_character_count(sentence):\n",
    "\n",
    "    \"\"\"You can use this function to count how many of each letter there are in a sentence\"\"\"\n",
    "    my_dict = dict()\n",
    "    for i in sentence.lower():\n",
    "        if i.isalpha():\n",
    "            if i in my_dict:\n",
    "                my_dict[i] += 1\n",
    "            else:\n",
    "                my_dict[i] = 1\n",
    "    return my_dict"
   ]
  },
  {
   "cell_type": "code",
   "execution_count": 61,
   "metadata": {},
   "outputs": [
    {
     "data": {
      "text/plain": [
       "{'y': 2,\n",
       " 'o': 1,\n",
       " 'm': 4,\n",
       " 'n': 1,\n",
       " 'a': 3,\n",
       " 'e': 1,\n",
       " 'i': 1,\n",
       " 's': 2,\n",
       " 'h': 2,\n",
       " 'u': 2,\n",
       " 'd': 1,\n",
       " 'w': 1,\n",
       " 't': 1,\n",
       " 'p': 1}"
      ]
     },
     "execution_count": 61,
     "metadata": {},
     "output_type": "execute_result"
    }
   ],
   "source": [
    "finding_character_count(\"yo my name is mahmud whats up\")"
   ]
  },
  {
   "cell_type": "code",
   "execution_count": null,
   "metadata": {},
   "outputs": [],
   "source": []
  }
 ],
 "metadata": {
  "kernelspec": {
   "display_name": "Python 3",
   "language": "python",
   "name": "python3"
  },
  "language_info": {
   "codemirror_mode": {
    "name": "ipython",
    "version": 3
   },
   "file_extension": ".py",
   "mimetype": "text/x-python",
   "name": "python",
   "nbconvert_exporter": "python",
   "pygments_lexer": "ipython3",
   "version": "3.11.4"
  },
  "orig_nbformat": 4
 },
 "nbformat": 4,
 "nbformat_minor": 2
}
