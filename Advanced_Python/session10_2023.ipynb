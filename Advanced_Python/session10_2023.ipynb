{
 "cells": [
  {
   "attachments": {},
   "cell_type": "markdown",
   "metadata": {},
   "source": [
    "# File Management"
   ]
  },
  {
   "attachments": {},
   "cell_type": "markdown",
   "metadata": {},
   "source": [
    "open() \n",
    "open(folder_name, folder_encryption_mode)\n",
    "\n",
    "folder_encryption_mode = defines what intention you want to open the folder\n"
   ]
  },
  {
   "attachments": {},
   "cell_type": "markdown",
   "metadata": {},
   "source": [
    "'w' = (Write) allows you to write mode\n",
    "1. Creates the folder\n",
    "2. If the folder exists, it will erase its contents and create a new folder\n"
   ]
  },
  {
   "cell_type": "code",
   "execution_count": 25,
   "metadata": {},
   "outputs": [],
   "source": [
    "open(\"newfile.txt\", \"w\")\n",
    "\n",
    "\n",
    "\n",
    "# io means input output \n",
    "file.close()"
   ]
  },
  {
   "cell_type": "code",
   "execution_count": 24,
   "metadata": {},
   "outputs": [
    {
     "name": "stdout",
     "output_type": "stream",
     "text": [
      "<_io.TextIOWrapper name='newfile.txt' mode='w' encoding='utf-8'>\n"
     ]
    }
   ],
   "source": [
    "# as you see we wrote something in the newfile.txt but when we opened it again with mode 'w', it erased everything in it\n",
    "\n",
    "\n",
    "result = open(\"newfile.txt\", \"w\")\n",
    "print(result)\n",
    "file.close()"
   ]
  },
  {
   "cell_type": "code",
   "execution_count": 4,
   "metadata": {},
   "outputs": [
    {
     "data": {
      "text/plain": [
       "'/Users/mahmooooodie/Desktop/AdvancePython'"
      ]
     },
     "execution_count": 4,
     "metadata": {},
     "output_type": "execute_result"
    }
   ],
   "source": [
    "pwd"
   ]
  },
  {
   "cell_type": "code",
   "execution_count": 23,
   "metadata": {},
   "outputs": [
    {
     "name": "stdout",
     "output_type": "stream",
     "text": [
      "<_io.TextIOWrapper name='/Users/mahmooooodie/Desktop/newfile.txt' mode='w' encoding='utf-8'>\n"
     ]
    }
   ],
   "source": [
    "# copying the above location and changing the end allowed us to create a new file in our desktop\n",
    "\n",
    "\n",
    "file = open(\"/Users/mahmooooodie/Desktop/newfile.txt\", \"w\")\n",
    "print(file)\n",
    "file.close()"
   ]
  },
  {
   "cell_type": "code",
   "execution_count": 22,
   "metadata": {},
   "outputs": [
    {
     "name": "stdout",
     "output_type": "stream",
     "text": [
      "<_io.TextIOWrapper name='/Users/mahmooooodie/Desktop/newfile2.txt' mode='w' encoding='utf-8'>\n"
     ]
    }
   ],
   "source": [
    "file = open(r\"/Users/mahmooooodie/Desktop/newfile2.txt\", \"w\")\n",
    "print(file)\n",
    "file.close()"
   ]
  },
  {
   "cell_type": "code",
   "execution_count": 13,
   "metadata": {},
   "outputs": [],
   "source": [
    "file = open(\"newfile.txt\", \"w\", encoding = \"utf-8\")\n",
    "\n",
    "file.write(\"Mahmud Apaydin\")\n",
    "file.close()"
   ]
  },
  {
   "attachments": {},
   "cell_type": "markdown",
   "metadata": {},
   "source": [
    "\"a\" : (Append) to add. If the file exists, it will add on to where it left off"
   ]
  },
  {
   "cell_type": "code",
   "execution_count": 14,
   "metadata": {},
   "outputs": [],
   "source": [
    "file = open(\"newfile.txt\", \"a\", encoding = \"utf-8\")\n",
    "file.write(\"\\nFaruk Apaydin\")\n",
    "file.close()"
   ]
  },
  {
   "attachments": {},
   "cell_type": "markdown",
   "metadata": {},
   "source": [
    "\"x\" : (Create) to create. Gives error if file exists\n"
   ]
  },
  {
   "cell_type": "code",
   "execution_count": null,
   "metadata": {},
   "outputs": [],
   "source": [
    "file = open(\"newfile.txt\", \"x\", encoding = \"utf-8\")\n",
    "file.write(\"\\nNur Apaydin\")\n",
    "file.close()\n",
    "\n",
    "## this will give error"
   ]
  },
  {
   "cell_type": "code",
   "execution_count": 16,
   "metadata": {},
   "outputs": [],
   "source": [
    "file = open(\"newfile2.txt\", \"x\", encoding = \"utf-8\")\n",
    "file.write(\"\\nNur Apaydin\")\n",
    "file.close()"
   ]
  },
  {
   "attachments": {},
   "cell_type": "markdown",
   "metadata": {},
   "source": [
    "\"r\" : (Read) Used only to read existing file. If file does not exist, it will give error. If you dont define a mode, default would be read."
   ]
  },
  {
   "cell_type": "code",
   "execution_count": 17,
   "metadata": {},
   "outputs": [
    {
     "name": "stdout",
     "output_type": "stream",
     "text": [
      "<_io.TextIOWrapper name='newfile.txt' mode='r' encoding='utf-8'>\n"
     ]
    }
   ],
   "source": [
    "file = open(\"newfile.txt\", \"r\", encoding = \"utf-8\")\n",
    "print(file)\n",
    "file.close()"
   ]
  },
  {
   "attachments": {},
   "cell_type": "markdown",
   "metadata": {},
   "source": [
    "Now lets try it with Try Except:"
   ]
  },
  {
   "cell_type": "code",
   "execution_count": 19,
   "metadata": {},
   "outputs": [
    {
     "name": "stdout",
     "output_type": "stream",
     "text": [
      "We could not find that file\n",
      "File closed\n"
     ]
    }
   ],
   "source": [
    "try:\n",
    "    file = open(\"newfile3.txt\", \"r\")\n",
    "    print(file)\n",
    "except FileNotFoundError:\n",
    "    print(\"We could not find that file\")\n",
    "finally:\n",
    "    print(\"File closed\")\n",
    "    file.close()"
   ]
  },
  {
   "attachments": {},
   "cell_type": "markdown",
   "metadata": {},
   "source": [
    "To access contents of the file, we could do something like this"
   ]
  },
  {
   "cell_type": "code",
   "execution_count": 20,
   "metadata": {},
   "outputs": [
    {
     "name": "stdout",
     "output_type": "stream",
     "text": [
      "Mahmud Apaydin\n",
      "\n",
      "Faruk Apaydin\n"
     ]
    }
   ],
   "source": [
    "file = open(\"newfile.txt\",\"r\")\n",
    "\n",
    "for i in file:\n",
    "    print(i, end = \"\\n\")\n",
    "\n",
    "file.close()"
   ]
  },
  {
   "attachments": {},
   "cell_type": "markdown",
   "metadata": {},
   "source": [
    "AN easier way to read the contents"
   ]
  },
  {
   "cell_type": "code",
   "execution_count": null,
   "metadata": {},
   "outputs": [],
   "source": [
    "file = open(\"newfile.txt\",\"r\")\n",
    "\n",
    "content = file.read()\n",
    "print(content)\n",
    "file.close()"
   ]
  },
  {
   "cell_type": "code",
   "execution_count": 34,
   "metadata": {},
   "outputs": [
    {
     "name": "stdout",
     "output_type": "stream",
     "text": [
      "Content 1\n",
      "Mahmud Apaydin\n",
      "Faruk Apaydin\n",
      "\n",
      "Content 2\n",
      "\n"
     ]
    }
   ],
   "source": [
    "## .read() will only read a file once by default if stated above\n",
    "\n",
    "\n",
    "file = open(\"newfile.txt\",\"r\")\n",
    "\n",
    "content1 = file.read()\n",
    "print(\"Content 1\")\n",
    "print(content1)\n",
    "content2 = file.read()\n",
    "print(\"Content 2\")\n",
    "print(content2)\n",
    "file.close()"
   ]
  },
  {
   "cell_type": "code",
   "execution_count": 36,
   "metadata": {},
   "outputs": [
    {
     "name": "stdout",
     "output_type": "stream",
     "text": [
      "Content 1\n",
      "Mahmud Apaydin\n",
      "Faruk Apaydin\n",
      "\n",
      "Content 2\n",
      "Mahmud Apaydin\n",
      "Faruk Apaydin\n",
      "\n"
     ]
    }
   ],
   "source": [
    "# file.seek(0) lets you seek the file again to read\n",
    "# this is important because if you keep opening the file it takes up storage in your ram\n",
    "\n",
    "file = open(\"newfile.txt\",\"r\")\n",
    "\n",
    "content1 = file.read()\n",
    "print(\"Content 1\")\n",
    "print(content1)\n",
    "\n",
    "file.seek(0)\n",
    "\n",
    "content2 = file.read()\n",
    "print(\"Content 2\")\n",
    "print(content2)\n",
    "file.close()"
   ]
  },
  {
   "cell_type": "code",
   "execution_count": 43,
   "metadata": {},
   "outputs": [
    {
     "name": "stdout",
     "output_type": "stream",
     "text": [
      "Content 1\n",
      "Mahmud Apaydin\n",
      "Faruk Apaydin\n",
      "\n",
      "Content 2\n",
      "Faruk Apaydin\n",
      "\n"
     ]
    }
   ],
   "source": [
    "# you can define which byte you want the seek to start at again\n",
    "\n",
    "\n",
    "file = open(\"newfile.txt\",\"r\")\n",
    "\n",
    "content1 = file.read()\n",
    "print(\"Content 1\")\n",
    "print(content1)\n",
    "\n",
    "file.seek(15)\n",
    "\n",
    "content2 = file.read()\n",
    "print(\"Content 2\")\n",
    "print(content2)\n",
    "file.close()"
   ]
  },
  {
   "cell_type": "code",
   "execution_count": 44,
   "metadata": {},
   "outputs": [
    {
     "name": "stdout",
     "output_type": "stream",
     "text": [
      "Content 1\n",
      "Mahmu\n"
     ]
    }
   ],
   "source": [
    "file = open(\"newfile.txt\",\"r\")\n",
    "\n",
    "content1 = file.read(5)\n",
    "print(\"Content 1\")\n",
    "print(content1)\n",
    "file.close()"
   ]
  },
  {
   "cell_type": "code",
   "execution_count": 46,
   "metadata": {},
   "outputs": [
    {
     "name": "stdout",
     "output_type": "stream",
     "text": [
      "Content 1\n",
      "Mahmu\n",
      "Content 2\n",
      "d A\n",
      "Content 3\n",
      "paydin\n"
     ]
    }
   ],
   "source": [
    "file = open(\"newfile.txt\",\"r\")\n",
    "\n",
    "content1 = file.read(5)   # reads up to byte 5\n",
    "print(\"Content 1\")\n",
    "print(content1)\n",
    "content2 = file.read(3)   # reads up to 3 bytes after the first read\n",
    "print(\"Content 2\")\n",
    "print(content2)\n",
    "content3 = file.read(6)   # reads up to 6 bytes after the previous read\n",
    "print(\"Content 3\")\n",
    "print(content3)\n",
    "file.close()"
   ]
  },
  {
   "attachments": {},
   "cell_type": "markdown",
   "metadata": {},
   "source": [
    "## readline() method"
   ]
  },
  {
   "attachments": {},
   "cell_type": "markdown",
   "metadata": {},
   "source": [
    "used to read line by line specified"
   ]
  },
  {
   "cell_type": "code",
   "execution_count": 53,
   "metadata": {},
   "outputs": [
    {
     "name": "stdout",
     "output_type": "stream",
     "text": [
      "Mahmud Apaydin\n",
      "Faruk Apaydin\n",
      "\n",
      "\n"
     ]
    }
   ],
   "source": [
    "file = open(\"newfile.txt\",\"r\")\n",
    "\n",
    "print(file.readline(), end = \"\")  # Reads the first line\n",
    "print(file.readline(), end = \"\")    # Reads the second line\n",
    "print(file.readline())  # Reads the next line but there is no content\n",
    "print(file.readline())  # same with this one\n",
    "file.close()"
   ]
  },
  {
   "attachments": {},
   "cell_type": "markdown",
   "metadata": {},
   "source": [
    "## readlines() method"
   ]
  },
  {
   "attachments": {},
   "cell_type": "markdown",
   "metadata": {},
   "source": [
    "creates a list out of all contents line by line"
   ]
  },
  {
   "cell_type": "code",
   "execution_count": 56,
   "metadata": {},
   "outputs": [
    {
     "name": "stdout",
     "output_type": "stream",
     "text": [
      "['Mahmud Apaydin\\n', 'Faruk Apaydin\\n']\n"
     ]
    },
    {
     "data": {
      "text/plain": [
       "<function TextIOWrapper.close()>"
      ]
     },
     "execution_count": 56,
     "metadata": {},
     "output_type": "execute_result"
    }
   ],
   "source": [
    "file = open(\"newfile.txt\",\"r\")\n",
    "\n",
    "print(file.readlines())\n",
    "\n",
    "file.close"
   ]
  },
  {
   "attachments": {},
   "cell_type": "markdown",
   "metadata": {},
   "source": [
    "see now we got a print of a list which we could possibly use for analysis"
   ]
  },
  {
   "cell_type": "code",
   "execution_count": 63,
   "metadata": {},
   "outputs": [
    {
     "data": {
      "text/plain": [
       "['Mahmud Apaydin\\n', 'Faruk Apaydin\\n']"
      ]
     },
     "execution_count": 63,
     "metadata": {},
     "output_type": "execute_result"
    }
   ],
   "source": [
    "file = open(\"newfile.txt\",\"r\")\n",
    "\n",
    "list_1 = (file.readlines())\n",
    "\n",
    "file.close()\n",
    "list_1\n"
   ]
  },
  {
   "cell_type": "code",
   "execution_count": 64,
   "metadata": {},
   "outputs": [
    {
     "name": "stdout",
     "output_type": "stream",
     "text": [
      "Mahmud Apaydin\n",
      "\n"
     ]
    }
   ],
   "source": [
    "file = open(\"newfile.txt\",\"r\")\n",
    "\n",
    "list_1 = (file.readlines())\n",
    "file.close()\n",
    "print(*list_1[:-1])"
   ]
  },
  {
   "cell_type": "code",
   "execution_count": 66,
   "metadata": {},
   "outputs": [],
   "source": [
    "file = open(\"neww.txt\", \"w\", encoding = \"utf-8\")\n",
    "\n",
    "file.write(\"\"\"\n",
    "Unutuldun bende çoktan\n",
    "Kalan acısı da kalpte aksesuar\n",
    "Sevebilirdim gerçek olsan\n",
    "Hep fake, hep filtreli pozlar\n",
    "Senle eskiyi konuşmanın\n",
    "Faydası yok bu ilişkiye\n",
    "Gelgit aklına alışmadım\n",
    "Doydu kalp kötü tecrübeye\n",
    "Tozdan, kirden kara kalbin\n",
    "Ayna olsan yine bakmam sana\n",
    "Değmem, değmem nazar olsam\n",
    "Nazar olsam bile değmem sana\n",
    "Tozdan, kirden kara kalbin\n",
    "Ayna olsan yine bakmam sana\n",
    "Değmem, değmem nazar olsam\n",
    "Nazar olsam bile değmem sana\n",
    "\"\"\")\n",
    "\n",
    "file.close()"
   ]
  },
  {
   "cell_type": "code",
   "execution_count": 67,
   "metadata": {},
   "outputs": [
    {
     "name": "stdout",
     "output_type": "stream",
     "text": [
      "\n",
      "Unutuldun bende çoktan\n",
      "Kalan acısı da kalpte aksesuar\n",
      "Sevebilirdim gerçek olsan\n",
      "Hep fake, hep filtreli pozlar\n",
      "Senle eskiyi konuşmanın\n",
      "Faydası yok bu ilişkiye\n",
      "Gelgit aklına alışmadım\n",
      "Doydu kalp kötü tecrübeye\n",
      "Tozdan, kirden kara kalbin\n",
      "Ayna olsan yine bakmam sana\n",
      "Değmem, değmem nazar olsam\n",
      "Nazar olsam bile değmem sana\n",
      "Tozdan, kirden kara kalbin\n",
      "Ayna olsan yine bakmam sana\n",
      "Değmem, değmem nazar olsam\n",
      "Nazar olsam bile değmem sana\n",
      "\n"
     ]
    }
   ],
   "source": [
    "file = open(\"neww.txt\", \"r\", encoding = \"utf-8\")\n",
    "\n",
    "content = file.read()\n",
    "\n",
    "print(content)\n",
    "file.close()\n"
   ]
  },
  {
   "cell_type": "code",
   "execution_count": 71,
   "metadata": {},
   "outputs": [
    {
     "name": "stdout",
     "output_type": "stream",
     "text": [
      "\n",
      "Unutuldun bende çoktan\n",
      "Kalan acısı da kalpte aksesuar\n",
      "Sevebilirdim gerçek olsan\n",
      "Hep fake, hep filtr\n",
      "0\n",
      "\n",
      "Unutuldun bende çoktan\n",
      "Kalan acısı da kalpte aksesuar\n",
      "Sevebilirdim gerçek olsan\n",
      "Hep fake, hep filtreli pozlar\n",
      "Senle eskiyi konuşmanın\n",
      "Faydası yok bu ilişkiye\n",
      "Gelgit aklına alışmadım\n",
      "Doydu kalp kötü t\n",
      "214\n"
     ]
    }
   ],
   "source": [
    "## we dont always have to file.close() our files, we can also do this\n",
    "# when we use with open, it closes automatically\n",
    "with open(\"neww.txt\", \"r\", encoding = \"utf-8\") as file:\n",
    "    content = file.read(100)\n",
    "    print(content)\n",
    "    file.seek(0)\n",
    "    print(file.tell())\n",
    "    content2 = file.read(200)\n",
    "    print(content2)\n",
    "    print(file.tell())"
   ]
  },
  {
   "cell_type": "code",
   "execution_count": 75,
   "metadata": {},
   "outputs": [],
   "source": [
    "with open(\"newnew.txt\", \"w\", encoding = \"utf-8\") as file:\n",
    "    file.write(\"\"\"\n",
    "Geçip gider hayat kendi yolunda\n",
    "Umut veda eder aşk yokluğunda\n",
    "Oysa kaybetmek çok kolay yalanlar içinde\n",
    "Seven bi' kalp korunmalı bulduğunda\n",
    "Vefan yokmuş be sevgilim\n",
    "İçinde aşk yananlara\n",
    "Yolundan dönme, aldırma dumanlara\n",
    "Sefa olmaz be sevgilim\n",
    "Yürekten ah alanlara\n",
    "İhanetin bana değil, dualara\n",
    "Geçip gider hayat kendi yolunda\n",
    "Umut veda eder aşk yokluğunda\n",
    "Oysa kaybetmek çok kolay yalanlar içinde\n",
    "Seven bi' kalp korunmalı bulduğunda\n",
    "Vefan yokmuş be sevgilim\n",
    "İçinde aşk yananlara\n",
    "Yolundan dönme, aldırma dumanlara\n",
    "Sefa olmaz be sevgilim\n",
    "Yürekten ah alanlara\n",
    "İhanetin bana değil, dualara\n",
    "Vefan yokmuş be sevgilim\n",
    "İçinde aşk yananlara\n",
    "Yolundan dönme, aldırma dumanlara\n",
    "Sefa olmaz be sevgilim\n",
    "Yürekten ah alanlara\n",
    "İhanetin bana değil, dualara\n",
    "\n",
    "    \"\"\")"
   ]
  },
  {
   "attachments": {},
   "cell_type": "markdown",
   "metadata": {},
   "source": [
    "Updating the page "
   ]
  },
  {
   "cell_type": "code",
   "execution_count": 79,
   "metadata": {},
   "outputs": [
    {
     "name": "stdout",
     "output_type": "stream",
     "text": [
      "Kacip gider hayat kendi yolunda\n",
      "Umut veda eder aşk yokluğunda\n",
      "Oysa kaybetmek çok kolay yalanlar içinde\n",
      "Seven bi' kalp korunmalı bulduğunda\n",
      "Vefan yokmuş be sevgilim\n",
      "İçinde aşk yananlara\n",
      "Yolundan dönme, aldırma dumanlara\n",
      "Sefa olmaz be sevgilim\n",
      "Yürekten ah alanlara\n",
      "İhanetin bana değil, dualara\n",
      "Geçip gider hayat kendi yolunda\n",
      "Umut veda eder aşk yokluğunda\n",
      "Oysa kaybetmek çok kolay yalanlar içinde\n",
      "Seven bi' kalp korunmalı bulduğunda\n",
      "Vefan yokmuş be sevgilim\n",
      "İçinde aşk yananlara\n",
      "Yolundan dönme, aldırma dumanlara\n",
      "Sefa olmaz be sevgilim\n",
      "Yürekten ah alanlara\n",
      "İhanetin bana değil, dualara\n",
      "Vefan yokmuş be sevgilim\n",
      "İçinde aşk yananlara\n",
      "Yolundan dönme, aldırma dumanlara\n",
      "Sefa olmaz be sevgilim\n",
      "Yürekten ah alanlara\n",
      "İhanetin bana değil, dualara\n",
      "\n",
      "Kacip gider hayat kendi yolunda\n",
      "Umut veda eder aşk yokluğunda\n",
      "Oysa kaybetmek çok kolay yalanlar içinde\n",
      "Seven bi' kalp korunmalı bulduğunda\n",
      "Vefan yokmuş be sevgilim\n",
      "İçinde aşk yananlara\n",
      "Yolundan dönme, aldırma dumanlara\n",
      "Sefa olmaz be sevgilim\n",
      "Yürekten ah alanlara\n",
      "İhanetin bana değil, dualara\n",
      "Geçip gider hayat kendi yolunda\n",
      "Umut veda eder aşk yokluğunda\n",
      "Oysa kaybetmek çok kolay yalanlar içinde\n",
      "Seven bi' kalp korunmalı bulduğunda\n",
      "Vefan yokmuş be sevgilim\n",
      "İçinde aşk yananlara\n",
      "Yolundan dönme, aldırma dumanlara\n",
      "Sefa olmaz be sevgilim\n",
      "Yürekten ah alanlara\n",
      "İhanetin bana değil, dualara\n",
      "Vefan yokmuş be sevgilim\n",
      "İçinde aşk yananlara\n",
      "Yolundan dönme, aldırma dumanlara\n",
      "Sefa olmaz be sevgilim\n",
      "Yürekten ah alanlara\n",
      "İhanetin bana değil, dualara\n",
      "deneme\n",
      "783\n"
     ]
    }
   ],
   "source": [
    "# if you open and write and close it will add it with \"r+\" mode which is read and write\n",
    "# then you have to open and print read again to see it\n",
    "\n",
    "with open(\"newnew.txt\", \"r+\", encoding = \"utf-8\") as file:\n",
    "    print(file.read())\n",
    "    file.write(\"deneme\")\n",
    "\n",
    "with open(\"newnew.txt\", \"r\", encoding= \"utf-8\") as file:\n",
    "    print(file.read())\n",
    "    print(file.tell())"
   ]
  },
  {
   "cell_type": "code",
   "execution_count": 82,
   "metadata": {},
   "outputs": [
    {
     "name": "stdout",
     "output_type": "stream",
     "text": [
      "Kacip gidedenemet kendi yolunda\n",
      "Umut veda eder aşk yokluğunda\n",
      "Oysa kaybetmek çok kolay yalanlar içinde\n",
      "Seven bi' kalp korunmalı bulduğunda\n",
      "Vefan yokmuş be sevgilim\n",
      "İçinde aşk yananlara\n",
      "Yolundan dönme, aldırma dumanlara\n",
      "Sefa olmaz be sevgilim\n",
      "Yürekten ah alanlara\n",
      "İhanetin bana değil, ddeneme\n",
      "Geçip gider hayat kendi yolunda\n",
      "Umut veda eder aşk yokluğunda\n",
      "Oysa kaybetmek çok kolay yalanlar içinde\n",
      "Seven bi' kalp korunmalı bulduğunda\n",
      "Vefan yokmuş be sevgilim\n",
      "İçinde aşk yananlara\n",
      "Yolundan dönme, aldırma dumanlara\n",
      "Sefa olmaz be sevgilim\n",
      "Yürekten ah alanlara\n",
      "İhanetin bana değil, dualara\n",
      "Vefan yokmuş be sevgilim\n",
      "İçinde aşk yananlara\n",
      "Yolundan dönme, aldırma dumanlara\n",
      "Sefa olmaz be sevgilim\n",
      "Yürekten ah alanlara\n",
      "İhanetin bana değil, dualara\n",
      "deneme\n",
      "783\n"
     ]
    }
   ],
   "source": [
    "## you can use file.seek(x) to specify excatly where you want to see the cursor for the function to write and add soemthing\n",
    "\n",
    "\n",
    "with open(\"newnew.txt\", \"r+\", encoding = \"utf-8\") as file:\n",
    "    file.seek(10)\n",
    "    file.write(\"deneme\")\n",
    "\n",
    "with open(\"newnew.txt\", \"r\", encoding= \"utf-8\") as file:\n",
    "    print(file.read())\n",
    "    print(file.tell())"
   ]
  },
  {
   "attachments": {},
   "cell_type": "markdown",
   "metadata": {},
   "source": [
    "This is how to add something to the middle of the file"
   ]
  },
  {
   "cell_type": "code",
   "execution_count": 85,
   "metadata": {},
   "outputs": [
    {
     "name": "stdout",
     "output_type": "stream",
     "text": [
      "Kacip gidedenemet kendi yolunda\n",
      "Umut veda eder aşk yokluğunda\n",
      "Oysa kaybetmek çok kolay yalanlar içinde\n",
      "Seven bi' kalp korunmalı bulduğunda\n",
      "Vefan yokmuş be sevgilim\n",
      "İçinde aşk yananlara\n",
      "Yolundan dönme, aldırma dumanlara\n",
      "Sefa olmaz be sevgilim\n",
      "Yürekten ah alanlara\n",
      "İhanetin bana değil, ddeneme\n",
      "Geçip gider hayat kendi yolunda\n",
      "Umut veda eder aşk yokluğunda\n",
      "Oysa kaybetmek çok kolay yalanlar içinde\n",
      "\n",
      " I have added something in the middle\n",
      "\n",
      "\n",
      " I have added something in the middle\n",
      "Seven bi' kalp korunmalı bulduğunda\n",
      "Vefan yokmuş be sevgilim\n",
      "İçinde aşk yananlara\n",
      "Yolundan dönme, aldırma dumanlara\n",
      "Sefa olmaz be sevgilim\n",
      "Yürekten ah alanlara\n",
      "İhanetin bana değil, dualara\n",
      "Vefan yokmuş be sevgilim\n",
      "İçinde aşk yananlara\n",
      "Yolundan dönme, aldırma dumanlara\n",
      "Sefa olmaz be sevgilim\n",
      "Yürekten ah alanlara\n",
      "İhanetin bana değil, dualara\n",
      "deneme\n"
     ]
    }
   ],
   "source": [
    "with open(\"newnew.txt\", \"r+\", encoding = \"utf-8\") as file:\n",
    "    list1 = file.readlines()\n",
    "    ## print(len(list1))\n",
    "    list1.insert(13, \"\\n I have added something in the middle\\n\\n\")\n",
    "    file.seek(0)\n",
    "    for i in list1:\n",
    "        file.write(i)\n",
    "\n",
    "with open(\"newnew.txt\", \"r+\", encoding = \"utf-8\") as file:\n",
    "    print(file.read())"
   ]
  },
  {
   "cell_type": "code",
   "execution_count": 86,
   "metadata": {},
   "outputs": [
    {
     "name": "stdout",
     "output_type": "stream",
     "text": [
      "Kacip gidedenemet kendi yolunda\n",
      "Umut veda eder aşk yokluğunda\n",
      "Oysa kaybetmek çok kolay yalanlar içinde\n",
      "Seven bi' kalp korunmalı bulduğunda\n",
      "Vefan yokmuş be sevgilim\n",
      "İçinde aşk yananlara\n",
      "Yolundan dönme, aldırma dumanlara\n",
      "Sefa olmaz be sevgilim\n",
      "Yürekten ah alanlara\n",
      "İhanetin bana değil, ddeneme\n",
      "Geçip gider hayat kendi yolunda\n",
      "Umut veda eder aşk yokluğunda\n",
      "Oysa kaybetmek çok kolay yalanlar içinde\n",
      "\n",
      " I have added something in the middle\n",
      "\n",
      "\n",
      " I have added something in the middle\n",
      "Seven bi' kalp korunmalı bulduğunda\n",
      "Vefan yokmuş be sevgilim\n",
      "\n",
      "Mahmud\n",
      "\n",
      "İçinde aşk yananlara\n",
      "Yolundan dönme, aldırma dumanlara\n",
      "Sefa olmaz be sevgilim\n",
      "Yürekten ah alanlara\n",
      "İhanetin bana değil, dualara\n",
      "Vefan yokmuş be sevgilim\n",
      "İçinde aşk yananlara\n",
      "Yolundan dönme, aldırma dumanlara\n",
      "Sefa olmaz be sevgilim\n",
      "Yürekten ah alanlara\n",
      "İhanetin bana değil, dualara\n",
      "deneme\n"
     ]
    }
   ],
   "source": [
    "with open(\"newnew.txt\", \"r+\", encoding = \"utf-8\") as file:\n",
    "    list1 = file.readlines()\n",
    "    list1.insert(20, \"\\nMahmud\\n\\n\")\n",
    "    file.seek(0)\n",
    "    file.writelines(list1)\n",
    "\n",
    "with open(\"newnew.txt\", \"r+\", encoding = \"utf-8\") as file:\n",
    "    print(file.read())"
   ]
  },
  {
   "attachments": {},
   "cell_type": "markdown",
   "metadata": {},
   "source": [
    "### Recap on File Management"
   ]
  },
  {
   "cell_type": "code",
   "execution_count": 2,
   "metadata": {},
   "outputs": [
    {
     "name": "stdout",
     "output_type": "stream",
     "text": [
      "<_io.TextIOWrapper name='yeni_dosya.txt' mode='w' encoding='utf-8'>\n"
     ]
    }
   ],
   "source": [
    "dosya = open(\"yeni_dosya.txt\", \"w\")\n",
    "print(dosya)\n"
   ]
  },
  {
   "cell_type": "code",
   "execution_count": 5,
   "metadata": {},
   "outputs": [],
   "source": [
    "dosya = open(\"yeni_dosya.txt\", \"w\")\n",
    "\n",
    "dosya.write(\"This files new content\")\n",
    "dosya.close()"
   ]
  },
  {
   "cell_type": "code",
   "execution_count": 6,
   "metadata": {},
   "outputs": [],
   "source": [
    "file = open(\"yeni_dosya.txt\", \"a\")\n",
    "\n",
    "file.write(\"\\nLets start a new line\")\n",
    "file.close()"
   ]
  },
  {
   "cell_type": "code",
   "execution_count": 7,
   "metadata": {},
   "outputs": [
    {
     "name": "stdout",
     "output_type": "stream",
     "text": [
      "This files new content\n",
      "Lets start a new line\n"
     ]
    }
   ],
   "source": [
    "file = open(\"yeni_dosya.txt\", \"r\")\n",
    "result = file.read()\n",
    "print(result)"
   ]
  },
  {
   "cell_type": "code",
   "execution_count": 9,
   "metadata": {},
   "outputs": [
    {
     "name": "stdout",
     "output_type": "stream",
     "text": [
      "This files new content\n",
      "Lets start a new line\n",
      "After reading, write this line\n",
      "After reading, write this line\n"
     ]
    }
   ],
   "source": [
    "file = open(\"yeni_dosya.txt\", \"r+\")\n",
    "result = file.read()\n",
    "\n",
    "file.write(\"\\nAfter reading, write this line\")\n",
    "file.close()\n",
    "\n",
    "file = open(\"yeni_dosya.txt\", \"r\")\n",
    "sonuc = file.read()\n",
    "file.close()\n",
    "\n",
    "print(sonuc)\n"
   ]
  },
  {
   "cell_type": "code",
   "execution_count": 10,
   "metadata": {},
   "outputs": [
    {
     "name": "stdout",
     "output_type": "stream",
     "text": [
      "This files new content\n",
      "Lets start a new line\n",
      "After reading, write this line\n",
      "After reading, write this line\n",
      "This files new content\n",
      "Lets start a new line\n",
      "After reading, write this line\n",
      "After reading, write this line\n",
      "This is our last example\n"
     ]
    }
   ],
   "source": [
    "### with open will open and then close the file to save changes instead of having to write file.close() at the end\n",
    "\n",
    "with open(\"yeni_dosya.txt\", \"r+\") as file:\n",
    "    content = file.read()\n",
    "    print(content)\n",
    "    file.write(\"\\nThis is our last example\")\n",
    "\n",
    "with open(\"yeni_dosya.txt\", \"r\") as file:\n",
    "    content = file.read()\n",
    "    print(content)"
   ]
  },
  {
   "cell_type": "code",
   "execution_count": 12,
   "metadata": {},
   "outputs": [
    {
     "name": "stdout",
     "output_type": "stream",
     "text": [
      "tart a new line\n",
      "After reading, write this line\n",
      "After reading, write this line\n",
      "This is our last example\n",
      "0\n",
      "last line\n",
      " in the first line\n",
      "tart a new line\n",
      "After reading, write this line\n",
      "After reading, write this line\n",
      "This is our last example\n"
     ]
    }
   ],
   "source": [
    "with open(\"yeni_dosya.txt\", \"r+\") as file:\n",
    "    file.write(\"lets write in the first line\\n\")\n",
    "    content = file.read()\n",
    "    print(content)\n",
    "    file.seek(0)\n",
    "    print(file.tell())\n",
    "    file.write(\"last line\\n\")\n",
    "\n",
    "with open(\"yeni_dosya.txt\", \"r\") as file:\n",
    "    content = file.read()\n",
    "    print(content)\n",
    "\n",
    "\n"
   ]
  },
  {
   "cell_type": "code",
   "execution_count": 13,
   "metadata": {},
   "outputs": [],
   "source": [
    "from pprint import pprint"
   ]
  },
  {
   "cell_type": "code",
   "execution_count": 15,
   "metadata": {},
   "outputs": [
    {
     "name": "stdout",
     "output_type": "stream",
     "text": [
      "('last line\\n'\n",
      " ' in the first line\\n'\n",
      " 'tart a new line\\n'\n",
      " 'After reading, write this line\\n'\n",
      " 'After reading, write this line\\n'\n",
      " 'This is our last example')\n"
     ]
    }
   ],
   "source": [
    "pprint(content)"
   ]
  },
  {
   "cell_type": "code",
   "execution_count": 16,
   "metadata": {},
   "outputs": [],
   "source": [
    "with open(\"yeni_dosya.txt\", \"r+\") as file:\n",
    "    content = file.readlines()"
   ]
  },
  {
   "cell_type": "code",
   "execution_count": 20,
   "metadata": {},
   "outputs": [
    {
     "name": "stdout",
     "output_type": "stream",
     "text": [
      "['Lets go\\n',\n",
      " 'bam bam bam\\n',\n",
      " 'mahmud\\n',\n",
      " 'talha\\n',\n",
      " 'ayoo lets goo\\n',\n",
      " 'this will be our 6th line\\n',\n",
      " 'I just added this rn by the way',\n",
      " 'woohooo lets do this\\n',\n",
      " 'im doing python fr\\n',\n",
      " 'sniper money sniper fr\\n',\n",
      " 'okay whats next\\n',\n",
      " 'lets make a long line\\n',\n",
      " 'today i feel great\\n']\n"
     ]
    }
   ],
   "source": [
    "pprint(content)"
   ]
  },
  {
   "cell_type": "code",
   "execution_count": 18,
   "metadata": {},
   "outputs": [
    {
     "data": {
      "text/plain": [
       "12"
      ]
     },
     "execution_count": 18,
     "metadata": {},
     "output_type": "execute_result"
    }
   ],
   "source": [
    "len(content)"
   ]
  },
  {
   "cell_type": "code",
   "execution_count": 23,
   "metadata": {},
   "outputs": [
    {
     "name": "stdout",
     "output_type": "stream",
     "text": [
      "['Lets go\\n',\n",
      " 'bam bam bam\\n',\n",
      " 'mahmud\\n',\n",
      " 'talha\\n',\n",
      " 'ayoo lets goo\\n',\n",
      " 'this will be our 6th line\\n',\n",
      " 'I just added this rn by the way\\n',\n",
      " 'I just added this rn by the way\\n',\n",
      " 'I just added this rn by the way',\n",
      " 'woohooo lets do this\\n',\n",
      " 'im doing python fr\\n',\n",
      " 'sniper money sniper fr\\n',\n",
      " 'okay whats next\\n',\n",
      " 'lets make a long line\\n',\n",
      " 'today i feel great\\n']\n"
     ]
    }
   ],
   "source": [
    "content.insert(6, \"I just added this rn by the way\\n\")\n",
    "\n",
    "pprint(content)"
   ]
  },
  {
   "cell_type": "code",
   "execution_count": 25,
   "metadata": {},
   "outputs": [
    {
     "name": "stdout",
     "output_type": "stream",
     "text": [
      "Lets go\n",
      "bam bam bam\n",
      "mahmud\n",
      "talha\n",
      "ayoo lets goo\n",
      "this will be our 6th line\n",
      "I just added this rn by the way\n",
      "I just added this rn by the way\n",
      "I just added this rn by the waywoohooo lets do this\n",
      "im doing python fr\n",
      "sniper money sniper fr\n",
      "okay whats next\n",
      "lets make a long line\n",
      "today i feel great\n",
      "\n"
     ]
    }
   ],
   "source": [
    "with open(\"yeni_dosya.txt\", \"r+\") as file:\n",
    "    file.writelines(content)\n",
    "\n",
    "with open(\"yeni_dosya.txt\", \"r\") as file:\n",
    "    result = file.read()\n",
    "    print(result)\n"
   ]
  },
  {
   "cell_type": "code",
   "execution_count": null,
   "metadata": {},
   "outputs": [],
   "source": [
    "while True:\n",
    "    islem = input(\"1- Notlari Oku\\n2- Not Gir\\n3- Notlari Kaydet\\n4- \")"
   ]
  }
 ],
 "metadata": {
  "kernelspec": {
   "display_name": "Python 3",
   "language": "python",
   "name": "python3"
  },
  "language_info": {
   "codemirror_mode": {
    "name": "ipython",
    "version": 3
   },
   "file_extension": ".py",
   "mimetype": "text/x-python",
   "name": "python",
   "nbconvert_exporter": "python",
   "pygments_lexer": "ipython3",
   "version": "3.11.4"
  },
  "orig_nbformat": 4
 },
 "nbformat": 4,
 "nbformat_minor": 2
}
