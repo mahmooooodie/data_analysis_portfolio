{
 "cells": [
  {
   "attachments": {},
   "cell_type": "markdown",
   "metadata": {},
   "source": [
    "### While and For Loops"
   ]
  },
  {
   "cell_type": "code",
   "execution_count": 6,
   "metadata": {},
   "outputs": [
    {
     "name": "stdout",
     "output_type": "stream",
     "text": [
      "2 x 1  = 2\n",
      "2 x 2  = 4\n",
      "2 x 3  = 6\n",
      "2 x 4  = 8\n",
      "2 x 5  = 10\n",
      "2 x 6  = 12\n",
      "2 x 7  = 14\n",
      "2 x 8  = 16\n",
      "2 x 9  = 18\n",
      "2 x 10 = 20\n"
     ]
    }
   ],
   "source": [
    "number = int(input(\"please enter a number from 1-9\"))\n",
    "if 1 <= number <= 9:\n",
    "    for i in range(1,11):\n",
    "        print(f\"{number} x {i:<2} = {number * i}\")\n",
    "else:\n",
    "    print(\"Please enter a valid number\")"
   ]
  },
  {
   "cell_type": "code",
   "execution_count": 1,
   "metadata": {},
   "outputs": [
    {
     "name": "stdout",
     "output_type": "stream",
     "text": [
      "8 x 1  = 8\n",
      "8 x 2  = 16\n",
      "8 x 3  = 24\n",
      "8 x 4  = 32\n",
      "8 x 5  = 40\n",
      "8 x 6  = 48\n",
      "8 x 7  = 56\n",
      "8 x 8  = 64\n",
      "8 x 9  = 72\n",
      "8 x 10 = 80\n"
     ]
    }
   ],
   "source": [
    "# when you create a while loop as a base, it will keep looping if you dont enter a number between 1-9\n",
    "\n",
    "while True:\n",
    "    number = int(input(\"please enter a number from 1-9\"))\n",
    "    if 1 <= number <= 9:\n",
    "        for i in range(1,11):\n",
    "            print(f\"{number} x {i:<2} = {number * i}\")\n",
    "        break\n",
    "    else:\n",
    "        print(\"Please enter a valid number\")"
   ]
  },
  {
   "attachments": {},
   "cell_type": "markdown",
   "metadata": {},
   "source": [
    "write a code that adds all the numbers from 1 + 50"
   ]
  },
  {
   "cell_type": "code",
   "execution_count": 20,
   "metadata": {},
   "outputs": [
    {
     "name": "stdout",
     "output_type": "stream",
     "text": [
      "1275\n"
     ]
    }
   ],
   "source": [
    "sum_ = 0\n",
    "\n",
    "for i in range(1,51):\n",
    "    sum_ += i\n",
    "print(sum_)"
   ]
  },
  {
   "cell_type": "code",
   "execution_count": 22,
   "metadata": {},
   "outputs": [
    {
     "name": "stdout",
     "output_type": "stream",
     "text": [
      "1275\n"
     ]
    }
   ],
   "source": [
    "# we can also get the same solution using while loops\n",
    "\n",
    "x = 1\n",
    "sum_2 = 0\n",
    "\n",
    "while x <= 50:\n",
    "    sum_2 += x\n",
    "    x += 1\n",
    "print(sum_2)"
   ]
  },
  {
   "attachments": {},
   "cell_type": "markdown",
   "metadata": {},
   "source": [
    "### sum()"
   ]
  },
  {
   "attachments": {},
   "cell_type": "markdown",
   "metadata": {},
   "source": [
    "you can use the sum function to find the sum of all iterable items in a list"
   ]
  },
  {
   "cell_type": "code",
   "execution_count": 24,
   "metadata": {},
   "outputs": [
    {
     "data": {
      "text/plain": [
       "1275"
      ]
     },
     "execution_count": 24,
     "metadata": {},
     "output_type": "execute_result"
    }
   ],
   "source": [
    "sum(range(1,51))"
   ]
  },
  {
   "cell_type": "code",
   "execution_count": 25,
   "metadata": {},
   "outputs": [
    {
     "data": {
      "text/plain": [
       "15"
      ]
     },
     "execution_count": 25,
     "metadata": {},
     "output_type": "execute_result"
    }
   ],
   "source": [
    "sum((1,2,3,4,5))"
   ]
  },
  {
   "cell_type": "code",
   "execution_count": 26,
   "metadata": {},
   "outputs": [
    {
     "name": "stdout",
     "output_type": "stream",
     "text": [
      "650\n"
     ]
    }
   ],
   "source": [
    "# this code adds only the even numbers in range\n",
    "\n",
    "sum_3 = 0\n",
    "\n",
    "for i in range(1,51):\n",
    "    if i % 2 == 0:\n",
    "        sum_3 += i\n",
    "print(sum_3)"
   ]
  },
  {
   "attachments": {},
   "cell_type": "markdown",
   "metadata": {},
   "source": [
    "same code could be made with sum() function"
   ]
  },
  {
   "cell_type": "code",
   "execution_count": 28,
   "metadata": {},
   "outputs": [
    {
     "data": {
      "text/plain": [
       "650"
      ]
     },
     "execution_count": 28,
     "metadata": {},
     "output_type": "execute_result"
    }
   ],
   "source": [
    "# we added a step 2 and started from 0 because if we started from 1 it would take 1,3,5,7,9....,49\n",
    "\n",
    "sum(range(0,51,2))"
   ]
  },
  {
   "cell_type": "code",
   "execution_count": 29,
   "metadata": {},
   "outputs": [
    {
     "data": {
      "text/plain": [
       "625"
      ]
     },
     "execution_count": 29,
     "metadata": {},
     "output_type": "execute_result"
    }
   ],
   "source": [
    "# now lets find the sum of all odd numbers between 1-50\n",
    "\n",
    "sum(range(1,51,2))"
   ]
  },
  {
   "attachments": {},
   "cell_type": "markdown",
   "metadata": {},
   "source": [
    "## break, continue"
   ]
  },
  {
   "cell_type": "code",
   "execution_count": 30,
   "metadata": {},
   "outputs": [
    {
     "name": "stdout",
     "output_type": "stream",
     "text": [
      "number i: 1\n",
      "number i: 2\n",
      "number i: 3\n",
      "9\n"
     ]
    }
   ],
   "source": [
    "for i in [1,2,3,4,5,6,7,8,9]:\n",
    "    print(f\"number i: {i}\")\n",
    "\n",
    "    if i % 3 == 0:\n",
    "        print(i ** 2)\n",
    "        break\n",
    "    "
   ]
  },
  {
   "attachments": {},
   "cell_type": "markdown",
   "metadata": {},
   "source": [
    "continue allows the code to continue inside the loop if condition is true, this does not step to the next part of the loop."
   ]
  },
  {
   "cell_type": "code",
   "execution_count": 32,
   "metadata": {},
   "outputs": [
    {
     "name": "stdout",
     "output_type": "stream",
     "text": [
      "number i: 1\n",
      "1\n",
      "number i: 2\n",
      "4\n",
      "number i: 3\n",
      "number i: 4\n",
      "16\n",
      "number i: 5\n",
      "25\n",
      "number i: 6\n",
      "number i: 7\n",
      "49\n",
      "number i: 8\n",
      "64\n",
      "number i: 9\n"
     ]
    }
   ],
   "source": [
    "\n",
    "\n",
    "\n",
    "for i in [1,2,3,4,5,6,7,8,9]:\n",
    "    print(f\"number i: {i}\")\n",
    "\n",
    "    if i % 3 == 0:\n",
    "        continue\n",
    "    print(i ** 2)"
   ]
  },
  {
   "cell_type": "code",
   "execution_count": 38,
   "metadata": {},
   "outputs": [
    {
     "name": "stdout",
     "output_type": "stream",
     "text": [
      "40\n"
     ]
    }
   ],
   "source": [
    "sum_4 = 0\n",
    "x = 1\n",
    "for i in range(1,10):\n",
    "    if i % 5 == 0:\n",
    "        continue\n",
    "    sum_4 += i\n",
    "    \n",
    "print(sum_4)"
   ]
  },
  {
   "attachments": {},
   "cell_type": "markdown",
   "metadata": {},
   "source": [
    "Create a code that gives the user numbers to identify groceries. and adds to their shopping list"
   ]
  },
  {
   "cell_type": "code",
   "execution_count": 46,
   "metadata": {},
   "outputs": [
    {
     "name": "stdout",
     "output_type": "stream",
     "text": [
      "\n",
      "1 >>> Apple\n",
      "2 >>> Orange\n",
      "3 >>> Strawberry\n",
      "4 >>> Milk\n",
      "5 >>> Carrot\n",
      "6 >>> Pear\n",
      "Orange has been added to your basket\n",
      "Strawberry has been added to your basket\n",
      "Thank you for shopping with us\n",
      "The items you have bought are ['Orange', 'Strawberry']\n"
     ]
    }
   ],
   "source": [
    "products = {1: \"Apple\", 2: \"Orange\", 3: \"Strawberry\", 4: \"Milk\", 5:\"Carrot\", 6: \"Pear\"}\n",
    "basket = []\n",
    "print(\"\"\"\n",
    "1 >>> Apple\n",
    "2 >>> Orange\n",
    "3 >>> Strawberry\n",
    "4 >>> Milk\n",
    "5 >>> Carrot\n",
    "6 >>> Pear\"\"\")\n",
    "\n",
    "while True:\n",
    "\n",
    "    x = input(\"Please enter the code of the item you wish to add to your basket. When you are done, press 'q'\")\n",
    "    \n",
    "    if x != \"q\":\n",
    "        basket.append(products[int(x)])\n",
    "        print(f\"{products[int(x)]} has been added to your basket\")\n",
    "    elif x == \"q\":\n",
    "        print(\"Thank you for shopping with us\")\n",
    "        print(f\"The items you have bought are {basket}\")\n",
    "        break\n",
    "    "
   ]
  },
  {
   "cell_type": "code",
   "execution_count": null,
   "metadata": {},
   "outputs": [],
   "source": []
  }
 ],
 "metadata": {
  "kernelspec": {
   "display_name": "Python 3",
   "language": "python",
   "name": "python3"
  },
  "language_info": {
   "codemirror_mode": {
    "name": "ipython",
    "version": 3
   },
   "file_extension": ".py",
   "mimetype": "text/x-python",
   "name": "python",
   "nbconvert_exporter": "python",
   "pygments_lexer": "ipython3",
   "version": "3.11.4"
  },
  "orig_nbformat": 4
 },
 "nbformat": 4,
 "nbformat_minor": 2
}
