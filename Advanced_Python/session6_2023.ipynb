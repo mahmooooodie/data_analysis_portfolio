{
 "cells": [
  {
   "attachments": {},
   "cell_type": "markdown",
   "metadata": {},
   "source": [
    "### Positional and Keyword Arguments"
   ]
  },
  {
   "cell_type": "code",
   "execution_count": 2,
   "metadata": {},
   "outputs": [],
   "source": [
    "def my_name(first_name,last_name):\n",
    "    print(f\"my name is {first_name} {last_name}.\")"
   ]
  },
  {
   "cell_type": "code",
   "execution_count": 7,
   "metadata": {},
   "outputs": [
    {
     "name": "stdout",
     "output_type": "stream",
     "text": [
      "my name is mahmud apaydin.\n"
     ]
    }
   ],
   "source": [
    "# as you can see these are positional becase whatever you write as an argument \n",
    "# gets placed based on its position inside the same order\n",
    "\n",
    "my_name(\"mahmud\" ,\"apaydin\")"
   ]
  },
  {
   "cell_type": "code",
   "execution_count": 8,
   "metadata": {},
   "outputs": [
    {
     "name": "stdout",
     "output_type": "stream",
     "text": [
      "my name is apaydin mahmud.\n"
     ]
    }
   ],
   "source": [
    "# so the first entered will always go in firstname and the second entered will always go into lastname\n",
    "\n",
    "\n",
    "my_name(\"apaydin\",\"mahmud\")"
   ]
  },
  {
   "attachments": {},
   "cell_type": "markdown",
   "metadata": {},
   "source": [
    "However you can identify keyword arguments inside the function to place there positions based on the parameter"
   ]
  },
  {
   "cell_type": "code",
   "execution_count": 9,
   "metadata": {},
   "outputs": [
    {
     "name": "stdout",
     "output_type": "stream",
     "text": [
      "my name is Mahmud Apaydin.\n"
     ]
    }
   ],
   "source": [
    "my_name(last_name = \"Apaydin\", first_name = \"Mahmud\")"
   ]
  },
  {
   "cell_type": "code",
   "execution_count": 13,
   "metadata": {},
   "outputs": [],
   "source": [
    "# now we set default parameter for last name = apaydin\n",
    "# but you can change it as soon as you enter a second name\n",
    "\n",
    "def your_name(first_name,last_name = \"Apaydin\"):\n",
    "    print(f\"my name is {first_name} {last_name}.\")"
   ]
  },
  {
   "cell_type": "code",
   "execution_count": 11,
   "metadata": {},
   "outputs": [
    {
     "name": "stdout",
     "output_type": "stream",
     "text": [
      "my name is mahmud Apaydin.\n"
     ]
    }
   ],
   "source": [
    "your_name(\"mahmud\")"
   ]
  },
  {
   "cell_type": "code",
   "execution_count": 12,
   "metadata": {},
   "outputs": [
    {
     "name": "stdout",
     "output_type": "stream",
     "text": [
      "my name is hikmet erdogan.\n"
     ]
    }
   ],
   "source": [
    "your_name(\"hikmet\", \"erdogan\")"
   ]
  },
  {
   "cell_type": "code",
   "execution_count": 14,
   "metadata": {},
   "outputs": [],
   "source": [
    "# you have to define a key argument at the end of the parameter\n",
    "\n",
    "def my_name2(first_name,last_name, middle_name = \"Ahmedovich\"):\n",
    "    print(f\"my name is {first_name} {middle_name} {last_name}.\")"
   ]
  },
  {
   "cell_type": "code",
   "execution_count": 15,
   "metadata": {},
   "outputs": [
    {
     "name": "stdout",
     "output_type": "stream",
     "text": [
      "my name is mahmud Ahmedovich apaydin.\n"
     ]
    }
   ],
   "source": [
    "my_name2(\"mahmud\", \"apaydin\")"
   ]
  },
  {
   "cell_type": "code",
   "execution_count": 16,
   "metadata": {},
   "outputs": [
    {
     "name": "stdout",
     "output_type": "stream",
     "text": [
      "my name is mahmud talha apaydin.\n"
     ]
    }
   ],
   "source": [
    "my_name2(\"mahmud\",\"apaydin\",\"talha\")"
   ]
  },
  {
   "cell_type": "code",
   "execution_count": 19,
   "metadata": {},
   "outputs": [],
   "source": [
    "a = \"Adana\"\n",
    "b = \"I\"\n",
    "c = \"\\U00002764\""
   ]
  },
  {
   "cell_type": "code",
   "execution_count": 17,
   "metadata": {},
   "outputs": [
    {
     "data": {
      "text/plain": [
       "'❤'"
      ]
     },
     "execution_count": 17,
     "metadata": {},
     "output_type": "execute_result"
    }
   ],
   "source": [
    "\"\\U00002764\""
   ]
  },
  {
   "cell_type": "code",
   "execution_count": 20,
   "metadata": {},
   "outputs": [
    {
     "name": "stdout",
     "output_type": "stream",
     "text": [
      "I ❤ Adana\n"
     ]
    }
   ],
   "source": [
    "def lover(a,b,c):\n",
    "    print(f\"{b} {c} {a}\")\n",
    "\n",
    "lover(a,b,c)"
   ]
  },
  {
   "attachments": {},
   "cell_type": "markdown",
   "metadata": {},
   "source": [
    "Problem: write a code that only returns the odd numbers in a given function"
   ]
  },
  {
   "cell_type": "code",
   "execution_count": 31,
   "metadata": {},
   "outputs": [],
   "source": [
    "def odds(a,b,c,d,e):\n",
    "    \"\"\"this function returns only the odd numbers in a list of 5 numbers\"\"\"\n",
    "    odds_list = []\n",
    "    for i in a,b,c,d,e:\n",
    "        if i % 2:\n",
    "            odds_list.append(i)\n",
    "    return odds_list"
   ]
  },
  {
   "attachments": {},
   "cell_type": "markdown",
   "metadata": {},
   "source": [
    "Since we have defined 5 parameters, we need to include 5 key arguments while using this function"
   ]
  },
  {
   "cell_type": "code",
   "execution_count": 34,
   "metadata": {},
   "outputs": [
    {
     "data": {
      "text/plain": [
       "[3, 7, 5]"
      ]
     },
     "execution_count": 34,
     "metadata": {},
     "output_type": "execute_result"
    }
   ],
   "source": [
    "odds(3,4,7,5,6)"
   ]
  },
  {
   "cell_type": "code",
   "execution_count": 37,
   "metadata": {},
   "outputs": [],
   "source": [
    "def odds(a,b,c,d,e):\n",
    "    \"\"\"this function returns only the odd numbers in a list of 5 numbers\"\"\"\n",
    "\n",
    "    return [i for i in (a,b,c,d,e) if i % 2]\n",
    "    \n",
    "    "
   ]
  },
  {
   "cell_type": "code",
   "execution_count": 38,
   "metadata": {},
   "outputs": [
    {
     "data": {
      "text/plain": [
       "[3, 5, 1]"
      ]
     },
     "execution_count": 38,
     "metadata": {},
     "output_type": "execute_result"
    }
   ],
   "source": [
    "odds(4,3,5,6,1)"
   ]
  },
  {
   "attachments": {},
   "cell_type": "markdown",
   "metadata": {},
   "source": [
    "### Arbitrary Number of Arguments(*args, **kwargs)"
   ]
  },
  {
   "cell_type": "code",
   "execution_count": 39,
   "metadata": {},
   "outputs": [],
   "source": [
    "def odds2(* numbers):  ###\n",
    "    \"\"\"this function returns only the odd numbers in a list of 5 numbers\"\"\"\n",
    "    odds_list = []\n",
    "    for i in numbers: ###\n",
    "        if i % 2:\n",
    "            odds_list.append(i)\n",
    "    return odds_list"
   ]
  },
  {
   "attachments": {},
   "cell_type": "markdown",
   "metadata": {},
   "source": [
    "Changing the lines where the hashtags are, now we can input as many numbers as we want inside the function"
   ]
  },
  {
   "cell_type": "code",
   "execution_count": 40,
   "metadata": {},
   "outputs": [
    {
     "data": {
      "text/plain": [
       "[3, 5, 3, 7, 5, 9]"
      ]
     },
     "execution_count": 40,
     "metadata": {},
     "output_type": "execute_result"
    }
   ],
   "source": [
    "odds2(3,4,6,5,3,32,6,7,8,5,9)"
   ]
  },
  {
   "cell_type": "code",
   "execution_count": 41,
   "metadata": {},
   "outputs": [
    {
     "data": {
      "text/plain": [
       "[1]"
      ]
     },
     "execution_count": 41,
     "metadata": {},
     "output_type": "execute_result"
    }
   ],
   "source": [
    "odds2(1)"
   ]
  },
  {
   "cell_type": "code",
   "execution_count": 44,
   "metadata": {},
   "outputs": [],
   "source": [
    "def prod_stock(**kwargs):\n",
    "\n",
    "    for i, j in kwargs.items():\n",
    "        print(f\"Product: {i:<10}, Product Quantity: {j} \")\n"
   ]
  },
  {
   "cell_type": "code",
   "execution_count": 45,
   "metadata": {},
   "outputs": [
    {
     "name": "stdout",
     "output_type": "stream",
     "text": [
      "Product: apple     , Product Quantity: 4 \n",
      "Product: orange    , Product Quantity: 1 \n",
      "Product: lemon     , Product Quantity: 6 \n"
     ]
    }
   ],
   "source": [
    "prod_stock(apple = 4, orange = 1, lemon = 6)"
   ]
  },
  {
   "attachments": {},
   "cell_type": "markdown",
   "metadata": {},
   "source": [
    "Lets say we have hundreds of products and we want to see which ones are out of stock"
   ]
  },
  {
   "cell_type": "code",
   "execution_count": 52,
   "metadata": {},
   "outputs": [],
   "source": [
    "def prod_stock(**kwargs):\n",
    "    list1 = []\n",
    "    for i, j in kwargs.items():\n",
    "        if j == 0 :\n",
    "            list1.append((i,j))\n",
    "\n",
    "\n",
    "    return list1"
   ]
  },
  {
   "cell_type": "code",
   "execution_count": 51,
   "metadata": {},
   "outputs": [
    {
     "data": {
      "text/plain": [
       "[('orange', 0)]"
      ]
     },
     "execution_count": 51,
     "metadata": {},
     "output_type": "execute_result"
    }
   ],
   "source": [
    "prod_stock(apple = 4, orange = 0, lemon = 6)"
   ]
  },
  {
   "cell_type": "code",
   "execution_count": 53,
   "metadata": {},
   "outputs": [
    {
     "data": {
      "text/plain": [
       "[('pencils', 0), ('erasers', 0)]"
      ]
     },
     "execution_count": 53,
     "metadata": {},
     "output_type": "execute_result"
    }
   ],
   "source": [
    "# now we can literally use this function to find anyhting out of stock\n",
    "\n",
    "prod_stock(pencils = 0, books = 4, erasers = 0)"
   ]
  },
  {
   "cell_type": "code",
   "execution_count": 54,
   "metadata": {},
   "outputs": [],
   "source": [
    "mydict = dict(pencils = 0, books = 4, erasers = 0)"
   ]
  },
  {
   "cell_type": "code",
   "execution_count": 55,
   "metadata": {},
   "outputs": [
    {
     "data": {
      "text/plain": [
       "[('pencils', 0), ('erasers', 0)]"
      ]
     },
     "execution_count": 55,
     "metadata": {},
     "output_type": "execute_result"
    }
   ],
   "source": [
    "prod_stock(**mydict)"
   ]
  },
  {
   "cell_type": "code",
   "execution_count": null,
   "metadata": {},
   "outputs": [],
   "source": []
  }
 ],
 "metadata": {
  "kernelspec": {
   "display_name": "Python 3",
   "language": "python",
   "name": "python3"
  },
  "language_info": {
   "codemirror_mode": {
    "name": "ipython",
    "version": 3
   },
   "file_extension": ".py",
   "mimetype": "text/x-python",
   "name": "python",
   "nbconvert_exporter": "python",
   "pygments_lexer": "ipython3",
   "version": "3.11.4"
  },
  "orig_nbformat": 4
 },
 "nbformat": 4,
 "nbformat_minor": 2
}
