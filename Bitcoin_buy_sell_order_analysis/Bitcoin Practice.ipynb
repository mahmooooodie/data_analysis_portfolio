{
 "cells": [
  {
   "cell_type": "code",
   "execution_count": 153,
   "id": "481d68e5",
   "metadata": {
    "ExecuteTime": {
     "end_time": "2023-09-27T16:01:09.111219Z",
     "start_time": "2023-09-27T16:01:09.103009Z"
    }
   },
   "outputs": [],
   "source": [
    "import numpy as np\n",
    "import pandas as pd\n",
    "import matplotlib.pyplot as plt\n",
    "import seaborn as sns\n",
    "import missingno as msno\n",
    "import plotly.express as px\n",
    "import folium\n",
    "from folium import plugins\n",
    "# from matplotlib.widgets import Slider\n",
    "\n",
    "# %matplotlib inline\n",
    "# %matplotlib notebook\n",
    "plt.rcParams[\"figure.figsize\"] = (6,4)\n",
    "import warnings\n",
    "warnings.filterwarnings(\"ignore\")\n",
    "warnings.warn(\"this will not show\")"
   ]
  },
  {
   "cell_type": "code",
   "execution_count": 154,
   "id": "174c4474",
   "metadata": {
    "ExecuteTime": {
     "end_time": "2023-09-27T16:01:09.333247Z",
     "start_time": "2023-09-27T16:01:09.302094Z"
    }
   },
   "outputs": [
    {
     "data": {
      "text/html": [
       "<div>\n",
       "<style scoped>\n",
       "    .dataframe tbody tr th:only-of-type {\n",
       "        vertical-align: middle;\n",
       "    }\n",
       "\n",
       "    .dataframe tbody tr th {\n",
       "        vertical-align: top;\n",
       "    }\n",
       "\n",
       "    .dataframe thead th {\n",
       "        text-align: right;\n",
       "    }\n",
       "</style>\n",
       "<table border=\"1\" class=\"dataframe\">\n",
       "  <thead>\n",
       "    <tr style=\"text-align: right;\">\n",
       "      <th></th>\n",
       "      <th>timestamp</th>\n",
       "      <th>buy_vol</th>\n",
       "      <th>sell_vol</th>\n",
       "      <th>buy_sell_ratio</th>\n",
       "    </tr>\n",
       "  </thead>\n",
       "  <tbody>\n",
       "    <tr>\n",
       "      <th>0</th>\n",
       "      <td>1690233300000</td>\n",
       "      <td>172.917</td>\n",
       "      <td>125.523</td>\n",
       "      <td>1.3776</td>\n",
       "    </tr>\n",
       "    <tr>\n",
       "      <th>1</th>\n",
       "      <td>1690233600000</td>\n",
       "      <td>483.703</td>\n",
       "      <td>271.094</td>\n",
       "      <td>1.7843</td>\n",
       "    </tr>\n",
       "    <tr>\n",
       "      <th>2</th>\n",
       "      <td>1690233900000</td>\n",
       "      <td>324.171</td>\n",
       "      <td>223.937</td>\n",
       "      <td>1.4476</td>\n",
       "    </tr>\n",
       "    <tr>\n",
       "      <th>3</th>\n",
       "      <td>1690234200000</td>\n",
       "      <td>115.396</td>\n",
       "      <td>163.170</td>\n",
       "      <td>0.7072</td>\n",
       "    </tr>\n",
       "    <tr>\n",
       "      <th>4</th>\n",
       "      <td>1690234500000</td>\n",
       "      <td>841.502</td>\n",
       "      <td>499.905</td>\n",
       "      <td>1.6833</td>\n",
       "    </tr>\n",
       "  </tbody>\n",
       "</table>\n",
       "</div>"
      ],
      "text/plain": [
       "       timestamp  buy_vol  sell_vol  buy_sell_ratio\n",
       "0  1690233300000  172.917   125.523          1.3776\n",
       "1  1690233600000  483.703   271.094          1.7843\n",
       "2  1690233900000  324.171   223.937          1.4476\n",
       "3  1690234200000  115.396   163.170          0.7072\n",
       "4  1690234500000  841.502   499.905          1.6833"
      ]
     },
     "execution_count": 154,
     "metadata": {},
     "output_type": "execute_result"
    }
   ],
   "source": [
    "df = pd.read_csv('/Users/mahmooooodie/Downloads/taker_buy_sell_volume.csv')\n",
    "df.head(5)"
   ]
  },
  {
   "cell_type": "markdown",
   "id": "39a3e42e",
   "metadata": {},
   "source": [
    "As you can see, the dataset imported above has 4 columns:\n",
    "- timestamp\n",
    "- buy_vol\n",
    "- sell_vol\n",
    "- buy_sell_ratio"
   ]
  },
  {
   "cell_type": "markdown",
   "id": "5a83a5c5",
   "metadata": {},
   "source": [
    "But timestamp column is in terms of milliseconds and we have to convert it into a readable date and time, so I have converted it first, and then proceeded to split it up into two separate columns: day and time."
   ]
  },
  {
   "cell_type": "code",
   "execution_count": 155,
   "id": "fb902349",
   "metadata": {
    "ExecuteTime": {
     "end_time": "2023-09-27T16:01:19.153896Z",
     "start_time": "2023-09-27T16:01:19.140831Z"
    }
   },
   "outputs": [],
   "source": [
    "df['time'] = pd.to_datetime(df['timestamp'], unit='ms')"
   ]
  },
  {
   "cell_type": "code",
   "execution_count": 156,
   "id": "468ac928",
   "metadata": {
    "ExecuteTime": {
     "end_time": "2023-09-27T16:01:19.577622Z",
     "start_time": "2023-09-27T16:01:19.557431Z"
    }
   },
   "outputs": [
    {
     "data": {
      "text/html": [
       "<div>\n",
       "<style scoped>\n",
       "    .dataframe tbody tr th:only-of-type {\n",
       "        vertical-align: middle;\n",
       "    }\n",
       "\n",
       "    .dataframe tbody tr th {\n",
       "        vertical-align: top;\n",
       "    }\n",
       "\n",
       "    .dataframe thead th {\n",
       "        text-align: right;\n",
       "    }\n",
       "</style>\n",
       "<table border=\"1\" class=\"dataframe\">\n",
       "  <thead>\n",
       "    <tr style=\"text-align: right;\">\n",
       "      <th></th>\n",
       "      <th>timestamp</th>\n",
       "      <th>buy_vol</th>\n",
       "      <th>sell_vol</th>\n",
       "      <th>buy_sell_ratio</th>\n",
       "      <th>time</th>\n",
       "    </tr>\n",
       "  </thead>\n",
       "  <tbody>\n",
       "    <tr>\n",
       "      <th>0</th>\n",
       "      <td>1690233300000</td>\n",
       "      <td>172.917</td>\n",
       "      <td>125.523</td>\n",
       "      <td>1.3776</td>\n",
       "      <td>2023-07-24 21:15:00</td>\n",
       "    </tr>\n",
       "    <tr>\n",
       "      <th>1</th>\n",
       "      <td>1690233600000</td>\n",
       "      <td>483.703</td>\n",
       "      <td>271.094</td>\n",
       "      <td>1.7843</td>\n",
       "      <td>2023-07-24 21:20:00</td>\n",
       "    </tr>\n",
       "    <tr>\n",
       "      <th>2</th>\n",
       "      <td>1690233900000</td>\n",
       "      <td>324.171</td>\n",
       "      <td>223.937</td>\n",
       "      <td>1.4476</td>\n",
       "      <td>2023-07-24 21:25:00</td>\n",
       "    </tr>\n",
       "    <tr>\n",
       "      <th>3</th>\n",
       "      <td>1690234200000</td>\n",
       "      <td>115.396</td>\n",
       "      <td>163.170</td>\n",
       "      <td>0.7072</td>\n",
       "      <td>2023-07-24 21:30:00</td>\n",
       "    </tr>\n",
       "    <tr>\n",
       "      <th>4</th>\n",
       "      <td>1690234500000</td>\n",
       "      <td>841.502</td>\n",
       "      <td>499.905</td>\n",
       "      <td>1.6833</td>\n",
       "      <td>2023-07-24 21:35:00</td>\n",
       "    </tr>\n",
       "  </tbody>\n",
       "</table>\n",
       "</div>"
      ],
      "text/plain": [
       "       timestamp  buy_vol  sell_vol  buy_sell_ratio                time\n",
       "0  1690233300000  172.917   125.523          1.3776 2023-07-24 21:15:00\n",
       "1  1690233600000  483.703   271.094          1.7843 2023-07-24 21:20:00\n",
       "2  1690233900000  324.171   223.937          1.4476 2023-07-24 21:25:00\n",
       "3  1690234200000  115.396   163.170          0.7072 2023-07-24 21:30:00\n",
       "4  1690234500000  841.502   499.905          1.6833 2023-07-24 21:35:00"
      ]
     },
     "execution_count": 156,
     "metadata": {},
     "output_type": "execute_result"
    }
   ],
   "source": [
    "df.head()"
   ]
  },
  {
   "cell_type": "code",
   "execution_count": 157,
   "id": "e39c0f4d",
   "metadata": {
    "ExecuteTime": {
     "end_time": "2023-09-27T16:01:19.740766Z",
     "start_time": "2023-09-27T16:01:19.734309Z"
    }
   },
   "outputs": [],
   "source": [
    "df.drop(columns = 'timestamp', inplace = True)"
   ]
  },
  {
   "cell_type": "code",
   "execution_count": 158,
   "id": "a2f28d01",
   "metadata": {
    "ExecuteTime": {
     "end_time": "2023-09-27T16:01:19.899922Z",
     "start_time": "2023-09-27T16:01:19.894797Z"
    }
   },
   "outputs": [],
   "source": [
    "new_name = {'time':'time_gmt'}\n",
    "df.rename(columns = new_name, inplace = True )"
   ]
  },
  {
   "cell_type": "code",
   "execution_count": 159,
   "id": "42fdc3fc",
   "metadata": {
    "ExecuteTime": {
     "end_time": "2023-09-27T16:01:20.068005Z",
     "start_time": "2023-09-27T16:01:20.047360Z"
    }
   },
   "outputs": [
    {
     "data": {
      "text/html": [
       "<div>\n",
       "<style scoped>\n",
       "    .dataframe tbody tr th:only-of-type {\n",
       "        vertical-align: middle;\n",
       "    }\n",
       "\n",
       "    .dataframe tbody tr th {\n",
       "        vertical-align: top;\n",
       "    }\n",
       "\n",
       "    .dataframe thead th {\n",
       "        text-align: right;\n",
       "    }\n",
       "</style>\n",
       "<table border=\"1\" class=\"dataframe\">\n",
       "  <thead>\n",
       "    <tr style=\"text-align: right;\">\n",
       "      <th></th>\n",
       "      <th>buy_vol</th>\n",
       "      <th>sell_vol</th>\n",
       "      <th>buy_sell_ratio</th>\n",
       "      <th>time_gmt</th>\n",
       "    </tr>\n",
       "  </thead>\n",
       "  <tbody>\n",
       "    <tr>\n",
       "      <th>0</th>\n",
       "      <td>172.917</td>\n",
       "      <td>125.523</td>\n",
       "      <td>1.3776</td>\n",
       "      <td>2023-07-24 21:15:00</td>\n",
       "    </tr>\n",
       "    <tr>\n",
       "      <th>1</th>\n",
       "      <td>483.703</td>\n",
       "      <td>271.094</td>\n",
       "      <td>1.7843</td>\n",
       "      <td>2023-07-24 21:20:00</td>\n",
       "    </tr>\n",
       "    <tr>\n",
       "      <th>2</th>\n",
       "      <td>324.171</td>\n",
       "      <td>223.937</td>\n",
       "      <td>1.4476</td>\n",
       "      <td>2023-07-24 21:25:00</td>\n",
       "    </tr>\n",
       "    <tr>\n",
       "      <th>3</th>\n",
       "      <td>115.396</td>\n",
       "      <td>163.170</td>\n",
       "      <td>0.7072</td>\n",
       "      <td>2023-07-24 21:30:00</td>\n",
       "    </tr>\n",
       "    <tr>\n",
       "      <th>4</th>\n",
       "      <td>841.502</td>\n",
       "      <td>499.905</td>\n",
       "      <td>1.6833</td>\n",
       "      <td>2023-07-24 21:35:00</td>\n",
       "    </tr>\n",
       "  </tbody>\n",
       "</table>\n",
       "</div>"
      ],
      "text/plain": [
       "   buy_vol  sell_vol  buy_sell_ratio            time_gmt\n",
       "0  172.917   125.523          1.3776 2023-07-24 21:15:00\n",
       "1  483.703   271.094          1.7843 2023-07-24 21:20:00\n",
       "2  324.171   223.937          1.4476 2023-07-24 21:25:00\n",
       "3  115.396   163.170          0.7072 2023-07-24 21:30:00\n",
       "4  841.502   499.905          1.6833 2023-07-24 21:35:00"
      ]
     },
     "execution_count": 159,
     "metadata": {},
     "output_type": "execute_result"
    }
   ],
   "source": [
    "df.head()"
   ]
  },
  {
   "cell_type": "code",
   "execution_count": 160,
   "id": "fce51526",
   "metadata": {
    "ExecuteTime": {
     "end_time": "2023-09-27T16:01:20.227566Z",
     "start_time": "2023-09-27T16:01:20.220083Z"
    }
   },
   "outputs": [],
   "source": [
    "column_to_move = 'time_gmt'\n",
    "new_column_order = [column_to_move] + [col for col in df.columns if col != column_to_move]\n",
    "df = df[new_column_order]"
   ]
  },
  {
   "cell_type": "code",
   "execution_count": 161,
   "id": "1419fd85",
   "metadata": {
    "ExecuteTime": {
     "end_time": "2023-09-27T16:01:20.683648Z",
     "start_time": "2023-09-27T16:01:20.665738Z"
    }
   },
   "outputs": [
    {
     "data": {
      "text/html": [
       "<div>\n",
       "<style scoped>\n",
       "    .dataframe tbody tr th:only-of-type {\n",
       "        vertical-align: middle;\n",
       "    }\n",
       "\n",
       "    .dataframe tbody tr th {\n",
       "        vertical-align: top;\n",
       "    }\n",
       "\n",
       "    .dataframe thead th {\n",
       "        text-align: right;\n",
       "    }\n",
       "</style>\n",
       "<table border=\"1\" class=\"dataframe\">\n",
       "  <thead>\n",
       "    <tr style=\"text-align: right;\">\n",
       "      <th></th>\n",
       "      <th>time_gmt</th>\n",
       "      <th>buy_vol</th>\n",
       "      <th>sell_vol</th>\n",
       "      <th>buy_sell_ratio</th>\n",
       "    </tr>\n",
       "  </thead>\n",
       "  <tbody>\n",
       "    <tr>\n",
       "      <th>11259</th>\n",
       "      <td>2023-09-01 23:30:00</td>\n",
       "      <td>131.987</td>\n",
       "      <td>62.453</td>\n",
       "      <td>2.1134</td>\n",
       "    </tr>\n",
       "    <tr>\n",
       "      <th>1805</th>\n",
       "      <td>2023-07-31 03:40:00</td>\n",
       "      <td>632.429</td>\n",
       "      <td>178.397</td>\n",
       "      <td>3.5451</td>\n",
       "    </tr>\n",
       "    <tr>\n",
       "      <th>2273</th>\n",
       "      <td>2023-08-01 18:40:00</td>\n",
       "      <td>619.287</td>\n",
       "      <td>624.573</td>\n",
       "      <td>0.9915</td>\n",
       "    </tr>\n",
       "    <tr>\n",
       "      <th>789</th>\n",
       "      <td>2023-07-27 15:00:00</td>\n",
       "      <td>1542.371</td>\n",
       "      <td>2848.329</td>\n",
       "      <td>0.5415</td>\n",
       "    </tr>\n",
       "    <tr>\n",
       "      <th>9755</th>\n",
       "      <td>2023-08-27 18:10:00</td>\n",
       "      <td>180.974</td>\n",
       "      <td>173.398</td>\n",
       "      <td>1.0437</td>\n",
       "    </tr>\n",
       "  </tbody>\n",
       "</table>\n",
       "</div>"
      ],
      "text/plain": [
       "                 time_gmt   buy_vol  sell_vol  buy_sell_ratio\n",
       "11259 2023-09-01 23:30:00   131.987    62.453          2.1134\n",
       "1805  2023-07-31 03:40:00   632.429   178.397          3.5451\n",
       "2273  2023-08-01 18:40:00   619.287   624.573          0.9915\n",
       "789   2023-07-27 15:00:00  1542.371  2848.329          0.5415\n",
       "9755  2023-08-27 18:10:00   180.974   173.398          1.0437"
      ]
     },
     "execution_count": 161,
     "metadata": {},
     "output_type": "execute_result"
    }
   ],
   "source": [
    "df.sample(5)"
   ]
  },
  {
   "cell_type": "code",
   "execution_count": 162,
   "id": "b9b67a6c",
   "metadata": {
    "ExecuteTime": {
     "end_time": "2023-09-27T16:01:20.898993Z",
     "start_time": "2023-09-27T16:01:20.880002Z"
    }
   },
   "outputs": [],
   "source": [
    "df['day'] = df['time_gmt'].dt.day_name()\n",
    "df['hour'] = df['time_gmt'].dt.hour"
   ]
  },
  {
   "cell_type": "code",
   "execution_count": 163,
   "id": "bcc5decf",
   "metadata": {
    "ExecuteTime": {
     "end_time": "2023-09-27T16:01:21.112612Z",
     "start_time": "2023-09-27T16:01:21.091827Z"
    }
   },
   "outputs": [
    {
     "data": {
      "text/html": [
       "<div>\n",
       "<style scoped>\n",
       "    .dataframe tbody tr th:only-of-type {\n",
       "        vertical-align: middle;\n",
       "    }\n",
       "\n",
       "    .dataframe tbody tr th {\n",
       "        vertical-align: top;\n",
       "    }\n",
       "\n",
       "    .dataframe thead th {\n",
       "        text-align: right;\n",
       "    }\n",
       "</style>\n",
       "<table border=\"1\" class=\"dataframe\">\n",
       "  <thead>\n",
       "    <tr style=\"text-align: right;\">\n",
       "      <th></th>\n",
       "      <th>time_gmt</th>\n",
       "      <th>buy_vol</th>\n",
       "      <th>sell_vol</th>\n",
       "      <th>buy_sell_ratio</th>\n",
       "      <th>day</th>\n",
       "      <th>hour</th>\n",
       "    </tr>\n",
       "  </thead>\n",
       "  <tbody>\n",
       "    <tr>\n",
       "      <th>790</th>\n",
       "      <td>2023-07-27 15:05:00</td>\n",
       "      <td>994.544</td>\n",
       "      <td>1943.667</td>\n",
       "      <td>0.5117</td>\n",
       "      <td>Thursday</td>\n",
       "      <td>15</td>\n",
       "    </tr>\n",
       "    <tr>\n",
       "      <th>6522</th>\n",
       "      <td>2023-08-16 12:45:00</td>\n",
       "      <td>1971.810</td>\n",
       "      <td>1177.259</td>\n",
       "      <td>1.6749</td>\n",
       "      <td>Wednesday</td>\n",
       "      <td>12</td>\n",
       "    </tr>\n",
       "    <tr>\n",
       "      <th>9331</th>\n",
       "      <td>2023-08-26 06:50:00</td>\n",
       "      <td>69.133</td>\n",
       "      <td>18.437</td>\n",
       "      <td>3.7497</td>\n",
       "      <td>Saturday</td>\n",
       "      <td>6</td>\n",
       "    </tr>\n",
       "    <tr>\n",
       "      <th>12099</th>\n",
       "      <td>2023-09-04 21:30:00</td>\n",
       "      <td>266.449</td>\n",
       "      <td>367.351</td>\n",
       "      <td>0.7253</td>\n",
       "      <td>Monday</td>\n",
       "      <td>21</td>\n",
       "    </tr>\n",
       "    <tr>\n",
       "      <th>9992</th>\n",
       "      <td>2023-08-28 13:55:00</td>\n",
       "      <td>298.954</td>\n",
       "      <td>275.108</td>\n",
       "      <td>1.0867</td>\n",
       "      <td>Monday</td>\n",
       "      <td>13</td>\n",
       "    </tr>\n",
       "    <tr>\n",
       "      <th>6143</th>\n",
       "      <td>2023-08-15 05:10:00</td>\n",
       "      <td>318.182</td>\n",
       "      <td>335.708</td>\n",
       "      <td>0.9478</td>\n",
       "      <td>Tuesday</td>\n",
       "      <td>5</td>\n",
       "    </tr>\n",
       "    <tr>\n",
       "      <th>11510</th>\n",
       "      <td>2023-09-02 20:25:00</td>\n",
       "      <td>68.367</td>\n",
       "      <td>79.227</td>\n",
       "      <td>0.8629</td>\n",
       "      <td>Saturday</td>\n",
       "      <td>20</td>\n",
       "    </tr>\n",
       "    <tr>\n",
       "      <th>3860</th>\n",
       "      <td>2023-08-07 06:55:00</td>\n",
       "      <td>201.921</td>\n",
       "      <td>433.219</td>\n",
       "      <td>0.4661</td>\n",
       "      <td>Monday</td>\n",
       "      <td>6</td>\n",
       "    </tr>\n",
       "    <tr>\n",
       "      <th>12046</th>\n",
       "      <td>2023-09-04 17:05:00</td>\n",
       "      <td>101.655</td>\n",
       "      <td>152.613</td>\n",
       "      <td>0.6661</td>\n",
       "      <td>Monday</td>\n",
       "      <td>17</td>\n",
       "    </tr>\n",
       "    <tr>\n",
       "      <th>3132</th>\n",
       "      <td>2023-08-04 18:15:00</td>\n",
       "      <td>887.121</td>\n",
       "      <td>1223.129</td>\n",
       "      <td>0.7253</td>\n",
       "      <td>Friday</td>\n",
       "      <td>18</td>\n",
       "    </tr>\n",
       "  </tbody>\n",
       "</table>\n",
       "</div>"
      ],
      "text/plain": [
       "                 time_gmt   buy_vol  sell_vol  buy_sell_ratio        day  hour\n",
       "790   2023-07-27 15:05:00   994.544  1943.667          0.5117   Thursday    15\n",
       "6522  2023-08-16 12:45:00  1971.810  1177.259          1.6749  Wednesday    12\n",
       "9331  2023-08-26 06:50:00    69.133    18.437          3.7497   Saturday     6\n",
       "12099 2023-09-04 21:30:00   266.449   367.351          0.7253     Monday    21\n",
       "9992  2023-08-28 13:55:00   298.954   275.108          1.0867     Monday    13\n",
       "6143  2023-08-15 05:10:00   318.182   335.708          0.9478    Tuesday     5\n",
       "11510 2023-09-02 20:25:00    68.367    79.227          0.8629   Saturday    20\n",
       "3860  2023-08-07 06:55:00   201.921   433.219          0.4661     Monday     6\n",
       "12046 2023-09-04 17:05:00   101.655   152.613          0.6661     Monday    17\n",
       "3132  2023-08-04 18:15:00   887.121  1223.129          0.7253     Friday    18"
      ]
     },
     "execution_count": 163,
     "metadata": {},
     "output_type": "execute_result"
    }
   ],
   "source": [
    "df.sample(10)"
   ]
  },
  {
   "cell_type": "code",
   "execution_count": 164,
   "id": "85609853",
   "metadata": {
    "ExecuteTime": {
     "end_time": "2023-09-27T16:01:21.594387Z",
     "start_time": "2023-09-27T16:01:21.496105Z"
    }
   },
   "outputs": [
    {
     "data": {
      "text/html": [
       "<div>\n",
       "<style scoped>\n",
       "    .dataframe tbody tr th:only-of-type {\n",
       "        vertical-align: middle;\n",
       "    }\n",
       "\n",
       "    .dataframe tbody tr th {\n",
       "        vertical-align: top;\n",
       "    }\n",
       "\n",
       "    .dataframe thead th {\n",
       "        text-align: right;\n",
       "    }\n",
       "</style>\n",
       "<table border=\"1\" class=\"dataframe\">\n",
       "  <thead>\n",
       "    <tr style=\"text-align: right;\">\n",
       "      <th></th>\n",
       "      <th>time_gmt</th>\n",
       "      <th>buy_vol</th>\n",
       "      <th>sell_vol</th>\n",
       "      <th>buy_sell_ratio</th>\n",
       "      <th>day</th>\n",
       "      <th>hour</th>\n",
       "      <th>time</th>\n",
       "    </tr>\n",
       "  </thead>\n",
       "  <tbody>\n",
       "    <tr>\n",
       "      <th>2944</th>\n",
       "      <td>2023-08-04 02:35:00</td>\n",
       "      <td>152.057</td>\n",
       "      <td>74.155</td>\n",
       "      <td>2.0505</td>\n",
       "      <td>Friday</td>\n",
       "      <td>2</td>\n",
       "      <td>02:35</td>\n",
       "    </tr>\n",
       "  </tbody>\n",
       "</table>\n",
       "</div>"
      ],
      "text/plain": [
       "                time_gmt  buy_vol  sell_vol  buy_sell_ratio     day  hour  \\\n",
       "2944 2023-08-04 02:35:00  152.057    74.155          2.0505  Friday     2   \n",
       "\n",
       "       time  \n",
       "2944  02:35  "
      ]
     },
     "execution_count": 164,
     "metadata": {},
     "output_type": "execute_result"
    }
   ],
   "source": [
    "df['time'] = df['time_gmt'].dt.strftime('%H:%M')\n",
    "df.sample()"
   ]
  },
  {
   "cell_type": "code",
   "execution_count": 165,
   "id": "ead4a0f5",
   "metadata": {
    "ExecuteTime": {
     "end_time": "2023-09-27T16:01:21.863860Z",
     "start_time": "2023-09-27T16:01:21.856836Z"
    }
   },
   "outputs": [
    {
     "data": {
      "text/plain": [
       "(13768, 7)"
      ]
     },
     "execution_count": 165,
     "metadata": {},
     "output_type": "execute_result"
    }
   ],
   "source": [
    "df.shape"
   ]
  },
  {
   "cell_type": "code",
   "execution_count": 166,
   "id": "3e903498",
   "metadata": {
    "ExecuteTime": {
     "end_time": "2023-09-27T16:01:22.694836Z",
     "start_time": "2023-09-27T16:01:22.667338Z"
    }
   },
   "outputs": [
    {
     "data": {
      "text/html": [
       "<div>\n",
       "<style scoped>\n",
       "    .dataframe tbody tr th:only-of-type {\n",
       "        vertical-align: middle;\n",
       "    }\n",
       "\n",
       "    .dataframe tbody tr th {\n",
       "        vertical-align: top;\n",
       "    }\n",
       "\n",
       "    .dataframe thead th {\n",
       "        text-align: right;\n",
       "    }\n",
       "</style>\n",
       "<table border=\"1\" class=\"dataframe\">\n",
       "  <thead>\n",
       "    <tr style=\"text-align: right;\">\n",
       "      <th></th>\n",
       "      <th>time_gmt</th>\n",
       "      <th>day</th>\n",
       "      <th>time</th>\n",
       "      <th>buy_vol</th>\n",
       "      <th>sell_vol</th>\n",
       "      <th>buy_sell_ratio</th>\n",
       "      <th>day</th>\n",
       "      <th>hour</th>\n",
       "      <th>time</th>\n",
       "    </tr>\n",
       "  </thead>\n",
       "  <tbody>\n",
       "    <tr>\n",
       "      <th>0</th>\n",
       "      <td>2023-07-24 21:15:00</td>\n",
       "      <td>Monday</td>\n",
       "      <td>21:15</td>\n",
       "      <td>172.917</td>\n",
       "      <td>125.523</td>\n",
       "      <td>1.3776</td>\n",
       "      <td>Monday</td>\n",
       "      <td>21</td>\n",
       "      <td>21:15</td>\n",
       "    </tr>\n",
       "    <tr>\n",
       "      <th>1</th>\n",
       "      <td>2023-07-24 21:20:00</td>\n",
       "      <td>Monday</td>\n",
       "      <td>21:20</td>\n",
       "      <td>483.703</td>\n",
       "      <td>271.094</td>\n",
       "      <td>1.7843</td>\n",
       "      <td>Monday</td>\n",
       "      <td>21</td>\n",
       "      <td>21:20</td>\n",
       "    </tr>\n",
       "    <tr>\n",
       "      <th>2</th>\n",
       "      <td>2023-07-24 21:25:00</td>\n",
       "      <td>Monday</td>\n",
       "      <td>21:25</td>\n",
       "      <td>324.171</td>\n",
       "      <td>223.937</td>\n",
       "      <td>1.4476</td>\n",
       "      <td>Monday</td>\n",
       "      <td>21</td>\n",
       "      <td>21:25</td>\n",
       "    </tr>\n",
       "    <tr>\n",
       "      <th>3</th>\n",
       "      <td>2023-07-24 21:30:00</td>\n",
       "      <td>Monday</td>\n",
       "      <td>21:30</td>\n",
       "      <td>115.396</td>\n",
       "      <td>163.170</td>\n",
       "      <td>0.7072</td>\n",
       "      <td>Monday</td>\n",
       "      <td>21</td>\n",
       "      <td>21:30</td>\n",
       "    </tr>\n",
       "    <tr>\n",
       "      <th>4</th>\n",
       "      <td>2023-07-24 21:35:00</td>\n",
       "      <td>Monday</td>\n",
       "      <td>21:35</td>\n",
       "      <td>841.502</td>\n",
       "      <td>499.905</td>\n",
       "      <td>1.6833</td>\n",
       "      <td>Monday</td>\n",
       "      <td>21</td>\n",
       "      <td>21:35</td>\n",
       "    </tr>\n",
       "  </tbody>\n",
       "</table>\n",
       "</div>"
      ],
      "text/plain": [
       "             time_gmt     day   time  buy_vol  sell_vol  buy_sell_ratio  \\\n",
       "0 2023-07-24 21:15:00  Monday  21:15  172.917   125.523          1.3776   \n",
       "1 2023-07-24 21:20:00  Monday  21:20  483.703   271.094          1.7843   \n",
       "2 2023-07-24 21:25:00  Monday  21:25  324.171   223.937          1.4476   \n",
       "3 2023-07-24 21:30:00  Monday  21:30  115.396   163.170          0.7072   \n",
       "4 2023-07-24 21:35:00  Monday  21:35  841.502   499.905          1.6833   \n",
       "\n",
       "      day  hour   time  \n",
       "0  Monday    21  21:15  \n",
       "1  Monday    21  21:20  \n",
       "2  Monday    21  21:25  \n",
       "3  Monday    21  21:30  \n",
       "4  Monday    21  21:35  "
      ]
     },
     "execution_count": 166,
     "metadata": {},
     "output_type": "execute_result"
    }
   ],
   "source": [
    "new_column_order = ['time_gmt'] + ['day'] + ['time'] + [col for col in df.columns if col != column_to_move]\n",
    "df = df[new_column_order]\n",
    "df.head()"
   ]
  },
  {
   "cell_type": "code",
   "execution_count": 167,
   "id": "57f66c8c",
   "metadata": {
    "ExecuteTime": {
     "end_time": "2023-09-27T16:01:24.709052Z",
     "start_time": "2023-09-27T16:01:24.703298Z"
    }
   },
   "outputs": [],
   "source": [
    "df = df.iloc[:, :-3]"
   ]
  },
  {
   "cell_type": "code",
   "execution_count": 168,
   "id": "c17d2c57",
   "metadata": {
    "ExecuteTime": {
     "end_time": "2023-09-27T16:01:24.904832Z",
     "start_time": "2023-09-27T16:01:24.882271Z"
    }
   },
   "outputs": [
    {
     "data": {
      "text/html": [
       "<div>\n",
       "<style scoped>\n",
       "    .dataframe tbody tr th:only-of-type {\n",
       "        vertical-align: middle;\n",
       "    }\n",
       "\n",
       "    .dataframe tbody tr th {\n",
       "        vertical-align: top;\n",
       "    }\n",
       "\n",
       "    .dataframe thead th {\n",
       "        text-align: right;\n",
       "    }\n",
       "</style>\n",
       "<table border=\"1\" class=\"dataframe\">\n",
       "  <thead>\n",
       "    <tr style=\"text-align: right;\">\n",
       "      <th></th>\n",
       "      <th>time_gmt</th>\n",
       "      <th>day</th>\n",
       "      <th>time</th>\n",
       "      <th>buy_vol</th>\n",
       "      <th>sell_vol</th>\n",
       "      <th>buy_sell_ratio</th>\n",
       "    </tr>\n",
       "  </thead>\n",
       "  <tbody>\n",
       "    <tr>\n",
       "      <th>0</th>\n",
       "      <td>2023-07-24 21:15:00</td>\n",
       "      <td>Monday</td>\n",
       "      <td>21:15</td>\n",
       "      <td>172.917</td>\n",
       "      <td>125.523</td>\n",
       "      <td>1.3776</td>\n",
       "    </tr>\n",
       "    <tr>\n",
       "      <th>1</th>\n",
       "      <td>2023-07-24 21:20:00</td>\n",
       "      <td>Monday</td>\n",
       "      <td>21:20</td>\n",
       "      <td>483.703</td>\n",
       "      <td>271.094</td>\n",
       "      <td>1.7843</td>\n",
       "    </tr>\n",
       "    <tr>\n",
       "      <th>2</th>\n",
       "      <td>2023-07-24 21:25:00</td>\n",
       "      <td>Monday</td>\n",
       "      <td>21:25</td>\n",
       "      <td>324.171</td>\n",
       "      <td>223.937</td>\n",
       "      <td>1.4476</td>\n",
       "    </tr>\n",
       "    <tr>\n",
       "      <th>3</th>\n",
       "      <td>2023-07-24 21:30:00</td>\n",
       "      <td>Monday</td>\n",
       "      <td>21:30</td>\n",
       "      <td>115.396</td>\n",
       "      <td>163.170</td>\n",
       "      <td>0.7072</td>\n",
       "    </tr>\n",
       "    <tr>\n",
       "      <th>4</th>\n",
       "      <td>2023-07-24 21:35:00</td>\n",
       "      <td>Monday</td>\n",
       "      <td>21:35</td>\n",
       "      <td>841.502</td>\n",
       "      <td>499.905</td>\n",
       "      <td>1.6833</td>\n",
       "    </tr>\n",
       "  </tbody>\n",
       "</table>\n",
       "</div>"
      ],
      "text/plain": [
       "             time_gmt     day   time  buy_vol  sell_vol  buy_sell_ratio\n",
       "0 2023-07-24 21:15:00  Monday  21:15  172.917   125.523          1.3776\n",
       "1 2023-07-24 21:20:00  Monday  21:20  483.703   271.094          1.7843\n",
       "2 2023-07-24 21:25:00  Monday  21:25  324.171   223.937          1.4476\n",
       "3 2023-07-24 21:30:00  Monday  21:30  115.396   163.170          0.7072\n",
       "4 2023-07-24 21:35:00  Monday  21:35  841.502   499.905          1.6833"
      ]
     },
     "execution_count": 168,
     "metadata": {},
     "output_type": "execute_result"
    }
   ],
   "source": [
    "df.head()"
   ]
  },
  {
   "cell_type": "code",
   "execution_count": 169,
   "id": "51322903",
   "metadata": {
    "ExecuteTime": {
     "end_time": "2023-09-27T16:01:25.557635Z",
     "start_time": "2023-09-27T16:01:25.423867Z"
    }
   },
   "outputs": [
    {
     "data": {
      "image/png": "[encoded data removed]",
      "text/plain": [
       "<Figure size 432x288 with 1 Axes>"
      ]
     },
     "metadata": {
      "needs_background": "light"
     },
     "output_type": "display_data"
    }
   ],
   "source": [
    "sns.histplot(data = df, x = 'day', y = 'buy_vol')\n",
    "plt.ylim(0,15000)\n",
    "plt.xticks(rotation = 45);"
   ]
  },
  {
   "cell_type": "code",
   "execution_count": 170,
   "id": "2b0e54e9",
   "metadata": {
    "ExecuteTime": {
     "end_time": "2023-09-27T16:01:29.784930Z",
     "start_time": "2023-09-27T16:01:28.546831Z"
    }
   },
   "outputs": [
    {
     "data": {
      "image/png": "[encoded data removed]",
      "text/plain": [
       "<Figure size 432x288 with 1 Axes>"
      ]
     },
     "metadata": {
      "needs_background": "light"
     },
     "output_type": "display_data"
    }
   ],
   "source": [
    "sns.histplot(data = df, x = 'time', y = 'buy_vol')\n",
    "plt.ylim(0,15000)\n",
    "plt.xticks(rotation = 45);"
   ]
  },
  {
   "cell_type": "code",
   "execution_count": 37,
   "id": "04dc9559",
   "metadata": {
    "ExecuteTime": {
     "end_time": "2023-09-22T13:53:21.387736Z",
     "start_time": "2023-09-22T13:53:21.376546Z"
    }
   },
   "outputs": [
    {
     "data": {
      "text/plain": [
       "array(['21:15', '21:20', '21:25', '21:30', '21:35', '21:40', '21:45',\n",
       "       '21:50', '21:55', '22:00', '22:05', '22:10', '22:15', '22:20',\n",
       "       '22:25', '22:30', '22:35', '22:40', '22:45', '22:50', '22:55',\n",
       "       '23:00', '23:05', '23:10', '23:15', '23:20', '23:25', '23:30',\n",
       "       '23:35', '23:40', '23:45', '23:50', '23:55', '00:00', '00:05',\n",
       "       '00:10', '00:15', '00:20', '00:25', '00:30', '00:35', '00:40',\n",
       "       '00:45', '00:50', '00:55', '01:00', '01:05', '01:10', '01:15',\n",
       "       '01:20', '01:25', '01:30', '01:35', '01:40', '01:45', '01:50',\n",
       "       '01:55', '02:00', '02:05', '02:10', '02:15', '02:20', '02:25',\n",
       "       '02:30', '02:35', '02:40', '02:45', '02:50', '02:55', '03:00',\n",
       "       '03:05', '03:10', '03:15', '03:20', '03:25', '03:30', '03:35',\n",
       "       '03:40', '03:45', '03:50', '03:55', '04:00', '04:05', '04:10',\n",
       "       '04:15', '04:20', '04:25', '04:30', '04:35', '04:40', '04:45',\n",
       "       '04:50', '04:55', '05:00', '05:05', '05:10', '05:15', '05:20',\n",
       "       '05:25', '05:30', '05:35', '05:40', '05:45', '05:50', '05:55',\n",
       "       '06:00', '06:05', '06:10', '06:15', '06:20', '06:25', '06:30',\n",
       "       '06:35', '06:40', '06:45', '06:50', '06:55', '07:00', '07:05',\n",
       "       '07:10', '07:15', '07:20', '07:25', '07:30', '07:35', '07:40',\n",
       "       '07:45', '07:50', '07:55', '08:00', '08:05', '08:10', '08:15',\n",
       "       '08:20', '08:25', '08:30', '08:35', '08:40', '08:45', '08:50',\n",
       "       '08:55', '09:00', '09:05', '09:10', '09:15', '09:20', '09:25',\n",
       "       '09:30', '09:35', '09:40', '09:45', '09:50', '09:55', '10:00',\n",
       "       '10:05', '10:10', '10:15', '10:20', '10:25', '10:30', '10:35',\n",
       "       '10:40', '10:45', '10:50', '10:55', '11:00', '11:05', '11:10',\n",
       "       '11:15', '11:20', '11:25', '11:30', '11:35', '11:40', '11:45',\n",
       "       '11:50', '11:55', '12:00', '12:05', '12:10', '12:15', '12:20',\n",
       "       '12:25', '12:30', '12:35', '12:40', '12:45', '12:50', '12:55',\n",
       "       '13:00', '13:05', '13:10', '13:15', '13:20', '13:25', '13:30',\n",
       "       '13:35', '13:40', '13:45', '13:50', '13:55', '14:00', '14:05',\n",
       "       '14:10', '14:15', '14:20', '14:25', '14:30', '14:35', '14:40',\n",
       "       '14:45', '14:50', '14:55', '15:00', '15:05', '15:10', '15:15',\n",
       "       '15:20', '15:25', '15:30', '15:35', '15:40', '15:45', '15:50',\n",
       "       '15:55', '16:00', '16:05', '16:10', '16:15', '16:20', '16:25',\n",
       "       '16:30', '16:35', '16:40', '16:45', '16:50', '16:55', '17:00',\n",
       "       '17:05', '17:10', '17:15', '17:20', '17:25', '17:30', '17:35',\n",
       "       '17:40', '17:45', '17:50', '17:55', '18:00', '18:05', '18:10',\n",
       "       '18:15', '18:20', '18:25', '18:30', '18:35', '18:40', '18:45',\n",
       "       '18:50', '18:55', '19:00', '19:05', '19:10', '19:15', '19:20',\n",
       "       '19:25', '19:30', '19:35', '19:40', '19:45', '19:50', '19:55',\n",
       "       '20:00', '20:05', '20:10', '20:15', '20:20', '20:25', '20:30',\n",
       "       '20:35', '20:40', '20:45', '20:50', '20:55', '21:00', '21:05',\n",
       "       '21:10'], dtype=object)"
      ]
     },
     "execution_count": 37,
     "metadata": {},
     "output_type": "execute_result"
    }
   ],
   "source": [
    "df.time.unique()"
   ]
  },
  {
   "cell_type": "code",
   "execution_count": 39,
   "id": "c16f8a7c",
   "metadata": {
    "ExecuteTime": {
     "end_time": "2023-09-22T13:56:11.821669Z",
     "start_time": "2023-09-22T13:56:11.797562Z"
    }
   },
   "outputs": [],
   "source": [
    "top10 = 10\n",
    "top_buy_times = df.nlargest(top10, 'buy_vol')"
   ]
  },
  {
   "cell_type": "code",
   "execution_count": 40,
   "id": "c0959905",
   "metadata": {
    "ExecuteTime": {
     "end_time": "2023-09-22T13:56:39.850194Z",
     "start_time": "2023-09-22T13:56:39.481026Z"
    }
   },
   "outputs": [
    {
     "data": {
      "image/png": "[encoded data removed]",
      "text/plain": [
       "<Figure size 864x432 with 1 Axes>"
      ]
     },
     "metadata": {
      "needs_background": "light"
     },
     "output_type": "display_data"
    }
   ],
   "source": [
    "plt.figure(figsize=(12, 6))\n",
    "plt.bar(top_buy_times['time'], top_buy_times['buy_vol'])\n",
    "plt.xlabel('Time')\n",
    "plt.ylabel('Buy Volume')\n",
    "plt.title('Top Times with Highest Buy Volumes')\n",
    "plt.xticks(rotation=45);"
   ]
  },
  {
   "cell_type": "code",
   "execution_count": 42,
   "id": "a449b1a6",
   "metadata": {
    "ExecuteTime": {
     "end_time": "2023-09-22T13:58:08.764577Z",
     "start_time": "2023-09-22T13:58:08.624359Z"
    }
   },
   "outputs": [
    {
     "data": {
      "image/png": "[encoded data removed]",
      "text/plain": [
       "<Figure size 864x432 with 1 Axes>"
      ]
     },
     "metadata": {
      "needs_background": "light"
     },
     "output_type": "display_data"
    }
   ],
   "source": [
    "plt.figure(figsize=(12, 6))\n",
    "plt.bar(top_buy_times['day'], top_buy_times['buy_vol'])\n",
    "plt.xlabel('Day')\n",
    "plt.ylabel('Buy Volume')\n",
    "plt.title('Top Times with Highest Buy Volumes')\n",
    "plt.xticks(rotation=45);"
   ]
  },
  {
   "cell_type": "code",
   "execution_count": 49,
   "id": "3bb8fe40",
   "metadata": {
    "ExecuteTime": {
     "end_time": "2023-09-26T18:47:53.162735Z",
     "start_time": "2023-09-26T18:47:52.921641Z"
    }
   },
   "outputs": [
    {
     "data": {
      "image/png": "[encoded data removed]",
      "text/plain": [
       "<Figure size 864x432 with 1 Axes>"
      ]
     },
     "metadata": {
      "needs_background": "light"
     },
     "output_type": "display_data"
    }
   ],
   "source": [
    "plt.figure(figsize=(12, 6))\n",
    "plt.bar(top_buy_times['time'], top_buy_times['sell_vol'])\n",
    "plt.xlabel('Time')\n",
    "plt.ylabel('Sell Volume')\n",
    "plt.title('Top Times with Highest Sell Volumes')\n",
    "plt.xticks(rotation=45);"
   ]
  },
  {
   "cell_type": "code",
   "execution_count": 44,
   "id": "e86051f7",
   "metadata": {
    "ExecuteTime": {
     "end_time": "2023-09-22T14:01:22.972270Z",
     "start_time": "2023-09-22T14:01:22.872719Z"
    }
   },
   "outputs": [
    {
     "data": {
      "image/png": "[encoded data removed]",
      "text/plain": [
       "<Figure size 864x432 with 1 Axes>"
      ]
     },
     "metadata": {
      "needs_background": "light"
     },
     "output_type": "display_data"
    }
   ],
   "source": [
    "plt.figure(figsize=(12, 6))\n",
    "plt.bar(top_buy_times['day'], top_buy_times['sell_vol'])\n",
    "plt.xlabel('Day')\n",
    "plt.ylabel('Sell Volume')\n",
    "plt.title('Top Times with Highest Sell Volumes')\n",
    "plt.xticks(rotation=45);"
   ]
  },
  {
   "cell_type": "code",
   "execution_count": 48,
   "id": "3a772ef7",
   "metadata": {
    "ExecuteTime": {
     "end_time": "2023-09-22T14:06:17.147663Z",
     "start_time": "2023-09-22T14:06:17.015495Z"
    }
   },
   "outputs": [
    {
     "data": {
      "image/png": "[encoded data removed]",
      "text/plain": [
       "<Figure size 432x288 with 2 Axes>"
      ]
     },
     "metadata": {
      "needs_background": "light"
     },
     "output_type": "display_data"
    }
   ],
   "source": [
    "sns.heatmap(df.corr(), annot = True);"
   ]
  },
  {
   "cell_type": "code",
   "execution_count": 50,
   "id": "8feb1587",
   "metadata": {
    "ExecuteTime": {
     "end_time": "2023-09-26T18:48:14.470843Z",
     "start_time": "2023-09-26T18:48:14.388249Z"
    }
   },
   "outputs": [
    {
     "name": "stdout",
     "output_type": "stream",
     "text": [
      "<class 'pandas.core.frame.DataFrame'>\n",
      "RangeIndex: 13768 entries, 0 to 13767\n",
      "Data columns (total 6 columns):\n",
      " #   Column          Non-Null Count  Dtype         \n",
      "---  ------          --------------  -----         \n",
      " 0   time_gmt        13768 non-null  datetime64[ns]\n",
      " 1   day             13768 non-null  object        \n",
      " 2   time            13768 non-null  object        \n",
      " 3   buy_vol         13768 non-null  float64       \n",
      " 4   sell_vol        13768 non-null  float64       \n",
      " 5   buy_sell_ratio  13768 non-null  float64       \n",
      "dtypes: datetime64[ns](1), float64(3), object(2)\n",
      "memory usage: 645.5+ KB\n"
     ]
    }
   ],
   "source": [
    "df.info()"
   ]
  },
  {
   "cell_type": "code",
   "execution_count": 51,
   "id": "cbc0c539",
   "metadata": {
    "ExecuteTime": {
     "end_time": "2023-09-26T18:48:29.902548Z",
     "start_time": "2023-09-26T18:48:29.893620Z"
    }
   },
   "outputs": [
    {
     "data": {
      "text/plain": [
       "45381.252"
      ]
     },
     "execution_count": 51,
     "metadata": {},
     "output_type": "execute_result"
    }
   ],
   "source": [
    "df.buy_vol.max()"
   ]
  },
  {
   "cell_type": "code",
   "execution_count": 52,
   "id": "508cec12",
   "metadata": {
    "ExecuteTime": {
     "end_time": "2023-09-26T18:48:36.355958Z",
     "start_time": "2023-09-26T18:48:36.347577Z"
    }
   },
   "outputs": [
    {
     "data": {
      "text/plain": [
       "47180.398"
      ]
     },
     "execution_count": 52,
     "metadata": {},
     "output_type": "execute_result"
    }
   ],
   "source": [
    "df.sell_vol.max()"
   ]
  },
  {
   "cell_type": "code",
   "execution_count": 53,
   "id": "7f126ecb",
   "metadata": {
    "ExecuteTime": {
     "end_time": "2023-09-26T18:48:48.515873Z",
     "start_time": "2023-09-26T18:48:48.501657Z"
    }
   },
   "outputs": [
    {
     "data": {
      "text/plain": [
       "63.6341"
      ]
     },
     "execution_count": 53,
     "metadata": {},
     "output_type": "execute_result"
    }
   ],
   "source": [
    "df.buy_sell_ratio.max()"
   ]
  },
  {
   "cell_type": "code",
   "execution_count": 54,
   "id": "7c306b92",
   "metadata": {
    "ExecuteTime": {
     "end_time": "2023-09-26T18:51:12.817637Z",
     "start_time": "2023-09-26T18:51:12.339682Z"
    }
   },
   "outputs": [
    {
     "data": {
      "image/png": "[encoded data removed]",
      "text/plain": [
       "<Figure size 432x288 with 1 Axes>"
      ]
     },
     "metadata": {
      "needs_background": "light"
     },
     "output_type": "display_data"
    }
   ],
   "source": [
    "sns.scatterplot(data = df, x = 'buy_vol', y = 'buy_sell_ratio', hue = 'day');"
   ]
  },
  {
   "cell_type": "code",
   "execution_count": 173,
   "id": "559f408e",
   "metadata": {
    "ExecuteTime": {
     "end_time": "2023-10-01T17:57:56.501608Z",
     "start_time": "2023-10-01T17:57:56.194633Z"
    }
   },
   "outputs": [
    {
     "data": {
      "image/png": "[encoded data removed]",
      "text/plain": [
       "<Figure size 432x288 with 1 Axes>"
      ]
     },
     "metadata": {
      "needs_background": "light"
     },
     "output_type": "display_data"
    }
   ],
   "source": [
    "sns.barplot(data = df, x = 'day', y = 'buy_vol', palette = 'viridis')\n",
    "plt.xticks(rotation = 90);"
   ]
  },
  {
   "cell_type": "code",
   "execution_count": null,
   "id": "16aa9154",
   "metadata": {},
   "outputs": [],
   "source": []
  }
 ],
 "metadata": {
  "kernelspec": {
   "display_name": "Python 3 (ipykernel)",
   "language": "python",
   "name": "python3"
  },
  "language_info": {
   "codemirror_mode": {
    "name": "ipython",
    "version": 3
   },
   "file_extension": ".py",
   "mimetype": "text/x-python",
   "name": "python",
   "nbconvert_exporter": "python",
   "pygments_lexer": "ipython3",
   "version": "3.9.12"
  },
  "toc": {
   "base_numbering": 1,
   "nav_menu": {},
   "number_sections": true,
   "sideBar": true,
   "skip_h1_title": false,
   "title_cell": "Table of Contents",
   "title_sidebar": "Contents",
   "toc_cell": false,
   "toc_position": {},
   "toc_section_display": true,
   "toc_window_display": false
  }
 },
 "nbformat": 4,
 "nbformat_minor": 5
}
