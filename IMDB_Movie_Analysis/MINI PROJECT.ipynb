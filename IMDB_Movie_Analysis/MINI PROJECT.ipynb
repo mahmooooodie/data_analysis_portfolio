{
 "cells": [
  {
   "cell_type": "markdown",
   "id": "0583a0c4",
   "metadata": {},
   "source": [
    "___\n",
    "\n",
    "<p style=\"text-align: center;\"><img src=\"https://techproeducation.com/logo/headerlogo.svg\" class=\"img-fluid\" alt=\"TECHPRO\"></p>\n",
    "\n",
    "___"
   ]
  },
  {
   "cell_type": "markdown",
   "id": "33f88234",
   "metadata": {},
   "source": [
    "# Proje Adı: Film İncelemesi\n",
    "\n",
    "## Projenin amacı:\n",
    "\n",
    "Bu proje ile mini bir EDA (Exploratory Data Analysis) ve farklı veri görselleştirme kütüphanaleri kullanarak film verilerini incelemek ve farklı filmler arasındaki ilişkileri keşfet amaçlanmıştır.\n",
    "\n",
    "## Veri Seti:\n",
    "\n",
    "Araştırmada 2006-2016 yılları arasındaki yapılmış filmlerin yer aldığı \"IMDB-Movie-Data\"  veri seti kullanılacaktır. Veri seti kısaca yıllara göre IMDB'de en yüksek puan alan filmleri içermektedir. Data setinde her film için aşağıdaki değişkenler yer almaktadır:\n",
    "\n",
    "    Rank\n",
    "    Title\n",
    "    Genre\n",
    "    Description\n",
    "    Director\n",
    "    Actors\n",
    "    Year\n",
    "    Runtime (Minutes)\n",
    "    Rating\n",
    "    Votes\n",
    "    Revenue (Millions)\n",
    "    Metascore\n",
    "    \n",
    "Bu kapsamda aşağıdaki görevleri yapmanız gerekmektedir.\n",
    "    \n",
    "## Görevler :\n",
    "\n",
    "### 1. Veri setini pandas kütüphanesi kullanarak yükleyin ve index sütununu filmin başlığı yapın.\n",
    "\n",
    "### 2. Veri setini tanıyın.\n",
    "\n",
    "### 3. Veri setindeki sütun isimlerini kullanışlı hale getirin (Örn: Kısaltıp küçük harf yapmak gibi)\n",
    "\n",
    "### 4. Missing Value tespit edilsin ve bu kapsamda aşağıdaki şekilde mücadele edilsin.\n",
    "    a.Missing value kontrolü hem pandas hemde missingno kütüphanelerini kullanarak yapın  \n",
    "    b.Yüksek missing value olan değişken içindeki veriler o değişkenin ortalama skoru ile\n",
    "    doldurulsun.\n",
    "    c. Düşük missing value olan değişkendeki gözlemler kaldırılsın.\n",
    "    d. Missing value kontrolü tekrar hem pandas hemde missingno kütüphanelerini kullanarak kontrol edin ve bu data setini yeni bir değişkene atayın.\n",
    "\n",
    "### 5. Temizlenmiş veri seti içinden en yüksek rating e sahip 250 filmi seçerek \"top250\" isminde bir data seti oluşturun ve bunu lokalinize bu isimle kaydedin. Bu yeni data setini tekrar pandas kütüphanesini kullanarak okuyun.\n",
    "\n",
    "### 6. Veri setinin boyutunu ve özelliklerini inceleyin.\n",
    "    a. Veri setinin boyutunu inceleme\n",
    "    b. Veri setinin ilk 5 gözlemine göz atma\n",
    "    c. Random olarak 10 gözleme bakma\n",
    "    d. Veri setinin sütunlarına göz atma\n",
    "    e. Veri setinin özet istatistiklerini görüntüleme\n",
    "\n",
    "### 7. Verilerin doğruluğunun ve eksik değerlerinin olup olmadığını kontrol edin.\n",
    "    a. 4.madde ile benzer şelkilde eksik değerlerinin olup olmadığını kontrol\n",
    "\n",
    "### 8. Verileri görselleştirme:\n",
    "\n",
    "    a. Matplotlib kütüphanesi kullanarak, yıllara göre filmlerin sayısını gösteren bir çizgi grafik çizin.\n",
    "    b. Seaborn kütüphanesi kullanarak, en çok film yapılan 10 türü bar grafiğiyle gösterin.\n",
    "    c. Matplotlib kütüphanesi kullanarak, film türlerine göre filmlerin sayısını gösteren pasta grafik çizin.\n",
    "    \n",
    "\n",
    "### 9. İlişkileri görselleştirme:\n",
    "\n",
    "    a. Seaborn kütüphanesi kullanarak, veri setindeki nümerik değişkenlerin korelasyonunu \n",
    "    gösteren bir heatmap çizin.\n",
    "    b. Seaborn ile oyunculardan birden fazla filmde rol alan oyuncuların rol aldıkları film \n",
    "    sayılarına göre ilk 20 oyucuyu görselleştir. Not: Bu soru için kullanılacak data setimiz 936 \n",
    "    satırlık data seti olacak.\n",
    "    c. Popüler 250 Filmin rating puanlarına göre hasılatını herhangi bir grafik ile gösterin .\n",
    "    \n",
    "    \n",
    "\n",
    "### 10. Sonuçları sunma:\n",
    "\n",
    "    Çizilen tüm görsellerle ilgili elde ettiğiniz bulguları buraya yazınız. \n"
   ]
  },
  {
   "cell_type": "markdown",
   "id": "ac4e6773",
   "metadata": {},
   "source": [
    "## 1. Veri setini pandas kütüphanesi kullanarak yükleyin ve index sütununu filmin başlığı yapın"
   ]
  },
  {
   "cell_type": "code",
   "execution_count": 5,
   "id": "acaa82c5",
   "metadata": {
    "ExecuteTime": {
     "end_time": "2023-09-20T19:15:32.611119Z",
     "start_time": "2023-09-20T19:15:30.882490Z"
    }
   },
   "outputs": [],
   "source": [
    "import numpy as np \n",
    "import pandas as pd\n",
    "import seaborn as sns\n",
    "import matplotlib.pyplot as plt\n",
    "%matplotlib inline\n",
    "from collections import Counter\n",
    "import warnings\n",
    "warnings.filterwarnings('ignore') "
   ]
  },
  {
   "cell_type": "code",
   "execution_count": 6,
   "id": "f6c4f3de",
   "metadata": {
    "ExecuteTime": {
     "end_time": "2023-09-20T19:15:32.649907Z",
     "start_time": "2023-09-20T19:15:32.612611Z"
    }
   },
   "outputs": [
    {
     "data": {
      "text/html": [
       "<div>\n",
       "<style scoped>\n",
       "    .dataframe tbody tr th:only-of-type {\n",
       "        vertical-align: middle;\n",
       "    }\n",
       "\n",
       "    .dataframe tbody tr th {\n",
       "        vertical-align: top;\n",
       "    }\n",
       "\n",
       "    .dataframe thead th {\n",
       "        text-align: right;\n",
       "    }\n",
       "</style>\n",
       "<table border=\"1\" class=\"dataframe\">\n",
       "  <thead>\n",
       "    <tr style=\"text-align: right;\">\n",
       "      <th></th>\n",
       "      <th>Rank</th>\n",
       "      <th>Title</th>\n",
       "      <th>Genre</th>\n",
       "      <th>Description</th>\n",
       "      <th>Director</th>\n",
       "      <th>Actors</th>\n",
       "      <th>Year</th>\n",
       "      <th>Runtime (Minutes)</th>\n",
       "      <th>Rating</th>\n",
       "      <th>Votes</th>\n",
       "      <th>Revenue (Millions)</th>\n",
       "      <th>Metascore</th>\n",
       "    </tr>\n",
       "  </thead>\n",
       "  <tbody>\n",
       "    <tr>\n",
       "      <th>0</th>\n",
       "      <td>1</td>\n",
       "      <td>Guardians of the Galaxy</td>\n",
       "      <td>Action,Adventure,Sci-Fi</td>\n",
       "      <td>A group of intergalactic criminals are forced ...</td>\n",
       "      <td>James Gunn</td>\n",
       "      <td>Chris Pratt, Vin Diesel, Bradley Cooper, Zoe S...</td>\n",
       "      <td>2014</td>\n",
       "      <td>121</td>\n",
       "      <td>8.1</td>\n",
       "      <td>757074</td>\n",
       "      <td>333.13</td>\n",
       "      <td>76.0</td>\n",
       "    </tr>\n",
       "    <tr>\n",
       "      <th>1</th>\n",
       "      <td>2</td>\n",
       "      <td>Prometheus</td>\n",
       "      <td>Adventure,Mystery,Sci-Fi</td>\n",
       "      <td>Following clues to the origin of mankind, a te...</td>\n",
       "      <td>Ridley Scott</td>\n",
       "      <td>Noomi Rapace, Logan Marshall-Green, Michael Fa...</td>\n",
       "      <td>2012</td>\n",
       "      <td>124</td>\n",
       "      <td>7.0</td>\n",
       "      <td>485820</td>\n",
       "      <td>126.46</td>\n",
       "      <td>65.0</td>\n",
       "    </tr>\n",
       "    <tr>\n",
       "      <th>2</th>\n",
       "      <td>3</td>\n",
       "      <td>Split</td>\n",
       "      <td>Horror,Thriller</td>\n",
       "      <td>Three girls are kidnapped by a man with a diag...</td>\n",
       "      <td>M. Night Shyamalan</td>\n",
       "      <td>James McAvoy, Anya Taylor-Joy, Haley Lu Richar...</td>\n",
       "      <td>2016</td>\n",
       "      <td>117</td>\n",
       "      <td>7.3</td>\n",
       "      <td>157606</td>\n",
       "      <td>138.12</td>\n",
       "      <td>62.0</td>\n",
       "    </tr>\n",
       "    <tr>\n",
       "      <th>3</th>\n",
       "      <td>4</td>\n",
       "      <td>Sing</td>\n",
       "      <td>Animation,Comedy,Family</td>\n",
       "      <td>In a city of humanoid animals, a hustling thea...</td>\n",
       "      <td>Christophe Lourdelet</td>\n",
       "      <td>Matthew McConaughey,Reese Witherspoon, Seth Ma...</td>\n",
       "      <td>2016</td>\n",
       "      <td>108</td>\n",
       "      <td>7.2</td>\n",
       "      <td>60545</td>\n",
       "      <td>270.32</td>\n",
       "      <td>59.0</td>\n",
       "    </tr>\n",
       "    <tr>\n",
       "      <th>4</th>\n",
       "      <td>5</td>\n",
       "      <td>Suicide Squad</td>\n",
       "      <td>Action,Adventure,Fantasy</td>\n",
       "      <td>A secret government agency recruits some of th...</td>\n",
       "      <td>David Ayer</td>\n",
       "      <td>Will Smith, Jared Leto, Margot Robbie, Viola D...</td>\n",
       "      <td>2016</td>\n",
       "      <td>123</td>\n",
       "      <td>6.2</td>\n",
       "      <td>393727</td>\n",
       "      <td>325.02</td>\n",
       "      <td>40.0</td>\n",
       "    </tr>\n",
       "  </tbody>\n",
       "</table>\n",
       "</div>"
      ],
      "text/plain": [
       "   Rank                    Title                     Genre  \\\n",
       "0     1  Guardians of the Galaxy   Action,Adventure,Sci-Fi   \n",
       "1     2               Prometheus  Adventure,Mystery,Sci-Fi   \n",
       "2     3                    Split           Horror,Thriller   \n",
       "3     4                     Sing   Animation,Comedy,Family   \n",
       "4     5            Suicide Squad  Action,Adventure,Fantasy   \n",
       "\n",
       "                                         Description              Director  \\\n",
       "0  A group of intergalactic criminals are forced ...            James Gunn   \n",
       "1  Following clues to the origin of mankind, a te...          Ridley Scott   \n",
       "2  Three girls are kidnapped by a man with a diag...    M. Night Shyamalan   \n",
       "3  In a city of humanoid animals, a hustling thea...  Christophe Lourdelet   \n",
       "4  A secret government agency recruits some of th...            David Ayer   \n",
       "\n",
       "                                              Actors  Year  Runtime (Minutes)  \\\n",
       "0  Chris Pratt, Vin Diesel, Bradley Cooper, Zoe S...  2014                121   \n",
       "1  Noomi Rapace, Logan Marshall-Green, Michael Fa...  2012                124   \n",
       "2  James McAvoy, Anya Taylor-Joy, Haley Lu Richar...  2016                117   \n",
       "3  Matthew McConaughey,Reese Witherspoon, Seth Ma...  2016                108   \n",
       "4  Will Smith, Jared Leto, Margot Robbie, Viola D...  2016                123   \n",
       "\n",
       "   Rating   Votes  Revenue (Millions)  Metascore  \n",
       "0     8.1  757074              333.13       76.0  \n",
       "1     7.0  485820              126.46       65.0  \n",
       "2     7.3  157606              138.12       62.0  \n",
       "3     7.2   60545              270.32       59.0  \n",
       "4     6.2  393727              325.02       40.0  "
      ]
     },
     "execution_count": 6,
     "metadata": {},
     "output_type": "execute_result"
    }
   ],
   "source": [
    "mov = pd.read_csv(\"/Users/mahmooooodie/Desktop/DV PROJECTS/MINI PROJECT/IMDB-Movie-Data.csv\")\n",
    "mov.head()"
   ]
  },
  {
   "cell_type": "code",
   "execution_count": 7,
   "id": "37af94af",
   "metadata": {
    "ExecuteTime": {
     "end_time": "2023-09-20T19:15:32.663160Z",
     "start_time": "2023-09-20T19:15:32.651004Z"
    }
   },
   "outputs": [
    {
     "data": {
      "text/html": [
       "<div>\n",
       "<style scoped>\n",
       "    .dataframe tbody tr th:only-of-type {\n",
       "        vertical-align: middle;\n",
       "    }\n",
       "\n",
       "    .dataframe tbody tr th {\n",
       "        vertical-align: top;\n",
       "    }\n",
       "\n",
       "    .dataframe thead th {\n",
       "        text-align: right;\n",
       "    }\n",
       "</style>\n",
       "<table border=\"1\" class=\"dataframe\">\n",
       "  <thead>\n",
       "    <tr style=\"text-align: right;\">\n",
       "      <th></th>\n",
       "      <th>Rank</th>\n",
       "      <th>Genre</th>\n",
       "      <th>Description</th>\n",
       "      <th>Director</th>\n",
       "      <th>Actors</th>\n",
       "      <th>Year</th>\n",
       "      <th>Runtime (Minutes)</th>\n",
       "      <th>Rating</th>\n",
       "      <th>Votes</th>\n",
       "      <th>Revenue (Millions)</th>\n",
       "      <th>Metascore</th>\n",
       "    </tr>\n",
       "    <tr>\n",
       "      <th>Title</th>\n",
       "      <th></th>\n",
       "      <th></th>\n",
       "      <th></th>\n",
       "      <th></th>\n",
       "      <th></th>\n",
       "      <th></th>\n",
       "      <th></th>\n",
       "      <th></th>\n",
       "      <th></th>\n",
       "      <th></th>\n",
       "      <th></th>\n",
       "    </tr>\n",
       "  </thead>\n",
       "  <tbody>\n",
       "    <tr>\n",
       "      <th>Guardians of the Galaxy</th>\n",
       "      <td>1</td>\n",
       "      <td>Action,Adventure,Sci-Fi</td>\n",
       "      <td>A group of intergalactic criminals are forced ...</td>\n",
       "      <td>James Gunn</td>\n",
       "      <td>Chris Pratt, Vin Diesel, Bradley Cooper, Zoe S...</td>\n",
       "      <td>2014</td>\n",
       "      <td>121</td>\n",
       "      <td>8.1</td>\n",
       "      <td>757074</td>\n",
       "      <td>333.13</td>\n",
       "      <td>76.0</td>\n",
       "    </tr>\n",
       "    <tr>\n",
       "      <th>Prometheus</th>\n",
       "      <td>2</td>\n",
       "      <td>Adventure,Mystery,Sci-Fi</td>\n",
       "      <td>Following clues to the origin of mankind, a te...</td>\n",
       "      <td>Ridley Scott</td>\n",
       "      <td>Noomi Rapace, Logan Marshall-Green, Michael Fa...</td>\n",
       "      <td>2012</td>\n",
       "      <td>124</td>\n",
       "      <td>7.0</td>\n",
       "      <td>485820</td>\n",
       "      <td>126.46</td>\n",
       "      <td>65.0</td>\n",
       "    </tr>\n",
       "    <tr>\n",
       "      <th>Split</th>\n",
       "      <td>3</td>\n",
       "      <td>Horror,Thriller</td>\n",
       "      <td>Three girls are kidnapped by a man with a diag...</td>\n",
       "      <td>M. Night Shyamalan</td>\n",
       "      <td>James McAvoy, Anya Taylor-Joy, Haley Lu Richar...</td>\n",
       "      <td>2016</td>\n",
       "      <td>117</td>\n",
       "      <td>7.3</td>\n",
       "      <td>157606</td>\n",
       "      <td>138.12</td>\n",
       "      <td>62.0</td>\n",
       "    </tr>\n",
       "    <tr>\n",
       "      <th>Sing</th>\n",
       "      <td>4</td>\n",
       "      <td>Animation,Comedy,Family</td>\n",
       "      <td>In a city of humanoid animals, a hustling thea...</td>\n",
       "      <td>Christophe Lourdelet</td>\n",
       "      <td>Matthew McConaughey,Reese Witherspoon, Seth Ma...</td>\n",
       "      <td>2016</td>\n",
       "      <td>108</td>\n",
       "      <td>7.2</td>\n",
       "      <td>60545</td>\n",
       "      <td>270.32</td>\n",
       "      <td>59.0</td>\n",
       "    </tr>\n",
       "    <tr>\n",
       "      <th>Suicide Squad</th>\n",
       "      <td>5</td>\n",
       "      <td>Action,Adventure,Fantasy</td>\n",
       "      <td>A secret government agency recruits some of th...</td>\n",
       "      <td>David Ayer</td>\n",
       "      <td>Will Smith, Jared Leto, Margot Robbie, Viola D...</td>\n",
       "      <td>2016</td>\n",
       "      <td>123</td>\n",
       "      <td>6.2</td>\n",
       "      <td>393727</td>\n",
       "      <td>325.02</td>\n",
       "      <td>40.0</td>\n",
       "    </tr>\n",
       "  </tbody>\n",
       "</table>\n",
       "</div>"
      ],
      "text/plain": [
       "                         Rank                     Genre  \\\n",
       "Title                                                     \n",
       "Guardians of the Galaxy     1   Action,Adventure,Sci-Fi   \n",
       "Prometheus                  2  Adventure,Mystery,Sci-Fi   \n",
       "Split                       3           Horror,Thriller   \n",
       "Sing                        4   Animation,Comedy,Family   \n",
       "Suicide Squad               5  Action,Adventure,Fantasy   \n",
       "\n",
       "                                                               Description  \\\n",
       "Title                                                                        \n",
       "Guardians of the Galaxy  A group of intergalactic criminals are forced ...   \n",
       "Prometheus               Following clues to the origin of mankind, a te...   \n",
       "Split                    Three girls are kidnapped by a man with a diag...   \n",
       "Sing                     In a city of humanoid animals, a hustling thea...   \n",
       "Suicide Squad            A secret government agency recruits some of th...   \n",
       "\n",
       "                                     Director  \\\n",
       "Title                                           \n",
       "Guardians of the Galaxy            James Gunn   \n",
       "Prometheus                       Ridley Scott   \n",
       "Split                      M. Night Shyamalan   \n",
       "Sing                     Christophe Lourdelet   \n",
       "Suicide Squad                      David Ayer   \n",
       "\n",
       "                                                                    Actors  \\\n",
       "Title                                                                        \n",
       "Guardians of the Galaxy  Chris Pratt, Vin Diesel, Bradley Cooper, Zoe S...   \n",
       "Prometheus               Noomi Rapace, Logan Marshall-Green, Michael Fa...   \n",
       "Split                    James McAvoy, Anya Taylor-Joy, Haley Lu Richar...   \n",
       "Sing                     Matthew McConaughey,Reese Witherspoon, Seth Ma...   \n",
       "Suicide Squad            Will Smith, Jared Leto, Margot Robbie, Viola D...   \n",
       "\n",
       "                         Year  Runtime (Minutes)  Rating   Votes  \\\n",
       "Title                                                              \n",
       "Guardians of the Galaxy  2014                121     8.1  757074   \n",
       "Prometheus               2012                124     7.0  485820   \n",
       "Split                    2016                117     7.3  157606   \n",
       "Sing                     2016                108     7.2   60545   \n",
       "Suicide Squad            2016                123     6.2  393727   \n",
       "\n",
       "                         Revenue (Millions)  Metascore  \n",
       "Title                                                   \n",
       "Guardians of the Galaxy              333.13       76.0  \n",
       "Prometheus                           126.46       65.0  \n",
       "Split                                138.12       62.0  \n",
       "Sing                                 270.32       59.0  \n",
       "Suicide Squad                        325.02       40.0  "
      ]
     },
     "execution_count": 7,
     "metadata": {},
     "output_type": "execute_result"
    }
   ],
   "source": [
    "mov.set_index('Title',inplace = True)\n",
    "mov.head()"
   ]
  },
  {
   "cell_type": "markdown",
   "id": "b98832d1",
   "metadata": {},
   "source": [
    "## 2. Veri setini tanıyın"
   ]
  },
  {
   "cell_type": "code",
   "execution_count": 8,
   "id": "9df204ce",
   "metadata": {
    "ExecuteTime": {
     "end_time": "2023-09-20T19:15:32.679680Z",
     "start_time": "2023-09-20T19:15:32.664868Z"
    }
   },
   "outputs": [
    {
     "name": "stdout",
     "output_type": "stream",
     "text": [
      "<class 'pandas.core.frame.DataFrame'>\n",
      "Index: 1000 entries, Guardians of the Galaxy to Nine Lives\n",
      "Data columns (total 11 columns):\n",
      " #   Column              Non-Null Count  Dtype  \n",
      "---  ------              --------------  -----  \n",
      " 0   Rank                1000 non-null   int64  \n",
      " 1   Genre               1000 non-null   object \n",
      " 2   Description         1000 non-null   object \n",
      " 3   Director            1000 non-null   object \n",
      " 4   Actors              1000 non-null   object \n",
      " 5   Year                1000 non-null   int64  \n",
      " 6   Runtime (Minutes)   1000 non-null   int64  \n",
      " 7   Rating              1000 non-null   float64\n",
      " 8   Votes               1000 non-null   int64  \n",
      " 9   Revenue (Millions)  872 non-null    float64\n",
      " 10  Metascore           936 non-null    float64\n",
      "dtypes: float64(3), int64(4), object(4)\n",
      "memory usage: 93.8+ KB\n"
     ]
    }
   ],
   "source": [
    "mov.info()"
   ]
  },
  {
   "cell_type": "code",
   "execution_count": 9,
   "id": "61b49f1c",
   "metadata": {
    "ExecuteTime": {
     "end_time": "2023-09-20T19:15:32.697282Z",
     "start_time": "2023-09-20T19:15:32.680721Z"
    }
   },
   "outputs": [
    {
     "data": {
      "text/html": [
       "<div>\n",
       "<style scoped>\n",
       "    .dataframe tbody tr th:only-of-type {\n",
       "        vertical-align: middle;\n",
       "    }\n",
       "\n",
       "    .dataframe tbody tr th {\n",
       "        vertical-align: top;\n",
       "    }\n",
       "\n",
       "    .dataframe thead th {\n",
       "        text-align: right;\n",
       "    }\n",
       "</style>\n",
       "<table border=\"1\" class=\"dataframe\">\n",
       "  <thead>\n",
       "    <tr style=\"text-align: right;\">\n",
       "      <th></th>\n",
       "      <th>Rank</th>\n",
       "      <th>Year</th>\n",
       "      <th>Runtime (Minutes)</th>\n",
       "      <th>Rating</th>\n",
       "      <th>Votes</th>\n",
       "      <th>Revenue (Millions)</th>\n",
       "      <th>Metascore</th>\n",
       "    </tr>\n",
       "  </thead>\n",
       "  <tbody>\n",
       "    <tr>\n",
       "      <th>count</th>\n",
       "      <td>1000.000000</td>\n",
       "      <td>1000.000000</td>\n",
       "      <td>1000.000000</td>\n",
       "      <td>1000.000000</td>\n",
       "      <td>1.000000e+03</td>\n",
       "      <td>872.000000</td>\n",
       "      <td>936.000000</td>\n",
       "    </tr>\n",
       "    <tr>\n",
       "      <th>mean</th>\n",
       "      <td>500.500000</td>\n",
       "      <td>2012.783000</td>\n",
       "      <td>113.172000</td>\n",
       "      <td>6.723200</td>\n",
       "      <td>1.698083e+05</td>\n",
       "      <td>82.956376</td>\n",
       "      <td>58.985043</td>\n",
       "    </tr>\n",
       "    <tr>\n",
       "      <th>std</th>\n",
       "      <td>288.819436</td>\n",
       "      <td>3.205962</td>\n",
       "      <td>18.810908</td>\n",
       "      <td>0.945429</td>\n",
       "      <td>1.887626e+05</td>\n",
       "      <td>103.253540</td>\n",
       "      <td>17.194757</td>\n",
       "    </tr>\n",
       "    <tr>\n",
       "      <th>min</th>\n",
       "      <td>1.000000</td>\n",
       "      <td>2006.000000</td>\n",
       "      <td>66.000000</td>\n",
       "      <td>1.900000</td>\n",
       "      <td>6.100000e+01</td>\n",
       "      <td>0.000000</td>\n",
       "      <td>11.000000</td>\n",
       "    </tr>\n",
       "    <tr>\n",
       "      <th>25%</th>\n",
       "      <td>250.750000</td>\n",
       "      <td>2010.000000</td>\n",
       "      <td>100.000000</td>\n",
       "      <td>6.200000</td>\n",
       "      <td>3.630900e+04</td>\n",
       "      <td>13.270000</td>\n",
       "      <td>47.000000</td>\n",
       "    </tr>\n",
       "    <tr>\n",
       "      <th>50%</th>\n",
       "      <td>500.500000</td>\n",
       "      <td>2014.000000</td>\n",
       "      <td>111.000000</td>\n",
       "      <td>6.800000</td>\n",
       "      <td>1.107990e+05</td>\n",
       "      <td>47.985000</td>\n",
       "      <td>59.500000</td>\n",
       "    </tr>\n",
       "    <tr>\n",
       "      <th>75%</th>\n",
       "      <td>750.250000</td>\n",
       "      <td>2016.000000</td>\n",
       "      <td>123.000000</td>\n",
       "      <td>7.400000</td>\n",
       "      <td>2.399098e+05</td>\n",
       "      <td>113.715000</td>\n",
       "      <td>72.000000</td>\n",
       "    </tr>\n",
       "    <tr>\n",
       "      <th>max</th>\n",
       "      <td>1000.000000</td>\n",
       "      <td>2016.000000</td>\n",
       "      <td>191.000000</td>\n",
       "      <td>9.000000</td>\n",
       "      <td>1.791916e+06</td>\n",
       "      <td>936.630000</td>\n",
       "      <td>100.000000</td>\n",
       "    </tr>\n",
       "  </tbody>\n",
       "</table>\n",
       "</div>"
      ],
      "text/plain": [
       "              Rank         Year  Runtime (Minutes)       Rating         Votes  \\\n",
       "count  1000.000000  1000.000000        1000.000000  1000.000000  1.000000e+03   \n",
       "mean    500.500000  2012.783000         113.172000     6.723200  1.698083e+05   \n",
       "std     288.819436     3.205962          18.810908     0.945429  1.887626e+05   \n",
       "min       1.000000  2006.000000          66.000000     1.900000  6.100000e+01   \n",
       "25%     250.750000  2010.000000         100.000000     6.200000  3.630900e+04   \n",
       "50%     500.500000  2014.000000         111.000000     6.800000  1.107990e+05   \n",
       "75%     750.250000  2016.000000         123.000000     7.400000  2.399098e+05   \n",
       "max    1000.000000  2016.000000         191.000000     9.000000  1.791916e+06   \n",
       "\n",
       "       Revenue (Millions)   Metascore  \n",
       "count          872.000000  936.000000  \n",
       "mean            82.956376   58.985043  \n",
       "std            103.253540   17.194757  \n",
       "min              0.000000   11.000000  \n",
       "25%             13.270000   47.000000  \n",
       "50%             47.985000   59.500000  \n",
       "75%            113.715000   72.000000  \n",
       "max            936.630000  100.000000  "
      ]
     },
     "execution_count": 9,
     "metadata": {},
     "output_type": "execute_result"
    }
   ],
   "source": [
    "mov.describe()"
   ]
  },
  {
   "cell_type": "code",
   "execution_count": 10,
   "id": "e2133794",
   "metadata": {
    "ExecuteTime": {
     "end_time": "2023-09-20T19:15:32.817482Z",
     "start_time": "2023-09-20T19:15:32.804969Z"
    }
   },
   "outputs": [
    {
     "data": {
      "text/html": [
       "<div>\n",
       "<style scoped>\n",
       "    .dataframe tbody tr th:only-of-type {\n",
       "        vertical-align: middle;\n",
       "    }\n",
       "\n",
       "    .dataframe tbody tr th {\n",
       "        vertical-align: top;\n",
       "    }\n",
       "\n",
       "    .dataframe thead th {\n",
       "        text-align: right;\n",
       "    }\n",
       "</style>\n",
       "<table border=\"1\" class=\"dataframe\">\n",
       "  <thead>\n",
       "    <tr style=\"text-align: right;\">\n",
       "      <th></th>\n",
       "      <th>Rank</th>\n",
       "      <th>Genre</th>\n",
       "      <th>Description</th>\n",
       "      <th>Director</th>\n",
       "      <th>Actors</th>\n",
       "      <th>Year</th>\n",
       "      <th>Runtime (Minutes)</th>\n",
       "      <th>Rating</th>\n",
       "      <th>Votes</th>\n",
       "      <th>Revenue (Millions)</th>\n",
       "      <th>Metascore</th>\n",
       "    </tr>\n",
       "    <tr>\n",
       "      <th>Title</th>\n",
       "      <th></th>\n",
       "      <th></th>\n",
       "      <th></th>\n",
       "      <th></th>\n",
       "      <th></th>\n",
       "      <th></th>\n",
       "      <th></th>\n",
       "      <th></th>\n",
       "      <th></th>\n",
       "      <th></th>\n",
       "      <th></th>\n",
       "    </tr>\n",
       "  </thead>\n",
       "  <tbody>\n",
       "    <tr>\n",
       "      <th>Fast Five</th>\n",
       "      <td>320</td>\n",
       "      <td>Action,Crime,Thriller</td>\n",
       "      <td>Dominic Toretto and his crew of street racers ...</td>\n",
       "      <td>Justin Lin</td>\n",
       "      <td>Vin Diesel, Paul Walker, Dwayne Johnson, Jorda...</td>\n",
       "      <td>2011</td>\n",
       "      <td>131</td>\n",
       "      <td>7.3</td>\n",
       "      <td>300803</td>\n",
       "      <td>209.81</td>\n",
       "      <td>66.0</td>\n",
       "    </tr>\n",
       "    <tr>\n",
       "      <th>The Dark Knight</th>\n",
       "      <td>55</td>\n",
       "      <td>Action,Crime,Drama</td>\n",
       "      <td>When the menace known as the Joker wreaks havo...</td>\n",
       "      <td>Christopher Nolan</td>\n",
       "      <td>Christian Bale, Heath Ledger, Aaron Eckhart,Mi...</td>\n",
       "      <td>2008</td>\n",
       "      <td>152</td>\n",
       "      <td>9.0</td>\n",
       "      <td>1791916</td>\n",
       "      <td>533.32</td>\n",
       "      <td>82.0</td>\n",
       "    </tr>\n",
       "    <tr>\n",
       "      <th>The Neighbor</th>\n",
       "      <td>706</td>\n",
       "      <td>Crime,Horror,Thriller</td>\n",
       "      <td>Set in Cutter Mississippi, the film follows a ...</td>\n",
       "      <td>Marcus Dunstan</td>\n",
       "      <td>Josh Stewart, Bill Engvall, Alex Essoe, Ronnie...</td>\n",
       "      <td>2016</td>\n",
       "      <td>87</td>\n",
       "      <td>5.8</td>\n",
       "      <td>4754</td>\n",
       "      <td>NaN</td>\n",
       "      <td>60.0</td>\n",
       "    </tr>\n",
       "    <tr>\n",
       "      <th>Jumper</th>\n",
       "      <td>688</td>\n",
       "      <td>Action,Adventure,Sci-Fi</td>\n",
       "      <td>A teenager with teleportation abilities sudden...</td>\n",
       "      <td>Doug Liman</td>\n",
       "      <td>Hayden Christensen, Samuel L. Jackson, Jamie B...</td>\n",
       "      <td>2008</td>\n",
       "      <td>88</td>\n",
       "      <td>6.1</td>\n",
       "      <td>252503</td>\n",
       "      <td>80.17</td>\n",
       "      <td>35.0</td>\n",
       "    </tr>\n",
       "    <tr>\n",
       "      <th>Annie</th>\n",
       "      <td>982</td>\n",
       "      <td>Comedy,Drama,Family</td>\n",
       "      <td>A foster kid, who lives with her mean foster m...</td>\n",
       "      <td>Will Gluck</td>\n",
       "      <td>Quvenzhané Wallis, Cameron Diaz, Jamie Foxx, R...</td>\n",
       "      <td>2014</td>\n",
       "      <td>118</td>\n",
       "      <td>5.3</td>\n",
       "      <td>27312</td>\n",
       "      <td>85.91</td>\n",
       "      <td>33.0</td>\n",
       "    </tr>\n",
       "  </tbody>\n",
       "</table>\n",
       "</div>"
      ],
      "text/plain": [
       "                 Rank                    Genre  \\\n",
       "Title                                            \n",
       "Fast Five         320    Action,Crime,Thriller   \n",
       "The Dark Knight    55       Action,Crime,Drama   \n",
       "The Neighbor      706    Crime,Horror,Thriller   \n",
       "Jumper            688  Action,Adventure,Sci-Fi   \n",
       "Annie             982      Comedy,Drama,Family   \n",
       "\n",
       "                                                       Description  \\\n",
       "Title                                                                \n",
       "Fast Five        Dominic Toretto and his crew of street racers ...   \n",
       "The Dark Knight  When the menace known as the Joker wreaks havo...   \n",
       "The Neighbor     Set in Cutter Mississippi, the film follows a ...   \n",
       "Jumper           A teenager with teleportation abilities sudden...   \n",
       "Annie            A foster kid, who lives with her mean foster m...   \n",
       "\n",
       "                          Director  \\\n",
       "Title                                \n",
       "Fast Five               Justin Lin   \n",
       "The Dark Knight  Christopher Nolan   \n",
       "The Neighbor        Marcus Dunstan   \n",
       "Jumper                  Doug Liman   \n",
       "Annie                   Will Gluck   \n",
       "\n",
       "                                                            Actors  Year  \\\n",
       "Title                                                                      \n",
       "Fast Five        Vin Diesel, Paul Walker, Dwayne Johnson, Jorda...  2011   \n",
       "The Dark Knight  Christian Bale, Heath Ledger, Aaron Eckhart,Mi...  2008   \n",
       "The Neighbor     Josh Stewart, Bill Engvall, Alex Essoe, Ronnie...  2016   \n",
       "Jumper           Hayden Christensen, Samuel L. Jackson, Jamie B...  2008   \n",
       "Annie            Quvenzhané Wallis, Cameron Diaz, Jamie Foxx, R...  2014   \n",
       "\n",
       "                 Runtime (Minutes)  Rating    Votes  Revenue (Millions)  \\\n",
       "Title                                                                     \n",
       "Fast Five                      131     7.3   300803              209.81   \n",
       "The Dark Knight                152     9.0  1791916              533.32   \n",
       "The Neighbor                    87     5.8     4754                 NaN   \n",
       "Jumper                          88     6.1   252503               80.17   \n",
       "Annie                          118     5.3    27312               85.91   \n",
       "\n",
       "                 Metascore  \n",
       "Title                       \n",
       "Fast Five             66.0  \n",
       "The Dark Knight       82.0  \n",
       "The Neighbor          60.0  \n",
       "Jumper                35.0  \n",
       "Annie                 33.0  "
      ]
     },
     "execution_count": 10,
     "metadata": {},
     "output_type": "execute_result"
    }
   ],
   "source": [
    "mov.sample(5)"
   ]
  },
  {
   "cell_type": "markdown",
   "id": "fc7b9a43",
   "metadata": {},
   "source": [
    "## 3. Veri setindeki sütun isimlerini kullanışlı hale getirin"
   ]
  },
  {
   "cell_type": "code",
   "execution_count": 11,
   "id": "223c29fe",
   "metadata": {
    "ExecuteTime": {
     "end_time": "2023-09-20T19:15:33.522602Z",
     "start_time": "2023-09-20T19:15:33.515560Z"
    }
   },
   "outputs": [],
   "source": [
    "new_columns = {\n",
    "    'Title':'title',\n",
    "    'Rank':'rank',\n",
    "    'Genre':'genre',\n",
    "    'Description':'description',\n",
    "    'Director':'director',\n",
    "    'Actors':'actor',\n",
    "    'Year':'year',\n",
    "    'Runtime (Minutes)':'runtime',\n",
    "    'Rating':'rating',\n",
    "    'Votes':'votes',\n",
    "    'Revenue (Millions)':'revenue',\n",
    "    'Metascore':'metascore'\n",
    "}\n",
    "mov.rename(columns = new_columns, inplace = True)"
   ]
  },
  {
   "cell_type": "markdown",
   "id": "750332aa",
   "metadata": {},
   "source": [
    "## 4. Missing Value tespit edilsin ve bu kapsamda aşağıdaki şekilde mücadele edilsin."
   ]
  },
  {
   "cell_type": "markdown",
   "id": "7be46d91",
   "metadata": {},
   "source": [
    "#### a.Missing value kontrolü hem pandas hemde missingno kütüphanelerini kullanarak yapın"
   ]
  },
  {
   "cell_type": "code",
   "execution_count": 12,
   "id": "42382c29",
   "metadata": {
    "ExecuteTime": {
     "end_time": "2023-09-20T19:15:34.241583Z",
     "start_time": "2023-09-20T19:15:34.225903Z"
    }
   },
   "outputs": [
    {
     "name": "stdout",
     "output_type": "stream",
     "text": [
      "<class 'pandas.core.frame.DataFrame'>\n",
      "Index: 1000 entries, Guardians of the Galaxy to Nine Lives\n",
      "Data columns (total 11 columns):\n",
      " #   Column       Non-Null Count  Dtype  \n",
      "---  ------       --------------  -----  \n",
      " 0   rank         1000 non-null   int64  \n",
      " 1   genre        1000 non-null   object \n",
      " 2   description  1000 non-null   object \n",
      " 3   director     1000 non-null   object \n",
      " 4   actor        1000 non-null   object \n",
      " 5   year         1000 non-null   int64  \n",
      " 6   runtime      1000 non-null   int64  \n",
      " 7   rating       1000 non-null   float64\n",
      " 8   votes        1000 non-null   int64  \n",
      " 9   revenue      872 non-null    float64\n",
      " 10  metascore    936 non-null    float64\n",
      "dtypes: float64(3), int64(4), object(4)\n",
      "memory usage: 93.8+ KB\n"
     ]
    }
   ],
   "source": [
    "mov.info()"
   ]
  },
  {
   "cell_type": "code",
   "execution_count": 13,
   "id": "8b8f5750",
   "metadata": {
    "ExecuteTime": {
     "end_time": "2023-09-20T19:15:34.439897Z",
     "start_time": "2023-09-20T19:15:34.429793Z"
    }
   },
   "outputs": [
    {
     "data": {
      "text/plain": [
       "128"
      ]
     },
     "execution_count": 13,
     "metadata": {},
     "output_type": "execute_result"
    }
   ],
   "source": [
    "missing_values_rev = mov['revenue'].isna().sum()\n",
    "missing_values_rev"
   ]
  },
  {
   "cell_type": "code",
   "execution_count": 14,
   "id": "4fc9e0d7",
   "metadata": {
    "ExecuteTime": {
     "end_time": "2023-09-20T19:15:34.625017Z",
     "start_time": "2023-09-20T19:15:34.617925Z"
    }
   },
   "outputs": [
    {
     "data": {
      "text/plain": [
       "64"
      ]
     },
     "execution_count": 14,
     "metadata": {},
     "output_type": "execute_result"
    }
   ],
   "source": [
    "missing_values_met = mov['metascore'].isna().sum()\n",
    "missing_values_met"
   ]
  },
  {
   "cell_type": "code",
   "execution_count": 15,
   "id": "8457aa5e",
   "metadata": {
    "ExecuteTime": {
     "end_time": "2023-09-20T19:15:34.963358Z",
     "start_time": "2023-09-20T19:15:34.937251Z"
    }
   },
   "outputs": [
    {
     "data": {
      "text/html": [
       "<div>\n",
       "<style scoped>\n",
       "    .dataframe tbody tr th:only-of-type {\n",
       "        vertical-align: middle;\n",
       "    }\n",
       "\n",
       "    .dataframe tbody tr th {\n",
       "        vertical-align: top;\n",
       "    }\n",
       "\n",
       "    .dataframe thead th {\n",
       "        text-align: right;\n",
       "    }\n",
       "</style>\n",
       "<table border=\"1\" class=\"dataframe\">\n",
       "  <thead>\n",
       "    <tr style=\"text-align: right;\">\n",
       "      <th></th>\n",
       "      <th>rank</th>\n",
       "      <th>genre</th>\n",
       "      <th>description</th>\n",
       "      <th>director</th>\n",
       "      <th>actor</th>\n",
       "      <th>year</th>\n",
       "      <th>runtime</th>\n",
       "      <th>rating</th>\n",
       "      <th>votes</th>\n",
       "      <th>revenue</th>\n",
       "      <th>metascore</th>\n",
       "    </tr>\n",
       "    <tr>\n",
       "      <th>Title</th>\n",
       "      <th></th>\n",
       "      <th></th>\n",
       "      <th></th>\n",
       "      <th></th>\n",
       "      <th></th>\n",
       "      <th></th>\n",
       "      <th></th>\n",
       "      <th></th>\n",
       "      <th></th>\n",
       "      <th></th>\n",
       "      <th></th>\n",
       "    </tr>\n",
       "  </thead>\n",
       "  <tbody>\n",
       "    <tr>\n",
       "      <th>Guardians of the Galaxy</th>\n",
       "      <td>False</td>\n",
       "      <td>False</td>\n",
       "      <td>False</td>\n",
       "      <td>False</td>\n",
       "      <td>False</td>\n",
       "      <td>False</td>\n",
       "      <td>False</td>\n",
       "      <td>False</td>\n",
       "      <td>False</td>\n",
       "      <td>False</td>\n",
       "      <td>False</td>\n",
       "    </tr>\n",
       "    <tr>\n",
       "      <th>Prometheus</th>\n",
       "      <td>False</td>\n",
       "      <td>False</td>\n",
       "      <td>False</td>\n",
       "      <td>False</td>\n",
       "      <td>False</td>\n",
       "      <td>False</td>\n",
       "      <td>False</td>\n",
       "      <td>False</td>\n",
       "      <td>False</td>\n",
       "      <td>False</td>\n",
       "      <td>False</td>\n",
       "    </tr>\n",
       "    <tr>\n",
       "      <th>Split</th>\n",
       "      <td>False</td>\n",
       "      <td>False</td>\n",
       "      <td>False</td>\n",
       "      <td>False</td>\n",
       "      <td>False</td>\n",
       "      <td>False</td>\n",
       "      <td>False</td>\n",
       "      <td>False</td>\n",
       "      <td>False</td>\n",
       "      <td>False</td>\n",
       "      <td>False</td>\n",
       "    </tr>\n",
       "    <tr>\n",
       "      <th>Sing</th>\n",
       "      <td>False</td>\n",
       "      <td>False</td>\n",
       "      <td>False</td>\n",
       "      <td>False</td>\n",
       "      <td>False</td>\n",
       "      <td>False</td>\n",
       "      <td>False</td>\n",
       "      <td>False</td>\n",
       "      <td>False</td>\n",
       "      <td>False</td>\n",
       "      <td>False</td>\n",
       "    </tr>\n",
       "    <tr>\n",
       "      <th>Suicide Squad</th>\n",
       "      <td>False</td>\n",
       "      <td>False</td>\n",
       "      <td>False</td>\n",
       "      <td>False</td>\n",
       "      <td>False</td>\n",
       "      <td>False</td>\n",
       "      <td>False</td>\n",
       "      <td>False</td>\n",
       "      <td>False</td>\n",
       "      <td>False</td>\n",
       "      <td>False</td>\n",
       "    </tr>\n",
       "    <tr>\n",
       "      <th>...</th>\n",
       "      <td>...</td>\n",
       "      <td>...</td>\n",
       "      <td>...</td>\n",
       "      <td>...</td>\n",
       "      <td>...</td>\n",
       "      <td>...</td>\n",
       "      <td>...</td>\n",
       "      <td>...</td>\n",
       "      <td>...</td>\n",
       "      <td>...</td>\n",
       "      <td>...</td>\n",
       "    </tr>\n",
       "    <tr>\n",
       "      <th>Secret in Their Eyes</th>\n",
       "      <td>False</td>\n",
       "      <td>False</td>\n",
       "      <td>False</td>\n",
       "      <td>False</td>\n",
       "      <td>False</td>\n",
       "      <td>False</td>\n",
       "      <td>False</td>\n",
       "      <td>False</td>\n",
       "      <td>False</td>\n",
       "      <td>True</td>\n",
       "      <td>False</td>\n",
       "    </tr>\n",
       "    <tr>\n",
       "      <th>Hostel: Part II</th>\n",
       "      <td>False</td>\n",
       "      <td>False</td>\n",
       "      <td>False</td>\n",
       "      <td>False</td>\n",
       "      <td>False</td>\n",
       "      <td>False</td>\n",
       "      <td>False</td>\n",
       "      <td>False</td>\n",
       "      <td>False</td>\n",
       "      <td>False</td>\n",
       "      <td>False</td>\n",
       "    </tr>\n",
       "    <tr>\n",
       "      <th>Step Up 2: The Streets</th>\n",
       "      <td>False</td>\n",
       "      <td>False</td>\n",
       "      <td>False</td>\n",
       "      <td>False</td>\n",
       "      <td>False</td>\n",
       "      <td>False</td>\n",
       "      <td>False</td>\n",
       "      <td>False</td>\n",
       "      <td>False</td>\n",
       "      <td>False</td>\n",
       "      <td>False</td>\n",
       "    </tr>\n",
       "    <tr>\n",
       "      <th>Search Party</th>\n",
       "      <td>False</td>\n",
       "      <td>False</td>\n",
       "      <td>False</td>\n",
       "      <td>False</td>\n",
       "      <td>False</td>\n",
       "      <td>False</td>\n",
       "      <td>False</td>\n",
       "      <td>False</td>\n",
       "      <td>False</td>\n",
       "      <td>True</td>\n",
       "      <td>False</td>\n",
       "    </tr>\n",
       "    <tr>\n",
       "      <th>Nine Lives</th>\n",
       "      <td>False</td>\n",
       "      <td>False</td>\n",
       "      <td>False</td>\n",
       "      <td>False</td>\n",
       "      <td>False</td>\n",
       "      <td>False</td>\n",
       "      <td>False</td>\n",
       "      <td>False</td>\n",
       "      <td>False</td>\n",
       "      <td>False</td>\n",
       "      <td>False</td>\n",
       "    </tr>\n",
       "  </tbody>\n",
       "</table>\n",
       "<p>1000 rows × 11 columns</p>\n",
       "</div>"
      ],
      "text/plain": [
       "                          rank  genre  description  director  actor   year  \\\n",
       "Title                                                                        \n",
       "Guardians of the Galaxy  False  False        False     False  False  False   \n",
       "Prometheus               False  False        False     False  False  False   \n",
       "Split                    False  False        False     False  False  False   \n",
       "Sing                     False  False        False     False  False  False   \n",
       "Suicide Squad            False  False        False     False  False  False   \n",
       "...                        ...    ...          ...       ...    ...    ...   \n",
       "Secret in Their Eyes     False  False        False     False  False  False   \n",
       "Hostel: Part II          False  False        False     False  False  False   \n",
       "Step Up 2: The Streets   False  False        False     False  False  False   \n",
       "Search Party             False  False        False     False  False  False   \n",
       "Nine Lives               False  False        False     False  False  False   \n",
       "\n",
       "                         runtime  rating  votes  revenue  metascore  \n",
       "Title                                                                \n",
       "Guardians of the Galaxy    False   False  False    False      False  \n",
       "Prometheus                 False   False  False    False      False  \n",
       "Split                      False   False  False    False      False  \n",
       "Sing                       False   False  False    False      False  \n",
       "Suicide Squad              False   False  False    False      False  \n",
       "...                          ...     ...    ...      ...        ...  \n",
       "Secret in Their Eyes       False   False  False     True      False  \n",
       "Hostel: Part II            False   False  False    False      False  \n",
       "Step Up 2: The Streets     False   False  False    False      False  \n",
       "Search Party               False   False  False     True      False  \n",
       "Nine Lives                 False   False  False    False      False  \n",
       "\n",
       "[1000 rows x 11 columns]"
      ]
     },
     "execution_count": 15,
     "metadata": {},
     "output_type": "execute_result"
    }
   ],
   "source": [
    "missing = mov.isna()\n",
    "missing"
   ]
  },
  {
   "cell_type": "code",
   "execution_count": 16,
   "id": "1a0fc3b8",
   "metadata": {
    "ExecuteTime": {
     "end_time": "2023-09-20T19:15:35.283803Z",
     "start_time": "2023-09-20T19:15:35.257493Z"
    },
    "scrolled": false
   },
   "outputs": [
    {
     "data": {
      "text/html": [
       "<div>\n",
       "<style scoped>\n",
       "    .dataframe tbody tr th:only-of-type {\n",
       "        vertical-align: middle;\n",
       "    }\n",
       "\n",
       "    .dataframe tbody tr th {\n",
       "        vertical-align: top;\n",
       "    }\n",
       "\n",
       "    .dataframe thead th {\n",
       "        text-align: right;\n",
       "    }\n",
       "</style>\n",
       "<table border=\"1\" class=\"dataframe\">\n",
       "  <thead>\n",
       "    <tr style=\"text-align: right;\">\n",
       "      <th></th>\n",
       "      <th>rank</th>\n",
       "      <th>genre</th>\n",
       "      <th>description</th>\n",
       "      <th>director</th>\n",
       "      <th>actor</th>\n",
       "      <th>year</th>\n",
       "      <th>runtime</th>\n",
       "      <th>rating</th>\n",
       "      <th>votes</th>\n",
       "      <th>revenue</th>\n",
       "      <th>metascore</th>\n",
       "    </tr>\n",
       "    <tr>\n",
       "      <th>Title</th>\n",
       "      <th></th>\n",
       "      <th></th>\n",
       "      <th></th>\n",
       "      <th></th>\n",
       "      <th></th>\n",
       "      <th></th>\n",
       "      <th></th>\n",
       "      <th></th>\n",
       "      <th></th>\n",
       "      <th></th>\n",
       "      <th></th>\n",
       "    </tr>\n",
       "  </thead>\n",
       "  <tbody>\n",
       "    <tr>\n",
       "      <th>Mindhorn</th>\n",
       "      <td>8</td>\n",
       "      <td>Comedy</td>\n",
       "      <td>A has-been actor best known for playing the ti...</td>\n",
       "      <td>Sean Foley</td>\n",
       "      <td>Essie Davis, Andrea Riseborough, Julian Barrat...</td>\n",
       "      <td>2016</td>\n",
       "      <td>89</td>\n",
       "      <td>6.4</td>\n",
       "      <td>2490</td>\n",
       "      <td>NaN</td>\n",
       "      <td>71.0</td>\n",
       "    </tr>\n",
       "    <tr>\n",
       "      <th>Hounds of Love</th>\n",
       "      <td>23</td>\n",
       "      <td>Crime,Drama,Horror</td>\n",
       "      <td>A cold-blooded predatory couple while cruising...</td>\n",
       "      <td>Ben Young</td>\n",
       "      <td>Emma Booth, Ashleigh Cummings, Stephen Curry,S...</td>\n",
       "      <td>2016</td>\n",
       "      <td>108</td>\n",
       "      <td>6.7</td>\n",
       "      <td>1115</td>\n",
       "      <td>NaN</td>\n",
       "      <td>72.0</td>\n",
       "    </tr>\n",
       "    <tr>\n",
       "      <th>Paris pieds nus</th>\n",
       "      <td>26</td>\n",
       "      <td>Comedy</td>\n",
       "      <td>Fiona visits Paris for the first time to assis...</td>\n",
       "      <td>Dominique Abel</td>\n",
       "      <td>Fiona Gordon, Dominique Abel,Emmanuelle Riva, ...</td>\n",
       "      <td>2016</td>\n",
       "      <td>83</td>\n",
       "      <td>6.8</td>\n",
       "      <td>222</td>\n",
       "      <td>NaN</td>\n",
       "      <td>NaN</td>\n",
       "    </tr>\n",
       "    <tr>\n",
       "      <th>5- 25- 77</th>\n",
       "      <td>40</td>\n",
       "      <td>Comedy,Drama</td>\n",
       "      <td>Alienated, hopeful-filmmaker Pat Johnson's epi...</td>\n",
       "      <td>Patrick Read Johnson</td>\n",
       "      <td>John Francis Daley, Austin Pendleton, Colleen ...</td>\n",
       "      <td>2007</td>\n",
       "      <td>113</td>\n",
       "      <td>7.1</td>\n",
       "      <td>241</td>\n",
       "      <td>NaN</td>\n",
       "      <td>NaN</td>\n",
       "    </tr>\n",
       "    <tr>\n",
       "      <th>Don't Fuck in the Woods</th>\n",
       "      <td>43</td>\n",
       "      <td>Horror</td>\n",
       "      <td>A group of friends are going on a camping trip...</td>\n",
       "      <td>Shawn Burkett</td>\n",
       "      <td>Brittany Blanton, Ayse Howard, Roman Jossart,N...</td>\n",
       "      <td>2016</td>\n",
       "      <td>73</td>\n",
       "      <td>2.7</td>\n",
       "      <td>496</td>\n",
       "      <td>NaN</td>\n",
       "      <td>NaN</td>\n",
       "    </tr>\n",
       "    <tr>\n",
       "      <th>...</th>\n",
       "      <td>...</td>\n",
       "      <td>...</td>\n",
       "      <td>...</td>\n",
       "      <td>...</td>\n",
       "      <td>...</td>\n",
       "      <td>...</td>\n",
       "      <td>...</td>\n",
       "      <td>...</td>\n",
       "      <td>...</td>\n",
       "      <td>...</td>\n",
       "      <td>...</td>\n",
       "    </tr>\n",
       "    <tr>\n",
       "      <th>Amateur Night</th>\n",
       "      <td>978</td>\n",
       "      <td>Comedy</td>\n",
       "      <td>Guy Carter is an award-winning graduate studen...</td>\n",
       "      <td>Lisa Addario</td>\n",
       "      <td>Jason Biggs, Janet Montgomery,Ashley Tisdale, ...</td>\n",
       "      <td>2016</td>\n",
       "      <td>92</td>\n",
       "      <td>5.0</td>\n",
       "      <td>2229</td>\n",
       "      <td>NaN</td>\n",
       "      <td>38.0</td>\n",
       "    </tr>\n",
       "    <tr>\n",
       "      <th>It's Only the End of the World</th>\n",
       "      <td>979</td>\n",
       "      <td>Drama</td>\n",
       "      <td>Louis (Gaspard Ulliel), a terminally ill write...</td>\n",
       "      <td>Xavier Dolan</td>\n",
       "      <td>Nathalie Baye, Vincent Cassel, Marion Cotillar...</td>\n",
       "      <td>2016</td>\n",
       "      <td>97</td>\n",
       "      <td>7.0</td>\n",
       "      <td>10658</td>\n",
       "      <td>NaN</td>\n",
       "      <td>48.0</td>\n",
       "    </tr>\n",
       "    <tr>\n",
       "      <th>Martyrs</th>\n",
       "      <td>989</td>\n",
       "      <td>Horror</td>\n",
       "      <td>A young woman's quest for revenge against the ...</td>\n",
       "      <td>Pascal Laugier</td>\n",
       "      <td>Morjana Alaoui, Mylène Jampanoï, Catherine Bég...</td>\n",
       "      <td>2008</td>\n",
       "      <td>99</td>\n",
       "      <td>7.1</td>\n",
       "      <td>63785</td>\n",
       "      <td>NaN</td>\n",
       "      <td>89.0</td>\n",
       "    </tr>\n",
       "    <tr>\n",
       "      <th>Secret in Their Eyes</th>\n",
       "      <td>996</td>\n",
       "      <td>Crime,Drama,Mystery</td>\n",
       "      <td>A tight-knit team of rising investigators, alo...</td>\n",
       "      <td>Billy Ray</td>\n",
       "      <td>Chiwetel Ejiofor, Nicole Kidman, Julia Roberts...</td>\n",
       "      <td>2015</td>\n",
       "      <td>111</td>\n",
       "      <td>6.2</td>\n",
       "      <td>27585</td>\n",
       "      <td>NaN</td>\n",
       "      <td>45.0</td>\n",
       "    </tr>\n",
       "    <tr>\n",
       "      <th>Search Party</th>\n",
       "      <td>999</td>\n",
       "      <td>Adventure,Comedy</td>\n",
       "      <td>A pair of friends embark on a mission to reuni...</td>\n",
       "      <td>Scot Armstrong</td>\n",
       "      <td>Adam Pally, T.J. Miller, Thomas Middleditch,Sh...</td>\n",
       "      <td>2014</td>\n",
       "      <td>93</td>\n",
       "      <td>5.6</td>\n",
       "      <td>4881</td>\n",
       "      <td>NaN</td>\n",
       "      <td>22.0</td>\n",
       "    </tr>\n",
       "  </tbody>\n",
       "</table>\n",
       "<p>128 rows × 11 columns</p>\n",
       "</div>"
      ],
      "text/plain": [
       "                                rank                genre  \\\n",
       "Title                                                       \n",
       "Mindhorn                           8               Comedy   \n",
       "Hounds of Love                    23   Crime,Drama,Horror   \n",
       "Paris pieds nus                   26               Comedy   \n",
       "5- 25- 77                         40         Comedy,Drama   \n",
       "Don't Fuck in the Woods           43               Horror   \n",
       "...                              ...                  ...   \n",
       "Amateur Night                    978               Comedy   \n",
       "It's Only the End of the World   979                Drama   \n",
       "Martyrs                          989               Horror   \n",
       "Secret in Their Eyes             996  Crime,Drama,Mystery   \n",
       "Search Party                     999     Adventure,Comedy   \n",
       "\n",
       "                                                                      description  \\\n",
       "Title                                                                               \n",
       "Mindhorn                        A has-been actor best known for playing the ti...   \n",
       "Hounds of Love                  A cold-blooded predatory couple while cruising...   \n",
       "Paris pieds nus                 Fiona visits Paris for the first time to assis...   \n",
       "5- 25- 77                       Alienated, hopeful-filmmaker Pat Johnson's epi...   \n",
       "Don't Fuck in the Woods         A group of friends are going on a camping trip...   \n",
       "...                                                                           ...   \n",
       "Amateur Night                   Guy Carter is an award-winning graduate studen...   \n",
       "It's Only the End of the World  Louis (Gaspard Ulliel), a terminally ill write...   \n",
       "Martyrs                         A young woman's quest for revenge against the ...   \n",
       "Secret in Their Eyes            A tight-knit team of rising investigators, alo...   \n",
       "Search Party                    A pair of friends embark on a mission to reuni...   \n",
       "\n",
       "                                            director  \\\n",
       "Title                                                  \n",
       "Mindhorn                                  Sean Foley   \n",
       "Hounds of Love                             Ben Young   \n",
       "Paris pieds nus                       Dominique Abel   \n",
       "5- 25- 77                       Patrick Read Johnson   \n",
       "Don't Fuck in the Woods                Shawn Burkett   \n",
       "...                                              ...   \n",
       "Amateur Night                           Lisa Addario   \n",
       "It's Only the End of the World          Xavier Dolan   \n",
       "Martyrs                               Pascal Laugier   \n",
       "Secret in Their Eyes                       Billy Ray   \n",
       "Search Party                          Scot Armstrong   \n",
       "\n",
       "                                                                            actor  \\\n",
       "Title                                                                               \n",
       "Mindhorn                        Essie Davis, Andrea Riseborough, Julian Barrat...   \n",
       "Hounds of Love                  Emma Booth, Ashleigh Cummings, Stephen Curry,S...   \n",
       "Paris pieds nus                 Fiona Gordon, Dominique Abel,Emmanuelle Riva, ...   \n",
       "5- 25- 77                       John Francis Daley, Austin Pendleton, Colleen ...   \n",
       "Don't Fuck in the Woods         Brittany Blanton, Ayse Howard, Roman Jossart,N...   \n",
       "...                                                                           ...   \n",
       "Amateur Night                   Jason Biggs, Janet Montgomery,Ashley Tisdale, ...   \n",
       "It's Only the End of the World  Nathalie Baye, Vincent Cassel, Marion Cotillar...   \n",
       "Martyrs                         Morjana Alaoui, Mylène Jampanoï, Catherine Bég...   \n",
       "Secret in Their Eyes            Chiwetel Ejiofor, Nicole Kidman, Julia Roberts...   \n",
       "Search Party                    Adam Pally, T.J. Miller, Thomas Middleditch,Sh...   \n",
       "\n",
       "                                year  runtime  rating  votes  revenue  \\\n",
       "Title                                                                   \n",
       "Mindhorn                        2016       89     6.4   2490      NaN   \n",
       "Hounds of Love                  2016      108     6.7   1115      NaN   \n",
       "Paris pieds nus                 2016       83     6.8    222      NaN   \n",
       "5- 25- 77                       2007      113     7.1    241      NaN   \n",
       "Don't Fuck in the Woods         2016       73     2.7    496      NaN   \n",
       "...                              ...      ...     ...    ...      ...   \n",
       "Amateur Night                   2016       92     5.0   2229      NaN   \n",
       "It's Only the End of the World  2016       97     7.0  10658      NaN   \n",
       "Martyrs                         2008       99     7.1  63785      NaN   \n",
       "Secret in Their Eyes            2015      111     6.2  27585      NaN   \n",
       "Search Party                    2014       93     5.6   4881      NaN   \n",
       "\n",
       "                                metascore  \n",
       "Title                                      \n",
       "Mindhorn                             71.0  \n",
       "Hounds of Love                       72.0  \n",
       "Paris pieds nus                       NaN  \n",
       "5- 25- 77                             NaN  \n",
       "Don't Fuck in the Woods               NaN  \n",
       "...                                   ...  \n",
       "Amateur Night                        38.0  \n",
       "It's Only the End of the World       48.0  \n",
       "Martyrs                              89.0  \n",
       "Secret in Their Eyes                 45.0  \n",
       "Search Party                         22.0  \n",
       "\n",
       "[128 rows x 11 columns]"
      ]
     },
     "execution_count": 16,
     "metadata": {},
     "output_type": "execute_result"
    }
   ],
   "source": [
    "rows_with_missing_values_in_column = mov[mov['revenue'].isna()]\n",
    "rows_with_missing_values_in_column"
   ]
  },
  {
   "cell_type": "code",
   "execution_count": 17,
   "id": "d8a3025d",
   "metadata": {
    "ExecuteTime": {
     "end_time": "2023-09-20T19:15:35.590390Z",
     "start_time": "2023-09-20T19:15:35.583304Z"
    }
   },
   "outputs": [
    {
     "data": {
      "text/plain": [
       "82.95637614678897"
      ]
     },
     "execution_count": 17,
     "metadata": {},
     "output_type": "execute_result"
    }
   ],
   "source": [
    "revenue_average = mov.revenue.mean()\n",
    "revenue_average"
   ]
  },
  {
   "cell_type": "code",
   "execution_count": 18,
   "id": "b9e09df5",
   "metadata": {
    "ExecuteTime": {
     "end_time": "2023-09-20T19:15:35.773952Z",
     "start_time": "2023-09-20T19:15:35.766744Z"
    }
   },
   "outputs": [],
   "source": [
    "mov.revenue.fillna(revenue_average, inplace = True)"
   ]
  },
  {
   "cell_type": "code",
   "execution_count": 19,
   "id": "ae6f6f5b",
   "metadata": {
    "ExecuteTime": {
     "end_time": "2023-09-20T19:15:36.196978Z",
     "start_time": "2023-09-20T19:15:36.177107Z"
    }
   },
   "outputs": [
    {
     "name": "stdout",
     "output_type": "stream",
     "text": [
      "<class 'pandas.core.frame.DataFrame'>\n",
      "Index: 1000 entries, Guardians of the Galaxy to Nine Lives\n",
      "Data columns (total 11 columns):\n",
      " #   Column       Non-Null Count  Dtype  \n",
      "---  ------       --------------  -----  \n",
      " 0   rank         1000 non-null   int64  \n",
      " 1   genre        1000 non-null   object \n",
      " 2   description  1000 non-null   object \n",
      " 3   director     1000 non-null   object \n",
      " 4   actor        1000 non-null   object \n",
      " 5   year         1000 non-null   int64  \n",
      " 6   runtime      1000 non-null   int64  \n",
      " 7   rating       1000 non-null   float64\n",
      " 8   votes        1000 non-null   int64  \n",
      " 9   revenue      1000 non-null   float64\n",
      " 10  metascore    936 non-null    float64\n",
      "dtypes: float64(3), int64(4), object(4)\n",
      "memory usage: 93.8+ KB\n"
     ]
    }
   ],
   "source": [
    "mov.info()"
   ]
  },
  {
   "cell_type": "markdown",
   "id": "55528295",
   "metadata": {},
   "source": [
    "#### b.Yüksek missing value olan değişken içindeki veriler o değişkenin ortalama skoru ile doldurulsun."
   ]
  },
  {
   "cell_type": "code",
   "execution_count": 20,
   "id": "55aef80d",
   "metadata": {
    "ExecuteTime": {
     "end_time": "2023-09-20T19:15:36.854909Z",
     "start_time": "2023-09-20T19:15:36.836727Z"
    }
   },
   "outputs": [
    {
     "name": "stdout",
     "output_type": "stream",
     "text": [
      "<class 'pandas.core.frame.DataFrame'>\n",
      "Index: 1000 entries, Guardians of the Galaxy to Nine Lives\n",
      "Data columns (total 11 columns):\n",
      " #   Column       Non-Null Count  Dtype  \n",
      "---  ------       --------------  -----  \n",
      " 0   rank         1000 non-null   int64  \n",
      " 1   genre        1000 non-null   object \n",
      " 2   description  1000 non-null   object \n",
      " 3   director     1000 non-null   object \n",
      " 4   actor        1000 non-null   object \n",
      " 5   year         1000 non-null   int64  \n",
      " 6   runtime      1000 non-null   int64  \n",
      " 7   rating       1000 non-null   float64\n",
      " 8   votes        1000 non-null   int64  \n",
      " 9   revenue      1000 non-null   float64\n",
      " 10  metascore    936 non-null    float64\n",
      "dtypes: float64(3), int64(4), object(4)\n",
      "memory usage: 93.8+ KB\n"
     ]
    }
   ],
   "source": [
    "mov.info()"
   ]
  },
  {
   "cell_type": "markdown",
   "id": "3bf08e59",
   "metadata": {},
   "source": [
    "#### c. Düşük missing value olan değişkendeki gözlemler kaldırılsın."
   ]
  },
  {
   "cell_type": "code",
   "execution_count": 21,
   "id": "338f0671",
   "metadata": {
    "ExecuteTime": {
     "end_time": "2023-09-20T19:15:37.279424Z",
     "start_time": "2023-09-20T19:15:37.270928Z"
    }
   },
   "outputs": [],
   "source": [
    "average_low_metascore = mov.loc[mov['rating'] <= 5.0, 'metascore'].mean()\n",
    "\n",
    "mov.loc[(mov['rating'] <= 5.0) & mov['metascore'].isna(), 'metascore'] = average_low_metascore"
   ]
  },
  {
   "cell_type": "code",
   "execution_count": 22,
   "id": "5157e3d7",
   "metadata": {
    "ExecuteTime": {
     "end_time": "2023-09-20T19:15:37.486044Z",
     "start_time": "2023-09-20T19:15:37.470589Z"
    }
   },
   "outputs": [
    {
     "name": "stdout",
     "output_type": "stream",
     "text": [
      "<class 'pandas.core.frame.DataFrame'>\n",
      "Index: 1000 entries, Guardians of the Galaxy to Nine Lives\n",
      "Data columns (total 11 columns):\n",
      " #   Column       Non-Null Count  Dtype  \n",
      "---  ------       --------------  -----  \n",
      " 0   rank         1000 non-null   int64  \n",
      " 1   genre        1000 non-null   object \n",
      " 2   description  1000 non-null   object \n",
      " 3   director     1000 non-null   object \n",
      " 4   actor        1000 non-null   object \n",
      " 5   year         1000 non-null   int64  \n",
      " 6   runtime      1000 non-null   int64  \n",
      " 7   rating       1000 non-null   float64\n",
      " 8   votes        1000 non-null   int64  \n",
      " 9   revenue      1000 non-null   float64\n",
      " 10  metascore    941 non-null    float64\n",
      "dtypes: float64(3), int64(4), object(4)\n",
      "memory usage: 93.8+ KB\n"
     ]
    }
   ],
   "source": [
    "mov.info()"
   ]
  },
  {
   "cell_type": "code",
   "execution_count": 23,
   "id": "c05eeaa3",
   "metadata": {
    "ExecuteTime": {
     "end_time": "2023-09-20T19:15:37.705995Z",
     "start_time": "2023-09-20T19:15:37.698627Z"
    }
   },
   "outputs": [
    {
     "data": {
      "text/plain": [
       "42.357142857142854"
      ]
     },
     "execution_count": 23,
     "metadata": {},
     "output_type": "execute_result"
    }
   ],
   "source": [
    "average_low_metascore"
   ]
  },
  {
   "cell_type": "markdown",
   "id": "8a663eb6",
   "metadata": {},
   "source": [
    "#### d. Missing value kontrolü tekrar hem pandas hemde missingno kütüphanelerini kullanarak kontrol edin ve bu data setini yeni bir değişkene atayın."
   ]
  },
  {
   "cell_type": "code",
   "execution_count": 24,
   "id": "c5fab2f9",
   "metadata": {
    "ExecuteTime": {
     "end_time": "2023-09-20T19:15:38.408471Z",
     "start_time": "2023-09-20T19:15:38.371286Z"
    }
   },
   "outputs": [],
   "source": [
    "mov.to_csv('filled_movies_dataset.csv', index=False)"
   ]
  },
  {
   "cell_type": "code",
   "execution_count": 25,
   "id": "3b2391e8",
   "metadata": {
    "ExecuteTime": {
     "end_time": "2023-09-20T19:15:38.660332Z",
     "start_time": "2023-09-20T19:15:38.644151Z"
    }
   },
   "outputs": [],
   "source": [
    "mov2 = pd.read_csv('/Users/mahmooooodie/Desktop/DV PROJECTS/MINI PROJECT/filled_movies_dataset.csv')"
   ]
  },
  {
   "cell_type": "code",
   "execution_count": 26,
   "id": "21fb1379",
   "metadata": {
    "ExecuteTime": {
     "end_time": "2023-09-20T19:15:38.852143Z",
     "start_time": "2023-09-20T19:15:38.831574Z"
    }
   },
   "outputs": [
    {
     "name": "stdout",
     "output_type": "stream",
     "text": [
      "<class 'pandas.core.frame.DataFrame'>\n",
      "RangeIndex: 1000 entries, 0 to 999\n",
      "Data columns (total 11 columns):\n",
      " #   Column       Non-Null Count  Dtype  \n",
      "---  ------       --------------  -----  \n",
      " 0   rank         1000 non-null   int64  \n",
      " 1   genre        1000 non-null   object \n",
      " 2   description  1000 non-null   object \n",
      " 3   director     1000 non-null   object \n",
      " 4   actor        1000 non-null   object \n",
      " 5   year         1000 non-null   int64  \n",
      " 6   runtime      1000 non-null   int64  \n",
      " 7   rating       1000 non-null   float64\n",
      " 8   votes        1000 non-null   int64  \n",
      " 9   revenue      1000 non-null   float64\n",
      " 10  metascore    941 non-null    float64\n",
      "dtypes: float64(3), int64(4), object(4)\n",
      "memory usage: 86.1+ KB\n"
     ]
    }
   ],
   "source": [
    "mov2.info()"
   ]
  },
  {
   "cell_type": "markdown",
   "id": "2ef11f6d",
   "metadata": {},
   "source": [
    "## 5. Temizlenmiş veri seti içinden en yüksek rating e sahip 250 filmi seçerek \"top250\" isminde bir data seti oluşturun ve bunu lokalinize bu isimle kaydedin. Ardından bu yeni data setini tekrar pandas kütüphanesini kullanarak okuyun."
   ]
  },
  {
   "cell_type": "code",
   "execution_count": 27,
   "id": "6076176e",
   "metadata": {
    "ExecuteTime": {
     "end_time": "2023-09-20T19:15:39.562106Z",
     "start_time": "2023-09-20T19:15:39.527099Z"
    }
   },
   "outputs": [
    {
     "data": {
      "text/html": [
       "<div>\n",
       "<style scoped>\n",
       "    .dataframe tbody tr th:only-of-type {\n",
       "        vertical-align: middle;\n",
       "    }\n",
       "\n",
       "    .dataframe tbody tr th {\n",
       "        vertical-align: top;\n",
       "    }\n",
       "\n",
       "    .dataframe thead th {\n",
       "        text-align: right;\n",
       "    }\n",
       "</style>\n",
       "<table border=\"1\" class=\"dataframe\">\n",
       "  <thead>\n",
       "    <tr style=\"text-align: right;\">\n",
       "      <th></th>\n",
       "      <th>Title</th>\n",
       "      <th>rank</th>\n",
       "      <th>genre</th>\n",
       "      <th>description</th>\n",
       "      <th>director</th>\n",
       "      <th>actor</th>\n",
       "      <th>year</th>\n",
       "      <th>runtime</th>\n",
       "      <th>rating</th>\n",
       "      <th>votes</th>\n",
       "      <th>revenue</th>\n",
       "      <th>metascore</th>\n",
       "    </tr>\n",
       "  </thead>\n",
       "  <tbody>\n",
       "    <tr>\n",
       "      <th>0</th>\n",
       "      <td>The Dark Knight</td>\n",
       "      <td>55</td>\n",
       "      <td>Action,Crime,Drama</td>\n",
       "      <td>When the menace known as the Joker wreaks havo...</td>\n",
       "      <td>Christopher Nolan</td>\n",
       "      <td>Christian Bale, Heath Ledger, Aaron Eckhart,Mi...</td>\n",
       "      <td>2008</td>\n",
       "      <td>152</td>\n",
       "      <td>9.0</td>\n",
       "      <td>1791916</td>\n",
       "      <td>533.32</td>\n",
       "      <td>82.0</td>\n",
       "    </tr>\n",
       "    <tr>\n",
       "      <th>1</th>\n",
       "      <td>Inception</td>\n",
       "      <td>81</td>\n",
       "      <td>Action,Adventure,Sci-Fi</td>\n",
       "      <td>A thief, who steals corporate secrets through ...</td>\n",
       "      <td>Christopher Nolan</td>\n",
       "      <td>Leonardo DiCaprio, Joseph Gordon-Levitt, Ellen...</td>\n",
       "      <td>2010</td>\n",
       "      <td>148</td>\n",
       "      <td>8.8</td>\n",
       "      <td>1583625</td>\n",
       "      <td>292.57</td>\n",
       "      <td>74.0</td>\n",
       "    </tr>\n",
       "    <tr>\n",
       "      <th>2</th>\n",
       "      <td>Dangal</td>\n",
       "      <td>118</td>\n",
       "      <td>Action,Biography,Drama</td>\n",
       "      <td>Former wrestler Mahavir Singh Phogat and his t...</td>\n",
       "      <td>Nitesh Tiwari</td>\n",
       "      <td>Aamir Khan, Sakshi Tanwar, Fatima Sana Shaikh,...</td>\n",
       "      <td>2016</td>\n",
       "      <td>161</td>\n",
       "      <td>8.8</td>\n",
       "      <td>48969</td>\n",
       "      <td>11.15</td>\n",
       "      <td>NaN</td>\n",
       "    </tr>\n",
       "    <tr>\n",
       "      <th>3</th>\n",
       "      <td>Interstellar</td>\n",
       "      <td>37</td>\n",
       "      <td>Adventure,Drama,Sci-Fi</td>\n",
       "      <td>A team of explorers travel through a wormhole ...</td>\n",
       "      <td>Christopher Nolan</td>\n",
       "      <td>Matthew McConaughey, Anne Hathaway, Jessica Ch...</td>\n",
       "      <td>2014</td>\n",
       "      <td>169</td>\n",
       "      <td>8.6</td>\n",
       "      <td>1047747</td>\n",
       "      <td>187.99</td>\n",
       "      <td>74.0</td>\n",
       "    </tr>\n",
       "    <tr>\n",
       "      <th>4</th>\n",
       "      <td>Kimi no na wa</td>\n",
       "      <td>97</td>\n",
       "      <td>Animation,Drama,Fantasy</td>\n",
       "      <td>Two strangers find themselves linked in a biza...</td>\n",
       "      <td>Makoto Shinkai</td>\n",
       "      <td>Ryûnosuke Kamiki, Mone Kamishiraishi, Ryô Nari...</td>\n",
       "      <td>2016</td>\n",
       "      <td>106</td>\n",
       "      <td>8.6</td>\n",
       "      <td>34110</td>\n",
       "      <td>4.68</td>\n",
       "      <td>79.0</td>\n",
       "    </tr>\n",
       "  </tbody>\n",
       "</table>\n",
       "</div>"
      ],
      "text/plain": [
       "             Title  rank                    genre  \\\n",
       "0  The Dark Knight    55       Action,Crime,Drama   \n",
       "1        Inception    81  Action,Adventure,Sci-Fi   \n",
       "2           Dangal   118   Action,Biography,Drama   \n",
       "3     Interstellar    37   Adventure,Drama,Sci-Fi   \n",
       "4    Kimi no na wa    97  Animation,Drama,Fantasy   \n",
       "\n",
       "                                         description           director  \\\n",
       "0  When the menace known as the Joker wreaks havo...  Christopher Nolan   \n",
       "1  A thief, who steals corporate secrets through ...  Christopher Nolan   \n",
       "2  Former wrestler Mahavir Singh Phogat and his t...      Nitesh Tiwari   \n",
       "3  A team of explorers travel through a wormhole ...  Christopher Nolan   \n",
       "4  Two strangers find themselves linked in a biza...     Makoto Shinkai   \n",
       "\n",
       "                                               actor  year  runtime  rating  \\\n",
       "0  Christian Bale, Heath Ledger, Aaron Eckhart,Mi...  2008      152     9.0   \n",
       "1  Leonardo DiCaprio, Joseph Gordon-Levitt, Ellen...  2010      148     8.8   \n",
       "2  Aamir Khan, Sakshi Tanwar, Fatima Sana Shaikh,...  2016      161     8.8   \n",
       "3  Matthew McConaughey, Anne Hathaway, Jessica Ch...  2014      169     8.6   \n",
       "4  Ryûnosuke Kamiki, Mone Kamishiraishi, Ryô Nari...  2016      106     8.6   \n",
       "\n",
       "     votes  revenue  metascore  \n",
       "0  1791916   533.32       82.0  \n",
       "1  1583625   292.57       74.0  \n",
       "2    48969    11.15        NaN  \n",
       "3  1047747   187.99       74.0  \n",
       "4    34110     4.68       79.0  "
      ]
     },
     "execution_count": 27,
     "metadata": {},
     "output_type": "execute_result"
    }
   ],
   "source": [
    "sorted_data = mov.sort_values(by='rating', ascending=False)\n",
    "top_250 = sorted_data.head(250)\n",
    "top_250.to_csv('top_250_movies.csv', index=True)\n",
    "top250 = pd.read_csv('/Users/mahmooooodie/Desktop/DV PROJECTS/MINI PROJECT/top_250_movies.csv')\n",
    "top250.head()\n"
   ]
  },
  {
   "cell_type": "code",
   "execution_count": 28,
   "id": "37335dd9",
   "metadata": {
    "ExecuteTime": {
     "end_time": "2023-09-20T19:15:39.857012Z",
     "start_time": "2023-09-20T19:15:39.835758Z"
    }
   },
   "outputs": [
    {
     "name": "stdout",
     "output_type": "stream",
     "text": [
      "<class 'pandas.core.frame.DataFrame'>\n",
      "RangeIndex: 250 entries, 0 to 249\n",
      "Data columns (total 12 columns):\n",
      " #   Column       Non-Null Count  Dtype  \n",
      "---  ------       --------------  -----  \n",
      " 0   Title        250 non-null    object \n",
      " 1   rank         250 non-null    int64  \n",
      " 2   genre        250 non-null    object \n",
      " 3   description  250 non-null    object \n",
      " 4   director     250 non-null    object \n",
      " 5   actor        250 non-null    object \n",
      " 6   year         250 non-null    int64  \n",
      " 7   runtime      250 non-null    int64  \n",
      " 8   rating       250 non-null    float64\n",
      " 9   votes        250 non-null    int64  \n",
      " 10  revenue      250 non-null    float64\n",
      " 11  metascore    239 non-null    float64\n",
      "dtypes: float64(3), int64(4), object(5)\n",
      "memory usage: 23.6+ KB\n"
     ]
    }
   ],
   "source": [
    "top250.info()"
   ]
  },
  {
   "cell_type": "code",
   "execution_count": 29,
   "id": "7687de62",
   "metadata": {
    "ExecuteTime": {
     "end_time": "2023-09-20T19:15:40.222304Z",
     "start_time": "2023-09-20T19:15:40.182482Z"
    }
   },
   "outputs": [
    {
     "data": {
      "text/html": [
       "<div>\n",
       "<style scoped>\n",
       "    .dataframe tbody tr th:only-of-type {\n",
       "        vertical-align: middle;\n",
       "    }\n",
       "\n",
       "    .dataframe tbody tr th {\n",
       "        vertical-align: top;\n",
       "    }\n",
       "\n",
       "    .dataframe thead th {\n",
       "        text-align: right;\n",
       "    }\n",
       "</style>\n",
       "<table border=\"1\" class=\"dataframe\">\n",
       "  <thead>\n",
       "    <tr style=\"text-align: right;\">\n",
       "      <th></th>\n",
       "      <th>rank</th>\n",
       "      <th>year</th>\n",
       "      <th>runtime</th>\n",
       "      <th>rating</th>\n",
       "      <th>votes</th>\n",
       "      <th>revenue</th>\n",
       "      <th>metascore</th>\n",
       "    </tr>\n",
       "  </thead>\n",
       "  <tbody>\n",
       "    <tr>\n",
       "      <th>count</th>\n",
       "      <td>250.000000</td>\n",
       "      <td>250.000000</td>\n",
       "      <td>250.000000</td>\n",
       "      <td>250.000000</td>\n",
       "      <td>2.500000e+02</td>\n",
       "      <td>250.000000</td>\n",
       "      <td>239.000000</td>\n",
       "    </tr>\n",
       "    <tr>\n",
       "      <th>mean</th>\n",
       "      <td>392.172000</td>\n",
       "      <td>2011.936000</td>\n",
       "      <td>123.392000</td>\n",
       "      <td>7.828000</td>\n",
       "      <td>3.209958e+05</td>\n",
       "      <td>116.109546</td>\n",
       "      <td>73.619247</td>\n",
       "    </tr>\n",
       "    <tr>\n",
       "      <th>std</th>\n",
       "      <td>280.038678</td>\n",
       "      <td>3.384928</td>\n",
       "      <td>22.191896</td>\n",
       "      <td>0.309968</td>\n",
       "      <td>2.641853e+05</td>\n",
       "      <td>136.843494</td>\n",
       "      <td>12.212466</td>\n",
       "    </tr>\n",
       "    <tr>\n",
       "      <th>min</th>\n",
       "      <td>1.000000</td>\n",
       "      <td>2006.000000</td>\n",
       "      <td>66.000000</td>\n",
       "      <td>7.400000</td>\n",
       "      <td>6.100000e+01</td>\n",
       "      <td>0.010000</td>\n",
       "      <td>34.000000</td>\n",
       "    </tr>\n",
       "    <tr>\n",
       "      <th>25%</th>\n",
       "      <td>146.250000</td>\n",
       "      <td>2009.000000</td>\n",
       "      <td>106.000000</td>\n",
       "      <td>7.600000</td>\n",
       "      <td>1.200365e+05</td>\n",
       "      <td>18.512500</td>\n",
       "      <td>67.000000</td>\n",
       "    </tr>\n",
       "    <tr>\n",
       "      <th>50%</th>\n",
       "      <td>334.000000</td>\n",
       "      <td>2013.000000</td>\n",
       "      <td>120.000000</td>\n",
       "      <td>7.800000</td>\n",
       "      <td>2.903075e+05</td>\n",
       "      <td>73.580000</td>\n",
       "      <td>74.000000</td>\n",
       "    </tr>\n",
       "    <tr>\n",
       "      <th>75%</th>\n",
       "      <td>640.000000</td>\n",
       "      <td>2015.000000</td>\n",
       "      <td>137.750000</td>\n",
       "      <td>8.000000</td>\n",
       "      <td>4.555352e+05</td>\n",
       "      <td>165.957500</td>\n",
       "      <td>81.000000</td>\n",
       "    </tr>\n",
       "    <tr>\n",
       "      <th>max</th>\n",
       "      <td>992.000000</td>\n",
       "      <td>2016.000000</td>\n",
       "      <td>191.000000</td>\n",
       "      <td>9.000000</td>\n",
       "      <td>1.791916e+06</td>\n",
       "      <td>936.630000</td>\n",
       "      <td>100.000000</td>\n",
       "    </tr>\n",
       "  </tbody>\n",
       "</table>\n",
       "</div>"
      ],
      "text/plain": [
       "             rank         year     runtime      rating         votes  \\\n",
       "count  250.000000   250.000000  250.000000  250.000000  2.500000e+02   \n",
       "mean   392.172000  2011.936000  123.392000    7.828000  3.209958e+05   \n",
       "std    280.038678     3.384928   22.191896    0.309968  2.641853e+05   \n",
       "min      1.000000  2006.000000   66.000000    7.400000  6.100000e+01   \n",
       "25%    146.250000  2009.000000  106.000000    7.600000  1.200365e+05   \n",
       "50%    334.000000  2013.000000  120.000000    7.800000  2.903075e+05   \n",
       "75%    640.000000  2015.000000  137.750000    8.000000  4.555352e+05   \n",
       "max    992.000000  2016.000000  191.000000    9.000000  1.791916e+06   \n",
       "\n",
       "          revenue   metascore  \n",
       "count  250.000000  239.000000  \n",
       "mean   116.109546   73.619247  \n",
       "std    136.843494   12.212466  \n",
       "min      0.010000   34.000000  \n",
       "25%     18.512500   67.000000  \n",
       "50%     73.580000   74.000000  \n",
       "75%    165.957500   81.000000  \n",
       "max    936.630000  100.000000  "
      ]
     },
     "execution_count": 29,
     "metadata": {},
     "output_type": "execute_result"
    }
   ],
   "source": [
    "top250.describe()"
   ]
  },
  {
   "cell_type": "markdown",
   "id": "a4759dca",
   "metadata": {},
   "source": [
    "## 6. Veri setinin boyutunu ve özelliklerini inceleyin"
   ]
  },
  {
   "cell_type": "markdown",
   "id": "55bedeff",
   "metadata": {},
   "source": [
    "#### a. Veri setinin boyutunu inceleme"
   ]
  },
  {
   "cell_type": "code",
   "execution_count": 30,
   "id": "0452bddc",
   "metadata": {
    "ExecuteTime": {
     "end_time": "2023-09-20T19:15:41.463335Z",
     "start_time": "2023-09-20T19:15:41.457356Z"
    }
   },
   "outputs": [
    {
     "data": {
      "text/plain": [
       "(250, 12)"
      ]
     },
     "execution_count": 30,
     "metadata": {},
     "output_type": "execute_result"
    }
   ],
   "source": [
    "top250.shape"
   ]
  },
  {
   "cell_type": "markdown",
   "id": "016024fd",
   "metadata": {},
   "source": [
    "#### b. Veri setinin ilk 5 gözlemine göz atma"
   ]
  },
  {
   "cell_type": "code",
   "execution_count": 31,
   "id": "df7628b3",
   "metadata": {
    "ExecuteTime": {
     "end_time": "2023-09-20T19:15:41.878598Z",
     "start_time": "2023-09-20T19:15:41.855704Z"
    }
   },
   "outputs": [
    {
     "data": {
      "text/html": [
       "<div>\n",
       "<style scoped>\n",
       "    .dataframe tbody tr th:only-of-type {\n",
       "        vertical-align: middle;\n",
       "    }\n",
       "\n",
       "    .dataframe tbody tr th {\n",
       "        vertical-align: top;\n",
       "    }\n",
       "\n",
       "    .dataframe thead th {\n",
       "        text-align: right;\n",
       "    }\n",
       "</style>\n",
       "<table border=\"1\" class=\"dataframe\">\n",
       "  <thead>\n",
       "    <tr style=\"text-align: right;\">\n",
       "      <th></th>\n",
       "      <th>Title</th>\n",
       "      <th>rank</th>\n",
       "      <th>genre</th>\n",
       "      <th>description</th>\n",
       "      <th>director</th>\n",
       "      <th>actor</th>\n",
       "      <th>year</th>\n",
       "      <th>runtime</th>\n",
       "      <th>rating</th>\n",
       "      <th>votes</th>\n",
       "      <th>revenue</th>\n",
       "      <th>metascore</th>\n",
       "    </tr>\n",
       "  </thead>\n",
       "  <tbody>\n",
       "    <tr>\n",
       "      <th>0</th>\n",
       "      <td>The Dark Knight</td>\n",
       "      <td>55</td>\n",
       "      <td>Action,Crime,Drama</td>\n",
       "      <td>When the menace known as the Joker wreaks havo...</td>\n",
       "      <td>Christopher Nolan</td>\n",
       "      <td>Christian Bale, Heath Ledger, Aaron Eckhart,Mi...</td>\n",
       "      <td>2008</td>\n",
       "      <td>152</td>\n",
       "      <td>9.0</td>\n",
       "      <td>1791916</td>\n",
       "      <td>533.32</td>\n",
       "      <td>82.0</td>\n",
       "    </tr>\n",
       "    <tr>\n",
       "      <th>1</th>\n",
       "      <td>Inception</td>\n",
       "      <td>81</td>\n",
       "      <td>Action,Adventure,Sci-Fi</td>\n",
       "      <td>A thief, who steals corporate secrets through ...</td>\n",
       "      <td>Christopher Nolan</td>\n",
       "      <td>Leonardo DiCaprio, Joseph Gordon-Levitt, Ellen...</td>\n",
       "      <td>2010</td>\n",
       "      <td>148</td>\n",
       "      <td>8.8</td>\n",
       "      <td>1583625</td>\n",
       "      <td>292.57</td>\n",
       "      <td>74.0</td>\n",
       "    </tr>\n",
       "    <tr>\n",
       "      <th>2</th>\n",
       "      <td>Dangal</td>\n",
       "      <td>118</td>\n",
       "      <td>Action,Biography,Drama</td>\n",
       "      <td>Former wrestler Mahavir Singh Phogat and his t...</td>\n",
       "      <td>Nitesh Tiwari</td>\n",
       "      <td>Aamir Khan, Sakshi Tanwar, Fatima Sana Shaikh,...</td>\n",
       "      <td>2016</td>\n",
       "      <td>161</td>\n",
       "      <td>8.8</td>\n",
       "      <td>48969</td>\n",
       "      <td>11.15</td>\n",
       "      <td>NaN</td>\n",
       "    </tr>\n",
       "    <tr>\n",
       "      <th>3</th>\n",
       "      <td>Interstellar</td>\n",
       "      <td>37</td>\n",
       "      <td>Adventure,Drama,Sci-Fi</td>\n",
       "      <td>A team of explorers travel through a wormhole ...</td>\n",
       "      <td>Christopher Nolan</td>\n",
       "      <td>Matthew McConaughey, Anne Hathaway, Jessica Ch...</td>\n",
       "      <td>2014</td>\n",
       "      <td>169</td>\n",
       "      <td>8.6</td>\n",
       "      <td>1047747</td>\n",
       "      <td>187.99</td>\n",
       "      <td>74.0</td>\n",
       "    </tr>\n",
       "    <tr>\n",
       "      <th>4</th>\n",
       "      <td>Kimi no na wa</td>\n",
       "      <td>97</td>\n",
       "      <td>Animation,Drama,Fantasy</td>\n",
       "      <td>Two strangers find themselves linked in a biza...</td>\n",
       "      <td>Makoto Shinkai</td>\n",
       "      <td>Ryûnosuke Kamiki, Mone Kamishiraishi, Ryô Nari...</td>\n",
       "      <td>2016</td>\n",
       "      <td>106</td>\n",
       "      <td>8.6</td>\n",
       "      <td>34110</td>\n",
       "      <td>4.68</td>\n",
       "      <td>79.0</td>\n",
       "    </tr>\n",
       "  </tbody>\n",
       "</table>\n",
       "</div>"
      ],
      "text/plain": [
       "             Title  rank                    genre  \\\n",
       "0  The Dark Knight    55       Action,Crime,Drama   \n",
       "1        Inception    81  Action,Adventure,Sci-Fi   \n",
       "2           Dangal   118   Action,Biography,Drama   \n",
       "3     Interstellar    37   Adventure,Drama,Sci-Fi   \n",
       "4    Kimi no na wa    97  Animation,Drama,Fantasy   \n",
       "\n",
       "                                         description           director  \\\n",
       "0  When the menace known as the Joker wreaks havo...  Christopher Nolan   \n",
       "1  A thief, who steals corporate secrets through ...  Christopher Nolan   \n",
       "2  Former wrestler Mahavir Singh Phogat and his t...      Nitesh Tiwari   \n",
       "3  A team of explorers travel through a wormhole ...  Christopher Nolan   \n",
       "4  Two strangers find themselves linked in a biza...     Makoto Shinkai   \n",
       "\n",
       "                                               actor  year  runtime  rating  \\\n",
       "0  Christian Bale, Heath Ledger, Aaron Eckhart,Mi...  2008      152     9.0   \n",
       "1  Leonardo DiCaprio, Joseph Gordon-Levitt, Ellen...  2010      148     8.8   \n",
       "2  Aamir Khan, Sakshi Tanwar, Fatima Sana Shaikh,...  2016      161     8.8   \n",
       "3  Matthew McConaughey, Anne Hathaway, Jessica Ch...  2014      169     8.6   \n",
       "4  Ryûnosuke Kamiki, Mone Kamishiraishi, Ryô Nari...  2016      106     8.6   \n",
       "\n",
       "     votes  revenue  metascore  \n",
       "0  1791916   533.32       82.0  \n",
       "1  1583625   292.57       74.0  \n",
       "2    48969    11.15        NaN  \n",
       "3  1047747   187.99       74.0  \n",
       "4    34110     4.68       79.0  "
      ]
     },
     "execution_count": 31,
     "metadata": {},
     "output_type": "execute_result"
    }
   ],
   "source": [
    "top250.head(5)"
   ]
  },
  {
   "cell_type": "markdown",
   "id": "9b86e4f3",
   "metadata": {},
   "source": [
    "#### c. Random olarak 10 gözleme bakma"
   ]
  },
  {
   "cell_type": "code",
   "execution_count": 32,
   "id": "b4cdd57e",
   "metadata": {
    "ExecuteTime": {
     "end_time": "2023-09-20T19:15:42.389088Z",
     "start_time": "2023-09-20T19:15:42.365358Z"
    }
   },
   "outputs": [
    {
     "data": {
      "text/html": [
       "<div>\n",
       "<style scoped>\n",
       "    .dataframe tbody tr th:only-of-type {\n",
       "        vertical-align: middle;\n",
       "    }\n",
       "\n",
       "    .dataframe tbody tr th {\n",
       "        vertical-align: top;\n",
       "    }\n",
       "\n",
       "    .dataframe thead th {\n",
       "        text-align: right;\n",
       "    }\n",
       "</style>\n",
       "<table border=\"1\" class=\"dataframe\">\n",
       "  <thead>\n",
       "    <tr style=\"text-align: right;\">\n",
       "      <th></th>\n",
       "      <th>Title</th>\n",
       "      <th>rank</th>\n",
       "      <th>genre</th>\n",
       "      <th>description</th>\n",
       "      <th>director</th>\n",
       "      <th>actor</th>\n",
       "      <th>year</th>\n",
       "      <th>runtime</th>\n",
       "      <th>rating</th>\n",
       "      <th>votes</th>\n",
       "      <th>revenue</th>\n",
       "      <th>metascore</th>\n",
       "    </tr>\n",
       "  </thead>\n",
       "  <tbody>\n",
       "    <tr>\n",
       "      <th>191</th>\n",
       "      <td>Hunger</td>\n",
       "      <td>687</td>\n",
       "      <td>Biography,Drama</td>\n",
       "      <td>Irish republican Bobby Sands leads the inmates...</td>\n",
       "      <td>Steve McQueen</td>\n",
       "      <td>Stuart Graham, Laine Megaw, Brian Milligan, Li...</td>\n",
       "      <td>2008</td>\n",
       "      <td>96</td>\n",
       "      <td>7.6</td>\n",
       "      <td>54486</td>\n",
       "      <td>0.150000</td>\n",
       "      <td>82.0</td>\n",
       "    </tr>\n",
       "    <tr>\n",
       "      <th>236</th>\n",
       "      <td>20th Century Women</td>\n",
       "      <td>248</td>\n",
       "      <td>Comedy,Drama</td>\n",
       "      <td>The story of a teenage boy, his mother, and tw...</td>\n",
       "      <td>Mike Mills</td>\n",
       "      <td>Annette Bening, Elle Fanning, Greta Gerwig, Bi...</td>\n",
       "      <td>2016</td>\n",
       "      <td>119</td>\n",
       "      <td>7.4</td>\n",
       "      <td>14708</td>\n",
       "      <td>5.660000</td>\n",
       "      <td>83.0</td>\n",
       "    </tr>\n",
       "    <tr>\n",
       "      <th>192</th>\n",
       "      <td>Dawn of the Planet of the Apes</td>\n",
       "      <td>177</td>\n",
       "      <td>Action,Adventure,Drama</td>\n",
       "      <td>A growing nation of genetically evolved apes l...</td>\n",
       "      <td>Matt Reeves</td>\n",
       "      <td>Gary Oldman, Keri Russell, Andy Serkis, Kodi S...</td>\n",
       "      <td>2014</td>\n",
       "      <td>130</td>\n",
       "      <td>7.6</td>\n",
       "      <td>337777</td>\n",
       "      <td>208.540000</td>\n",
       "      <td>79.0</td>\n",
       "    </tr>\n",
       "    <tr>\n",
       "      <th>85</th>\n",
       "      <td>Life of Pi</td>\n",
       "      <td>695</td>\n",
       "      <td>Adventure,Drama,Fantasy</td>\n",
       "      <td>A young man who survives a disaster at sea is ...</td>\n",
       "      <td>Ang Lee</td>\n",
       "      <td>Suraj Sharma, Irrfan Khan, Adil Hussain, Tabu</td>\n",
       "      <td>2012</td>\n",
       "      <td>127</td>\n",
       "      <td>7.9</td>\n",
       "      <td>471109</td>\n",
       "      <td>124.980000</td>\n",
       "      <td>79.0</td>\n",
       "    </tr>\n",
       "    <tr>\n",
       "      <th>169</th>\n",
       "      <td>Watchmen</td>\n",
       "      <td>148</td>\n",
       "      <td>Action,Drama,Mystery</td>\n",
       "      <td>In 1985 where former superheroes exist, the mu...</td>\n",
       "      <td>Zack Snyder</td>\n",
       "      <td>Jackie Earle Haley, Patrick Wilson, Carla Gugi...</td>\n",
       "      <td>2009</td>\n",
       "      <td>162</td>\n",
       "      <td>7.6</td>\n",
       "      <td>410249</td>\n",
       "      <td>107.500000</td>\n",
       "      <td>56.0</td>\n",
       "    </tr>\n",
       "    <tr>\n",
       "      <th>241</th>\n",
       "      <td>Law Abiding Citizen</td>\n",
       "      <td>499</td>\n",
       "      <td>Crime,Drama,Thriller</td>\n",
       "      <td>A frustrated man decides to take justice into ...</td>\n",
       "      <td>F. Gary Gray</td>\n",
       "      <td>Gerard Butler, Jamie Foxx, Leslie Bibb, Colm M...</td>\n",
       "      <td>2009</td>\n",
       "      <td>109</td>\n",
       "      <td>7.4</td>\n",
       "      <td>228339</td>\n",
       "      <td>73.340000</td>\n",
       "      <td>34.0</td>\n",
       "    </tr>\n",
       "    <tr>\n",
       "      <th>212</th>\n",
       "      <td>Frozen</td>\n",
       "      <td>175</td>\n",
       "      <td>Animation,Adventure,Comedy</td>\n",
       "      <td>When the newly crowned Queen Elsa accidentally...</td>\n",
       "      <td>Chris Buck</td>\n",
       "      <td>Kristen Bell, Idina Menzel, Jonathan Groff, Jo...</td>\n",
       "      <td>2013</td>\n",
       "      <td>102</td>\n",
       "      <td>7.5</td>\n",
       "      <td>451894</td>\n",
       "      <td>400.740000</td>\n",
       "      <td>74.0</td>\n",
       "    </tr>\n",
       "    <tr>\n",
       "      <th>14</th>\n",
       "      <td>Koe no katachi</td>\n",
       "      <td>862</td>\n",
       "      <td>Animation,Drama,Romance</td>\n",
       "      <td>The story revolves around Nishimiya Shoko, a g...</td>\n",
       "      <td>Naoko Yamada</td>\n",
       "      <td>Miyu Irino, Saori Hayami, Aoi Yuki, Kenshô Ono</td>\n",
       "      <td>2016</td>\n",
       "      <td>129</td>\n",
       "      <td>8.4</td>\n",
       "      <td>2421</td>\n",
       "      <td>82.956376</td>\n",
       "      <td>80.0</td>\n",
       "    </tr>\n",
       "    <tr>\n",
       "      <th>178</th>\n",
       "      <td>Sherlock Holmes</td>\n",
       "      <td>282</td>\n",
       "      <td>Action,Adventure,Crime</td>\n",
       "      <td>Detective Sherlock Holmes and his stalwart par...</td>\n",
       "      <td>Guy Ritchie</td>\n",
       "      <td>Robert Downey Jr., Jude Law, Rachel McAdams, M...</td>\n",
       "      <td>2009</td>\n",
       "      <td>128</td>\n",
       "      <td>7.6</td>\n",
       "      <td>501769</td>\n",
       "      <td>209.020000</td>\n",
       "      <td>57.0</td>\n",
       "    </tr>\n",
       "    <tr>\n",
       "      <th>53</th>\n",
       "      <td>How to Train Your Dragon</td>\n",
       "      <td>773</td>\n",
       "      <td>Animation,Action,Adventure</td>\n",
       "      <td>A hapless young Viking who aspires to hunt dra...</td>\n",
       "      <td>Dean DeBlois</td>\n",
       "      <td>Jay Baruchel, Gerard Butler,Christopher Mintz-...</td>\n",
       "      <td>2010</td>\n",
       "      <td>98</td>\n",
       "      <td>8.1</td>\n",
       "      <td>523893</td>\n",
       "      <td>217.390000</td>\n",
       "      <td>74.0</td>\n",
       "    </tr>\n",
       "  </tbody>\n",
       "</table>\n",
       "</div>"
      ],
      "text/plain": [
       "                              Title  rank                       genre  \\\n",
       "191                          Hunger   687             Biography,Drama   \n",
       "236              20th Century Women   248                Comedy,Drama   \n",
       "192  Dawn of the Planet of the Apes   177      Action,Adventure,Drama   \n",
       "85                       Life of Pi   695     Adventure,Drama,Fantasy   \n",
       "169                        Watchmen   148        Action,Drama,Mystery   \n",
       "241             Law Abiding Citizen   499        Crime,Drama,Thriller   \n",
       "212                          Frozen   175  Animation,Adventure,Comedy   \n",
       "14                   Koe no katachi   862     Animation,Drama,Romance   \n",
       "178                 Sherlock Holmes   282      Action,Adventure,Crime   \n",
       "53         How to Train Your Dragon   773  Animation,Action,Adventure   \n",
       "\n",
       "                                           description       director  \\\n",
       "191  Irish republican Bobby Sands leads the inmates...  Steve McQueen   \n",
       "236  The story of a teenage boy, his mother, and tw...     Mike Mills   \n",
       "192  A growing nation of genetically evolved apes l...    Matt Reeves   \n",
       "85   A young man who survives a disaster at sea is ...        Ang Lee   \n",
       "169  In 1985 where former superheroes exist, the mu...    Zack Snyder   \n",
       "241  A frustrated man decides to take justice into ...   F. Gary Gray   \n",
       "212  When the newly crowned Queen Elsa accidentally...     Chris Buck   \n",
       "14   The story revolves around Nishimiya Shoko, a g...   Naoko Yamada   \n",
       "178  Detective Sherlock Holmes and his stalwart par...    Guy Ritchie   \n",
       "53   A hapless young Viking who aspires to hunt dra...   Dean DeBlois   \n",
       "\n",
       "                                                 actor  year  runtime  rating  \\\n",
       "191  Stuart Graham, Laine Megaw, Brian Milligan, Li...  2008       96     7.6   \n",
       "236  Annette Bening, Elle Fanning, Greta Gerwig, Bi...  2016      119     7.4   \n",
       "192  Gary Oldman, Keri Russell, Andy Serkis, Kodi S...  2014      130     7.6   \n",
       "85       Suraj Sharma, Irrfan Khan, Adil Hussain, Tabu  2012      127     7.9   \n",
       "169  Jackie Earle Haley, Patrick Wilson, Carla Gugi...  2009      162     7.6   \n",
       "241  Gerard Butler, Jamie Foxx, Leslie Bibb, Colm M...  2009      109     7.4   \n",
       "212  Kristen Bell, Idina Menzel, Jonathan Groff, Jo...  2013      102     7.5   \n",
       "14      Miyu Irino, Saori Hayami, Aoi Yuki, Kenshô Ono  2016      129     8.4   \n",
       "178  Robert Downey Jr., Jude Law, Rachel McAdams, M...  2009      128     7.6   \n",
       "53   Jay Baruchel, Gerard Butler,Christopher Mintz-...  2010       98     8.1   \n",
       "\n",
       "      votes     revenue  metascore  \n",
       "191   54486    0.150000       82.0  \n",
       "236   14708    5.660000       83.0  \n",
       "192  337777  208.540000       79.0  \n",
       "85   471109  124.980000       79.0  \n",
       "169  410249  107.500000       56.0  \n",
       "241  228339   73.340000       34.0  \n",
       "212  451894  400.740000       74.0  \n",
       "14     2421   82.956376       80.0  \n",
       "178  501769  209.020000       57.0  \n",
       "53   523893  217.390000       74.0  "
      ]
     },
     "execution_count": 32,
     "metadata": {},
     "output_type": "execute_result"
    }
   ],
   "source": [
    "top250.sample(10)"
   ]
  },
  {
   "cell_type": "markdown",
   "id": "8a9060ae",
   "metadata": {},
   "source": [
    "#### d. Veri setinin sütunlarına göz atma"
   ]
  },
  {
   "cell_type": "code",
   "execution_count": 33,
   "id": "b47f8da7",
   "metadata": {
    "ExecuteTime": {
     "end_time": "2023-09-20T19:15:43.048647Z",
     "start_time": "2023-09-20T19:15:43.041647Z"
    }
   },
   "outputs": [
    {
     "data": {
      "text/plain": [
       "['Title',\n",
       " 'rank',\n",
       " 'genre',\n",
       " 'description',\n",
       " 'director',\n",
       " 'actor',\n",
       " 'year',\n",
       " 'runtime',\n",
       " 'rating',\n",
       " 'votes',\n",
       " 'revenue',\n",
       " 'metascore']"
      ]
     },
     "execution_count": 33,
     "metadata": {},
     "output_type": "execute_result"
    }
   ],
   "source": [
    "top250.columns.tolist()"
   ]
  },
  {
   "cell_type": "markdown",
   "id": "7fe4107f",
   "metadata": {},
   "source": [
    "#### e. Veri setinin özet istatistiklerini görüntüleme"
   ]
  },
  {
   "cell_type": "code",
   "execution_count": 34,
   "id": "e5dc1c4d",
   "metadata": {
    "ExecuteTime": {
     "end_time": "2023-09-20T19:15:43.847660Z",
     "start_time": "2023-09-20T19:15:43.815787Z"
    }
   },
   "outputs": [
    {
     "data": {
      "text/html": [
       "<div>\n",
       "<style scoped>\n",
       "    .dataframe tbody tr th:only-of-type {\n",
       "        vertical-align: middle;\n",
       "    }\n",
       "\n",
       "    .dataframe tbody tr th {\n",
       "        vertical-align: top;\n",
       "    }\n",
       "\n",
       "    .dataframe thead th {\n",
       "        text-align: right;\n",
       "    }\n",
       "</style>\n",
       "<table border=\"1\" class=\"dataframe\">\n",
       "  <thead>\n",
       "    <tr style=\"text-align: right;\">\n",
       "      <th></th>\n",
       "      <th>rank</th>\n",
       "      <th>year</th>\n",
       "      <th>runtime</th>\n",
       "      <th>rating</th>\n",
       "      <th>votes</th>\n",
       "      <th>revenue</th>\n",
       "      <th>metascore</th>\n",
       "    </tr>\n",
       "  </thead>\n",
       "  <tbody>\n",
       "    <tr>\n",
       "      <th>count</th>\n",
       "      <td>250.000000</td>\n",
       "      <td>250.000000</td>\n",
       "      <td>250.000000</td>\n",
       "      <td>250.000000</td>\n",
       "      <td>2.500000e+02</td>\n",
       "      <td>250.000000</td>\n",
       "      <td>239.000000</td>\n",
       "    </tr>\n",
       "    <tr>\n",
       "      <th>mean</th>\n",
       "      <td>392.172000</td>\n",
       "      <td>2011.936000</td>\n",
       "      <td>123.392000</td>\n",
       "      <td>7.828000</td>\n",
       "      <td>3.209958e+05</td>\n",
       "      <td>116.109546</td>\n",
       "      <td>73.619247</td>\n",
       "    </tr>\n",
       "    <tr>\n",
       "      <th>std</th>\n",
       "      <td>280.038678</td>\n",
       "      <td>3.384928</td>\n",
       "      <td>22.191896</td>\n",
       "      <td>0.309968</td>\n",
       "      <td>2.641853e+05</td>\n",
       "      <td>136.843494</td>\n",
       "      <td>12.212466</td>\n",
       "    </tr>\n",
       "    <tr>\n",
       "      <th>min</th>\n",
       "      <td>1.000000</td>\n",
       "      <td>2006.000000</td>\n",
       "      <td>66.000000</td>\n",
       "      <td>7.400000</td>\n",
       "      <td>6.100000e+01</td>\n",
       "      <td>0.010000</td>\n",
       "      <td>34.000000</td>\n",
       "    </tr>\n",
       "    <tr>\n",
       "      <th>25%</th>\n",
       "      <td>146.250000</td>\n",
       "      <td>2009.000000</td>\n",
       "      <td>106.000000</td>\n",
       "      <td>7.600000</td>\n",
       "      <td>1.200365e+05</td>\n",
       "      <td>18.512500</td>\n",
       "      <td>67.000000</td>\n",
       "    </tr>\n",
       "    <tr>\n",
       "      <th>50%</th>\n",
       "      <td>334.000000</td>\n",
       "      <td>2013.000000</td>\n",
       "      <td>120.000000</td>\n",
       "      <td>7.800000</td>\n",
       "      <td>2.903075e+05</td>\n",
       "      <td>73.580000</td>\n",
       "      <td>74.000000</td>\n",
       "    </tr>\n",
       "    <tr>\n",
       "      <th>75%</th>\n",
       "      <td>640.000000</td>\n",
       "      <td>2015.000000</td>\n",
       "      <td>137.750000</td>\n",
       "      <td>8.000000</td>\n",
       "      <td>4.555352e+05</td>\n",
       "      <td>165.957500</td>\n",
       "      <td>81.000000</td>\n",
       "    </tr>\n",
       "    <tr>\n",
       "      <th>max</th>\n",
       "      <td>992.000000</td>\n",
       "      <td>2016.000000</td>\n",
       "      <td>191.000000</td>\n",
       "      <td>9.000000</td>\n",
       "      <td>1.791916e+06</td>\n",
       "      <td>936.630000</td>\n",
       "      <td>100.000000</td>\n",
       "    </tr>\n",
       "  </tbody>\n",
       "</table>\n",
       "</div>"
      ],
      "text/plain": [
       "             rank         year     runtime      rating         votes  \\\n",
       "count  250.000000   250.000000  250.000000  250.000000  2.500000e+02   \n",
       "mean   392.172000  2011.936000  123.392000    7.828000  3.209958e+05   \n",
       "std    280.038678     3.384928   22.191896    0.309968  2.641853e+05   \n",
       "min      1.000000  2006.000000   66.000000    7.400000  6.100000e+01   \n",
       "25%    146.250000  2009.000000  106.000000    7.600000  1.200365e+05   \n",
       "50%    334.000000  2013.000000  120.000000    7.800000  2.903075e+05   \n",
       "75%    640.000000  2015.000000  137.750000    8.000000  4.555352e+05   \n",
       "max    992.000000  2016.000000  191.000000    9.000000  1.791916e+06   \n",
       "\n",
       "          revenue   metascore  \n",
       "count  250.000000  239.000000  \n",
       "mean   116.109546   73.619247  \n",
       "std    136.843494   12.212466  \n",
       "min      0.010000   34.000000  \n",
       "25%     18.512500   67.000000  \n",
       "50%     73.580000   74.000000  \n",
       "75%    165.957500   81.000000  \n",
       "max    936.630000  100.000000  "
      ]
     },
     "execution_count": 34,
     "metadata": {},
     "output_type": "execute_result"
    }
   ],
   "source": [
    "top250.describe()"
   ]
  },
  {
   "cell_type": "markdown",
   "id": "38b0a770",
   "metadata": {},
   "source": [
    "## 7. Verilerin doğruluğunun ve eksik değerlerinin olup olmadığını kontrol edin.¶\n",
    "\n",
    "Not: 4.madde ile benzer şelkilde kontrol edebilirsiniz."
   ]
  },
  {
   "cell_type": "code",
   "execution_count": 35,
   "id": "93713746",
   "metadata": {
    "ExecuteTime": {
     "end_time": "2023-09-20T19:15:44.721515Z",
     "start_time": "2023-09-20T19:15:44.693711Z"
    }
   },
   "outputs": [
    {
     "data": {
      "text/html": [
       "<div>\n",
       "<style scoped>\n",
       "    .dataframe tbody tr th:only-of-type {\n",
       "        vertical-align: middle;\n",
       "    }\n",
       "\n",
       "    .dataframe tbody tr th {\n",
       "        vertical-align: top;\n",
       "    }\n",
       "\n",
       "    .dataframe thead th {\n",
       "        text-align: right;\n",
       "    }\n",
       "</style>\n",
       "<table border=\"1\" class=\"dataframe\">\n",
       "  <thead>\n",
       "    <tr style=\"text-align: right;\">\n",
       "      <th></th>\n",
       "      <th>Title</th>\n",
       "      <th>rank</th>\n",
       "      <th>genre</th>\n",
       "      <th>description</th>\n",
       "      <th>director</th>\n",
       "      <th>actor</th>\n",
       "      <th>year</th>\n",
       "      <th>runtime</th>\n",
       "      <th>rating</th>\n",
       "      <th>votes</th>\n",
       "      <th>revenue</th>\n",
       "      <th>metascore</th>\n",
       "    </tr>\n",
       "  </thead>\n",
       "  <tbody>\n",
       "    <tr>\n",
       "      <th>0</th>\n",
       "      <td>False</td>\n",
       "      <td>False</td>\n",
       "      <td>False</td>\n",
       "      <td>False</td>\n",
       "      <td>False</td>\n",
       "      <td>False</td>\n",
       "      <td>False</td>\n",
       "      <td>False</td>\n",
       "      <td>False</td>\n",
       "      <td>False</td>\n",
       "      <td>False</td>\n",
       "      <td>False</td>\n",
       "    </tr>\n",
       "    <tr>\n",
       "      <th>1</th>\n",
       "      <td>False</td>\n",
       "      <td>False</td>\n",
       "      <td>False</td>\n",
       "      <td>False</td>\n",
       "      <td>False</td>\n",
       "      <td>False</td>\n",
       "      <td>False</td>\n",
       "      <td>False</td>\n",
       "      <td>False</td>\n",
       "      <td>False</td>\n",
       "      <td>False</td>\n",
       "      <td>False</td>\n",
       "    </tr>\n",
       "    <tr>\n",
       "      <th>2</th>\n",
       "      <td>False</td>\n",
       "      <td>False</td>\n",
       "      <td>False</td>\n",
       "      <td>False</td>\n",
       "      <td>False</td>\n",
       "      <td>False</td>\n",
       "      <td>False</td>\n",
       "      <td>False</td>\n",
       "      <td>False</td>\n",
       "      <td>False</td>\n",
       "      <td>False</td>\n",
       "      <td>True</td>\n",
       "    </tr>\n",
       "    <tr>\n",
       "      <th>3</th>\n",
       "      <td>False</td>\n",
       "      <td>False</td>\n",
       "      <td>False</td>\n",
       "      <td>False</td>\n",
       "      <td>False</td>\n",
       "      <td>False</td>\n",
       "      <td>False</td>\n",
       "      <td>False</td>\n",
       "      <td>False</td>\n",
       "      <td>False</td>\n",
       "      <td>False</td>\n",
       "      <td>False</td>\n",
       "    </tr>\n",
       "    <tr>\n",
       "      <th>4</th>\n",
       "      <td>False</td>\n",
       "      <td>False</td>\n",
       "      <td>False</td>\n",
       "      <td>False</td>\n",
       "      <td>False</td>\n",
       "      <td>False</td>\n",
       "      <td>False</td>\n",
       "      <td>False</td>\n",
       "      <td>False</td>\n",
       "      <td>False</td>\n",
       "      <td>False</td>\n",
       "      <td>False</td>\n",
       "    </tr>\n",
       "    <tr>\n",
       "      <th>...</th>\n",
       "      <td>...</td>\n",
       "      <td>...</td>\n",
       "      <td>...</td>\n",
       "      <td>...</td>\n",
       "      <td>...</td>\n",
       "      <td>...</td>\n",
       "      <td>...</td>\n",
       "      <td>...</td>\n",
       "      <td>...</td>\n",
       "      <td>...</td>\n",
       "      <td>...</td>\n",
       "      <td>...</td>\n",
       "    </tr>\n",
       "    <tr>\n",
       "      <th>245</th>\n",
       "      <td>False</td>\n",
       "      <td>False</td>\n",
       "      <td>False</td>\n",
       "      <td>False</td>\n",
       "      <td>False</td>\n",
       "      <td>False</td>\n",
       "      <td>False</td>\n",
       "      <td>False</td>\n",
       "      <td>False</td>\n",
       "      <td>False</td>\n",
       "      <td>False</td>\n",
       "      <td>False</td>\n",
       "    </tr>\n",
       "    <tr>\n",
       "      <th>246</th>\n",
       "      <td>False</td>\n",
       "      <td>False</td>\n",
       "      <td>False</td>\n",
       "      <td>False</td>\n",
       "      <td>False</td>\n",
       "      <td>False</td>\n",
       "      <td>False</td>\n",
       "      <td>False</td>\n",
       "      <td>False</td>\n",
       "      <td>False</td>\n",
       "      <td>False</td>\n",
       "      <td>False</td>\n",
       "    </tr>\n",
       "    <tr>\n",
       "      <th>247</th>\n",
       "      <td>False</td>\n",
       "      <td>False</td>\n",
       "      <td>False</td>\n",
       "      <td>False</td>\n",
       "      <td>False</td>\n",
       "      <td>False</td>\n",
       "      <td>False</td>\n",
       "      <td>False</td>\n",
       "      <td>False</td>\n",
       "      <td>False</td>\n",
       "      <td>False</td>\n",
       "      <td>False</td>\n",
       "    </tr>\n",
       "    <tr>\n",
       "      <th>248</th>\n",
       "      <td>False</td>\n",
       "      <td>False</td>\n",
       "      <td>False</td>\n",
       "      <td>False</td>\n",
       "      <td>False</td>\n",
       "      <td>False</td>\n",
       "      <td>False</td>\n",
       "      <td>False</td>\n",
       "      <td>False</td>\n",
       "      <td>False</td>\n",
       "      <td>False</td>\n",
       "      <td>False</td>\n",
       "    </tr>\n",
       "    <tr>\n",
       "      <th>249</th>\n",
       "      <td>False</td>\n",
       "      <td>False</td>\n",
       "      <td>False</td>\n",
       "      <td>False</td>\n",
       "      <td>False</td>\n",
       "      <td>False</td>\n",
       "      <td>False</td>\n",
       "      <td>False</td>\n",
       "      <td>False</td>\n",
       "      <td>False</td>\n",
       "      <td>False</td>\n",
       "      <td>False</td>\n",
       "    </tr>\n",
       "  </tbody>\n",
       "</table>\n",
       "<p>250 rows × 12 columns</p>\n",
       "</div>"
      ],
      "text/plain": [
       "     Title   rank  genre  description  director  actor   year  runtime  \\\n",
       "0    False  False  False        False     False  False  False    False   \n",
       "1    False  False  False        False     False  False  False    False   \n",
       "2    False  False  False        False     False  False  False    False   \n",
       "3    False  False  False        False     False  False  False    False   \n",
       "4    False  False  False        False     False  False  False    False   \n",
       "..     ...    ...    ...          ...       ...    ...    ...      ...   \n",
       "245  False  False  False        False     False  False  False    False   \n",
       "246  False  False  False        False     False  False  False    False   \n",
       "247  False  False  False        False     False  False  False    False   \n",
       "248  False  False  False        False     False  False  False    False   \n",
       "249  False  False  False        False     False  False  False    False   \n",
       "\n",
       "     rating  votes  revenue  metascore  \n",
       "0     False  False    False      False  \n",
       "1     False  False    False      False  \n",
       "2     False  False    False       True  \n",
       "3     False  False    False      False  \n",
       "4     False  False    False      False  \n",
       "..      ...    ...      ...        ...  \n",
       "245   False  False    False      False  \n",
       "246   False  False    False      False  \n",
       "247   False  False    False      False  \n",
       "248   False  False    False      False  \n",
       "249   False  False    False      False  \n",
       "\n",
       "[250 rows x 12 columns]"
      ]
     },
     "execution_count": 35,
     "metadata": {},
     "output_type": "execute_result"
    }
   ],
   "source": [
    "top250.isnull()"
   ]
  },
  {
   "cell_type": "markdown",
   "id": "30fffe1a",
   "metadata": {},
   "source": [
    "## 8. Verileri görselleştirme:"
   ]
  },
  {
   "cell_type": "markdown",
   "id": "4a3296fd",
   "metadata": {},
   "source": [
    "#### a. Matplotlib kütüphanesi kullanarak, yıllara göre filmlerin sayısını gösteren bir çizgi grafik çizin."
   ]
  },
  {
   "cell_type": "code",
   "execution_count": 36,
   "id": "fefe2a90",
   "metadata": {
    "ExecuteTime": {
     "end_time": "2023-09-20T19:15:46.287896Z",
     "start_time": "2023-09-20T19:15:46.004751Z"
    }
   },
   "outputs": [
    {
     "data": {
      "image/png": "[encoded data removed]",
      "text/plain": [
       "<Figure size 720x432 with 1 Axes>"
      ]
     },
     "metadata": {
      "needs_background": "light"
     },
     "output_type": "display_data"
    }
   ],
   "source": [
    "yearly_movie_counts = mov2['year'].value_counts().sort_index()\n",
    "plt.figure(figsize=(10, 6)) \n",
    "plt.plot(yearly_movie_counts.index, yearly_movie_counts.values, marker='o', linestyle='-', color = 'r')\n",
    "plt.title('Number of Movies Produced Per Year')\n",
    "plt.xlabel('Year')\n",
    "plt.ylabel('Number of Movies')\n",
    "plt.grid(True);"
   ]
  },
  {
   "cell_type": "markdown",
   "id": "296b0b5f",
   "metadata": {},
   "source": [
    "#### b. Seaborn kütüphanesi kullanarak, en çok film yapılan 10 türü bar grafiğiyle gösterin."
   ]
  },
  {
   "cell_type": "code",
   "execution_count": 37,
   "id": "57dddb58",
   "metadata": {
    "ExecuteTime": {
     "end_time": "2023-09-20T19:15:46.995967Z",
     "start_time": "2023-09-20T19:15:46.987042Z"
    }
   },
   "outputs": [
    {
     "data": {
      "text/plain": [
       "Action,Adventure,Sci-Fi       50\n",
       "Drama                         48\n",
       "Comedy,Drama,Romance          35\n",
       "Comedy                        32\n",
       "Drama,Romance                 31\n",
       "Animation,Adventure,Comedy    27\n",
       "Action,Adventure,Fantasy      27\n",
       "Comedy,Drama                  27\n",
       "Comedy,Romance                26\n",
       "Crime,Drama,Thriller          24\n",
       "Name: genre, dtype: int64"
      ]
     },
     "execution_count": 37,
     "metadata": {},
     "output_type": "execute_result"
    }
   ],
   "source": [
    " top_10_genres = mov2.genre.value_counts().head(10)\n",
    "top_10_genres"
   ]
  },
  {
   "cell_type": "code",
   "execution_count": 38,
   "id": "2e379a4b",
   "metadata": {
    "ExecuteTime": {
     "end_time": "2023-09-20T19:15:47.223190Z",
     "start_time": "2023-09-20T19:15:47.218217Z"
    }
   },
   "outputs": [],
   "source": [
    "label = ['Act,Adv,Sci','Dra','Com,Dra,Rom','Com','Dra,Rom','Ani,Adv,Com','Act,Adv,Fan','Com,Dra','Com,Rom','Cri,Dra,Thr']"
   ]
  },
  {
   "cell_type": "code",
   "execution_count": 39,
   "id": "8c96f4aa",
   "metadata": {
    "ExecuteTime": {
     "end_time": "2023-09-20T19:15:47.628416Z",
     "start_time": "2023-09-20T19:15:47.492237Z"
    }
   },
   "outputs": [
    {
     "data": {
      "image/png": "[encoded data removed]",
      "text/plain": [
       "<Figure size 864x432 with 1 Axes>"
      ]
     },
     "metadata": {
      "needs_background": "light"
     },
     "output_type": "display_data"
    }
   ],
   "source": [
    "fig, ax = plt.subplots(figsize = (12,6))\n",
    "ax = sns.barplot(x = top_10_genres.index, y = top_10_genres.values, palette = 'viridis')\n",
    "ax.set_xticklabels(label)\n",
    "plt.xlabel('Genres')\n",
    "plt.ylabel('Count of Movies')\n",
    "plt.title('Count of Movies Per Genre', size = 20, style = 'italic', color = 'purple')\n",
    "plt.xticks(rotation = 45, size =9);"
   ]
  },
  {
   "cell_type": "markdown",
   "id": "6521c319",
   "metadata": {},
   "source": [
    "#### c. Matplotlib kütüphanesi kullanarak, film türlerine göre filmlerin sayısını gösteren pasta grafik çizin."
   ]
  },
  {
   "cell_type": "code",
   "execution_count": 40,
   "id": "a0dab64b",
   "metadata": {
    "ExecuteTime": {
     "end_time": "2023-09-20T19:15:48.575491Z",
     "start_time": "2023-09-20T19:15:48.418277Z"
    }
   },
   "outputs": [
    {
     "data": {
      "image/png": "[encoded data removed]",
      "text/plain": [
       "<Figure size 720x576 with 1 Axes>"
      ]
     },
     "metadata": {},
     "output_type": "display_data"
    }
   ],
   "source": [
    "plt.figure(figsize = (10,8))\n",
    "plt.pie(top_10_genres, \n",
    "        labeldistance = 0.5, \n",
    "        autopct = '%1.2f%%',\n",
    "        colors=sns.color_palette('Set2'),\n",
    "        startangle=90,\n",
    "        shadow = True,\n",
    "        explode = [0.2,0,0,0,0,0,0,0,0,0])\n",
    "plt.legend(label, loc = (0.93,0.35))\n",
    "plt.title('Top 10 Genres by Percentage')\n",
    "hole = plt.Circle((0, 0), 0.4, facecolor='white')\n",
    "plt.gcf().gca().add_artist(hole);\n"
   ]
  },
  {
   "cell_type": "markdown",
   "id": "99fa29fc",
   "metadata": {},
   "source": [
    "## 9. İlişkileri görselleştirme"
   ]
  },
  {
   "cell_type": "markdown",
   "id": "999d70b6",
   "metadata": {},
   "source": [
    "#### a. Seaborn kütüphanesi kullanarak, veri setindeki nümerik değişkenlerin korelasyonunu gösteren bir heatmap çizin."
   ]
  },
  {
   "cell_type": "code",
   "execution_count": 52,
   "id": "698aae5f",
   "metadata": {
    "ExecuteTime": {
     "end_time": "2023-09-20T19:27:32.801327Z",
     "start_time": "2023-09-20T19:27:32.582424Z"
    }
   },
   "outputs": [
    {
     "data": {
      "image/png": "[encoded data removed]",
      "text/plain": [
       "<Figure size 432x288 with 2 Axes>"
      ]
     },
     "metadata": {
      "needs_background": "light"
     },
     "output_type": "display_data"
    }
   ],
   "source": [
    "sns.heatmap(top250.corr(), annot = True, cmap = \"RdYlGn\", center = 0.20, robust= True, fmt='.2f');"
   ]
  },
  {
   "cell_type": "code",
   "execution_count": 75,
   "id": "ee50aebc",
   "metadata": {
    "ExecuteTime": {
     "end_time": "2023-09-21T13:45:32.590371Z",
     "start_time": "2023-09-21T13:45:32.350276Z"
    }
   },
   "outputs": [
    {
     "data": {
      "image/png": "[encoded data removed]",
      "text/plain": [
       "<Figure size 432x288 with 1 Axes>"
      ]
     },
     "metadata": {
      "needs_background": "light"
     },
     "output_type": "display_data"
    }
   ],
   "source": [
    "sns.regplot(data = top250, x = 'votes', y = 'revenue');"
   ]
  },
  {
   "cell_type": "code",
   "execution_count": 47,
   "id": "91f78900",
   "metadata": {
    "ExecuteTime": {
     "end_time": "2023-09-20T19:18:55.530345Z",
     "start_time": "2023-09-20T19:18:55.493781Z"
    }
   },
   "outputs": [],
   "source": [
    "categorical_columns = [\"Title\", \"genre\", \"description\", \"director\", \"actor\"]\n",
    "top250[categorical_columns] = top250[categorical_columns].apply(lambda x: pd.Categorical(x))"
   ]
  },
  {
   "cell_type": "markdown",
   "id": "5b40f399",
   "metadata": {},
   "source": [
    "#### b. Seaborn ile oyunculardan birden fazla filmde rol alan oyuncuların rol aldıkları film sayılarına göre ilk 20 oyucuyu görselleştir.  \n",
    "\n",
    "#### Not: Bu soru için kullanılacak data setimiz 936 satırlık data seti olacak."
   ]
  },
  {
   "cell_type": "code",
   "execution_count": 57,
   "id": "c7dbe1a6",
   "metadata": {
    "ExecuteTime": {
     "end_time": "2023-09-20T19:38:44.704875Z",
     "start_time": "2023-09-20T19:38:44.678629Z"
    }
   },
   "outputs": [],
   "source": [
    "actor_data = mov2['actor'].str.split(',', expand=True).stack().reset_index(level=1, drop=True).rename('actors')\n",
    "movie_data_with_actors = mov2.drop(columns='actor').join(actor_data)\n",
    "actor_counts = movie_data_with_actors['actors'].value_counts()"
   ]
  },
  {
   "cell_type": "code",
   "execution_count": 58,
   "id": "1b9a74e0",
   "metadata": {
    "ExecuteTime": {
     "end_time": "2023-09-20T19:39:10.135948Z",
     "start_time": "2023-09-20T19:39:10.119428Z"
    }
   },
   "outputs": [],
   "source": [
    "actors_with_multiple_movies = actor_counts[actor_counts > 1].index.tolist()"
   ]
  },
  {
   "cell_type": "code",
   "execution_count": 59,
   "id": "a7f003f5",
   "metadata": {
    "ExecuteTime": {
     "end_time": "2023-09-20T19:39:37.842486Z",
     "start_time": "2023-09-20T19:39:37.829217Z"
    }
   },
   "outputs": [],
   "source": [
    "filtered_movie_data = movie_data_with_actors[movie_data_with_actors['actors'].isin(actors_with_multiple_movies)]"
   ]
  },
  {
   "cell_type": "code",
   "execution_count": 64,
   "id": "73a51944",
   "metadata": {
    "ExecuteTime": {
     "end_time": "2023-09-20T19:40:55.639401Z",
     "start_time": "2023-09-20T19:40:55.633082Z"
    }
   },
   "outputs": [],
   "source": [
    "actors_movie = filtered_movie_data.head(20)"
   ]
  },
  {
   "cell_type": "code",
   "execution_count": 66,
   "id": "d54931b9",
   "metadata": {
    "ExecuteTime": {
     "end_time": "2023-09-20T19:41:09.653126Z",
     "start_time": "2023-09-20T19:41:09.645256Z"
    }
   },
   "outputs": [
    {
     "data": {
      "text/plain": [
       "0             Chris Pratt\n",
       "0          Bradley Cooper\n",
       "0             Zoe Saldana\n",
       "1            Noomi Rapace\n",
       "1      Michael Fassbender\n",
       "1         Charlize Theron\n",
       "2            James McAvoy\n",
       "2         Anya Taylor-Joy\n",
       "2     Haley Lu Richardson\n",
       "3     Matthew McConaughey\n",
       "3       Reese Witherspoon\n",
       "3         Seth MacFarlane\n",
       "3      Scarlett Johansson\n",
       "4              Will Smith\n",
       "4              Jared Leto\n",
       "4           Margot Robbie\n",
       "4             Viola Davis\n",
       "5              Matt Damon\n",
       "5            Willem Dafoe\n",
       "6            Ryan Gosling\n",
       "Name: actors, dtype: object"
      ]
     },
     "execution_count": 66,
     "metadata": {},
     "output_type": "execute_result"
    }
   ],
   "source": [
    "actors_movie.actors"
   ]
  },
  {
   "cell_type": "markdown",
   "id": "0030684b",
   "metadata": {},
   "source": [
    "#### c. Popüler 250 Filmin rating puanlarına göre hasılatını herhangi bir grafik ile gösterin ."
   ]
  },
  {
   "cell_type": "code",
   "execution_count": 70,
   "id": "2a0118f2",
   "metadata": {
    "ExecuteTime": {
     "end_time": "2023-09-20T19:43:53.326502Z",
     "start_time": "2023-09-20T19:43:53.219038Z"
    }
   },
   "outputs": [
    {
     "data": {
      "image/png": "[encoded data removed]",
      "text/plain": [
       "<Figure size 432x288 with 1 Axes>"
      ]
     },
     "metadata": {
      "needs_background": "light"
     },
     "output_type": "display_data"
    }
   ],
   "source": [
    "sns.scatterplot(data = top250, x = 'rating', y = 'revenue');"
   ]
  },
  {
   "cell_type": "code",
   "execution_count": 72,
   "id": "bb0efbe7",
   "metadata": {
    "ExecuteTime": {
     "end_time": "2023-09-20T19:56:21.288462Z",
     "start_time": "2023-09-20T19:56:21.179337Z"
    }
   },
   "outputs": [
    {
     "data": {
      "image/png": "[encoded data removed]",
      "text/plain": [
       "<Figure size 432x288 with 1 Axes>"
      ]
     },
     "metadata": {
      "needs_background": "light"
     },
     "output_type": "display_data"
    }
   ],
   "source": [
    "sns.scatterplot(data = mov2, x = 'rating', y = 'metascore');"
   ]
  },
  {
   "cell_type": "markdown",
   "id": "c67cef1b",
   "metadata": {},
   "source": [
    "## 10. Conclusion (Sonuçları sunma)"
   ]
  },
  {
   "cell_type": "markdown",
   "id": "3efb3d8d",
   "metadata": {},
   "source": [
    "- rating and metascore are positively correlated\n",
    "- runtime is insignificantly positively correlated with votes"
   ]
  },
  {
   "cell_type": "markdown",
   "id": "df4cd133",
   "metadata": {},
   "source": [
    "# T E B R İ K L E R"
   ]
  },
  {
   "cell_type": "markdown",
   "id": "8a14e8b5",
   "metadata": {},
   "source": [
    "___\n",
    "\n",
    "<p style=\"text-align: center;\"><img src=\"https://techproeducation.com/logo/headerlogo.svg\" class=\"img-fluid\" alt=\"TECHPRO\"></p>\n",
    "\n",
    "___"
   ]
  },
  {
   "cell_type": "code",
   "execution_count": null,
   "id": "ece746c6",
   "metadata": {},
   "outputs": [],
   "source": []
  }
 ],
 "metadata": {
  "kernelspec": {
   "display_name": "Python 3 (ipykernel)",
   "language": "python",
   "name": "python3"
  },
  "language_info": {
   "codemirror_mode": {
    "name": "ipython",
    "version": 3
   },
   "file_extension": ".py",
   "mimetype": "text/x-python",
   "name": "python",
   "nbconvert_exporter": "python",
   "pygments_lexer": "ipython3",
   "version": "3.9.12"
  },
  "toc": {
   "base_numbering": 1,
   "nav_menu": {},
   "number_sections": true,
   "sideBar": true,
   "skip_h1_title": false,
   "title_cell": "Table of Contents",
   "title_sidebar": "Contents",
   "toc_cell": false,
   "toc_position": {},
   "toc_section_display": true,
   "toc_window_display": false
  }
 },
 "nbformat": 4,
 "nbformat_minor": 5
}
