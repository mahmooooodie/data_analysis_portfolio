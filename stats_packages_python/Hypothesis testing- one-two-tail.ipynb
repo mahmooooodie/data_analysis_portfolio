{
 "cells": [
  {
   "cell_type": "markdown",
   "id": "7eb7ecd7",
   "metadata": {},
   "source": [
    "## **One Sample Z test**"
   ]
  },
  {
   "cell_type": "markdown",
   "id": "07634187",
   "metadata": {},
   "source": [
    "Used when population mean and std is known"
   ]
  },
  {
   "cell_type": "code",
   "execution_count": 2,
   "id": "c334e41b",
   "metadata": {
    "ExecuteTime": {
     "end_time": "2023-10-30T13:34:19.356855Z",
     "start_time": "2023-10-30T13:34:19.348295Z"
    }
   },
   "outputs": [],
   "source": [
    "import numpy as np\n",
    "import scipy.stats as stats\n",
    "import matplotlib.pyplot as plt\n",
    "import pandas as pd\n",
    "import seaborn as sns\n",
    "from math import sqrt"
   ]
  },
  {
   "cell_type": "markdown",
   "id": "4c4f34c5",
   "metadata": {},
   "source": [
    "#### Example"
   ]
  },
  {
   "cell_type": "markdown",
   "id": "e3da6f92",
   "metadata": {},
   "source": [
    "- expected mercury level in a sea is 10 p/m (parts/million)\n",
    "- population std = 1.5\n",
    "- population mean = 10\n",
    "- we took 40 different samples to measure mercury levels and got sample mean = 10.5\n",
    "- is the mean significant at the 0.05 alpha level."
   ]
  },
  {
   "cell_type": "code",
   "execution_count": 3,
   "id": "1d3170c6",
   "metadata": {
    "ExecuteTime": {
     "end_time": "2023-10-30T13:36:00.413993Z",
     "start_time": "2023-10-30T13:36:00.396026Z"
    }
   },
   "outputs": [],
   "source": [
    "# identifying variables\n",
    "\n",
    "x_bar = 10.5    # sample mean\n",
    "n = 40          # sample size\n",
    "sigma = 1.5     # pop std\n",
    "mu = 10         # pop mean "
   ]
  },
  {
   "cell_type": "code",
   "execution_count": 4,
   "id": "f7446900",
   "metadata": {
    "ExecuteTime": {
     "end_time": "2023-10-30T13:37:07.319321Z",
     "start_time": "2023-10-30T13:37:07.302436Z"
    }
   },
   "outputs": [
    {
     "data": {
      "text/plain": [
       "2.1081851067789197"
      ]
     },
     "execution_count": 4,
     "metadata": {},
     "output_type": "execute_result"
    }
   ],
   "source": [
    "# calculating z score\n",
    "\n",
    "z = (x_bar - mu)/(sigma/sqrt(n))\n",
    "z"
   ]
  },
  {
   "cell_type": "code",
   "execution_count": 5,
   "id": "0269aa2b",
   "metadata": {
    "ExecuteTime": {
     "end_time": "2023-10-30T13:37:43.886378Z",
     "start_time": "2023-10-30T13:37:43.857751Z"
    }
   },
   "outputs": [
    {
     "data": {
      "text/plain": [
       "0.017507490509831247"
      ]
     },
     "execution_count": 5,
     "metadata": {},
     "output_type": "execute_result"
    }
   ],
   "source": [
    "# calculating p value\n",
    "\n",
    "p_value = 1 - stats.norm.cdf(z)\n",
    "p_value"
   ]
  },
  {
   "cell_type": "code",
   "execution_count": 9,
   "id": "43968dad",
   "metadata": {
    "ExecuteTime": {
     "end_time": "2023-10-30T13:42:01.721956Z",
     "start_time": "2023-10-30T13:42:01.717259Z"
    }
   },
   "outputs": [
    {
     "name": "stdout",
     "output_type": "stream",
     "text": [
      "At 0.05 level of significance, we can reject the null hypothesis in favor of alternative hypothesis.\n"
     ]
    }
   ],
   "source": [
    "alpha = 0.05\n",
    "if p_value<alpha:\n",
    "    print(f'At {alpha} level of significance, we can reject the null hypothesis in favor of alternative hypothesis.')\n",
    "else:\n",
    "    print(f'At {alpha} level of significance, we fail to reject the null hypothesis')"
   ]
  },
  {
   "cell_type": "markdown",
   "id": "78b40559",
   "metadata": {},
   "source": [
    "### Example 2"
   ]
  },
  {
   "cell_type": "markdown",
   "id": "bb0489d6",
   "metadata": {},
   "source": [
    "- if average sales is greater than 170, it is more efficient to transfer into a new billing system\n",
    "- 400 reports of monthly average sales a random is chosen with mean 178\n",
    "- std of pop = 65\n",
    "- is it efficient to transfer into new billing system"
   ]
  },
  {
   "cell_type": "code",
   "execution_count": 10,
   "id": "3a5256db",
   "metadata": {
    "ExecuteTime": {
     "end_time": "2023-10-30T13:48:38.671340Z",
     "start_time": "2023-10-30T13:48:38.662344Z"
    }
   },
   "outputs": [],
   "source": [
    "x_bar = 178  # sample mean\n",
    "n = 400      # sample size\n",
    "sigma = 65   # pop std\n",
    "mu = 170     # pop mean"
   ]
  },
  {
   "cell_type": "code",
   "execution_count": 11,
   "id": "b1978bfe",
   "metadata": {
    "ExecuteTime": {
     "end_time": "2023-10-30T13:49:06.898028Z",
     "start_time": "2023-10-30T13:49:06.869580Z"
    }
   },
   "outputs": [
    {
     "data": {
      "text/plain": [
       "2.4615384615384617"
      ]
     },
     "execution_count": 11,
     "metadata": {},
     "output_type": "execute_result"
    }
   ],
   "source": [
    "# calculating z score\n",
    "\n",
    "z = (x_bar - mu)/(sigma/sqrt(n))\n",
    "z"
   ]
  },
  {
   "cell_type": "code",
   "execution_count": 12,
   "id": "ca61a8da",
   "metadata": {
    "ExecuteTime": {
     "end_time": "2023-10-30T13:49:16.532895Z",
     "start_time": "2023-10-30T13:49:16.501857Z"
    }
   },
   "outputs": [
    {
     "data": {
      "text/plain": [
       "0.006917128192854505"
      ]
     },
     "execution_count": 12,
     "metadata": {},
     "output_type": "execute_result"
    }
   ],
   "source": [
    "# calculating p value\n",
    "\n",
    "p_value = 1 - stats.norm.cdf(z)\n",
    "p_value"
   ]
  },
  {
   "cell_type": "code",
   "execution_count": 13,
   "id": "eb6feff3",
   "metadata": {
    "ExecuteTime": {
     "end_time": "2023-10-30T13:49:28.745977Z",
     "start_time": "2023-10-30T13:49:28.737489Z"
    }
   },
   "outputs": [
    {
     "name": "stdout",
     "output_type": "stream",
     "text": [
      "At 0.05 level of significance, we can reject the null hypothesis in favor of alternative hypothesis.\n"
     ]
    }
   ],
   "source": [
    "alpha = 0.05\n",
    "if p_value<alpha:\n",
    "    print(f'At {alpha} level of significance, we can reject the null hypothesis in favor of alternative hypothesis.')\n",
    "else:\n",
    "    print(f'At {alpha} level of significance, we fail to reject the null hypothesis')"
   ]
  },
  {
   "cell_type": "markdown",
   "id": "6617fa56",
   "metadata": {},
   "source": [
    "## **One Sample t test**\n"
   ]
  },
  {
   "cell_type": "markdown",
   "id": "b7fd6f9e",
   "metadata": {},
   "source": [
    "### Example"
   ]
  },
  {
   "cell_type": "markdown",
   "id": "760f899c",
   "metadata": {},
   "source": [
    "- a school has 1000 students\n",
    "- mean IQ = 110\n",
    "- 20 students are chosen at random\n",
    "- sample mean = 108\n",
    "- sample std = 10\n",
    "- are the results significant at the 0.01 level"
   ]
  },
  {
   "cell_type": "code",
   "execution_count": 14,
   "id": "5a927a9b",
   "metadata": {
    "ExecuteTime": {
     "end_time": "2023-10-30T13:53:05.116645Z",
     "start_time": "2023-10-30T13:53:05.092693Z"
    }
   },
   "outputs": [],
   "source": [
    "x_bar = 108 # sample mean\n",
    "n = 20      # sample size\n",
    "s = 10      # pop std\n",
    "mu = 110    # pop mean\n",
    "alpha = 0.01 "
   ]
  },
  {
   "cell_type": "code",
   "execution_count": 15,
   "id": "678c6397",
   "metadata": {
    "ExecuteTime": {
     "end_time": "2023-10-30T13:53:42.400961Z",
     "start_time": "2023-10-30T13:53:42.392755Z"
    }
   },
   "outputs": [
    {
     "data": {
      "text/plain": [
       "-0.8944271909999159"
      ]
     },
     "execution_count": 15,
     "metadata": {},
     "output_type": "execute_result"
    }
   ],
   "source": [
    "# calculating t score\n",
    "t = (x_bar - mu)/(s/sqrt(n))\n",
    "t"
   ]
  },
  {
   "cell_type": "code",
   "execution_count": 17,
   "id": "1e71c321",
   "metadata": {
    "ExecuteTime": {
     "end_time": "2023-10-30T13:54:53.816535Z",
     "start_time": "2023-10-30T13:54:53.810743Z"
    }
   },
   "outputs": [
    {
     "data": {
      "text/plain": [
       "0.1911420676837155"
      ]
     },
     "execution_count": 17,
     "metadata": {},
     "output_type": "execute_result"
    }
   ],
   "source": [
    "# calculating p value\n",
    "#df = n-1\n",
    "\n",
    "p_value = stats.t.cdf(t, n-1)\n",
    "p_value\n"
   ]
  },
  {
   "cell_type": "code",
   "execution_count": 18,
   "id": "723865e5",
   "metadata": {
    "ExecuteTime": {
     "end_time": "2023-10-30T13:55:12.435669Z",
     "start_time": "2023-10-30T13:55:12.423668Z"
    }
   },
   "outputs": [
    {
     "name": "stdout",
     "output_type": "stream",
     "text": [
      "At 0.05 level of significance, we fail to reject the null hypothesis\n"
     ]
    }
   ],
   "source": [
    " alpha = 0.05\n",
    "if p_value<alpha:\n",
    "    print(f'At {alpha} level of significance, we can reject the null hypothesis in favor of alternative hypothesis.')\n",
    "else:\n",
    "    print(f'At {alpha} level of significance, we fail to reject the null hypothesis')"
   ]
  },
  {
   "cell_type": "code",
   "execution_count": 19,
   "id": "d7fd0820",
   "metadata": {
    "ExecuteTime": {
     "end_time": "2023-10-30T14:01:55.596472Z",
     "start_time": "2023-10-30T14:01:46.475549Z"
    }
   },
   "outputs": [],
   "source": [
    "import statsmodels.api as sm"
   ]
  },
  {
   "cell_type": "markdown",
   "id": "ed564a7f",
   "metadata": {},
   "source": [
    "## **Statsmodels Example**\n"
   ]
  },
  {
   "cell_type": "code",
   "execution_count": 19,
   "id": "df620310",
   "metadata": {
    "ExecuteTime": {
     "end_time": "2023-10-30T14:01:55.596472Z",
     "start_time": "2023-10-30T14:01:46.475549Z"
    }
   },
   "outputs": [],
   "source": [
    "import statsmodels.api as sm"
   ]
  },
  {
   "cell_type": "code",
   "execution_count": 20,
   "id": "e979a520",
   "metadata": {
    "ExecuteTime": {
     "end_time": "2023-10-30T14:03:15.983839Z",
     "start_time": "2023-10-30T14:03:14.567860Z"
    }
   },
   "outputs": [],
   "source": [
    "# pulling dataset from statsmodels\n",
    "ds1 = sm.datasets.get_rdataset(dataname = 'Pima.tr', package = 'MASS')"
   ]
  },
  {
   "cell_type": "code",
   "execution_count": 21,
   "id": "36c382fc",
   "metadata": {
    "ExecuteTime": {
     "end_time": "2023-10-30T14:03:23.965185Z",
     "start_time": "2023-10-30T14:03:23.958771Z"
    }
   },
   "outputs": [
    {
     "data": {
      "text/plain": [
       "dict_keys(['data', '__doc__', 'package', 'title', 'from_cache'])"
      ]
     },
     "execution_count": 21,
     "metadata": {},
     "output_type": "execute_result"
    }
   ],
   "source": [
    "ds1.keys()"
   ]
  },
  {
   "cell_type": "code",
   "execution_count": 22,
   "id": "6bb8709f",
   "metadata": {
    "ExecuteTime": {
     "end_time": "2023-10-30T14:03:51.711447Z",
     "start_time": "2023-10-30T14:03:51.681536Z"
    }
   },
   "outputs": [
    {
     "data": {
      "text/html": [
       "<div>\n",
       "<style scoped>\n",
       "    .dataframe tbody tr th:only-of-type {\n",
       "        vertical-align: middle;\n",
       "    }\n",
       "\n",
       "    .dataframe tbody tr th {\n",
       "        vertical-align: top;\n",
       "    }\n",
       "\n",
       "    .dataframe thead th {\n",
       "        text-align: right;\n",
       "    }\n",
       "</style>\n",
       "<table border=\"1\" class=\"dataframe\">\n",
       "  <thead>\n",
       "    <tr style=\"text-align: right;\">\n",
       "      <th></th>\n",
       "      <th>npreg</th>\n",
       "      <th>glu</th>\n",
       "      <th>bp</th>\n",
       "      <th>skin</th>\n",
       "      <th>bmi</th>\n",
       "      <th>ped</th>\n",
       "      <th>age</th>\n",
       "      <th>type</th>\n",
       "    </tr>\n",
       "  </thead>\n",
       "  <tbody>\n",
       "    <tr>\n",
       "      <th>0</th>\n",
       "      <td>5</td>\n",
       "      <td>86</td>\n",
       "      <td>68</td>\n",
       "      <td>28</td>\n",
       "      <td>30.2</td>\n",
       "      <td>0.364</td>\n",
       "      <td>24</td>\n",
       "      <td>No</td>\n",
       "    </tr>\n",
       "    <tr>\n",
       "      <th>1</th>\n",
       "      <td>7</td>\n",
       "      <td>195</td>\n",
       "      <td>70</td>\n",
       "      <td>33</td>\n",
       "      <td>25.1</td>\n",
       "      <td>0.163</td>\n",
       "      <td>55</td>\n",
       "      <td>Yes</td>\n",
       "    </tr>\n",
       "    <tr>\n",
       "      <th>2</th>\n",
       "      <td>5</td>\n",
       "      <td>77</td>\n",
       "      <td>82</td>\n",
       "      <td>41</td>\n",
       "      <td>35.8</td>\n",
       "      <td>0.156</td>\n",
       "      <td>35</td>\n",
       "      <td>No</td>\n",
       "    </tr>\n",
       "    <tr>\n",
       "      <th>3</th>\n",
       "      <td>0</td>\n",
       "      <td>165</td>\n",
       "      <td>76</td>\n",
       "      <td>43</td>\n",
       "      <td>47.9</td>\n",
       "      <td>0.259</td>\n",
       "      <td>26</td>\n",
       "      <td>No</td>\n",
       "    </tr>\n",
       "    <tr>\n",
       "      <th>4</th>\n",
       "      <td>0</td>\n",
       "      <td>107</td>\n",
       "      <td>60</td>\n",
       "      <td>25</td>\n",
       "      <td>26.4</td>\n",
       "      <td>0.133</td>\n",
       "      <td>23</td>\n",
       "      <td>No</td>\n",
       "    </tr>\n",
       "  </tbody>\n",
       "</table>\n",
       "</div>"
      ],
      "text/plain": [
       "   npreg  glu  bp  skin   bmi    ped  age type\n",
       "0      5   86  68    28  30.2  0.364   24   No\n",
       "1      7  195  70    33  25.1  0.163   55  Yes\n",
       "2      5   77  82    41  35.8  0.156   35   No\n",
       "3      0  165  76    43  47.9  0.259   26   No\n",
       "4      0  107  60    25  26.4  0.133   23   No"
      ]
     },
     "execution_count": 22,
     "metadata": {},
     "output_type": "execute_result"
    }
   ],
   "source": [
    "# converting dataset to dataframe\n",
    "df1 = ds1.data\n",
    "df1.head()"
   ]
  },
  {
   "cell_type": "code",
   "execution_count": 23,
   "id": "4aea000f",
   "metadata": {
    "ExecuteTime": {
     "end_time": "2023-10-30T14:04:44.695027Z",
     "start_time": "2023-10-30T14:04:44.644824Z"
    }
   },
   "outputs": [
    {
     "data": {
      "text/html": [
       "<div>\n",
       "<style scoped>\n",
       "    .dataframe tbody tr th:only-of-type {\n",
       "        vertical-align: middle;\n",
       "    }\n",
       "\n",
       "    .dataframe tbody tr th {\n",
       "        vertical-align: top;\n",
       "    }\n",
       "\n",
       "    .dataframe thead th {\n",
       "        text-align: right;\n",
       "    }\n",
       "</style>\n",
       "<table border=\"1\" class=\"dataframe\">\n",
       "  <thead>\n",
       "    <tr style=\"text-align: right;\">\n",
       "      <th></th>\n",
       "      <th>npreg</th>\n",
       "      <th>glu</th>\n",
       "      <th>bp</th>\n",
       "      <th>skin</th>\n",
       "      <th>bmi</th>\n",
       "      <th>ped</th>\n",
       "      <th>age</th>\n",
       "    </tr>\n",
       "  </thead>\n",
       "  <tbody>\n",
       "    <tr>\n",
       "      <th>count</th>\n",
       "      <td>200.000000</td>\n",
       "      <td>200.000000</td>\n",
       "      <td>200.000000</td>\n",
       "      <td>200.000000</td>\n",
       "      <td>200.000000</td>\n",
       "      <td>200.000000</td>\n",
       "      <td>200.000000</td>\n",
       "    </tr>\n",
       "    <tr>\n",
       "      <th>mean</th>\n",
       "      <td>3.570000</td>\n",
       "      <td>123.970000</td>\n",
       "      <td>71.260000</td>\n",
       "      <td>29.215000</td>\n",
       "      <td>32.310000</td>\n",
       "      <td>0.460765</td>\n",
       "      <td>32.110000</td>\n",
       "    </tr>\n",
       "    <tr>\n",
       "      <th>std</th>\n",
       "      <td>3.366268</td>\n",
       "      <td>31.667225</td>\n",
       "      <td>11.479604</td>\n",
       "      <td>11.724594</td>\n",
       "      <td>6.130212</td>\n",
       "      <td>0.307225</td>\n",
       "      <td>10.975436</td>\n",
       "    </tr>\n",
       "    <tr>\n",
       "      <th>min</th>\n",
       "      <td>0.000000</td>\n",
       "      <td>56.000000</td>\n",
       "      <td>38.000000</td>\n",
       "      <td>7.000000</td>\n",
       "      <td>18.200000</td>\n",
       "      <td>0.085000</td>\n",
       "      <td>21.000000</td>\n",
       "    </tr>\n",
       "    <tr>\n",
       "      <th>25%</th>\n",
       "      <td>1.000000</td>\n",
       "      <td>100.000000</td>\n",
       "      <td>64.000000</td>\n",
       "      <td>20.750000</td>\n",
       "      <td>27.575000</td>\n",
       "      <td>0.253500</td>\n",
       "      <td>23.000000</td>\n",
       "    </tr>\n",
       "    <tr>\n",
       "      <th>50%</th>\n",
       "      <td>2.000000</td>\n",
       "      <td>120.500000</td>\n",
       "      <td>70.000000</td>\n",
       "      <td>29.000000</td>\n",
       "      <td>32.800000</td>\n",
       "      <td>0.372500</td>\n",
       "      <td>28.000000</td>\n",
       "    </tr>\n",
       "    <tr>\n",
       "      <th>75%</th>\n",
       "      <td>6.000000</td>\n",
       "      <td>144.000000</td>\n",
       "      <td>78.000000</td>\n",
       "      <td>36.000000</td>\n",
       "      <td>36.500000</td>\n",
       "      <td>0.616000</td>\n",
       "      <td>39.250000</td>\n",
       "    </tr>\n",
       "    <tr>\n",
       "      <th>max</th>\n",
       "      <td>14.000000</td>\n",
       "      <td>199.000000</td>\n",
       "      <td>110.000000</td>\n",
       "      <td>99.000000</td>\n",
       "      <td>47.900000</td>\n",
       "      <td>2.288000</td>\n",
       "      <td>63.000000</td>\n",
       "    </tr>\n",
       "  </tbody>\n",
       "</table>\n",
       "</div>"
      ],
      "text/plain": [
       "            npreg         glu          bp        skin         bmi         ped  \\\n",
       "count  200.000000  200.000000  200.000000  200.000000  200.000000  200.000000   \n",
       "mean     3.570000  123.970000   71.260000   29.215000   32.310000    0.460765   \n",
       "std      3.366268   31.667225   11.479604   11.724594    6.130212    0.307225   \n",
       "min      0.000000   56.000000   38.000000    7.000000   18.200000    0.085000   \n",
       "25%      1.000000  100.000000   64.000000   20.750000   27.575000    0.253500   \n",
       "50%      2.000000  120.500000   70.000000   29.000000   32.800000    0.372500   \n",
       "75%      6.000000  144.000000   78.000000   36.000000   36.500000    0.616000   \n",
       "max     14.000000  199.000000  110.000000   99.000000   47.900000    2.288000   \n",
       "\n",
       "              age  \n",
       "count  200.000000  \n",
       "mean    32.110000  \n",
       "std     10.975436  \n",
       "min     21.000000  \n",
       "25%     23.000000  \n",
       "50%     28.000000  \n",
       "75%     39.250000  \n",
       "max     63.000000  "
      ]
     },
     "execution_count": 23,
     "metadata": {},
     "output_type": "execute_result"
    }
   ],
   "source": [
    "# datas descriptive statistics\n",
    "df1.describe()"
   ]
  },
  {
   "cell_type": "code",
   "execution_count": 24,
   "id": "0809c81a",
   "metadata": {
    "ExecuteTime": {
     "end_time": "2023-10-30T17:15:55.071862Z",
     "start_time": "2023-10-30T17:15:55.016794Z"
    }
   },
   "outputs": [
    {
     "data": {
      "text/plain": [
       "No     132\n",
       "Yes     68\n",
       "Name: type, dtype: int64"
      ]
     },
     "execution_count": 24,
     "metadata": {},
     "output_type": "execute_result"
    }
   ],
   "source": [
    "\n",
    "# type feature count\n",
    "\n",
    "df1[\"type\"].value_counts()"
   ]
  },
  {
   "cell_type": "code",
   "execution_count": 25,
   "id": "11182b78",
   "metadata": {
    "ExecuteTime": {
     "end_time": "2023-10-30T17:17:05.660159Z",
     "start_time": "2023-10-30T17:17:05.606322Z"
    }
   },
   "outputs": [
    {
     "data": {
      "text/html": [
       "<div>\n",
       "<style scoped>\n",
       "    .dataframe tbody tr th:only-of-type {\n",
       "        vertical-align: middle;\n",
       "    }\n",
       "\n",
       "    .dataframe tbody tr th {\n",
       "        vertical-align: top;\n",
       "    }\n",
       "\n",
       "    .dataframe thead th {\n",
       "        text-align: right;\n",
       "    }\n",
       "</style>\n",
       "<table border=\"1\" class=\"dataframe\">\n",
       "  <thead>\n",
       "    <tr style=\"text-align: right;\">\n",
       "      <th></th>\n",
       "      <th>count</th>\n",
       "      <th>mean</th>\n",
       "      <th>std</th>\n",
       "      <th>min</th>\n",
       "      <th>25%</th>\n",
       "      <th>50%</th>\n",
       "      <th>75%</th>\n",
       "      <th>max</th>\n",
       "    </tr>\n",
       "    <tr>\n",
       "      <th>type</th>\n",
       "      <th></th>\n",
       "      <th></th>\n",
       "      <th></th>\n",
       "      <th></th>\n",
       "      <th></th>\n",
       "      <th></th>\n",
       "      <th></th>\n",
       "      <th></th>\n",
       "    </tr>\n",
       "  </thead>\n",
       "  <tbody>\n",
       "    <tr>\n",
       "      <th>No</th>\n",
       "      <td>132.0</td>\n",
       "      <td>31.074242</td>\n",
       "      <td>6.381457</td>\n",
       "      <td>18.2</td>\n",
       "      <td>25.825</td>\n",
       "      <td>31.05</td>\n",
       "      <td>35.500</td>\n",
       "      <td>47.9</td>\n",
       "    </tr>\n",
       "    <tr>\n",
       "      <th>Yes</th>\n",
       "      <td>68.0</td>\n",
       "      <td>34.708824</td>\n",
       "      <td>4.810956</td>\n",
       "      <td>22.9</td>\n",
       "      <td>31.600</td>\n",
       "      <td>34.60</td>\n",
       "      <td>37.625</td>\n",
       "      <td>46.1</td>\n",
       "    </tr>\n",
       "  </tbody>\n",
       "</table>\n",
       "</div>"
      ],
      "text/plain": [
       "      count       mean       std   min     25%    50%     75%   max\n",
       "type                                                               \n",
       "No    132.0  31.074242  6.381457  18.2  25.825  31.05  35.500  47.9\n",
       "Yes    68.0  34.708824  4.810956  22.9  31.600  34.60  37.625  46.1"
      ]
     },
     "execution_count": 25,
     "metadata": {},
     "output_type": "execute_result"
    }
   ],
   "source": [
    "# BMI evaluation\n",
    "df1.groupby(['type'])['bmi'].describe()"
   ]
  },
  {
   "cell_type": "code",
   "execution_count": 30,
   "id": "93834fac",
   "metadata": {
    "ExecuteTime": {
     "end_time": "2023-10-30T17:28:58.518166Z",
     "start_time": "2023-10-30T17:28:58.497041Z"
    }
   },
   "outputs": [
    {
     "name": "stdout",
     "output_type": "stream",
     "text": [
      "sample size is  200\n",
      "sample mean is 32.31\n",
      "sample standard deviation is 6.13\n"
     ]
    }
   ],
   "source": [
    "# hypothesis testing\n",
    "# sample size = 200\n",
    "# null = mean = 30 bmi in women\n",
    "\n",
    "colN = 'bmi'\n",
    "n = df1.shape[0]\n",
    "sample_mean = df1[colN].mean()\n",
    "sample_std = df1[colN].std()\n",
    "print(\"sample size is \", n)\n",
    "print('sample mean is {:.2f}'.format(sample_mean))\n",
    "print('sample standard deviation is {:.2f}'.format(sample_std))"
   ]
  },
  {
   "cell_type": "code",
   "execution_count": 31,
   "id": "e4925665",
   "metadata": {
    "ExecuteTime": {
     "end_time": "2023-10-30T17:31:34.805652Z",
     "start_time": "2023-10-30T17:31:34.785892Z"
    }
   },
   "outputs": [
    {
     "name": "stdout",
     "output_type": "stream",
     "text": [
      "the t score is 5.33\n"
     ]
    }
   ],
   "source": [
    "# calculating t score\n",
    "mu_pop = 30\n",
    "t_score = (sample_mean - mu_pop)/(sample_std/np.sqrt(n))\n",
    "print('the t score is {:.2f}'.format(t_score))"
   ]
  },
  {
   "cell_type": "code",
   "execution_count": 32,
   "id": "59099676",
   "metadata": {
    "ExecuteTime": {
     "end_time": "2023-10-30T17:33:28.028227Z",
     "start_time": "2023-10-30T17:33:28.002775Z"
    }
   },
   "outputs": [
    {
     "name": "stdout",
     "output_type": "stream",
     "text": [
      "the p value is  1.3307205153730877e-07\n"
     ]
    }
   ],
   "source": [
    "# calculating p-value\n",
    "degrees_of_freedom = n-1\n",
    "p_value = stats.t.sf(abs(t_score), df = degrees_of_freedom)\n",
    "print('the p value is ', p_value)"
   ]
  },
  {
   "cell_type": "code",
   "execution_count": null,
   "id": "f75606b6",
   "metadata": {},
   "outputs": [],
   "source": []
  }
 ],
 "metadata": {
  "kernelspec": {
   "display_name": "Python 3 (ipykernel)",
   "language": "python",
   "name": "python3"
  },
  "language_info": {
   "codemirror_mode": {
    "name": "ipython",
    "version": 3
   },
   "file_extension": ".py",
   "mimetype": "text/x-python",
   "name": "python",
   "nbconvert_exporter": "python",
   "pygments_lexer": "ipython3",
   "version": "3.9.12"
  },
  "toc": {
   "base_numbering": 1,
   "nav_menu": {},
   "number_sections": true,
   "sideBar": true,
   "skip_h1_title": false,
   "title_cell": "Table of Contents",
   "title_sidebar": "Contents",
   "toc_cell": false,
   "toc_position": {},
   "toc_section_display": true,
   "toc_window_display": false
  }
 },
 "nbformat": 4,
 "nbformat_minor": 5
}
