{
 "cells": [
  {
   "cell_type": "code",
   "execution_count": 1,
   "id": "1452691a",
   "metadata": {
    "ExecuteTime": {
     "end_time": "2023-10-27T12:04:28.389512Z",
     "start_time": "2023-10-27T12:04:22.888377Z"
    }
   },
   "outputs": [],
   "source": [
    "import numpy as np\n",
    "from scipy import stats\n",
    "import matplotlib.pyplot as plt"
   ]
  },
  {
   "cell_type": "code",
   "execution_count": 2,
   "id": "e4bc17ea",
   "metadata": {
    "ExecuteTime": {
     "end_time": "2023-10-27T12:04:52.114048Z",
     "start_time": "2023-10-27T12:04:52.100274Z"
    }
   },
   "outputs": [],
   "source": [
    "n = 4\n",
    "p = 0.4\n"
   ]
  },
  {
   "cell_type": "code",
   "execution_count": 3,
   "id": "54530fdd",
   "metadata": {
    "ExecuteTime": {
     "end_time": "2023-10-27T12:05:11.395083Z",
     "start_time": "2023-10-27T12:05:11.384418Z"
    }
   },
   "outputs": [
    {
     "data": {
      "text/plain": [
       "<scipy.stats._distn_infrastructure.rv_discrete_frozen at 0x7ffcf35d3910>"
      ]
     },
     "execution_count": 3,
     "metadata": {},
     "output_type": "execute_result"
    }
   ],
   "source": [
    "stats.binom(n,p)"
   ]
  },
  {
   "cell_type": "code",
   "execution_count": 5,
   "id": "e65b4ba6",
   "metadata": {
    "ExecuteTime": {
     "end_time": "2023-10-27T12:07:03.678983Z",
     "start_time": "2023-10-27T12:07:03.671721Z"
    }
   },
   "outputs": [],
   "source": [
    "binomDist = stats.binom(n,p)"
   ]
  },
  {
   "cell_type": "code",
   "execution_count": 6,
   "id": "b92cb1ae",
   "metadata": {
    "ExecuteTime": {
     "end_time": "2023-10-27T12:07:09.378904Z",
     "start_time": "2023-10-27T12:07:09.372442Z"
    }
   },
   "outputs": [
    {
     "data": {
      "text/plain": [
       "(4, 0.4)"
      ]
     },
     "execution_count": 6,
     "metadata": {},
     "output_type": "execute_result"
    }
   ],
   "source": [
    "binomDist.args"
   ]
  },
  {
   "cell_type": "code",
   "execution_count": 15,
   "id": "2f826d1e",
   "metadata": {
    "ExecuteTime": {
     "end_time": "2023-10-27T12:08:07.047322Z",
     "start_time": "2023-10-27T12:08:07.041042Z"
    }
   },
   "outputs": [
    {
     "data": {
      "text/plain": [
       "0.3456"
      ]
     },
     "execution_count": 15,
     "metadata": {},
     "output_type": "execute_result"
    }
   ],
   "source": [
    "binomDist.pmf(1)"
   ]
  },
  {
   "cell_type": "code",
   "execution_count": 16,
   "id": "e7690090",
   "metadata": {
    "ExecuteTime": {
     "end_time": "2023-10-27T12:09:43.677852Z",
     "start_time": "2023-10-27T12:09:43.659589Z"
    }
   },
   "outputs": [
    {
     "name": "stdout",
     "output_type": "stream",
     "text": [
      "0\t0.1296000000000001\n",
      "1\t0.3456\n",
      "2\t0.3456\n",
      "3\t0.15360000000000001\n",
      "4\t0.025600000000000005\n"
     ]
    }
   ],
   "source": [
    "dist = []\n",
    "for i in range(n+1):\n",
    "    dist.append(binomDist.pmf(i))\n",
    "    print(str(i)+ \"\\t\" + str(binomDist.pmf(i)))"
   ]
  },
  {
   "cell_type": "code",
   "execution_count": 17,
   "id": "c4297403",
   "metadata": {
    "ExecuteTime": {
     "end_time": "2023-10-27T12:10:56.137872Z",
     "start_time": "2023-10-27T12:10:55.993339Z"
    }
   },
   "outputs": [
    {
     "data": {
      "image/png": "[encoded data removed]",
      "text/plain": [
       "<Figure size 432x288 with 1 Axes>"
      ]
     },
     "metadata": {
      "needs_background": "light"
     },
     "output_type": "display_data"
    }
   ],
   "source": [
    "plt.bar(list(range(n+1)), dist)\n",
    "plt.show;"
   ]
  },
  {
   "cell_type": "code",
   "execution_count": 18,
   "id": "6860bb6c",
   "metadata": {
    "ExecuteTime": {
     "end_time": "2023-10-27T12:11:40.976932Z",
     "start_time": "2023-10-27T12:11:40.963575Z"
    }
   },
   "outputs": [],
   "source": [
    "mean, var = binomDist.stats()"
   ]
  },
  {
   "cell_type": "code",
   "execution_count": 19,
   "id": "a04c42f5",
   "metadata": {
    "ExecuteTime": {
     "end_time": "2023-10-27T12:11:52.712991Z",
     "start_time": "2023-10-27T12:11:52.702106Z"
    }
   },
   "outputs": [
    {
     "data": {
      "text/plain": [
       "2.0"
      ]
     },
     "execution_count": 19,
     "metadata": {},
     "output_type": "execute_result"
    }
   ],
   "source": [
    "binomDist.median()"
   ]
  },
  {
   "cell_type": "code",
   "execution_count": 21,
   "id": "f520efdc",
   "metadata": {
    "ExecuteTime": {
     "end_time": "2023-10-27T12:13:54.786016Z",
     "start_time": "2023-10-27T12:13:54.765508Z"
    }
   },
   "outputs": [
    {
     "name": "stdout",
     "output_type": "stream",
     "text": [
      "mean = 1.6\n",
      "variance = 0.96\n",
      "median = 2.0\n",
      "standard deviation = 0.9797958971132712\n"
     ]
    }
   ],
   "source": [
    "print(\"mean = \" + str(mean))\n",
    "print(\"variance = \" + str(var))\n",
    "print(\"median = \" + str(binomDist.median()))\n",
    "print(\"standard deviation = \" + str(binomDist.std()))"
   ]
  },
  {
   "cell_type": "code",
   "execution_count": 22,
   "id": "0825769f",
   "metadata": {
    "ExecuteTime": {
     "end_time": "2023-10-27T12:20:12.837365Z",
     "start_time": "2023-10-27T12:20:12.821450Z"
    }
   },
   "outputs": [
    {
     "data": {
      "text/plain": [
       "0.47520000000000007"
      ]
     },
     "execution_count": 22,
     "metadata": {},
     "output_type": "execute_result"
    }
   ],
   "source": [
    "binomDist.cdf(1)"
   ]
  },
  {
   "cell_type": "code",
   "execution_count": 23,
   "id": "3f3d83a4",
   "metadata": {
    "ExecuteTime": {
     "end_time": "2023-10-27T12:20:38.182393Z",
     "start_time": "2023-10-27T12:20:38.166246Z"
    }
   },
   "outputs": [
    {
     "data": {
      "text/plain": [
       "0.4752000000000001"
      ]
     },
     "execution_count": 23,
     "metadata": {},
     "output_type": "execute_result"
    }
   ],
   "source": [
    "dist[1]+dist[0]"
   ]
  },
  {
   "cell_type": "code",
   "execution_count": 24,
   "id": "4c637fe4",
   "metadata": {
    "ExecuteTime": {
     "end_time": "2023-10-27T12:21:11.419984Z",
     "start_time": "2023-10-27T12:21:11.402931Z"
    }
   },
   "outputs": [
    {
     "data": {
      "text/plain": [
       "array([1, 1, 1, 1, 3, 1, 1, 0, 1, 0, 2, 1, 2, 1, 1, 1, 3, 2, 3, 2, 0, 4,\n",
       "       3, 1, 1, 2, 1, 1, 1, 3, 0, 3, 2, 4, 2, 2, 3, 3, 2, 2, 1, 3, 0, 1,\n",
       "       2, 2, 1, 1, 1, 3, 1, 2, 1, 0, 2, 4, 1, 1, 2, 1, 0, 1, 0, 1, 3, 2,\n",
       "       2, 2, 2, 0, 2, 1, 1, 2, 3, 2, 2, 2, 3, 0, 2, 1, 3, 1, 1, 1, 0, 1,\n",
       "       0, 3, 0, 1, 3, 1, 2, 2, 0, 0, 0, 2])"
      ]
     },
     "execution_count": 24,
     "metadata": {},
     "output_type": "execute_result"
    }
   ],
   "source": [
    "list1 = binomDist.rvs(100)\n",
    "list1"
   ]
  },
  {
   "cell_type": "code",
   "execution_count": 26,
   "id": "4380256a",
   "metadata": {
    "ExecuteTime": {
     "end_time": "2023-10-27T12:23:52.575048Z",
     "start_time": "2023-10-27T12:23:52.565406Z"
    }
   },
   "outputs": [],
   "source": [
    "#Phone company says cold call success rate is 0.8. what is the probability of having success on 7 out of 10 calls\n",
    "\n",
    "n = 10\n",
    "p = 0.8\n",
    "x = 7"
   ]
  },
  {
   "cell_type": "code",
   "execution_count": 27,
   "id": "b7ea805f",
   "metadata": {
    "ExecuteTime": {
     "end_time": "2023-10-27T12:24:08.844834Z",
     "start_time": "2023-10-27T12:24:08.829942Z"
    }
   },
   "outputs": [],
   "source": [
    "telephone = stats.binom(n,p)"
   ]
  },
  {
   "cell_type": "code",
   "execution_count": 28,
   "id": "5542986f",
   "metadata": {
    "ExecuteTime": {
     "end_time": "2023-10-27T12:24:16.757520Z",
     "start_time": "2023-10-27T12:24:16.749250Z"
    }
   },
   "outputs": [
    {
     "data": {
      "text/plain": [
       "0.20132659199999978"
      ]
     },
     "execution_count": 28,
     "metadata": {},
     "output_type": "execute_result"
    }
   ],
   "source": [
    "# since were looking at probability of 7 we use pmf\n",
    "telephone.pmf(7)"
   ]
  },
  {
   "cell_type": "code",
   "execution_count": 29,
   "id": "fec071f6",
   "metadata": {
    "ExecuteTime": {
     "end_time": "2023-10-27T12:26:16.310536Z",
     "start_time": "2023-10-27T12:26:16.294496Z"
    }
   },
   "outputs": [
    {
     "data": {
      "text/plain": [
       "0.12087388159999991"
      ]
     },
     "execution_count": 29,
     "metadata": {},
     "output_type": "execute_result"
    }
   ],
   "source": [
    "# if trying to find probability of less than 7 calls, it would be cumulative so cdf\n",
    "telephone.cdf(6)"
   ]
  },
  {
   "cell_type": "markdown",
   "id": "21c5c4f8",
   "metadata": {},
   "source": [
    "**UNIFORM DISTRIBUTION**"
   ]
  },
  {
   "cell_type": "code",
   "execution_count": 30,
   "id": "1e61240c",
   "metadata": {
    "ExecuteTime": {
     "end_time": "2023-10-27T12:27:29.121010Z",
     "start_time": "2023-10-27T12:27:29.107483Z"
    }
   },
   "outputs": [],
   "source": [
    "(a,b) = (0,30)"
   ]
  },
  {
   "cell_type": "code",
   "execution_count": 31,
   "id": "0f63dcbf",
   "metadata": {
    "ExecuteTime": {
     "end_time": "2023-10-27T12:27:45.631385Z",
     "start_time": "2023-10-27T12:27:45.624022Z"
    }
   },
   "outputs": [],
   "source": [
    "unifDist = stats.uniform(a,b)"
   ]
  },
  {
   "cell_type": "code",
   "execution_count": 32,
   "id": "b6b6e49b",
   "metadata": {
    "ExecuteTime": {
     "end_time": "2023-10-27T12:27:53.550543Z",
     "start_time": "2023-10-27T12:27:53.541795Z"
    }
   },
   "outputs": [
    {
     "data": {
      "text/plain": [
       "(0, 30)"
      ]
     },
     "execution_count": 32,
     "metadata": {},
     "output_type": "execute_result"
    }
   ],
   "source": [
    "unifDist.args"
   ]
  },
  {
   "cell_type": "code",
   "execution_count": 34,
   "id": "a2b0f25c",
   "metadata": {
    "ExecuteTime": {
     "end_time": "2023-10-27T12:28:55.088045Z",
     "start_time": "2023-10-27T12:28:55.079481Z"
    }
   },
   "outputs": [
    {
     "data": {
      "text/plain": [
       "0.5"
      ]
     },
     "execution_count": 34,
     "metadata": {},
     "output_type": "execute_result"
    }
   ],
   "source": [
    "unifDist.cdf(15)"
   ]
  },
  {
   "cell_type": "code",
   "execution_count": 35,
   "id": "78c84569",
   "metadata": {
    "ExecuteTime": {
     "end_time": "2023-10-27T12:29:06.759630Z",
     "start_time": "2023-10-27T12:29:06.753048Z"
    }
   },
   "outputs": [
    {
     "data": {
      "text/plain": [
       "(15.0, 75.0)"
      ]
     },
     "execution_count": 35,
     "metadata": {},
     "output_type": "execute_result"
    }
   ],
   "source": [
    "unifDist.stats()"
   ]
  },
  {
   "cell_type": "markdown",
   "id": "3882bb05",
   "metadata": {},
   "source": [
    "**NORMAL DISTRIBUTION**"
   ]
  },
  {
   "cell_type": "code",
   "execution_count": 36,
   "id": "851ee537",
   "metadata": {
    "ExecuteTime": {
     "end_time": "2023-10-27T12:30:52.198051Z",
     "start_time": "2023-10-27T12:30:52.188419Z"
    }
   },
   "outputs": [],
   "source": [
    "(mu, sigma) = (0,1)"
   ]
  },
  {
   "cell_type": "code",
   "execution_count": 37,
   "id": "04757d75",
   "metadata": {
    "ExecuteTime": {
     "end_time": "2023-10-27T12:31:13.333611Z",
     "start_time": "2023-10-27T12:31:13.311641Z"
    }
   },
   "outputs": [],
   "source": [
    "normDist = stats.norm(mu,sigma)"
   ]
  },
  {
   "cell_type": "code",
   "execution_count": 38,
   "id": "b3b3b408",
   "metadata": {
    "ExecuteTime": {
     "end_time": "2023-10-27T12:31:17.844666Z",
     "start_time": "2023-10-27T12:31:17.838220Z"
    }
   },
   "outputs": [
    {
     "data": {
      "text/plain": [
       "(0, 1)"
      ]
     },
     "execution_count": 38,
     "metadata": {},
     "output_type": "execute_result"
    }
   ],
   "source": [
    "normDist.args"
   ]
  },
  {
   "cell_type": "code",
   "execution_count": 42,
   "id": "a1a0d66e",
   "metadata": {
    "ExecuteTime": {
     "end_time": "2023-10-27T12:33:13.245992Z",
     "start_time": "2023-10-27T12:33:13.234523Z"
    }
   },
   "outputs": [
    {
     "data": {
      "text/plain": [
       "0.9544997361036416"
      ]
     },
     "execution_count": 42,
     "metadata": {},
     "output_type": "execute_result"
    }
   ],
   "source": [
    "# difference between positive 2 sd and negative 2 sd\n",
    "\n",
    "normDist.cdf(2) - normDist.cdf(-2)"
   ]
  },
  {
   "cell_type": "code",
   "execution_count": null,
   "id": "eb7f118f",
   "metadata": {},
   "outputs": [],
   "source": []
  }
 ],
 "metadata": {
  "kernelspec": {
   "display_name": "Python 3 (ipykernel)",
   "language": "python",
   "name": "python3"
  },
  "language_info": {
   "codemirror_mode": {
    "name": "ipython",
    "version": 3
   },
   "file_extension": ".py",
   "mimetype": "text/x-python",
   "name": "python",
   "nbconvert_exporter": "python",
   "pygments_lexer": "ipython3",
   "version": "3.9.12"
  },
  "toc": {
   "base_numbering": 1,
   "nav_menu": {},
   "number_sections": true,
   "sideBar": true,
   "skip_h1_title": false,
   "title_cell": "Table of Contents",
   "title_sidebar": "Contents",
   "toc_cell": false,
   "toc_position": {
    "height": "calc(100% - 180px)",
    "left": "10px",
    "top": "150px",
    "width": "165px"
   },
   "toc_section_display": true,
   "toc_window_display": false
  }
 },
 "nbformat": 4,
 "nbformat_minor": 5
}
