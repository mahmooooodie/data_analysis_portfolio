{
 "cells": [
  {
   "cell_type": "code",
   "execution_count": 1,
   "id": "4fa7d95d",
   "metadata": {
    "ExecuteTime": {
     "end_time": "2023-10-30T12:33:48.177426Z",
     "start_time": "2023-10-30T12:33:45.871499Z"
    }
   },
   "outputs": [],
   "source": [
    "import numpy as np\n",
    "from scipy import stats\n",
    "import matplotlib.pyplot as plt\n",
    "import pandas as pd"
   ]
  },
  {
   "cell_type": "code",
   "execution_count": 2,
   "id": "feadf68e",
   "metadata": {
    "ExecuteTime": {
     "end_time": "2023-10-30T12:34:13.795258Z",
     "start_time": "2023-10-30T12:34:13.780791Z"
    }
   },
   "outputs": [],
   "source": [
    "# rolling a dice 1000 times\n",
    "\n",
    "n = 1000\n"
   ]
  },
  {
   "cell_type": "code",
   "execution_count": 3,
   "id": "b1f47e7f",
   "metadata": {
    "ExecuteTime": {
     "end_time": "2023-10-30T12:35:55.441858Z",
     "start_time": "2023-10-30T12:35:55.412596Z"
    }
   },
   "outputs": [
    {
     "data": {
      "text/plain": [
       "array([2, 6, 1, 2, 6, 1, 6, 5, 2, 6, 3, 6, 5, 5, 5, 5, 4, 4, 5, 3, 5, 3,\n",
       "       2, 2, 6, 5, 1, 1, 1, 6, 5, 5, 6, 2, 3, 4, 4, 5, 6, 4, 4, 6, 1, 3,\n",
       "       6, 2, 4, 6, 6, 1, 2, 6, 6, 6, 2, 5, 2, 2, 4, 4, 3, 4, 6, 5, 2, 2,\n",
       "       1, 4, 4, 4, 6, 5, 5, 6, 3, 5, 6, 1, 1, 4, 2, 6, 5, 5, 6, 6, 3, 2,\n",
       "       5, 6, 5, 1, 5, 6, 1, 5, 6, 5, 2, 3, 1, 6, 5, 3, 5, 5, 6, 3, 2, 2,\n",
       "       5, 4, 4, 5, 5, 2, 5, 4, 3, 5, 1, 1, 1, 1, 2, 6, 2, 3, 3, 6, 6, 2,\n",
       "       2, 5, 6, 5, 4, 6, 3, 6, 6, 1, 4, 6, 3, 6, 5, 1, 4, 6, 3, 4, 3, 5,\n",
       "       3, 4, 1, 5, 5, 4, 4, 1, 4, 2, 4, 5, 5, 5, 5, 4, 4, 1, 1, 2, 6, 3,\n",
       "       5, 1, 1, 3, 3, 1, 1, 3, 1, 6, 6, 1, 5, 4, 1, 5, 4, 5, 5, 6, 5, 3,\n",
       "       4, 4, 1, 4, 4, 5, 3, 6, 1, 5, 6, 1, 3, 2, 1, 2, 1, 5, 1, 4, 4, 2,\n",
       "       6, 4, 6, 4, 2, 1, 4, 3, 6, 6, 5, 5, 1, 5, 1, 4, 3, 3, 2, 6, 4, 1,\n",
       "       2, 5, 6, 6, 3, 5, 3, 3, 6, 1, 2, 2, 2, 4, 1, 4, 1, 3, 4, 4, 3, 3,\n",
       "       6, 6, 1, 2, 5, 3, 1, 5, 1, 2, 4, 2, 3, 1, 5, 5, 6, 3, 1, 5, 6, 1,\n",
       "       3, 6, 2, 4, 3, 3, 6, 3, 6, 6, 3, 6, 4, 5, 1, 4, 2, 5, 1, 3, 3, 3,\n",
       "       2, 4, 6, 4, 1, 2, 3, 1, 2, 5, 1, 2, 6, 6, 6, 1, 2, 1, 3, 2, 1, 1,\n",
       "       2, 1, 1, 2, 3, 6, 5, 5, 6, 4, 5, 1, 2, 4, 1, 4, 6, 1, 1, 3, 4, 2,\n",
       "       5, 2, 4, 2, 5, 1, 1, 2, 2, 2, 2, 2, 4, 4, 2, 3, 3, 5, 2, 1, 2, 3,\n",
       "       5, 6, 6, 5, 6, 3, 6, 3, 4, 6, 4, 3, 4, 2, 6, 2, 4, 1, 2, 2, 1, 4,\n",
       "       3, 3, 5, 1, 3, 6, 1, 1, 4, 1, 4, 1, 5, 5, 1, 5, 6, 1, 1, 3, 5, 2,\n",
       "       2, 3, 5, 3, 5, 3, 5, 2, 6, 1, 4, 6, 2, 4, 3, 2, 4, 5, 2, 5, 3, 1,\n",
       "       2, 2, 3, 4, 4, 3, 4, 6, 6, 1, 4, 6, 3, 5, 3, 3, 2, 1, 3, 2, 2, 5,\n",
       "       1, 3, 3, 2, 3, 4, 2, 1, 3, 1, 6, 6, 3, 6, 6, 2, 2, 6, 6, 4, 5, 2,\n",
       "       1, 1, 2, 5, 2, 1, 2, 1, 1, 1, 4, 4, 4, 3, 6, 6, 1, 3, 5, 3, 6, 4,\n",
       "       5, 6, 6, 2, 5, 4, 4, 3, 2, 4, 6, 2, 3, 6, 1, 1, 3, 1, 5, 5, 4, 2,\n",
       "       2, 2, 5, 5, 3, 5, 3, 2, 2, 3, 5, 3, 5, 3, 4, 1, 1, 2, 5, 5, 3, 6,\n",
       "       5, 5, 2, 2, 4, 2, 4, 6, 2, 5, 3, 1, 4, 3, 3, 1, 6, 3, 2, 3, 3, 5,\n",
       "       6, 6, 5, 6, 3, 6, 3, 3, 4, 3, 4, 6, 3, 3, 5, 1, 5, 6, 1, 2, 2, 6,\n",
       "       5, 3, 3, 6, 2, 2, 3, 3, 5, 1, 2, 6, 5, 6, 4, 5, 6, 6, 4, 2, 4, 4,\n",
       "       4, 3, 3, 6, 3, 2, 3, 3, 2, 2, 6, 6, 3, 3, 6, 3, 4, 6, 5, 4, 4, 2,\n",
       "       6, 3, 2, 1, 1, 3, 2, 2, 4, 3, 3, 1, 6, 4, 6, 4, 1, 4, 5, 5, 3, 5,\n",
       "       2, 4, 3, 3, 1, 2, 6, 6, 5, 2, 4, 6, 1, 5, 3, 6, 6, 5, 4, 1, 2, 6,\n",
       "       6, 5, 1, 3, 5, 2, 1, 5, 4, 4, 2, 2, 4, 2, 4, 6, 1, 5, 1, 2, 6, 4,\n",
       "       5, 3, 3, 1, 4, 1, 2, 4, 2, 3, 1, 5, 4, 4, 3, 6, 1, 5, 3, 2, 1, 5,\n",
       "       3, 3, 3, 1, 4, 3, 6, 5, 4, 2, 1, 6, 2, 5, 3, 2, 3, 4, 6, 2, 5, 4,\n",
       "       5, 2, 1, 5, 3, 4, 4, 2, 1, 6, 6, 1, 4, 2, 5, 1, 1, 4, 5, 4, 6, 3,\n",
       "       1, 4, 2, 5, 1, 5, 5, 1, 2, 3, 4, 1, 4, 1, 2, 2, 3, 4, 4, 5, 3, 3,\n",
       "       2, 6, 3, 2, 3, 5, 5, 3, 5, 1, 1, 3, 3, 3, 2, 1, 5, 4, 4, 4, 5, 6,\n",
       "       4, 4, 1, 5, 3, 3, 5, 4, 4, 4, 5, 4, 1, 6, 5, 1, 5, 2, 1, 4, 5, 3,\n",
       "       4, 4, 1, 2, 3, 2, 5, 3, 3, 6, 3, 1, 1, 2, 2, 6, 4, 1, 3, 3, 4, 1,\n",
       "       5, 4, 3, 6, 3, 1, 2, 6, 6, 1, 3, 5, 5, 2, 5, 6, 6, 3, 4, 6, 6, 2,\n",
       "       6, 3, 6, 1, 5, 4, 1, 5, 6, 1, 5, 5, 3, 5, 5, 6, 1, 3, 2, 6, 6, 6,\n",
       "       2, 3, 3, 5, 4, 6, 5, 3, 2, 1, 2, 6, 3, 5, 6, 4, 2, 5, 2, 3, 3, 5,\n",
       "       5, 6, 2, 2, 2, 5, 6, 4, 2, 4, 3, 1, 5, 6, 6, 4, 3, 2, 3, 3, 4, 1,\n",
       "       6, 6, 4, 3, 1, 4, 4, 1, 2, 1, 2, 6, 6, 6, 3, 2, 1, 1, 4, 1, 3, 1,\n",
       "       1, 2, 2, 4, 2, 6, 4, 3, 4, 1, 6, 1, 5, 2, 6, 6, 2, 3, 4, 4, 2, 4,\n",
       "       1, 5, 4, 6, 2, 1, 4, 4, 3, 4])"
      ]
     },
     "execution_count": 3,
     "metadata": {},
     "output_type": "execute_result"
    }
   ],
   "source": [
    "# randomized 1000 trial dice roll for values 1-6\n",
    "np.random.seed(51)\n",
    "dice_1 = np.random.randint (1,7, size = n)\n",
    "dice_1"
   ]
  },
  {
   "cell_type": "code",
   "execution_count": 5,
   "id": "c85a406f",
   "metadata": {
    "ExecuteTime": {
     "end_time": "2023-10-30T12:36:47.473910Z",
     "start_time": "2023-10-30T12:36:47.458013Z"
    }
   },
   "outputs": [
    {
     "data": {
      "text/plain": [
       "array([4, 2, 1, 4, 4, 4, 2, 2, 6, 3, 2, 4, 2, 5, 4, 1, 3, 3, 5, 6, 2, 1,\n",
       "       6, 4, 4, 6, 5, 2, 3, 5, 4, 2, 5, 5, 4, 4, 4, 4, 2, 4, 1, 5, 5, 2,\n",
       "       4, 2, 4, 6, 6, 5, 2, 2, 6, 3, 2, 5, 2, 1, 4, 1, 5, 6, 3, 6, 4, 6,\n",
       "       2, 4, 3, 2, 4, 1, 5, 5, 4, 2, 2, 6, 3, 1, 4, 2, 4, 5, 5, 5, 3, 2,\n",
       "       3, 6, 6, 1, 2, 1, 4, 2, 3, 6, 6, 2, 2, 6, 1, 1, 6, 1, 5, 6, 1, 2,\n",
       "       3, 2, 1, 2, 5, 4, 5, 2, 3, 2, 5, 3, 2, 3, 3, 1, 1, 5, 6, 5, 1, 5,\n",
       "       4, 3, 5, 4, 4, 2, 2, 2, 3, 1, 1, 3, 4, 3, 3, 4, 2, 4, 5, 3, 4, 1,\n",
       "       5, 4, 5, 1, 3, 3, 4, 6, 1, 3, 1, 2, 6, 2, 2, 3, 5, 3, 6, 5, 6, 2,\n",
       "       6, 3, 1, 1, 5, 3, 3, 1, 5, 1, 2, 1, 4, 5, 3, 6, 4, 3, 5, 1, 6, 6,\n",
       "       2, 1, 1, 3, 1, 5, 2, 6, 2, 4, 6, 1, 5, 5, 6, 1, 1, 4, 2, 2, 6, 4,\n",
       "       5, 5, 6, 4, 5, 4, 1, 3, 1, 1, 1, 3, 5, 1, 6, 6, 4, 5, 5, 2, 2, 1,\n",
       "       6, 2, 5, 2, 5, 4, 4, 3, 5, 3, 2, 3, 4, 1, 5, 4, 3, 1, 2, 3, 6, 2,\n",
       "       1, 4, 6, 4, 6, 3, 2, 6, 4, 4, 6, 1, 1, 4, 3, 2, 5, 4, 3, 2, 3, 5,\n",
       "       3, 4, 6, 6, 3, 2, 5, 6, 4, 1, 2, 3, 4, 1, 6, 5, 5, 2, 4, 5, 2, 5,\n",
       "       1, 6, 6, 1, 6, 3, 1, 3, 3, 3, 3, 1, 6, 3, 3, 5, 6, 5, 1, 6, 1, 2,\n",
       "       2, 6, 6, 3, 2, 4, 2, 3, 4, 3, 5, 1, 6, 6, 3, 5, 6, 6, 2, 3, 5, 5,\n",
       "       3, 3, 3, 2, 1, 1, 1, 2, 3, 4, 4, 4, 1, 4, 1, 2, 2, 1, 5, 5, 3, 1,\n",
       "       6, 4, 6, 6, 2, 5, 4, 5, 5, 2, 4, 6, 5, 2, 4, 6, 5, 5, 4, 4, 3, 1,\n",
       "       1, 2, 2, 5, 3, 2, 2, 3, 3, 6, 6, 6, 1, 5, 1, 6, 6, 3, 3, 6, 1, 5,\n",
       "       6, 6, 2, 5, 3, 1, 2, 4, 1, 2, 5, 5, 1, 1, 5, 2, 3, 3, 6, 1, 3, 5,\n",
       "       4, 4, 4, 5, 3, 6, 5, 5, 4, 2, 5, 5, 6, 6, 5, 1, 5, 3, 5, 3, 5, 6,\n",
       "       6, 5, 1, 5, 2, 1, 1, 1, 2, 6, 6, 1, 3, 4, 1, 5, 1, 1, 2, 4, 3, 6,\n",
       "       6, 5, 2, 1, 2, 5, 2, 3, 6, 6, 1, 1, 3, 1, 1, 3, 1, 2, 1, 6, 5, 6,\n",
       "       2, 6, 3, 6, 4, 3, 1, 6, 4, 5, 2, 6, 1, 2, 4, 2, 6, 6, 4, 6, 1, 4,\n",
       "       2, 4, 2, 5, 1, 5, 3, 3, 1, 5, 5, 6, 5, 4, 2, 4, 2, 6, 3, 4, 6, 3,\n",
       "       5, 4, 1, 6, 1, 2, 6, 1, 5, 5, 2, 2, 1, 5, 4, 6, 3, 2, 1, 1, 3, 1,\n",
       "       4, 3, 2, 4, 3, 1, 5, 1, 3, 5, 5, 3, 3, 1, 2, 4, 6, 3, 6, 2, 2, 6,\n",
       "       1, 4, 1, 4, 1, 6, 5, 1, 2, 3, 4, 2, 6, 5, 3, 5, 2, 3, 4, 4, 6, 1,\n",
       "       5, 3, 3, 1, 2, 1, 2, 6, 4, 3, 6, 6, 3, 4, 6, 2, 5, 1, 4, 1, 3, 4,\n",
       "       1, 2, 3, 2, 6, 2, 1, 2, 5, 6, 5, 6, 3, 5, 6, 4, 1, 3, 2, 4, 6, 4,\n",
       "       5, 1, 2, 1, 1, 1, 3, 3, 3, 3, 6, 3, 1, 4, 1, 6, 6, 5, 5, 6, 6, 4,\n",
       "       1, 1, 1, 6, 3, 5, 4, 2, 5, 1, 4, 4, 1, 4, 2, 1, 1, 1, 5, 3, 1, 6,\n",
       "       2, 4, 4, 3, 1, 2, 4, 5, 5, 1, 3, 4, 3, 6, 1, 6, 2, 2, 2, 2, 5, 1,\n",
       "       4, 6, 5, 3, 6, 6, 5, 5, 1, 1, 3, 4, 2, 6, 5, 5, 3, 4, 5, 1, 4, 3,\n",
       "       2, 2, 6, 2, 6, 1, 3, 3, 2, 4, 3, 4, 2, 3, 2, 2, 6, 2, 1, 4, 2, 1,\n",
       "       4, 5, 1, 1, 5, 5, 5, 6, 2, 5, 5, 3, 5, 1, 3, 3, 5, 6, 1, 5, 3, 6,\n",
       "       4, 2, 4, 2, 2, 1, 4, 4, 6, 1, 4, 4, 1, 4, 2, 4, 1, 3, 1, 4, 4, 2,\n",
       "       6, 6, 3, 3, 6, 1, 2, 5, 4, 3, 4, 4, 6, 6, 6, 3, 3, 4, 6, 4, 3, 5,\n",
       "       5, 1, 1, 2, 6, 3, 5, 6, 4, 4, 4, 6, 4, 2, 5, 1, 5, 1, 6, 2, 1, 3,\n",
       "       1, 5, 5, 2, 3, 3, 2, 4, 5, 1, 6, 4, 6, 3, 4, 5, 6, 2, 6, 3, 1, 2,\n",
       "       5, 4, 5, 6, 4, 1, 2, 1, 4, 3, 2, 4, 3, 6, 1, 1, 5, 1, 5, 3, 4, 6,\n",
       "       1, 1, 1, 2, 5, 4, 2, 1, 2, 3, 3, 5, 6, 2, 6, 2, 1, 4, 2, 6, 6, 3,\n",
       "       4, 5, 5, 5, 2, 2, 4, 6, 4, 2, 3, 5, 2, 5, 6, 2, 2, 2, 6, 6, 1, 1,\n",
       "       4, 3, 2, 2, 3, 1, 4, 5, 6, 2, 6, 2, 3, 4, 1, 3, 1, 1, 4, 1, 2, 4,\n",
       "       3, 1, 3, 5, 3, 2, 2, 3, 2, 6, 4, 4, 2, 3, 5, 3, 4, 1, 2, 3, 2, 3,\n",
       "       6, 3, 2, 2, 4, 4, 4, 2, 4, 6])"
      ]
     },
     "execution_count": 5,
     "metadata": {},
     "output_type": "execute_result"
    }
   ],
   "source": [
    "# simulation of second dice rolled\n",
    "np.random.seed(81)\n",
    "dice_2 = np.random.randint(1,7, size = n)\n",
    "dice_2"
   ]
  },
  {
   "cell_type": "markdown",
   "id": "6141bfb6",
   "metadata": {},
   "source": [
    "We now have 2 arrays simulating 2 dies rolled 1000 times each"
   ]
  },
  {
   "cell_type": "code",
   "execution_count": 6,
   "id": "fe50d23c",
   "metadata": {
    "ExecuteTime": {
     "end_time": "2023-10-30T12:37:45.129678Z",
     "start_time": "2023-10-30T12:37:45.106406Z"
    }
   },
   "outputs": [
    {
     "data": {
      "text/plain": [
       "array([ 6,  8,  2,  6, 10,  5,  8,  7,  8,  9,  5, 10,  7, 10,  9,  6,  7,\n",
       "        7, 10,  9,  7,  4,  8,  6, 10, 11,  6,  3,  4, 11,  9,  7, 11,  7,\n",
       "        7,  8,  8,  9,  8,  8,  5, 11,  6,  5, 10,  4,  8, 12, 12,  6,  4,\n",
       "        8, 12,  9,  4, 10,  4,  3,  8,  5,  8, 10,  9, 11,  6,  8,  3,  8,\n",
       "        7,  6, 10,  6, 10, 11,  7,  7,  8,  7,  4,  5,  6,  8,  9, 10, 11,\n",
       "       11,  6,  4,  8, 12, 11,  2,  7,  7,  5,  7,  9, 11,  8,  5,  3, 12,\n",
       "        6,  4, 11,  6, 11,  9,  3,  4,  8,  6,  5,  7, 10,  6, 10,  6,  6,\n",
       "        7,  6,  4,  3,  4,  5,  7,  3,  8,  9, 11,  7,  7,  6,  8, 11,  9,\n",
       "        8,  8,  5,  8,  9,  2,  5,  9,  7,  9,  8,  5,  6, 10,  8,  7,  7,\n",
       "        6,  8,  8,  6,  6,  8,  7,  8,  7,  5,  5,  5,  7, 11,  7,  7,  7,\n",
       "        9,  4,  7,  7, 12,  5, 11,  4,  2,  4,  8,  4,  4,  4,  6,  7,  8,\n",
       "        2,  9,  9,  4, 11,  8,  8, 10,  7, 11,  9,  6,  5,  2,  7,  5, 10,\n",
       "        5, 12,  3,  9, 12,  2,  8,  7,  7,  3,  2,  9,  3,  6, 10,  6, 11,\n",
       "        9, 12,  8,  7,  5,  5,  6,  7,  7,  6,  8,  6,  6,  7, 10,  7,  8,\n",
       "        7,  8,  6,  2,  8,  7, 11,  8,  8,  9,  7,  6, 11,  4,  4,  5,  6,\n",
       "        5,  6,  8,  4,  4,  6,  7,  9,  5,  7, 10,  7,  6, 11,  6,  3, 11,\n",
       "        5,  6, 10,  3,  4,  5,  8,  7, 11,  7,  4,  7,  9,  6,  6, 10,  8,\n",
       "       10,  6,  5, 11,  9, 10,  7,  5,  9,  8,  6,  7,  9,  7,  7,  5,  8,\n",
       "        5,  8,  3, 10, 12,  5,  7,  5,  4,  4,  5,  8,  4,  3, 12,  9,  9,\n",
       "        6,  8,  6,  4,  8,  2,  3,  4,  7,  7,  5,  5, 10,  7,  8, 10,  7,\n",
       "       10,  2,  8, 10,  4,  9, 12,  7,  3,  6,  9,  7,  8,  5,  7,  4,  6,\n",
       "        2,  2,  4,  5,  6,  6,  6,  5,  8,  3,  5,  5,  6,  7,  6,  5,  4,\n",
       "       11, 10, 12, 11,  8,  8, 10,  8,  9,  8,  8,  9,  9,  4, 10,  8,  9,\n",
       "        6,  6,  6,  4,  5,  4,  5,  7,  6,  6,  8,  3,  4,  7,  7, 10,  7,\n",
       "        6, 10,  2, 11, 12,  4,  4,  9,  6,  7,  8,  9,  7,  8,  8,  4,  7,\n",
       "        6,  7,  3,  9, 11,  3,  5,  8,  4,  7,  8,  8,  6,  6,  6,  6,  6,\n",
       "        7,  9,  7,  9,  9, 11, 10,  3,  9, 11,  9, 11,  8,  4,  7,  4,  8,\n",
       "        5,  7, 11,  7,  8,  4,  7,  5,  5,  3,  2,  5,  7, 12,  7,  6, 10,\n",
       "        7,  7,  3,  7,  8,  8,  8,  8,  7,  6,  4,  6,  4,  6,  4,  4,  7,\n",
       "        7,  5,  5,  7,  4,  7,  9,  2,  5,  6,  9, 11, 10,  7, 12,  9,  8,\n",
       "        9,  7,  5,  9,  6,  9,  8,  8,  4,  8,  5,  3,  9,  7,  9, 11,  5,\n",
       "        6,  4,  6,  7, 10,  4, 10,  6,  5,  3,  8, 10,  9, 10,  7,  6,  5,\n",
       "        3,  8,  8,  9,  9,  9, 10,  9,  3,  8,  5,  4, 10,  7,  7, 10,  5,\n",
       "        3,  5,  8,  7,  7,  9,  5,  3,  4,  6,  6, 10,  9,  7, 10,  6,  7,\n",
       "        8,  4,  7,  8,  9,  9,  6,  4,  7,  5, 11,  9,  7,  4,  4, 12,  6,\n",
       "        7,  4, 10,  3,  8,  8,  4,  7,  4,  6,  8, 11, 11,  7, 10,  8,  9,\n",
       "        8,  6, 10,  5,  9,  6,  6,  7,  5,  3,  5,  9,  6,  5, 12, 12,  6,\n",
       "        7, 12,  5,  9,  7,  9,  5,  7,  6,  7,  5,  5,  3,  7,  5,  3,  4,\n",
       "        9,  9,  8,  7,  9,  9, 12,  8,  2,  7,  7,  9,  9,  9,  7,  5,  5,\n",
       "        4,  2,  3,  9,  9,  8,  5, 10,  9,  2,  9,  4, 12, 12, 10,  9,  7,\n",
       "        8, 10,  7,  6,  2,  9,  8,  7,  5,  7,  9,  5,  6,  6,  5,  6,  6,\n",
       "        7,  2,  6,  6,  5,  7, 10,  7,  7,  7,  4,  5,  3,  6,  9,  7,  4,\n",
       "        4,  9,  7, 10,  4, 12,  3,  7,  5,  4,  6,  6,  7,  9,  8,  4, 10,\n",
       "        9, 11, 10,  5,  3,  4, 10,  4, 11,  8,  7,  6,  8, 11,  3,  9,  7,\n",
       "        7,  4,  7,  7,  9,  5,  7,  5,  3, 10,  9,  5,  6,  5,  7,  3,  7,\n",
       "        6,  6,  8,  8,  4,  5,  9,  3,  6,  6, 10, 10,  7,  4,  8,  9,  4,\n",
       "        9,  2,  5,  5,  8, 10,  5, 10,  6,  9,  6,  8,  7,  4,  5,  6,  9,\n",
       "        7, 11,  2,  5,  7,  4,  7,  4,  5,  6,  7,  5,  8,  9,  8, 10, 10,\n",
       "        4,  8,  9,  4,  7,  9,  8,  7,  9,  8,  7, 12, 11,  4,  8,  6,  7,\n",
       "        8,  8,  8,  9,  5,  2,  4,  9,  5, 10,  9,  7, 10,  7,  7,  5,  4,\n",
       "        7,  7,  9,  2,  9,  5,  5,  4,  6,  9,  8,  8,  6,  4,  4, 10, 11,\n",
       "        2,  9,  9, 11,  5,  9, 11, 12,  5, 10,  9,  7,  4, 11,  7, 11,  7,\n",
       "        9,  5,  3,  6, 10,  4,  7,  9,  6, 11,  6,  7,  6,  4,  7,  9, 10,\n",
       "       12,  3,  4,  4,  7,  9, 10,  7,  4,  4,  4,  5, 11,  9,  7, 12,  6,\n",
       "        3,  9,  4,  9,  9,  8,  9, 11,  7,  7,  4,  7, 10, 10,  6,  6,  6,\n",
       "        6,  7, 11, 12,  6,  5,  4,  9,  9,  5,  2, 10,  9,  6,  5,  4,  5,\n",
       "        8,  6,  8,  3,  8,  8,  9, 10,  4,  5,  2,  2,  8,  2,  5,  5,  4,\n",
       "        3,  5,  9,  5,  8,  6,  6,  6,  7, 10,  5,  7,  5, 11,  9,  6,  4,\n",
       "        6,  7,  4,  7,  7,  8,  6,  8,  6,  5,  8,  6,  7, 10])"
      ]
     },
     "execution_count": 6,
     "metadata": {},
     "output_type": "execute_result"
    }
   ],
   "source": [
    "# combining the two arrays\n",
    "\n",
    "x = dice_1 + dice_2\n",
    "x"
   ]
  },
  {
   "cell_type": "code",
   "execution_count": 10,
   "id": "23685116",
   "metadata": {
    "ExecuteTime": {
     "end_time": "2023-10-30T12:39:50.750047Z",
     "start_time": "2023-10-30T12:39:50.711456Z"
    }
   },
   "outputs": [
    {
     "data": {
      "text/html": [
       "<div>\n",
       "<style scoped>\n",
       "    .dataframe tbody tr th:only-of-type {\n",
       "        vertical-align: middle;\n",
       "    }\n",
       "\n",
       "    .dataframe tbody tr th {\n",
       "        vertical-align: top;\n",
       "    }\n",
       "\n",
       "    .dataframe thead th {\n",
       "        text-align: right;\n",
       "    }\n",
       "</style>\n",
       "<table border=\"1\" class=\"dataframe\">\n",
       "  <thead>\n",
       "    <tr style=\"text-align: right;\">\n",
       "      <th></th>\n",
       "      <th>dice_1</th>\n",
       "      <th>dice_2</th>\n",
       "      <th>X</th>\n",
       "    </tr>\n",
       "  </thead>\n",
       "  <tbody>\n",
       "    <tr>\n",
       "      <th>0</th>\n",
       "      <td>2</td>\n",
       "      <td>4</td>\n",
       "      <td>6</td>\n",
       "    </tr>\n",
       "    <tr>\n",
       "      <th>1</th>\n",
       "      <td>6</td>\n",
       "      <td>2</td>\n",
       "      <td>8</td>\n",
       "    </tr>\n",
       "    <tr>\n",
       "      <th>2</th>\n",
       "      <td>1</td>\n",
       "      <td>1</td>\n",
       "      <td>2</td>\n",
       "    </tr>\n",
       "    <tr>\n",
       "      <th>3</th>\n",
       "      <td>2</td>\n",
       "      <td>4</td>\n",
       "      <td>6</td>\n",
       "    </tr>\n",
       "    <tr>\n",
       "      <th>4</th>\n",
       "      <td>6</td>\n",
       "      <td>4</td>\n",
       "      <td>10</td>\n",
       "    </tr>\n",
       "    <tr>\n",
       "      <th>5</th>\n",
       "      <td>1</td>\n",
       "      <td>4</td>\n",
       "      <td>5</td>\n",
       "    </tr>\n",
       "    <tr>\n",
       "      <th>6</th>\n",
       "      <td>6</td>\n",
       "      <td>2</td>\n",
       "      <td>8</td>\n",
       "    </tr>\n",
       "    <tr>\n",
       "      <th>7</th>\n",
       "      <td>5</td>\n",
       "      <td>2</td>\n",
       "      <td>7</td>\n",
       "    </tr>\n",
       "    <tr>\n",
       "      <th>8</th>\n",
       "      <td>2</td>\n",
       "      <td>6</td>\n",
       "      <td>8</td>\n",
       "    </tr>\n",
       "    <tr>\n",
       "      <th>9</th>\n",
       "      <td>6</td>\n",
       "      <td>3</td>\n",
       "      <td>9</td>\n",
       "    </tr>\n",
       "  </tbody>\n",
       "</table>\n",
       "</div>"
      ],
      "text/plain": [
       "   dice_1  dice_2   X\n",
       "0       2       4   6\n",
       "1       6       2   8\n",
       "2       1       1   2\n",
       "3       2       4   6\n",
       "4       6       4  10\n",
       "5       1       4   5\n",
       "6       6       2   8\n",
       "7       5       2   7\n",
       "8       2       6   8\n",
       "9       6       3   9"
      ]
     },
     "execution_count": 10,
     "metadata": {},
     "output_type": "execute_result"
    }
   ],
   "source": [
    "# viewing the results as a data frame\n",
    "df = pd.DataFrame({\"dice_1\": dice_1, \"dice_2\": dice_2, \"X\": x})\n",
    "df.head(10)"
   ]
  },
  {
   "cell_type": "code",
   "execution_count": 12,
   "id": "3256f2fd",
   "metadata": {
    "ExecuteTime": {
     "end_time": "2023-10-30T12:41:14.839822Z",
     "start_time": "2023-10-30T12:41:14.814781Z"
    }
   },
   "outputs": [
    {
     "data": {
      "text/plain": [
       "104"
      ]
     },
     "execution_count": 12,
     "metadata": {},
     "output_type": "execute_result"
    }
   ],
   "source": [
    "# finding the probablity of X = 4\n",
    "# X is the sum of both rolled dies\n",
    "total_4 = df[df.X == 4]\n",
    "len(total_4)"
   ]
  },
  {
   "cell_type": "code",
   "execution_count": 14,
   "id": "0af64c85",
   "metadata": {
    "ExecuteTime": {
     "end_time": "2023-10-30T12:42:09.787945Z",
     "start_time": "2023-10-30T12:42:09.781945Z"
    }
   },
   "outputs": [
    {
     "data": {
      "text/plain": [
       "0.104"
      ]
     },
     "execution_count": 14,
     "metadata": {},
     "output_type": "execute_result"
    }
   ],
   "source": [
    "# using the total as a probability\n",
    "p = len(total_4)/len(df)\n",
    "p"
   ]
  },
  {
   "cell_type": "code",
   "execution_count": 19,
   "id": "346a26d3",
   "metadata": {
    "ExecuteTime": {
     "end_time": "2023-10-30T12:51:09.638254Z",
     "start_time": "2023-10-30T12:51:09.606480Z"
    }
   },
   "outputs": [
    {
     "data": {
      "text/plain": [
       "0.0874"
      ]
     },
     "execution_count": 19,
     "metadata": {},
     "output_type": "execute_result"
    }
   ],
   "source": [
    "# theoretically the result shouldve been 1/12 = 0.08333 but we got 0.104\n",
    "# if we increase trial size to 10,000 we should expect p getting closer to 0.0833\n",
    "\n",
    "t = 10000\n",
    "np.random.seed(51)\n",
    "dice__1 = np.random.randint (1,7, size = t)\n",
    "np.random.seed(81)\n",
    "dice__2 = np.random.randint(1,7, size = t)\n",
    "X = dice__1 + dice__2\n",
    "df1 = pd.DataFrame({\"dice_1\": dice__1, \"dice_2\": dice__2, \"X\": X})\n",
    "total_four = df1[df1.X == 4]\n",
    "p1 = len(total_four)/len(df1)\n",
    "p1"
   ]
  },
  {
   "cell_type": "code",
   "execution_count": 20,
   "id": "7255c0f5",
   "metadata": {
    "ExecuteTime": {
     "end_time": "2023-10-30T12:52:35.647628Z",
     "start_time": "2023-10-30T12:52:35.614976Z"
    }
   },
   "outputs": [
    {
     "data": {
      "text/plain": [
       "0.08207"
      ]
     },
     "execution_count": 20,
     "metadata": {},
     "output_type": "execute_result"
    }
   ],
   "source": [
    "# Now lets try with 100000 trials\n",
    "\n",
    "t1 = 100000\n",
    "np.random.seed(51)\n",
    "dice___1 = np.random.randint (1,7, size = t1)\n",
    "np.random.seed(81)\n",
    "dice___2 = np.random.randint(1,7, size = t1)\n",
    "X1 = dice___1 + dice___2\n",
    "df2 = pd.DataFrame({\"dice_1\": dice___1, \"dice_2\": dice___2, \"X\": X1})\n",
    "total_four1 = df2[df2.X == 4]\n",
    "p2 = len(total_four1)/len(df2)\n",
    "p2"
   ]
  },
  {
   "cell_type": "markdown",
   "id": "9c40ba95",
   "metadata": {},
   "source": [
    "This is the Law of Large Numbers"
   ]
  },
  {
   "cell_type": "code",
   "execution_count": 21,
   "id": "053c8571",
   "metadata": {
    "ExecuteTime": {
     "end_time": "2023-10-30T12:54:40.315714Z",
     "start_time": "2023-10-30T12:54:40.288359Z"
    }
   },
   "outputs": [
    {
     "data": {
      "text/plain": [
       "7     170\n",
       "6     131\n",
       "8     125\n",
       "9     122\n",
       "5     114\n",
       "4     104\n",
       "10     76\n",
       "11     53\n",
       "3      46\n",
       "2      30\n",
       "12     29\n",
       "Name: X, dtype: int64"
      ]
     },
     "execution_count": 21,
     "metadata": {},
     "output_type": "execute_result"
    }
   ],
   "source": [
    "# Now lets find the frequency of our 2 dices at 1000 trials\n",
    "freq = df.X.value_counts()\n",
    "freq\n"
   ]
  },
  {
   "cell_type": "code",
   "execution_count": 23,
   "id": "38e3840e",
   "metadata": {
    "ExecuteTime": {
     "end_time": "2023-10-30T12:55:36.068441Z",
     "start_time": "2023-10-30T12:55:35.963848Z"
    }
   },
   "outputs": [
    {
     "data": {
      "image/png": "[encoded data removed]",
      "text/plain": [
       "<Figure size 432x288 with 1 Axes>"
      ]
     },
     "metadata": {
      "needs_background": "light"
     },
     "output_type": "display_data"
    }
   ],
   "source": [
    "# visualizing the freq\n",
    "%matplotlib inline\n",
    "freq.sort_index().plot(kind = \"bar\", grid = True)\n",
    "plt.show;"
   ]
  },
  {
   "cell_type": "code",
   "execution_count": 24,
   "id": "4f087eab",
   "metadata": {
    "ExecuteTime": {
     "end_time": "2023-10-30T12:56:56.214776Z",
     "start_time": "2023-10-30T12:56:56.185624Z"
    }
   },
   "outputs": [
    {
     "data": {
      "text/plain": [
       "7     0.170\n",
       "6     0.131\n",
       "8     0.125\n",
       "9     0.122\n",
       "5     0.114\n",
       "4     0.104\n",
       "10    0.076\n",
       "11    0.053\n",
       "3     0.046\n",
       "2     0.030\n",
       "12    0.029\n",
       "Name: X, dtype: float64"
      ]
     },
     "execution_count": 24,
     "metadata": {},
     "output_type": "execute_result"
    }
   ],
   "source": [
    "# getting the y axis as frequencys\n",
    "prob =df.X.value_counts()/n\n",
    "prob"
   ]
  },
  {
   "cell_type": "code",
   "execution_count": 25,
   "id": "01f5f6fa",
   "metadata": {
    "ExecuteTime": {
     "end_time": "2023-10-30T12:57:11.868532Z",
     "start_time": "2023-10-30T12:57:11.747957Z"
    }
   },
   "outputs": [
    {
     "data": {
      "image/png": "[encoded data removed]",
      "text/plain": [
       "<Figure size 432x288 with 1 Axes>"
      ]
     },
     "metadata": {
      "needs_background": "light"
     },
     "output_type": "display_data"
    }
   ],
   "source": [
    "%matplotlib inline\n",
    "prob.sort_index().plot(kind = \"bar\", grid = True)\n",
    "plt.show;"
   ]
  },
  {
   "cell_type": "code",
   "execution_count": 36,
   "id": "ea65e4ab",
   "metadata": {
    "ExecuteTime": {
     "end_time": "2023-10-30T13:04:13.651355Z",
     "start_time": "2023-10-30T13:04:13.553536Z"
    }
   },
   "outputs": [
    {
     "data": {
      "image/png": "[encoded data removed]",
      "text/plain": [
       "<Figure size 432x288 with 1 Axes>"
      ]
     },
     "metadata": {
      "needs_background": "light"
     },
     "output_type": "display_data"
    }
   ],
   "source": [
    "#sample 4 person catan game averaging at 20 rounds until end of game, meaning 80 times dice rolled\n",
    "\n",
    "t1 = 1000\n",
    "np.random.seed(5039)\n",
    "dice___1 = np.random.randint (1,7, size = t1)\n",
    "np.random.seed(454252)\n",
    "dice___2 = np.random.randint(1,7, size = t1)\n",
    "X1 = dice___1 + dice___2\n",
    "df2 = pd.DataFrame({\"dice_1\": dice___1, \"dice_2\": dice___2, \"X\": X1})\n",
    "total_four1 = df2[df2.X == 4]\n",
    "p2 = len(total_four1)/len(df2)\n",
    "freq1 = df2.X.value_counts()\n",
    "prob1 =df2.X.value_counts()/t1\n",
    "%matplotlib inline\n",
    "prob1.sort_index().plot(kind = \"bar\", grid = True)\n",
    "plt.show;"
   ]
  },
  {
   "cell_type": "code",
   "execution_count": null,
   "id": "d70cdf3d",
   "metadata": {},
   "outputs": [],
   "source": []
  }
 ],
 "metadata": {
  "kernelspec": {
   "display_name": "Python 3 (ipykernel)",
   "language": "python",
   "name": "python3"
  },
  "language_info": {
   "codemirror_mode": {
    "name": "ipython",
    "version": 3
   },
   "file_extension": ".py",
   "mimetype": "text/x-python",
   "name": "python",
   "nbconvert_exporter": "python",
   "pygments_lexer": "ipython3",
   "version": "3.9.12"
  },
  "toc": {
   "base_numbering": 1,
   "nav_menu": {},
   "number_sections": true,
   "sideBar": true,
   "skip_h1_title": false,
   "title_cell": "Table of Contents",
   "title_sidebar": "Contents",
   "toc_cell": false,
   "toc_position": {},
   "toc_section_display": true,
   "toc_window_display": false
  }
 },
 "nbformat": 4,
 "nbformat_minor": 5
}
