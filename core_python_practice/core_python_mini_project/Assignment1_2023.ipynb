{
 "cells": [
  {
   "attachments": {},
   "cell_type": "markdown",
   "metadata": {},
   "source": [
    "## 1\n",
    "-   Create a code that takes a radius entry from the user and prints out useful info."
   ]
  },
  {
   "cell_type": "code",
   "execution_count": 1,
   "metadata": {},
   "outputs": [
    {
     "name": "stdout",
     "output_type": "stream",
     "text": [
      "The radius you have entered was 3.0 \n",
      "The area of your circle is 28.285714285714285 \n",
      "The circumference of your circle is 18.857142857142858\n"
     ]
    }
   ],
   "source": [
    "r = float(input(\"Please enter the radius of your circle\"))\n",
    "\n",
    "pi = 22/7\n",
    "area = pi * (r ** 2)\n",
    "circ = 2 * pi * r\n",
    "\n",
    "print(f\"The radius you have entered was {r} \\nThe area of your circle is {area} \\nThe circumference of your circle is {circ}\")\n"
   ]
  },
  {
   "attachments": {},
   "cell_type": "markdown",
   "metadata": {},
   "source": [
    "## 2\n",
    "-   Create a code for student database for a school that takes their studetn id number and prints useful info"
   ]
  },
  {
   "cell_type": "code",
   "execution_count": 41,
   "metadata": {},
   "outputs": [
    {
     "name": "stdout",
     "output_type": "stream",
     "text": [
      "1. Student Number: 123456789012\n",
      "2. Entrance Year: 1234\n",
      "3. Faculty Number: 56\n",
      "4. Major Code: 78\n",
      "5. Study Number: 9\n",
      "6. Entry Number: 12 \n"
     ]
    }
   ],
   "source": [
    "sn = (input(\"Please enter your 12 digit student number\"))\n",
    "\n",
    "entrance_year = sn[0:4]\n",
    "fac_num = sn[4:6]\n",
    "maj_num = sn[6:8]\n",
    "stu_code = sn[8]\n",
    "entry = sn[10:]\n",
    "\n",
    "\n",
    "print(f\"1. Student Number: {sn}\\n2. Entrance Year: {entrance_year}\\n3. Faculty Number: {fac_num}\\n4. Major Code: {maj_num}\\n5. Study Number: {stu_code}\\n6. Entry Number: {entry} \")"
   ]
  },
  {
   "attachments": {},
   "cell_type": "markdown",
   "metadata": {},
   "source": [
    "### 3.\n",
    "-   print out multiples of 5 in a list of numbers"
   ]
  },
  {
   "cell_type": "code",
   "execution_count": 5,
   "metadata": {},
   "outputs": [
    {
     "name": "stdout",
     "output_type": "stream",
     "text": [
      "[0, 5, 10, 15, 20, 25, 30, 35, 40, 45, 50, 55, 60, 65, 70, 75, 80, 85, 90, 95]\n"
     ]
    }
   ],
   "source": [
    "def get_m_5(numbers):\n",
    "    m_5 = []\n",
    "    for number in numbers:\n",
    "        if number % 5 == 0:\n",
    "            m_5.append(number)\n",
    "    return m_5\n",
    "\n",
    "example_list = list(range(0,100))\n",
    "results = get_m_5(example_list)\n",
    "print(results)\n"
   ]
  },
  {
   "cell_type": "code",
   "execution_count": null,
   "metadata": {},
   "outputs": [],
   "source": []
  }
 ],
 "metadata": {
  "kernelspec": {
   "display_name": "Python 3",
   "language": "python",
   "name": "python3"
  },
  "language_info": {
   "codemirror_mode": {
    "name": "ipython",
    "version": 3
   },
   "file_extension": ".py",
   "mimetype": "text/x-python",
   "name": "python",
   "nbconvert_exporter": "python",
   "pygments_lexer": "ipython3",
   "version": "3.10.8"
  },
  "orig_nbformat": 4
 },
 "nbformat": 4,
 "nbformat_minor": 2
}
