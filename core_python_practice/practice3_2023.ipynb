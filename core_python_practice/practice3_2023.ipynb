{
 "cells": [
  {
   "attachments": {},
   "cell_type": "markdown",
   "metadata": {},
   "source": [
    "### **Tuples**"
   ]
  },
  {
   "cell_type": "code",
   "execution_count": 1,
   "metadata": {},
   "outputs": [
    {
     "data": {
      "text/plain": [
       "tuple"
      ]
     },
     "execution_count": 1,
     "metadata": {},
     "output_type": "execute_result"
    }
   ],
   "source": [
    "fruits = (\"banana\", \"apple\", \"lemon\")\n",
    "\n",
    "type(fruits)"
   ]
  },
  {
   "attachments": {},
   "cell_type": "markdown",
   "metadata": {},
   "source": [
    "remember that tuples are inmutable, the only way we can change them is if we change its type first"
   ]
  },
  {
   "cell_type": "code",
   "execution_count": 8,
   "metadata": {},
   "outputs": [
    {
     "data": {
      "text/plain": [
       "('kiwi', 'apple', 'lemon')"
      ]
     },
     "execution_count": 8,
     "metadata": {},
     "output_type": "execute_result"
    }
   ],
   "source": [
    "fruits = (\"banana\", \"apple\", \"lemon\")\n",
    "\n",
    "froots = list(fruits)\n",
    "\n",
    "froots[0] = \"kiwi\"\n",
    "\n",
    "fruits = tuple(froots)\n",
    "\n",
    "fruits"
   ]
  },
  {
   "cell_type": "code",
   "execution_count": 12,
   "metadata": {},
   "outputs": [
    {
     "data": {
      "text/plain": [
       "(0, 5, 10)"
      ]
     },
     "execution_count": 12,
     "metadata": {},
     "output_type": "execute_result"
    }
   ],
   "source": [
    "tuple(range(0, 11, 5))"
   ]
  },
  {
   "cell_type": "code",
   "execution_count": 14,
   "metadata": {},
   "outputs": [
    {
     "data": {
      "text/plain": [
       "[2, 3, 4, 4, 4, 5, 6, 7]"
      ]
     },
     "execution_count": 14,
     "metadata": {},
     "output_type": "execute_result"
    }
   ],
   "source": [
    "# sorted method gives us a sorted list of the tuple, but we have to make it a tuple again if we want tuple\n",
    "\n",
    "\n",
    "tuple_1 = (4,3,2,4,5,6,7,4)\n",
    "sorted(tuple_1)"
   ]
  },
  {
   "cell_type": "code",
   "execution_count": 17,
   "metadata": {},
   "outputs": [],
   "source": [
    "tuple_1 = tuple(sorted(tuple_1))\n"
   ]
  },
  {
   "cell_type": "code",
   "execution_count": 18,
   "metadata": {},
   "outputs": [
    {
     "data": {
      "text/plain": [
       "(2, 3, 4, 4, 4, 5, 6, 7)"
      ]
     },
     "execution_count": 18,
     "metadata": {},
     "output_type": "execute_result"
    }
   ],
   "source": [
    "tuple_1"
   ]
  },
  {
   "cell_type": "code",
   "execution_count": 19,
   "metadata": {},
   "outputs": [
    {
     "data": {
      "text/plain": [
       "(7, 6, 5, 4, 4, 4, 3, 2)"
      ]
     },
     "execution_count": 19,
     "metadata": {},
     "output_type": "execute_result"
    }
   ],
   "source": [
    "tuple(sorted(tuple_1, reverse = 1))"
   ]
  },
  {
   "attachments": {},
   "cell_type": "markdown",
   "metadata": {},
   "source": [
    "### **Dictionaries**"
   ]
  },
  {
   "cell_type": "code",
   "execution_count": 20,
   "metadata": {},
   "outputs": [
    {
     "data": {
      "text/plain": [
       "{'name': 'mahmud', 'lastname': 'apaydin', 'age': 22}"
      ]
     },
     "execution_count": 20,
     "metadata": {},
     "output_type": "execute_result"
    }
   ],
   "source": [
    "personal = dict(name = \"mahmud\", lastname = \"apaydin\", age = 22)\n",
    "personal"
   ]
  },
  {
   "cell_type": "code",
   "execution_count": 21,
   "metadata": {},
   "outputs": [
    {
     "data": {
      "text/plain": [
       "dict_items([('name', 'mahmud'), ('lastname', 'apaydin'), ('age', 22)])"
      ]
     },
     "execution_count": 21,
     "metadata": {},
     "output_type": "execute_result"
    }
   ],
   "source": [
    "personal.items()"
   ]
  },
  {
   "cell_type": "code",
   "execution_count": 22,
   "metadata": {},
   "outputs": [
    {
     "data": {
      "text/plain": [
       "dict_keys(['name', 'lastname', 'age'])"
      ]
     },
     "execution_count": 22,
     "metadata": {},
     "output_type": "execute_result"
    }
   ],
   "source": [
    "personal.keys()"
   ]
  },
  {
   "cell_type": "code",
   "execution_count": 23,
   "metadata": {},
   "outputs": [
    {
     "data": {
      "text/plain": [
       "dict_values(['mahmud', 'apaydin', 22])"
      ]
     },
     "execution_count": 23,
     "metadata": {},
     "output_type": "execute_result"
    }
   ],
   "source": [
    "personal.values()"
   ]
  },
  {
   "cell_type": "code",
   "execution_count": 25,
   "metadata": {},
   "outputs": [
    {
     "data": {
      "text/plain": [
       "'apaydin'"
      ]
     },
     "execution_count": 25,
     "metadata": {},
     "output_type": "execute_result"
    }
   ],
   "source": [
    "# to reach a specific value, we index the key \n",
    "\n",
    "personal[\"lastname\"]"
   ]
  },
  {
   "cell_type": "code",
   "execution_count": 30,
   "metadata": {},
   "outputs": [],
   "source": [
    "# we can even add a key and value to an existing dictionary like this\n",
    "\n",
    "personal = dict(personal, sex = \"male\")"
   ]
  },
  {
   "cell_type": "code",
   "execution_count": 31,
   "metadata": {},
   "outputs": [
    {
     "name": "stdout",
     "output_type": "stream",
     "text": [
      "mahmud 22 male\n"
     ]
    }
   ],
   "source": [
    "name = personal.get(\"name\")\n",
    "age = personal.get(\"age\")\n",
    "sex = personal.get(\"sex\")\n",
    "\n",
    "print(name, age, sex)"
   ]
  },
  {
   "cell_type": "code",
   "execution_count": 33,
   "metadata": {},
   "outputs": [
    {
     "name": "stdout",
     "output_type": "stream",
     "text": [
      "{'name': 'mahmud', 'lastname': 'apaydin', 'age': 22, 'sex': 'male', 'height': 'mid'}\n"
     ]
    }
   ],
   "source": [
    "personal[\"height\"] = \"mid\"\n",
    "print(personal)"
   ]
  },
  {
   "cell_type": "code",
   "execution_count": 35,
   "metadata": {},
   "outputs": [
    {
     "data": {
      "text/plain": [
       "{'birinci': 0, 'ikinci': 0, 'ucuncu': 0}"
      ]
     },
     "execution_count": 35,
     "metadata": {},
     "output_type": "execute_result"
    }
   ],
   "source": [
    "# you can create a new tuple, and then combine them with another tuple using .fromkeys() function to make a dictionary\n",
    "\n",
    "\n",
    "sayilar = (\"birinci\", \"ikinci\", \"ucuncu\")\n",
    "deger = (0)\n",
    "new_dict = dict.fromkeys(sayilar, deger)\n",
    "new_dict\n"
   ]
  },
  {
   "cell_type": "code",
   "execution_count": 36,
   "metadata": {},
   "outputs": [],
   "source": [
    "# creating dictionaries inside dictionaries\n",
    "\n",
    "users = {\n",
    "    \"user1\" : {\n",
    "        \"age\" : 36,\n",
    "        \"roles\" : [\"user\"],\n",
    "        \"email\" : \"user1@gmail.com\",\n",
    "        \"address\" : \"istanbul\",\n",
    "        \"phone\" : \"2018381963\"\n",
    "    },\n",
    "    \"user2\" : {\n",
    "        \"age\" : 41,\n",
    "        \"roles\" : [\"admin\", \"user\"],\n",
    "        \"email\" : \"user2@gmail.com\",\n",
    "        \"address\" : \"ankara\",\n",
    "        \"phone\" : \"2014569159\"\n",
    "    }\n",
    "}"
   ]
  },
  {
   "cell_type": "code",
   "execution_count": 37,
   "metadata": {},
   "outputs": [
    {
     "name": "stdout",
     "output_type": "stream",
     "text": [
      "user1@gmail.com\n"
     ]
    }
   ],
   "source": [
    "# and then we can grab a value from the dictionary as so\n",
    "\n",
    "print(users[\"user1\"][\"email\"])"
   ]
  },
  {
   "cell_type": "code",
   "execution_count": 40,
   "metadata": {},
   "outputs": [
    {
     "name": "stdout",
     "output_type": "stream",
     "text": [
      "admin\n",
      "user\n"
     ]
    }
   ],
   "source": [
    "print(users[\"user2\"][\"roles\"][0])\n",
    "print(users[\"user2\"][\"roles\"][1])"
   ]
  },
  {
   "cell_type": "code",
   "execution_count": 44,
   "metadata": {},
   "outputs": [
    {
     "name": "stdout",
     "output_type": "stream",
     "text": [
      "{'no': '4', 'name': 'mahmud', 'surname': 'apaydin', 'phone': '2018381963'}\n"
     ]
    }
   ],
   "source": [
    "# using the .update() method, we can fill empty dictionaries with keys and values\n",
    "# in this example, the values were inputs given by the user\n",
    "\n",
    "\n",
    "personal = {}\n",
    "number = input(\"personal number:\")\n",
    "name = input(\"personal name:\")\n",
    "surname = input(\"personal surname:\")\n",
    "phone = input(\"personal phone:\")\n",
    "\n",
    "personal.update({\n",
    "    \"no\" : number,\n",
    "    \"name\" : name,\n",
    "    \"surname\" : surname,\n",
    "    \"phone\" : phone\n",
    "})\n",
    "\n",
    "print(personal)"
   ]
  },
  {
   "cell_type": "code",
   "execution_count": 43,
   "metadata": {},
   "outputs": [
    {
     "name": "stdout",
     "output_type": "stream",
     "text": [
      "mahmud\n"
     ]
    }
   ],
   "source": [
    "print(personal[\"name\"])"
   ]
  },
  {
   "cell_type": "code",
   "execution_count": 45,
   "metadata": {},
   "outputs": [
    {
     "name": "stdout",
     "output_type": "stream",
     "text": [
      "{'user1': {'no': '1', 'name': 'mahmud', 'surname': 'apaydin', 'phone': '2018381963'}, 'user2': {'no': '2', 'name': 'nur', 'surname': 'filiz', 'phone': '2016993041'}}\n"
     ]
    }
   ],
   "source": [
    "personal = {\"user1\" : {} , \"user2\" : {}}\n",
    "\n",
    "number = input(\"personal number:\")\n",
    "name = input(\"personal name:\")\n",
    "surname = input(\"personal surname:\")\n",
    "phone = input(\"personal phone:\")\n",
    "\n",
    "personal[\"user1\"].update({\n",
    "    \"no\" : number,\n",
    "    \"name\" : name,\n",
    "    \"surname\" : surname,\n",
    "    \"phone\" : phone\n",
    "})\n",
    "number = input(\"personal number:\")\n",
    "name = input(\"personal name:\")\n",
    "surname = input(\"personal surname:\")\n",
    "phone = input(\"personal phone:\")\n",
    "\n",
    "personal[\"user2\"].update({\n",
    "    \"no\" : number,\n",
    "    \"name\" : name,\n",
    "    \"surname\" : surname,\n",
    "    \"phone\" : phone\n",
    "})\n",
    "\n",
    "print(personal)"
   ]
  },
  {
   "cell_type": "code",
   "execution_count": 46,
   "metadata": {},
   "outputs": [
    {
     "name": "stdout",
     "output_type": "stream",
     "text": [
      "2016993041\n"
     ]
    }
   ],
   "source": [
    "print(personal[\"user2\"][\"phone\"])"
   ]
  },
  {
   "cell_type": "code",
   "execution_count": 48,
   "metadata": {},
   "outputs": [
    {
     "data": {
      "text/plain": [
       "([1, 2, 3, 4], (4, 6, 8, 10))"
      ]
     },
     "execution_count": 48,
     "metadata": {},
     "output_type": "execute_result"
    }
   ],
   "source": [
    "[1, 2, 3, 4], (4, 6, 8, 10) "
   ]
  },
  {
   "cell_type": "code",
   "execution_count": null,
   "metadata": {},
   "outputs": [],
   "source": []
  }
 ],
 "metadata": {
  "kernelspec": {
   "display_name": "Python 3",
   "language": "python",
   "name": "python3"
  },
  "language_info": {
   "codemirror_mode": {
    "name": "ipython",
    "version": 3
   },
   "file_extension": ".py",
   "mimetype": "text/x-python",
   "name": "python",
   "nbconvert_exporter": "python",
   "pygments_lexer": "ipython3",
   "version": "3.11.4"
  },
  "orig_nbformat": 4
 },
 "nbformat": 4,
 "nbformat_minor": 2
}
