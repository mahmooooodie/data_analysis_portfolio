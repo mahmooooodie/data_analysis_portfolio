{
 "cells": [
  {
   "attachments": {},
   "cell_type": "markdown",
   "metadata": {},
   "source": [
    "### format and f string"
   ]
  },
  {
   "cell_type": "code",
   "execution_count": 5,
   "metadata": {},
   "outputs": [
    {
     "name": "stdout",
     "output_type": "stream",
     "text": [
      "my name is mahmud apaydin and \n",
      "I'm 22 years old.\n"
     ]
    }
   ],
   "source": [
    "name = \"mahmud\"\n",
    "surname = \"apaydin\"\n",
    "age = 22\n",
    "\n",
    "greeting = (\"my name is \" + name + \" \" + surname + \" \" + \"and \\nI'm \" + str(age) + \" years old.\")\n",
    "print(greeting)"
   ]
  },
  {
   "attachments": {},
   "cell_type": "markdown",
   "metadata": {},
   "source": [
    "Theres a much easier way to do this using formats in strings"
   ]
  },
  {
   "cell_type": "code",
   "execution_count": 8,
   "metadata": {},
   "outputs": [
    {
     "name": "stdout",
     "output_type": "stream",
     "text": [
      "My name is mahmud apaydin and \n",
      "I'm 22 years old.\n"
     ]
    }
   ],
   "source": [
    "\n",
    "\n",
    "\n",
    "name = \"mahmud\"\n",
    "surname = \"apaydin\"\n",
    "age = str(22)\n",
    "\n",
    "print(\"My name is {} {} and \\nI'm {} years old.\".format(name, surname, age))\n",
    "\n"
   ]
  },
  {
   "cell_type": "code",
   "execution_count": 12,
   "metadata": {},
   "outputs": [
    {
     "name": "stdout",
     "output_type": "stream",
     "text": [
      "My name is mahmud apaydin and \n",
      "I'm 22 years old.\n"
     ]
    }
   ],
   "source": [
    "# if the format is in a specific order, you can also identify index starting from 0 to the curly bracket\n",
    "# this will give you the same return\n",
    "\n",
    "\n",
    "name = \"mahmud\"\n",
    "surname = \"apaydin\"\n",
    "age = str(22)\n",
    "\n",
    "print(\"My name is {1} {2} and \\nI'm {0} years old.\".format(age, name, surname))\n"
   ]
  },
  {
   "cell_type": "code",
   "execution_count": 13,
   "metadata": {},
   "outputs": [
    {
     "name": "stdout",
     "output_type": "stream",
     "text": [
      "My name is 22 apaydin and \n",
      "I'm 22 years old.\n"
     ]
    }
   ],
   "source": [
    "# you can even give your own parameters for the format and curly brackets\n",
    "\n",
    "name = \"mahmud\"\n",
    "surname = \"apaydin\"\n",
    "age = str(22)\n",
    "\n",
    "print(\"My name is {a} {s} and \\nI'm {a} years old.\".format(a=age, n=name, s=surname))"
   ]
  },
  {
   "cell_type": "code",
   "execution_count": 16,
   "metadata": {},
   "outputs": [
    {
     "name": "stdout",
     "output_type": "stream",
     "text": [
      "c, b, and a\n",
      "abracadabra\n"
     ]
    }
   ],
   "source": [
    "# do some fun stuff like this\n",
    "\n",
    "\n",
    "str_1 = \"{2}, {1}, and {0}\".format(\"a\", \"b\", \"c\")\n",
    "str_2 = \"{0}{1}{0}\".format(\"abra\", \"cad\")\n",
    "print(str_1, str_2, sep = \"\\n\")"
   ]
  },
  {
   "attachments": {},
   "cell_type": "markdown",
   "metadata": {},
   "source": [
    "##### F string Method"
   ]
  },
  {
   "cell_type": "code",
   "execution_count": 18,
   "metadata": {},
   "outputs": [
    {
     "name": "stdout",
     "output_type": "stream",
     "text": [
      "My name is mahmud apaydin and \n",
      "I'm 22 years old.\n"
     ]
    }
   ],
   "source": [
    "# f string is the easiest method to do this as you type the exact variable into the curly brackets\n",
    "\n",
    "\n",
    "name = \"mahmud\"\n",
    "surname = \"apaydin\"\n",
    "age = str(22)\n",
    "\n",
    "print(f\"My name is {name} {surname} and \\nI'm {age} years old.\")"
   ]
  },
  {
   "attachments": {},
   "cell_type": "markdown",
   "metadata": {},
   "source": [
    "## **string** methods"
   ]
  },
  {
   "cell_type": "code",
   "execution_count": 24,
   "metadata": {},
   "outputs": [
    {
     "name": "stdout",
     "output_type": "stream",
     "text": [
      "M . y .   . n . a . m . e .   . i . s .   . m . a . h . m . u . d .   . a . p . a . y . d . i . n .   . a . n . d .   . \n",
      " . I . ' . m .   . 2 . 2 .   . y . e . a . r . s .   . o . l . d . .\n"
     ]
    }
   ],
   "source": [
    "print(*greeting, sep= \" . \")"
   ]
  },
  {
   "cell_type": "code",
   "execution_count": 25,
   "metadata": {},
   "outputs": [
    {
     "name": "stdout",
     "output_type": "stream",
     "text": [
      "MY NAME IS MAHMUD APAYDIN AND \n",
      "I'M 22 YEARS OLD.\n"
     ]
    }
   ],
   "source": [
    "print(greeting.upper())"
   ]
  },
  {
   "cell_type": "code",
   "execution_count": 26,
   "metadata": {},
   "outputs": [
    {
     "name": "stdout",
     "output_type": "stream",
     "text": [
      "my name is mahmud apaydin and \n",
      "i'm 22 years old.\n"
     ]
    }
   ],
   "source": [
    "print(greeting.lower())"
   ]
  },
  {
   "cell_type": "code",
   "execution_count": 30,
   "metadata": {},
   "outputs": [
    {
     "name": "stdout",
     "output_type": "stream",
     "text": [
      "BU YAZIYI FARK ETMENIZLE\n",
      "fark etmemenizle\n",
      "Hic birsey fark etmedigini\n",
      "Fark Edeceksiniz\n"
     ]
    }
   ],
   "source": [
    "# you can write a function on multiple lines with different endings\n",
    "\n",
    "\n",
    "print(\"bu yaziyi fark etmenizle\".upper(), \n",
    "      \"FARK ETMEMENIZLE\".lower(), \n",
    "      \"hic birsey fark etmedigini\".capitalize(), \n",
    "      \"fARK eDECEKSINIZ\".title(),\n",
    "      sep = \"\\n\")"
   ]
  },
  {
   "cell_type": "code",
   "execution_count": 33,
   "metadata": {},
   "outputs": [
    {
     "name": "stdout",
     "output_type": "stream",
     "text": [
      "['C', 'Kasl', 'V', 'Ky', 'Lil', 'Stirm', 'Dikr', 'Mizd', 'N Misiniz?']\n"
     ]
    }
   ],
   "source": [
    "print(\"cekoslavakyalilastirmadikramizdan misiniz?\"\n",
    "      .replace(\"a\", \"e\")\n",
    "      .replace(\"o\", \"a\")\n",
    "      .replace(\"e\",\"_\")\n",
    "      .title()\n",
    "      .split(\"_\"))"
   ]
  },
  {
   "cell_type": "code",
   "execution_count": 34,
   "metadata": {},
   "outputs": [
    {
     "name": "stdout",
     "output_type": "stream",
     "text": [
      "t E C H P R O   I S   T H E   B E S T   C O U R S E   I N   T H E   W O R L D .\n"
     ]
    }
   ],
   "source": [
    "str_1 = \"Techpro is the best course in the world.\"\n",
    "print(*str_1.swapcase())"
   ]
  },
  {
   "cell_type": "code",
   "execution_count": 36,
   "metadata": {},
   "outputs": [
    {
     "name": "stdout",
     "output_type": "stream",
     "text": [
      "['T', 'chpro is th', ' b', 'st course in the world.']\n"
     ]
    }
   ],
   "source": [
    "print(str_1.split(\"e\",maxsplit=3))"
   ]
  },
  {
   "cell_type": "code",
   "execution_count": 38,
   "metadata": {},
   "outputs": [
    {
     "name": "stdout",
     "output_type": "stream",
     "text": [
      "Tec$\n",
      "pro is t$\n",
      "e best course in t$\n",
      "e world.\n"
     ]
    }
   ],
   "source": [
    "print(*str_1.split(\"h\"), sep = \"$\\n\")"
   ]
  },
  {
   "cell_type": "code",
   "execution_count": 39,
   "metadata": {},
   "outputs": [
    {
     "name": "stdout",
     "output_type": "stream",
     "text": [
      "Techpro $ is $ the $ best $ course $ in $ the $ world.\n"
     ]
    }
   ],
   "source": [
    "print(str_1.replace(\" \", \" $ \"))"
   ]
  },
  {
   "attachments": {},
   "cell_type": "markdown",
   "metadata": {},
   "source": [
    ".join() method lets you add anything to the beginning and end of string while printing. you have to indicate two."
   ]
  },
  {
   "cell_type": "code",
   "execution_count": 41,
   "metadata": {},
   "outputs": [
    {
     "name": "stdout",
     "output_type": "stream",
     "text": [
      "*Techpro $ is $ the $ best $ course $ in $ the $ world.*\n"
     ]
    }
   ],
   "source": [
    "print(str_1.replace(\" \", \" $ \").join(\"**\"))"
   ]
  },
  {
   "cell_type": "code",
   "execution_count": 42,
   "metadata": {},
   "outputs": [
    {
     "name": "stdout",
     "output_type": "stream",
     "text": [
      "*Techpro $ is $ the $ best $ course $ in $ the $ world.\n",
      "Techpro $ is $ the $ best $ course $ in $ the $ world.*\n"
     ]
    }
   ],
   "source": [
    "print(str_1.replace(\" \", \" $ \").join(\"*\\n*\"))"
   ]
  },
  {
   "cell_type": "code",
   "execution_count": 45,
   "metadata": {},
   "outputs": [
    {
     "name": "stdout",
     "output_type": "stream",
     "text": [
      "*****Techpro is the best course in the world.*****\n"
     ]
    }
   ],
   "source": [
    "# .center() lets you center the string surrounded by characters to total the number of characters you indicate\n",
    "\n",
    "print(str_1.center(50,\"*\"))"
   ]
  },
  {
   "cell_type": "code",
   "execution_count": 47,
   "metadata": {},
   "outputs": [
    {
     "name": "stdout",
     "output_type": "stream",
     "text": [
      "Techpro is the best course in the world.**********\n",
      "**********Techpro is the best course in the world.\n"
     ]
    }
   ],
   "source": [
    "# .ljust and rjust lets you push to the left or right and continue to fill as many characters as you indicate with fill character\n",
    "\n",
    "print(str_1.ljust(50,\"*\"))\n",
    "print(str_1.rjust(50,\"*\"))"
   ]
  },
  {
   "cell_type": "code",
   "execution_count": 48,
   "metadata": {},
   "outputs": [
    {
     "name": "stdout",
     "output_type": "stream",
     "text": [
      "@@@@@%%%%%*****Techpro is the best course in the world.*****%%%%%$$$$$\n"
     ]
    }
   ],
   "source": [
    "str_2 = str_1.center(50, \"*\").center(60, \"%\").ljust(65, \"$\").rjust(70,\"@\")\n",
    "\n",
    "print(str_2)"
   ]
  },
  {
   "cell_type": "code",
   "execution_count": 50,
   "metadata": {},
   "outputs": [
    {
     "name": "stdout",
     "output_type": "stream",
     "text": [
      "Techpro is the best course in the world.\n"
     ]
    }
   ],
   "source": [
    "# now say i want to strip this\n",
    "print(str_2.strip(\"$,@,%,*,\"))"
   ]
  },
  {
   "attachments": {},
   "cell_type": "markdown",
   "metadata": {},
   "source": [
    "find method finds the character from the left side, rfind finds the character from the right side in terms of index"
   ]
  },
  {
   "cell_type": "code",
   "execution_count": 52,
   "metadata": {},
   "outputs": [
    {
     "data": {
      "text/plain": [
       "30"
      ]
     },
     "execution_count": 52,
     "metadata": {},
     "output_type": "execute_result"
    }
   ],
   "source": [
    "str_3 = str_1.rfind(\"the\")\n",
    "str_3"
   ]
  },
  {
   "attachments": {},
   "cell_type": "markdown",
   "metadata": {},
   "source": [
    "you can even give it a start and stop parameter"
   ]
  },
  {
   "cell_type": "code",
   "execution_count": 53,
   "metadata": {},
   "outputs": [
    {
     "data": {
      "text/plain": [
       "30"
      ]
     },
     "execution_count": 53,
     "metadata": {},
     "output_type": "execute_result"
    }
   ],
   "source": [
    "str_3 = str_1.rfind(\"the\", 15,35)\n",
    "str_3"
   ]
  },
  {
   "attachments": {},
   "cell_type": "markdown",
   "metadata": {},
   "source": [
    "## **if/elif/else**"
   ]
  },
  {
   "cell_type": "code",
   "execution_count": 56,
   "metadata": {},
   "outputs": [
    {
     "name": "stdout",
     "output_type": "stream",
     "text": [
      "The number you entered is 0 and it is lower than 15\n"
     ]
    }
   ],
   "source": [
    "x = int(input(\"Please enter a number between 0 and 25\"))\n",
    "print(f\"The number you entered is {x} and \", end = \"\")\n",
    "if x < 15:\n",
    "    print(\"it is lower than 15\")\n",
    "elif x > 14:\n",
    "    print(\"it is higher than or equal to 15\")"
   ]
  },
  {
   "cell_type": "code",
   "execution_count": 61,
   "metadata": {},
   "outputs": [
    {
     "name": "stdout",
     "output_type": "stream",
     "text": [
      "Your age is 17 and you are in high school, \n",
      "So you can not get your license\n"
     ]
    }
   ],
   "source": [
    "age = int(input(\"Please enter your age\"))\n",
    "grade = input(\"Please enter your grade status\").lower()\n",
    "\n",
    "if age >= 18 and grade == \"college\" or grade == \"graduated\":\n",
    "    print(f\"Your age is {age} and you are in {grade}, \\nSo you can get your license!\")\n",
    "elif age < 18 or not grade == \"college\":\n",
    "    print(f\"Your age is {age} and you are in {grade}, \\nSo you can not get your license\")\n"
   ]
  },
  {
   "cell_type": "code",
   "execution_count": 63,
   "metadata": {},
   "outputs": [
    {
     "name": "stdout",
     "output_type": "stream",
     "text": [
      "-100 is a negative number!\n"
     ]
    }
   ],
   "source": [
    "x = int(input(\"Please enter a number\"))\n",
    "\n",
    "if x > 0:\n",
    "    print(f\"{x} is a positive number!\")\n",
    "elif x < 0:\n",
    "    print(f\"{x} is a negative number!\")\n",
    "elif x == 0:\n",
    "    print(f\"{x} is neither positive nor negative\")"
   ]
  },
  {
   "attachments": {},
   "cell_type": "markdown",
   "metadata": {},
   "source": [
    "## Python **Collection** Types\n",
    "lists, tuples, dictionaries, sets"
   ]
  },
  {
   "cell_type": "code",
   "execution_count": 64,
   "metadata": {},
   "outputs": [
    {
     "data": {
      "text/plain": [
       "[]"
      ]
     },
     "execution_count": 64,
     "metadata": {},
     "output_type": "execute_result"
    }
   ],
   "source": [
    "list1 = []\n",
    "list1"
   ]
  },
  {
   "cell_type": "code",
   "execution_count": 65,
   "metadata": {},
   "outputs": [
    {
     "name": "stdout",
     "output_type": "stream",
     "text": [
      "<class 'list'>\n"
     ]
    }
   ],
   "source": [
    "print(type(list1))"
   ]
  },
  {
   "cell_type": "code",
   "execution_count": 68,
   "metadata": {},
   "outputs": [
    {
     "data": {
      "text/plain": [
       "['a', 'l', 'i', 'v', 'e', 'l', 'i', 'd', 'e', 'l', 'i']"
      ]
     },
     "execution_count": 68,
     "metadata": {},
     "output_type": "execute_result"
    }
   ],
   "source": [
    "list2 = list(\"alivelideli\")\n",
    "list2"
   ]
  },
  {
   "cell_type": "code",
   "execution_count": 70,
   "metadata": {},
   "outputs": [
    {
     "data": {
      "text/plain": [
       "[1, 2, 3, 4, 5]"
      ]
     },
     "execution_count": 70,
     "metadata": {},
     "output_type": "execute_result"
    }
   ],
   "source": [
    "list3 = list([1,2,3,4,5])\n",
    "list3"
   ]
  },
  {
   "cell_type": "code",
   "execution_count": 71,
   "metadata": {},
   "outputs": [
    {
     "name": "stdout",
     "output_type": "stream",
     "text": [
      "['a', 'l', 'i', 'v', 'e', 'l', 'i', 'd', 'e', 'l', 'i']\n",
      "[1, 2, 3, 4, 5]\n"
     ]
    }
   ],
   "source": [
    "print(list2, list3, sep=\"\\n\")"
   ]
  },
  {
   "cell_type": "code",
   "execution_count": 72,
   "metadata": {},
   "outputs": [
    {
     "data": {
      "text/plain": [
       "'e'"
      ]
     },
     "execution_count": 72,
     "metadata": {},
     "output_type": "execute_result"
    }
   ],
   "source": [
    "list2[4]"
   ]
  },
  {
   "cell_type": "code",
   "execution_count": 73,
   "metadata": {},
   "outputs": [
    {
     "data": {
      "text/plain": [
       "['a', 'l', 'i', 'v', 'e', 'l', 'i', 'd', 'e', 'l', 'i', 1, 2, 3, 4, 5]"
      ]
     },
     "execution_count": 73,
     "metadata": {},
     "output_type": "execute_result"
    }
   ],
   "source": [
    "list2 + list3"
   ]
  },
  {
   "cell_type": "code",
   "execution_count": 75,
   "metadata": {},
   "outputs": [
    {
     "name": "stdout",
     "output_type": "stream",
     "text": [
      "said yaka\n",
      "emre kurt\n",
      "omer aktepe\n"
     ]
    }
   ],
   "source": [
    "names = [\"said\", \"emre\", \"omer\"]\n",
    "surnames = [\"yaka\", \"kurt\", \"aktepe\"]\n",
    "\n",
    "full_name1 = names[0] + \" \" + surnames[0]\n",
    "full_name2 = names[1] + \" \" + surnames[1]\n",
    "full_name3 = names[2] + \" \" + surnames[2]\n",
    "\n",
    "print(full_name1, full_name2, full_name3, sep = \"\\n\")"
   ]
  },
  {
   "cell_type": "code",
   "execution_count": 76,
   "metadata": {},
   "outputs": [],
   "source": [
    "studenta = [\"Ahmet\", \"Kaya\", 2001, [70,80,90]]\n",
    "studentb = [\"George\", \"Smith\", 2006, [56,89,100]]\n",
    "studentc = [\"Michael\", \"Mann\", 2003, [45,10,4]]\n"
   ]
  },
  {
   "cell_type": "code",
   "execution_count": 82,
   "metadata": {},
   "outputs": [],
   "source": [
    "resulta = f\"{studenta[0]} {studenta[1]} is {2023 - studenta[2]} years old and their grade average is {int((studenta[3][0] + studenta[3][1] + studenta[3][2])/ 3)}!\" "
   ]
  },
  {
   "cell_type": "code",
   "execution_count": 83,
   "metadata": {},
   "outputs": [
    {
     "name": "stdout",
     "output_type": "stream",
     "text": [
      "Ahmet Kaya is 22 years old and their grade average is 80!\n"
     ]
    }
   ],
   "source": [
    "print(resulta)"
   ]
  },
  {
   "cell_type": "code",
   "execution_count": 85,
   "metadata": {},
   "outputs": [
    {
     "name": "stdout",
     "output_type": "stream",
     "text": [
      "George Smith is 17 years old and their grade average is 81!\n"
     ]
    }
   ],
   "source": [
    "resultb = f\"{studentb[0]} {studentb[1]} is {2023 - studentb[2]} years old and their grade average is {int((studentb[3][0] + studentb[3][1] + studentb[3][2])/ 3)}!\" \n",
    "print(resultb)"
   ]
  },
  {
   "cell_type": "code",
   "execution_count": 5,
   "metadata": {},
   "outputs": [
    {
     "name": "stdout",
     "output_type": "stream",
     "text": [
      "[1, 2, 3, 4, 5, 6, 7, 8, 9]\n",
      "[7, 8, 9]\n"
     ]
    }
   ],
   "source": [
    "# extend can be used to add more iterable values to a list\n",
    "\n",
    "list_1 = [1, 2, 3, 4, 5, 6]\n",
    "list_2 = [7, 8, 9]\n",
    "\n",
    "list_1.extend(list_2)\n",
    "\n",
    "print(list_1)\n",
    "print(list_2)"
   ]
  },
  {
   "cell_type": "code",
   "execution_count": 8,
   "metadata": {},
   "outputs": [
    {
     "name": "stdout",
     "output_type": "stream",
     "text": [
      "[1, 2, 3, 4, 5, 6, 7, 8, 9, 13, 10, 11, 12]\n"
     ]
    }
   ],
   "source": [
    "list_1.extend([10,11,12])\n",
    "print(list_1)"
   ]
  },
  {
   "cell_type": "code",
   "execution_count": 6,
   "metadata": {},
   "outputs": [
    {
     "ename": "AttributeError",
     "evalue": "'list' object has no attribute 'exted'",
     "output_type": "error",
     "traceback": [
      "\u001b[0;31m---------------------------------------------------------------------------\u001b[0m",
      "\u001b[0;31mAttributeError\u001b[0m                            Traceback (most recent call last)",
      "Cell \u001b[0;32mIn[6], line 4\u001b[0m\n\u001b[1;32m      1\u001b[0m \u001b[39m# extend value has to be iterable\u001b[39;00m\n\u001b[1;32m      2\u001b[0m \u001b[39m# otherwise you will get an error\u001b[39;00m\n\u001b[0;32m----> 4\u001b[0m list_1\u001b[39m.\u001b[39;49mexted(\u001b[39m20\u001b[39m)\n",
      "\u001b[0;31mAttributeError\u001b[0m: 'list' object has no attribute 'exted'"
     ]
    }
   ],
   "source": [
    "# extend value has to be iterable\n",
    "# otherwise you will get an error\n",
    "\n",
    "list_1.exted(20)"
   ]
  },
  {
   "cell_type": "code",
   "execution_count": 14,
   "metadata": {},
   "outputs": [
    {
     "data": {
      "text/plain": [
       "[1, 2, 3, 4, 5, 6, 7, 8, 9, 13, 10, 11, 12, 13, 13, 13, 13, 13, 13]"
      ]
     },
     "execution_count": 14,
     "metadata": {},
     "output_type": "execute_result"
    }
   ],
   "source": [
    "list_1.extend([13])\n",
    "list_1"
   ]
  },
  {
   "cell_type": "code",
   "execution_count": 16,
   "metadata": {},
   "outputs": [
    {
     "ename": "TypeError",
     "evalue": "sequence item 0: expected str instance, int found",
     "output_type": "error",
     "traceback": [
      "\u001b[0;31m---------------------------------------------------------------------------\u001b[0m",
      "\u001b[0;31mTypeError\u001b[0m                                 Traceback (most recent call last)",
      "Cell \u001b[0;32mIn[16], line 1\u001b[0m\n\u001b[0;32m----> 1\u001b[0m \u001b[39m\"\u001b[39;49m\u001b[39m***\u001b[39;49m\u001b[39m\"\u001b[39;49m\u001b[39m.\u001b[39;49mjoin(list_1)\n",
      "\u001b[0;31mTypeError\u001b[0m: sequence item 0: expected str instance, int found"
     ]
    }
   ],
   "source": [
    "\"***\".join(list_1)"
   ]
  },
  {
   "cell_type": "code",
   "execution_count": 19,
   "metadata": {},
   "outputs": [
    {
     "data": {
      "text/plain": [
       "'applecockbananacockorange'"
      ]
     },
     "execution_count": 19,
     "metadata": {},
     "output_type": "execute_result"
    }
   ],
   "source": [
    "# join is used to join iterable items in a list by whatevr you wish\n",
    "\n",
    "list_1 = [\"apple\", \"banana\" , \"orange\"]\n",
    "\"cock\".join(list_1)\n"
   ]
  },
  {
   "cell_type": "code",
   "execution_count": 24,
   "metadata": {},
   "outputs": [
    {
     "data": {
      "text/plain": [
       "['apple', 'kiwi', 'banana', 'orange']"
      ]
     },
     "execution_count": 24,
     "metadata": {},
     "output_type": "execute_result"
    }
   ],
   "source": [
    "# to insert a value into a list, you have to use the .insert(index, value you want to put in that index)\n",
    "\n",
    "list_1.insert(1, \"kiwi\")\n",
    "list_1"
   ]
  },
  {
   "cell_type": "code",
   "execution_count": 26,
   "metadata": {},
   "outputs": [
    {
     "data": {
      "text/plain": [
       "1"
      ]
     },
     "execution_count": 26,
     "metadata": {},
     "output_type": "execute_result"
    }
   ],
   "source": [
    "# max and min functions find max and min in a list\n",
    "\n",
    "a = [1, 20, 24524, 4983527, 2343, 4325, 435623, 5632]\n",
    "max(a)\n",
    "min(a)"
   ]
  },
  {
   "cell_type": "code",
   "execution_count": null,
   "metadata": {},
   "outputs": [],
   "source": []
  }
 ],
 "metadata": {
  "kernelspec": {
   "display_name": "Python 3",
   "language": "python",
   "name": "python3"
  },
  "language_info": {
   "codemirror_mode": {
    "name": "ipython",
    "version": 3
   },
   "file_extension": ".py",
   "mimetype": "text/x-python",
   "name": "python",
   "nbconvert_exporter": "python",
   "pygments_lexer": "ipython3",
   "version": "3.11.4"
  },
  "orig_nbformat": 4
 },
 "nbformat": 4,
 "nbformat_minor": 2
}
