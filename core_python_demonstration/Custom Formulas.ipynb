{
 "cells": [
  {
   "cell_type": "code",
   "execution_count": null,
   "id": "b1f9c930",
   "metadata": {},
   "outputs": [],
   "source": [
    "output_data = []\n",
    "\n",
    "for col in df.columns:\n",
    "    \n",
    "    # If the number of unique values in the column is less than or equal to 5\n",
    "    if df.loc[:, col].nunique() <= 5:\n",
    "        # Get the unique values in the column\n",
    "        unique_values = df.loc[:, col].unique()\n",
    "        # Append the column name, number of unique values, unique values, and data type to the output data\n",
    "        output_data.append([col, df.loc[:, col].nunique(), unique_values, df.loc[:, col].dtype])\n",
    "    else:\n",
    "        # Otherwise, append only the column name, number of unique values, and data type to the output data\n",
    "        output_data.append([col, df.loc[:, col].nunique(),\"-\", df.loc[:, col].dtype])\n",
    "\n",
    "output_df = pd.DataFrame(output_data, columns=['Column Name', 'Number of Unique Values', ' Unique Values ', 'Data Type'])\n",
    "\n",
    "output_df"
   ]
  },
  {
   "cell_type": "code",
   "execution_count": null,
   "id": "53257844",
   "metadata": {},
   "outputs": [],
   "source": [
    "def grab_col_names(dataframe, cat_th=10):\n",
    "\n",
    "    # cat_cols\n",
    "    cat_cols = [col for col in dataframe.columns if dataframe[col].dtypes == \"O\"]\n",
    "    num_but_cat = [col for col in dataframe.columns if dataframe[col].nunique() < cat_th and\n",
    "                   dataframe[col].dtypes != \"O\"]    \n",
    "    cat_cols = cat_cols + num_but_cat\n",
    "    \n",
    "\n",
    "    # num_cols\n",
    "    num_cols = [col for col in dataframe.columns if dataframe[col].dtypes != \"O\"]\n",
    "    num_cols = [col for col in num_cols if col not in cat_cols]\n",
    "\n",
    "    print(f\"Features: {dataframe.shape[1]}\")\n",
    "    print(f'Number of Categorical Features: {len(cat_cols)}')\n",
    "    print(f'Number of Numeric Features: {len(num_cols)}')\n",
    "    print(f\"Categorical Features: {cat_cols}\") \n",
    "    print(f\"Numeric Features: {num_cols}\")\n",
    "    \n",
    "    return cat_cols, num_cols"
   ]
  },
  {
   "cell_type": "code",
   "execution_count": null,
   "id": "54b8be9a",
   "metadata": {},
   "outputs": [],
   "source": [
    "cat_cols, num_cols = grab_col_names(df)"
   ]
  },
  {
   "cell_type": "code",
   "execution_count": null,
   "id": "e5e56443",
   "metadata": {},
   "outputs": [],
   "source": [
    "def summary(df, pred=None):\n",
    "    obs = df.shape[0]\n",
    "    Types = df.dtypes\n",
    "    Counts = df.apply(lambda x: x.count())\n",
    "    Min = df.min()\n",
    "    Max = df.max()\n",
    "    Uniques = df.apply(lambda x: x.unique().shape[0])\n",
    "    Nulls = df.apply(lambda x: x.isnull().sum())\n",
    "    print('Data shape:', df.shape)\n",
    "\n",
    "    if pred is None:\n",
    "        cols = ['Types', 'Counts', 'Uniques', 'Nulls', 'Min', 'Max']\n",
    "        str = pd.concat([Types, Counts, Uniques, Nulls, Min, Max], axis = 1, sort=True)\n",
    "\n",
    "    str.columns = cols\n",
    "    print('___________________________\\nData Types:')\n",
    "    print(str.Types.value_counts())\n",
    "    print('___________________________')\n",
    "    return str\n",
    "\n",
    "summary(df)"
   ]
  },
  {
   "cell_type": "code",
   "execution_count": null,
   "id": "9fbe1bac",
   "metadata": {},
   "outputs": [],
   "source": [
    "def duplicate_values(df):\n",
    "    print(\"Duplicate check...\")\n",
    "    num_duplicates = df.duplicated(subset=None, keep='first').sum()\n",
    "    if num_duplicates > 0:\n",
    "        print(\"There are\", num_duplicates, \"duplicated observations in the dataset.\")\n",
    "        df.drop_duplicates(keep='first', inplace=True)\n",
    "        print(num_duplicates, \"duplicates were dropped!\")\n",
    "        print('*' * 100)\n",
    "    else:\n",
    "        print(\"There are no duplicated observations in the dataset.\")"
   ]
  },
  {
   "cell_type": "code",
   "execution_count": null,
   "id": "d70e4c0e",
   "metadata": {},
   "outputs": [],
   "source": [
    "duplicate_values(df)"
   ]
  },
  {
   "cell_type": "code",
   "execution_count": null,
   "id": "ab400e34",
   "metadata": {},
   "outputs": [],
   "source": [
    "def missing_values(df):\n",
    "    missing_number = df.isnull().sum().sort_values(ascending = False)\n",
    "    missing_percent = (df.isnull().sum() / df.isnull().count()).sort_values(ascending = False)\n",
    "    missing_values = pd.concat([missing_number, missing_percent], axis = 1, keys = ['Missing_Number', 'Missing_Percent'])\n",
    "    return missing_values[missing_values['Missing_Number'] > 0]"
   ]
  },
  {
   "cell_type": "code",
   "execution_count": null,
   "id": "3470d4a2",
   "metadata": {},
   "outputs": [],
   "source": [
    "missing_values(df)"
   ]
  },
  {
   "cell_type": "code",
   "execution_count": null,
   "id": "13db1b58",
   "metadata": {},
   "outputs": [],
   "source": [
    "def value_cnt(df, column_name):\n",
    "    vc = df[column_name].value_counts()\n",
    "    vc_norm = df[column_name].value_counts(normalize=True).round(3)\n",
    "\n",
    "    vc = vc.rename_axis('workclass').reset_index(name='counts')\n",
    "    vc_norm = vc_norm.rename_axis('workclass').reset_index(name='norm_counts')\n",
    "\n",
    "    df_result = pd.concat([vc['workclass'], vc['counts'], vc_norm['norm_counts']], axis=1)\n",
    "    \n",
    "    return df_result"
   ]
  },
  {
   "cell_type": "code",
   "execution_count": null,
   "id": "fda9050f",
   "metadata": {},
   "outputs": [],
   "source": [
    "# Target görülme sıklığı, bir veri kümesindeki her bir Target değerin vaka sayısı olarak tanımlanır.\n",
    "# Yani Target sütunda kaç tane 1'e karşılık kaç tane 0 var? \n",
    "# Target insidansı bize veri setimizin ne kadar dengeli (veya dengesiz) olduğuna dair bir fikir verir.\n",
    "\n",
    "value_cnt(df, 'target')"
   ]
  },
  {
   "cell_type": "code",
   "execution_count": null,
   "id": "d94460cd",
   "metadata": {},
   "outputs": [],
   "source": [
    "# to view y value on top of bar for bar charts\n",
    "\n",
    "for bar in bars:\n",
    "    yval = bar.get_height()\n",
    "    plt.text(bar.get_x() + bar.get_width()/2, yval, int(yval), va='bottom', ha='center')"
   ]
  }
 ],
 "metadata": {
  "kernelspec": {
   "display_name": "Python 3 (ipykernel)",
   "language": "python",
   "name": "python3"
  },
  "language_info": {
   "codemirror_mode": {
    "name": "ipython",
    "version": 3
   },
   "file_extension": ".py",
   "mimetype": "text/x-python",
   "name": "python",
   "nbconvert_exporter": "python",
   "pygments_lexer": "ipython3",
   "version": "3.9.12"
  },
  "toc": {
   "base_numbering": 1,
   "nav_menu": {},
   "number_sections": true,
   "sideBar": true,
   "skip_h1_title": false,
   "title_cell": "Table of Contents",
   "title_sidebar": "Contents",
   "toc_cell": false,
   "toc_position": {},
   "toc_section_display": true,
   "toc_window_display": true
  }
 },
 "nbformat": 4,
 "nbformat_minor": 5
}
