{
 "cells": [
  {
   "cell_type": "markdown",
   "id": "8f9d6963",
   "metadata": {},
   "source": [
    "# <p style=\"background-color:green;font-family:newtimeroman;font-size:200%;color:white;text-align:center;border-radius:20px 20px;\"><b>Google Play Store App EDA & Data Visualization</b></p>\n",
    "![](https://www.techproeducation.com/logo/headerlogo.svg)\n",
    "\n",
    "<b>Yeniliklerden ilk siz haberdar olmak istiyorsanız lütfen bizi takip etmeyi unutmayın </b>[YouTube](https://www.youtube.com/c/techproeducation) | [Instagram](https://www.instagram.com/techproeducation) | [Facebook](https://www.facebook.com/techproeducation) | [Telegram](https://t.me/joinchat/HH2qRvA-ulh4OWbb) | [Watsapp](https://api.whatsapp.com/send/?phone=%2B15853042959&text&type=phone_number&app_absent=0) | [Linkedin](https://www.linkedin.com/company/techproeducation/mycompany/) |"
   ]
  },
  {
   "cell_type": "markdown",
   "id": "13dd2a54",
   "metadata": {
    "papermill": {
     "duration": 0.030562,
     "end_time": "2023-05-18T07:56:18.903529",
     "exception": false,
     "start_time": "2023-05-18T07:56:18.872967",
     "status": "completed"
    },
    "tags": []
   },
   "source": [
    "![](https://www.akademiportal.com/wp-content/uploads/2015/05/Google-Play-Logo-Before-and-After.png.webp)"
   ]
  },
  {
   "cell_type": "markdown",
   "id": "17457c14",
   "metadata": {
    "papermill": {
     "duration": 0.02555,
     "end_time": "2023-05-18T07:56:18.955747",
     "exception": false,
     "start_time": "2023-05-18T07:56:18.930197",
     "status": "completed"
    },
    "tags": []
   },
   "source": [
    "<b> Bu not notebook ile google play store uygulama veri kümesi için EDA ve veri görselleştirmenin nasıl yapılacağı anlatılacaktır.\n",
    "\n",
    "<b>İçindekiler:</b>\n",
    "<ul>\n",
    "<li><a href=\"#load\">Loading the dataset (Veri setini yükleme)</a></li>\n",
    "    \n",
    "<li><a href=\"#understanding\">Understanding the dataset(Veri setini anlama)</a></li>\n",
    "    \n",
    "<li><a href=\"#missing\">Handling missing data (Kayıp verilerin ele alınması)</a></li>\n",
    "    \n",
    "<li><a href=\"#preprocessing\">Data preprocessing (Veri ön işleme)</a></li>\n",
    "    \n",
    "<li><a href=\"#visualization\">Data visualization (Veri görselleştirme)</a></li>\n",
    "    \n",
    "</ul>\n",
    "\n",
    "**Faydalı olması temennisiyle**"
   ]
  },
  {
   "cell_type": "markdown",
   "id": "c1c041b4",
   "metadata": {
    "papermill": {
     "duration": 0.025317,
     "end_time": "2023-05-18T07:56:19.006600",
     "exception": false,
     "start_time": "2023-05-18T07:56:18.981283",
     "status": "completed"
    },
    "tags": []
   },
   "source": [
    "<a id='load'></a>\n",
    "# <p style=\"background-color:green;font-family:newtimeroman;font-size:150%;color:white;text-align:center;border-radius:20px 20px;\"><b>Loading The Dataset (Veri Setini Yükleme)</b></p>"
   ]
  },
  {
   "cell_type": "markdown",
   "id": "756d2879",
   "metadata": {
    "papermill": {
     "duration": 0.025257,
     "end_time": "2023-05-18T07:56:19.057908",
     "exception": false,
     "start_time": "2023-05-18T07:56:19.032651",
     "status": "completed"
    },
    "tags": []
   },
   "source": [
    "**Apps dataset nedir?**\n",
    "\n",
    "Bu data seti Google Play'deki uygulamaların ayrıntılarını içermektadir. Bu ayrıntılar 13 tane feature (column) tarafından açıklanmaktadır.\n",
    "<ul>\n",
    "    <li><b>App:</b> Uygulamanın adı</li>\n",
    "    <li><b>Category:</b> Uygulamanın kategorisi. Örnek kategoriler: ART_AND_DESIGN, FINANCE, COMICS, BEAUTY vb.</li>\n",
    "    <li><b>Rating:</b> Kullanıcılar tarafından verilen ortalama puan (5 üzerinden)</li>\n",
    "    <li><b>Reviews:</b> Kullanıcılar tarafından uygulamanın aldığı toplam yorum sayısı.</li>\n",
    "    <li><b>Size:</b> Uygulamanın boyutu megabayt (MB) cinsinden</li>\n",
    "    <li><b>Installs:</b> Uygulamanın Google Play'den kaç kez indirildiği bilgisi</li>\n",
    "    <li><b>Type:</b> Uygulamanın ücretsiz mi yoksa ücretli mi olduğu bilgisi</li>\n",
    "    <li><b>Price:</b> Uygulamanın fiyatı, Amerikan Doları (USD) cinsinden 0 ücretsiz demek</li>\n",
    "    <li><b>Content Rating:</b> Uygulamanın içerik derecelendirmesi. Örneğin, \"Everyone\" herkes için uygun olduğunu gösterir.</li>\n",
    "    <li><b>Genres:</b> Uygulamanın türü veya alt kategorileri. Örneğin, \"Art-Design;Pretend Play\" iki farklı türü gösterir.</li>\n",
    "    <li><b>Last Updated:</b> Uygulamanın en son ne zaman güncellendiği. Örneğin, \"January 7, 2018</li>\n",
    "    <li><b>Current Ver:</b> Uygulamanın mevcut versiyonu. Örneğin, \"1.0.0\"</li>\n",
    "    <li><b>Android Ver:</b> Uygulamanın çalıştırılabilmesi için gereken minimum Android versiyonu. Örneğin, \"4.0.3 and up\"</li>\n",
    "</ul> "
   ]
  },
  {
   "cell_type": "markdown",
   "id": "333a8fde",
   "metadata": {},
   "source": [
    "<a id='understanding'></a>\n",
    "# <p style=\"background-color:green;font-family:newtimeroman;font-size:150%;color:white;text-align:center;border-radius:20px 20px;\"><b>Import Library(Kütüphaneleri Yükleme)</b></p>"
   ]
  },
  {
   "cell_type": "code",
   "execution_count": 2,
   "id": "38c91fb3",
   "metadata": {
    "ExecuteTime": {
     "end_time": "2023-09-19T17:29:53.330895Z",
     "start_time": "2023-09-19T17:29:52.633454Z"
    }
   },
   "outputs": [],
   "source": [
    "import folium"
   ]
  },
  {
   "cell_type": "code",
   "execution_count": null,
   "id": "5228e6a2",
   "metadata": {
    "ExecuteTime": {
     "end_time": "2023-09-18T16:15:09.789387Z",
     "start_time": "2023-09-18T16:15:05.152635Z"
    }
   },
   "outputs": [],
   "source": [
    "import numpy as np\n",
    "import pandas as pd\n",
    "import matplotlib.pyplot as plt\n",
    "import seaborn as sns\n",
    "import missingno as msno\n",
    "import plotly.express as px\n",
    "import folium\n",
    "from folium import plugins\n",
    "# from matplotlib.widgets import Slider\n",
    "\n",
    "# %matplotlib inline\n",
    "# %matplotlib notebook\n",
    "plt.rcParams[\"figure.figsize\"] = (6,4)\n",
    "import warnings\n",
    "warnings.filterwarnings(\"ignore\")\n",
    "warnings.warn(\"this will not show\")"
   ]
  },
  {
   "cell_type": "code",
   "execution_count": null,
   "id": "b384e37a",
   "metadata": {
    "ExecuteTime": {
     "end_time": "2023-09-18T16:15:09.897633Z",
     "start_time": "2023-09-18T16:15:09.802963Z"
    },
    "execution": {
     "iopub.execute_input": "2023-05-18T07:56:19.113384Z",
     "iopub.status.busy": "2023-05-18T07:56:19.112303Z",
     "iopub.status.idle": "2023-05-18T07:56:19.238205Z",
     "shell.execute_reply": "2023-05-18T07:56:19.236935Z"
    },
    "papermill": {
     "duration": 0.156233,
     "end_time": "2023-05-18T07:56:19.241099",
     "exception": false,
     "start_time": "2023-05-18T07:56:19.084866",
     "status": "completed"
    },
    "scrolled": true,
    "tags": []
   },
   "outputs": [],
   "source": [
    "df = pd.read_csv('googleplaystore.csv')\n",
    "df.head()"
   ]
  },
  {
   "cell_type": "markdown",
   "id": "59488771",
   "metadata": {
    "papermill": {
     "duration": 0.025932,
     "end_time": "2023-05-18T07:56:19.293214",
     "exception": false,
     "start_time": "2023-05-18T07:56:19.267282",
     "status": "completed"
    },
    "tags": []
   },
   "source": [
    "<a id='understanding'></a>\n",
    "# <p style=\"background-color:green;font-family:newtimeroman;font-size:150%;color:white;text-align:center;border-radius:20px 20px;\"><b>Understanding the dataset(Veri setini anlama)</b></p>"
   ]
  },
  {
   "cell_type": "code",
   "execution_count": null,
   "id": "7ccd2433",
   "metadata": {},
   "outputs": [],
   "source": []
  },
  {
   "cell_type": "code",
   "execution_count": null,
   "id": "965132b7",
   "metadata": {},
   "outputs": [],
   "source": []
  },
  {
   "cell_type": "code",
   "execution_count": null,
   "id": "51ad9124",
   "metadata": {},
   "outputs": [],
   "source": []
  },
  {
   "cell_type": "code",
   "execution_count": null,
   "id": "b1f454fb",
   "metadata": {},
   "outputs": [],
   "source": []
  },
  {
   "cell_type": "code",
   "execution_count": null,
   "id": "c43207d7",
   "metadata": {},
   "outputs": [],
   "source": []
  },
  {
   "cell_type": "code",
   "execution_count": null,
   "id": "5c8e3b20",
   "metadata": {},
   "outputs": [],
   "source": []
  },
  {
   "cell_type": "code",
   "execution_count": null,
   "id": "98e2f67b",
   "metadata": {},
   "outputs": [],
   "source": []
  },
  {
   "cell_type": "markdown",
   "id": "b67169c1",
   "metadata": {
    "papermill": {
     "duration": 0.032852,
     "end_time": "2023-05-18T07:56:23.730155",
     "exception": false,
     "start_time": "2023-05-18T07:56:23.697303",
     "status": "completed"
    },
    "tags": []
   },
   "source": [
    "<a id='preprocessing'></a>\n",
    "# <p style=\"background-color:green;font-family:newtimeroman;font-size:150%;color:white;text-align:center;border-radius:20px 20px;\"><b>Data preprocessing (Veri ön işleme)</b></p>"
   ]
  },
  {
   "cell_type": "markdown",
   "id": "df0a0c8b",
   "metadata": {},
   "source": [
    "## <font color='green'> <b>Reviews column'unu ele alalım </b><font color='black'>"
   ]
  },
  {
   "cell_type": "code",
   "execution_count": null,
   "id": "e92c5eaa",
   "metadata": {},
   "outputs": [],
   "source": []
  },
  {
   "cell_type": "code",
   "execution_count": null,
   "id": "987d1545",
   "metadata": {},
   "outputs": [],
   "source": []
  },
  {
   "cell_type": "markdown",
   "id": "f2c237e8",
   "metadata": {
    "papermill": {
     "duration": 0.033186,
     "end_time": "2023-05-18T07:56:24.184009",
     "exception": false,
     "start_time": "2023-05-18T07:56:24.150823",
     "status": "completed"
    },
    "tags": []
   },
   "source": [
    "## <font color='green'> <b>Size column'unu ele alalım </b><font color='black'>   "
   ]
  },
  {
   "cell_type": "code",
   "execution_count": null,
   "id": "330a0a4b",
   "metadata": {},
   "outputs": [],
   "source": []
  },
  {
   "cell_type": "code",
   "execution_count": null,
   "id": "ed42c032",
   "metadata": {},
   "outputs": [],
   "source": []
  },
  {
   "cell_type": "markdown",
   "id": "d9fd4485",
   "metadata": {
    "papermill": {
     "duration": 0.035008,
     "end_time": "2023-05-18T07:56:25.180606",
     "exception": false,
     "start_time": "2023-05-18T07:56:25.145598",
     "status": "completed"
    },
    "tags": []
   },
   "source": [
    "## <font color='green'> <b>Installs column'unu ele alalım</b> <font color='black'>   "
   ]
  },
  {
   "cell_type": "code",
   "execution_count": null,
   "id": "d8a5a54b",
   "metadata": {},
   "outputs": [],
   "source": []
  },
  {
   "cell_type": "code",
   "execution_count": null,
   "id": "86898ccc",
   "metadata": {},
   "outputs": [],
   "source": []
  },
  {
   "cell_type": "markdown",
   "id": "b0af5abc",
   "metadata": {
    "papermill": {
     "duration": 0.035121,
     "end_time": "2023-05-18T07:56:25.592053",
     "exception": false,
     "start_time": "2023-05-18T07:56:25.556932",
     "status": "completed"
    },
    "tags": []
   },
   "source": [
    "## <font color='green'><b>Price column'unu ele alalım</b> <font color='black'>   "
   ]
  },
  {
   "cell_type": "code",
   "execution_count": null,
   "id": "75f2a3f7",
   "metadata": {},
   "outputs": [],
   "source": []
  },
  {
   "cell_type": "code",
   "execution_count": null,
   "id": "30d2d229",
   "metadata": {},
   "outputs": [],
   "source": []
  },
  {
   "cell_type": "markdown",
   "id": "a9e30e16",
   "metadata": {
    "papermill": {
     "duration": 0.034958,
     "end_time": "2023-05-18T07:56:25.994551",
     "exception": false,
     "start_time": "2023-05-18T07:56:25.959593",
     "status": "completed"
    },
    "tags": []
   },
   "source": [
    "## <font color='green'> <b>Genres column'unu ele alalım</b><font color='black'>  "
   ]
  },
  {
   "cell_type": "code",
   "execution_count": null,
   "id": "1d484955",
   "metadata": {},
   "outputs": [],
   "source": []
  },
  {
   "cell_type": "code",
   "execution_count": null,
   "id": "43f79654",
   "metadata": {},
   "outputs": [],
   "source": []
  },
  {
   "cell_type": "markdown",
   "id": "333296ea",
   "metadata": {
    "papermill": {
     "duration": 0.035712,
     "end_time": "2023-05-18T07:56:26.844580",
     "exception": false,
     "start_time": "2023-05-18T07:56:26.808868",
     "status": "completed"
    },
    "tags": []
   },
   "source": [
    "## <font color='Green'> <b>Last_Updated column'unu ele alalım</b><font color='black'> "
   ]
  },
  {
   "cell_type": "code",
   "execution_count": null,
   "id": "607f8e2e",
   "metadata": {},
   "outputs": [],
   "source": []
  },
  {
   "cell_type": "code",
   "execution_count": null,
   "id": "042ea07e",
   "metadata": {},
   "outputs": [],
   "source": []
  },
  {
   "cell_type": "markdown",
   "id": "585b23af",
   "metadata": {},
   "source": [
    "# <p style=\"background-color:green;font-family:newtimeroman;font-size:150%;color:white;text-align:center;border-radius:20px 20px;\"><b>Data Visualization</b></p>\n",
    "![](https://neilpatel.com/wp-content/uploads/2021/03/Data-Visualization_Featured-Image-1.png)"
   ]
  },
  {
   "cell_type": "markdown",
   "id": "c9b8c766",
   "metadata": {
    "papermill": {
     "duration": 0.037058,
     "end_time": "2023-05-18T07:56:27.614104",
     "exception": false,
     "start_time": "2023-05-18T07:56:27.577046",
     "status": "completed"
    },
    "tags": []
   },
   "source": [
    "## <font color='green'><b> Type göre bir bar grafik çizimi</b><font color='black'> "
   ]
  },
  {
   "cell_type": "code",
   "execution_count": null,
   "id": "fe8c8e77",
   "metadata": {},
   "outputs": [],
   "source": []
  },
  {
   "cell_type": "code",
   "execution_count": null,
   "id": "510a2314",
   "metadata": {},
   "outputs": [],
   "source": []
  },
  {
   "cell_type": "markdown",
   "id": "68d73dca",
   "metadata": {
    "papermill": {
     "duration": 0.042756,
     "end_time": "2023-05-18T07:56:29.656652",
     "exception": false,
     "start_time": "2023-05-18T07:56:29.613896",
     "status": "completed"
    },
    "tags": []
   },
   "source": [
    "## <font color='green'><b> Kategori sayısı ile Rating sütunu için Bar grafik çizimi</b><font color='black'> "
   ]
  },
  {
   "cell_type": "code",
   "execution_count": null,
   "id": "559638e4",
   "metadata": {},
   "outputs": [],
   "source": []
  },
  {
   "cell_type": "code",
   "execution_count": null,
   "id": "7f8d4f19",
   "metadata": {},
   "outputs": [],
   "source": []
  },
  {
   "cell_type": "markdown",
   "id": "4fcdf4bc",
   "metadata": {
    "papermill": {
     "duration": 0.045146,
     "end_time": "2023-05-18T07:56:30.776198",
     "exception": false,
     "start_time": "2023-05-18T07:56:30.731052",
     "status": "completed"
    },
    "tags": []
   },
   "source": [
    "## <font color='green'> <b>Content rating ve Rating için Box Plot grafiği</b><font color='black'>"
   ]
  },
  {
   "cell_type": "code",
   "execution_count": null,
   "id": "4c93fd46",
   "metadata": {},
   "outputs": [],
   "source": []
  },
  {
   "cell_type": "code",
   "execution_count": null,
   "id": "a4dfa5e0",
   "metadata": {},
   "outputs": [],
   "source": []
  },
  {
   "cell_type": "markdown",
   "id": "5a086e2d",
   "metadata": {
    "papermill": {
     "duration": 0.048656,
     "end_time": "2023-05-18T07:56:32.017376",
     "exception": false,
     "start_time": "2023-05-18T07:56:31.968720",
     "status": "completed"
    },
    "tags": []
   },
   "source": [
    "## <font color='green'> <b>Kategori sayısı ile kategori sütunu için countplot</b><font color='black'>"
   ]
  },
  {
   "cell_type": "code",
   "execution_count": null,
   "id": "f2442e46",
   "metadata": {},
   "outputs": [],
   "source": []
  },
  {
   "cell_type": "code",
   "execution_count": null,
   "id": "87d3c7e5",
   "metadata": {},
   "outputs": [],
   "source": []
  },
  {
   "cell_type": "markdown",
   "id": "9b079772",
   "metadata": {
    "papermill": {
     "duration": 0.056043,
     "end_time": "2023-05-18T07:56:33.614301",
     "exception": false,
     "start_time": "2023-05-18T07:56:33.558258",
     "status": "completed"
    },
    "tags": []
   },
   "source": [
    "## <font color='green'> <b>Scatter plot for the Reviews and Rating</b><font color='black'>"
   ]
  },
  {
   "cell_type": "code",
   "execution_count": null,
   "id": "c74fc463",
   "metadata": {},
   "outputs": [],
   "source": []
  },
  {
   "cell_type": "code",
   "execution_count": null,
   "id": "ada474cb",
   "metadata": {},
   "outputs": [],
   "source": []
  },
  {
   "cell_type": "markdown",
   "id": "1861556b",
   "metadata": {
    "papermill": {
     "duration": 0.064844,
     "end_time": "2023-05-18T07:56:35.304329",
     "exception": false,
     "start_time": "2023-05-18T07:56:35.239485",
     "status": "completed"
    },
    "tags": []
   },
   "source": [
    "## <font color='green'> <b>Numerik Columnlar için Heatmap Çizelim</b><font color='black'>"
   ]
  },
  {
   "cell_type": "code",
   "execution_count": null,
   "id": "946fc42b",
   "metadata": {},
   "outputs": [],
   "source": []
  },
  {
   "cell_type": "code",
   "execution_count": null,
   "id": "7cb30175",
   "metadata": {},
   "outputs": [],
   "source": []
  },
  {
   "cell_type": "markdown",
   "id": "777d3eee",
   "metadata": {
    "papermill": {
     "duration": 0.070461,
     "end_time": "2023-05-18T07:56:36.615901",
     "exception": false,
     "start_time": "2023-05-18T07:56:36.545440",
     "status": "completed"
    },
    "tags": []
   },
   "source": [
    "## <font color='green'> <b>Rating Column una göre KDE içeren bir Histogram grafiği çizelim </b><font color='black'>"
   ]
  },
  {
   "cell_type": "code",
   "execution_count": null,
   "id": "6bd4f880",
   "metadata": {},
   "outputs": [],
   "source": []
  },
  {
   "cell_type": "code",
   "execution_count": null,
   "id": "a9add245",
   "metadata": {},
   "outputs": [],
   "source": []
  },
  {
   "cell_type": "markdown",
   "id": "bc7a445c",
   "metadata": {},
   "source": [
    "## <font color='green'> <b>App Sütunu ile WordCloud Örneği </b><font color='black'>"
   ]
  },
  {
   "cell_type": "code",
   "execution_count": null,
   "id": "2957c931",
   "metadata": {},
   "outputs": [],
   "source": []
  },
  {
   "cell_type": "code",
   "execution_count": null,
   "id": "e8371b64",
   "metadata": {},
   "outputs": [],
   "source": []
  },
  {
   "cell_type": "markdown",
   "id": "e642f9be",
   "metadata": {},
   "source": [
    "# <p style=\"background-color:green;font-family:newtimeroman;font-size:150%;color:white;text-align:center;border-radius:20px 20px;\"><b>BONUS</b></p>"
   ]
  },
  {
   "cell_type": "markdown",
   "id": "c7caff88",
   "metadata": {},
   "source": [
    "[Bokeh ile İnteraktif Veri Görselleştirme](https://medium.com/academy-team/pythonda-i%CC%87nteraktif-veri-g%C3%B6rselle%C5%9Ftirme-bokeh-36775af00bd1)\n",
    "\n",
    "[Folium ile Harita Görselleştirme](https://medium.com/academy-team/folium-ile-harita-g%C3%B6rselle%C5%9Ftirme-a4a07a55eb81)"
   ]
  },
  {
   "cell_type": "code",
   "execution_count": null,
   "id": "c5957c73",
   "metadata": {},
   "outputs": [],
   "source": []
  },
  {
   "cell_type": "code",
   "execution_count": null,
   "id": "6c39c4fa",
   "metadata": {},
   "outputs": [],
   "source": []
  },
  {
   "cell_type": "markdown",
   "id": "89a6a63b",
   "metadata": {},
   "source": [
    "# <p style=\"background-color:green;font-family:newtimeroman;font-size:100%;color:white;text-align:center;border-radius:20px 20px;\"><b>Faydalı Olması Temennisiyle Teşekkürler</b></p>\n",
    "![](https://www.techproeducation.com/logo/headerlogo.svg)\n",
    "\n",
    "<b>Yeniliklerden ilk siz haberdar olmak istiyorsanız lütfen bizi takip etmeyi unutmayın </b>[YouTube](https://www.youtube.com/c/techproeducation) | [Instagram](https://www.instagram.com/techproeducation) | [Facebook](https://www.facebook.com/techproeducation) | [Telegram](https://t.me/joinchat/HH2qRvA-ulh4OWbb) | [Watsapp](https://api.whatsapp.com/send/?phone=%2B15853042959&text&type=phone_number&app_absent=0) | [Linkedin](https://www.linkedin.com/company/techproeducation/mycompany/) |"
   ]
  }
 ],
 "metadata": {
  "kernelspec": {
   "display_name": "Python 3 (ipykernel)",
   "language": "python",
   "name": "python3"
  },
  "language_info": {
   "codemirror_mode": {
    "name": "ipython",
    "version": 3
   },
   "file_extension": ".py",
   "mimetype": "text/x-python",
   "name": "python",
   "nbconvert_exporter": "python",
   "pygments_lexer": "ipython3",
   "version": "3.9.12"
  },
  "papermill": {
   "default_parameters": {},
   "duration": 32.750858,
   "end_time": "2023-05-18T07:56:39.336727",
   "environment_variables": {},
   "exception": null,
   "input_path": "__notebook__.ipynb",
   "output_path": "__notebook__.ipynb",
   "parameters": {},
   "start_time": "2023-05-18T07:56:06.585869",
   "version": "2.3.4"
  },
  "toc": {
   "base_numbering": 1,
   "nav_menu": {},
   "number_sections": true,
   "sideBar": true,
   "skip_h1_title": false,
   "title_cell": "Table of Contents",
   "title_sidebar": "Contents",
   "toc_cell": false,
   "toc_position": {
    "height": "calc(100% - 180px)",
    "left": "10px",
    "top": "150px",
    "width": "384px"
   },
   "toc_section_display": true,
   "toc_window_display": false
  }
 },
 "nbformat": 4,
 "nbformat_minor": 5
}
