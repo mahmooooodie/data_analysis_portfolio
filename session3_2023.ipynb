{
 "cells": [
  {
   "attachments": {},
   "cell_type": "markdown",
   "metadata": {},
   "source": [
    "## Arithmetic Operators"
   ]
  },
  {
   "cell_type": "code",
   "execution_count": 2,
   "metadata": {},
   "outputs": [
    {
     "data": {
      "text/plain": [
       "8"
      ]
     },
     "execution_count": 2,
     "metadata": {},
     "output_type": "execute_result"
    }
   ],
   "source": [
    "3 + 5"
   ]
  },
  {
   "cell_type": "code",
   "execution_count": 3,
   "metadata": {},
   "outputs": [
    {
     "data": {
      "text/plain": [
       "8.0"
      ]
     },
     "execution_count": 3,
     "metadata": {},
     "output_type": "execute_result"
    }
   ],
   "source": [
    "3 + 5.0"
   ]
  },
  {
   "cell_type": "code",
   "execution_count": 4,
   "metadata": {},
   "outputs": [
    {
     "data": {
      "text/plain": [
       "5.4"
      ]
     },
     "execution_count": 4,
     "metadata": {},
     "output_type": "execute_result"
    }
   ],
   "source": [
    "9 - 3.6"
   ]
  },
  {
   "cell_type": "code",
   "execution_count": 5,
   "metadata": {},
   "outputs": [
    {
     "data": {
      "text/plain": [
       "24"
      ]
     },
     "execution_count": 5,
     "metadata": {},
     "output_type": "execute_result"
    }
   ],
   "source": [
    "8 * 3"
   ]
  },
  {
   "cell_type": "code",
   "execution_count": 9,
   "metadata": {},
   "outputs": [
    {
     "data": {
      "text/plain": [
       "10.0"
      ]
     },
     "execution_count": 9,
     "metadata": {},
     "output_type": "execute_result"
    }
   ],
   "source": [
    "# whenever there is a division operator, the result will come out as float\n",
    "\n",
    "50 / 5  "
   ]
  },
  {
   "cell_type": "code",
   "execution_count": 10,
   "metadata": {},
   "outputs": [
    {
     "data": {
      "text/plain": [
       "12.0"
      ]
     },
     "execution_count": 10,
     "metadata": {},
     "output_type": "execute_result"
    }
   ],
   "source": [
    "2.4 * 5"
   ]
  },
  {
   "attachments": {},
   "cell_type": "markdown",
   "metadata": {},
   "source": [
    "#### Floor Division"
   ]
  },
  {
   "attachments": {},
   "cell_type": "markdown",
   "metadata": {},
   "source": [
    "the operator to write this is // it will give the whole number of the division"
   ]
  },
  {
   "cell_type": "code",
   "execution_count": 11,
   "metadata": {},
   "outputs": [
    {
     "data": {
      "text/plain": [
       "6.666666666666667"
      ]
     },
     "execution_count": 11,
     "metadata": {},
     "output_type": "execute_result"
    }
   ],
   "source": [
    "# for example regular division would give us\n",
    "\n",
    "20 / 3"
   ]
  },
  {
   "cell_type": "code",
   "execution_count": 12,
   "metadata": {},
   "outputs": [
    {
     "data": {
      "text/plain": [
       "6"
      ]
     },
     "execution_count": 12,
     "metadata": {},
     "output_type": "execute_result"
    }
   ],
   "source": [
    "# while a floor division would only give us\n",
    "\n",
    "20 // 3"
   ]
  },
  {
   "attachments": {},
   "cell_type": "markdown",
   "metadata": {},
   "source": [
    "### Modulus "
   ]
  },
  {
   "cell_type": "code",
   "execution_count": 14,
   "metadata": {},
   "outputs": [
    {
     "data": {
      "text/plain": [
       "0"
      ]
     },
     "execution_count": 14,
     "metadata": {},
     "output_type": "execute_result"
    }
   ],
   "source": [
    "# when trying to only get the remainder of a result use modulus which is %\n",
    "\n",
    "10 % 2\n",
    "\n",
    "# this will give 0 because there is no remainder of 10/2"
   ]
  },
  {
   "cell_type": "code",
   "execution_count": 16,
   "metadata": {},
   "outputs": [
    {
     "data": {
      "text/plain": [
       "1"
      ]
     },
     "execution_count": 16,
     "metadata": {},
     "output_type": "execute_result"
    }
   ],
   "source": [
    "100 % 3\n",
    "\n",
    "# this gives one because there is 1 remainder of dividing 100 by 3"
   ]
  },
  {
   "cell_type": "code",
   "execution_count": 17,
   "metadata": {},
   "outputs": [
    {
     "data": {
      "text/plain": [
       "float"
      ]
     },
     "execution_count": 17,
     "metadata": {},
     "output_type": "execute_result"
    }
   ],
   "source": [
    "type(24.5 % 3)"
   ]
  },
  {
   "attachments": {},
   "cell_type": "markdown",
   "metadata": {},
   "source": [
    "## Power Operators\n",
    "use x ** y\n"
   ]
  },
  {
   "cell_type": "code",
   "execution_count": 20,
   "metadata": {},
   "outputs": [
    {
     "name": "stdout",
     "output_type": "stream",
     "text": [
      "25\n",
      "216\n"
     ]
    }
   ],
   "source": [
    "# for example for 5 to the power of 2\n",
    "\n",
    "print(5**2)\n",
    "\n",
    "print(6**3)"
   ]
  },
  {
   "attachments": {},
   "cell_type": "markdown",
   "metadata": {},
   "source": [
    "##  Roots"
   ]
  },
  {
   "cell_type": "code",
   "execution_count": 24,
   "metadata": {},
   "outputs": [
    {
     "name": "stdout",
     "output_type": "stream",
     "text": [
      "8.0\n",
      "2.0\n"
     ]
    }
   ],
   "source": [
    "# for square roots you can use math\n",
    "\n",
    "print(64 ** (0.5))\n",
    "print(8 ** (1/3))"
   ]
  },
  {
   "cell_type": "code",
   "execution_count": 26,
   "metadata": {},
   "outputs": [
    {
     "name": "stdout",
     "output_type": "stream",
     "text": [
      "153.86\n"
     ]
    }
   ],
   "source": [
    "pi = 3.14\n",
    "x = 7\n",
    "a = pi * (x ** 2)\n",
    "print(a)"
   ]
  },
  {
   "attachments": {},
   "cell_type": "markdown",
   "metadata": {},
   "source": [
    "## same variable loop operators"
   ]
  },
  {
   "cell_type": "code",
   "execution_count": 30,
   "metadata": {},
   "outputs": [
    {
     "name": "stdout",
     "output_type": "stream",
     "text": [
      "27\n"
     ]
    }
   ],
   "source": [
    "# everytime you run it, the number will grow by 5\n",
    "\n",
    "x = x + 5   \n",
    "print(x)"
   ]
  },
  {
   "cell_type": "code",
   "execution_count": 58,
   "metadata": {},
   "outputs": [
    {
     "name": "stdout",
     "output_type": "stream",
     "text": [
      "57\n"
     ]
    }
   ],
   "source": [
    "# the same formula can be written as\n",
    "\n",
    "x += 5\n",
    "\n",
    "print(x)"
   ]
  },
  {
   "cell_type": "code",
   "execution_count": 60,
   "metadata": {},
   "outputs": [
    {
     "name": "stdout",
     "output_type": "stream",
     "text": [
      "47\n"
     ]
    }
   ],
   "source": [
    "# or we can write it in a subtracting form\n",
    "\n",
    "x -= 5\n",
    "\n",
    "print(x)"
   ]
  },
  {
   "cell_type": "code",
   "execution_count": 88,
   "metadata": {},
   "outputs": [],
   "source": [
    "# the same way goes for multiplication and division\n",
    "\n",
    "y = 15\n"
   ]
  },
  {
   "cell_type": "code",
   "execution_count": 90,
   "metadata": {},
   "outputs": [
    {
     "name": "stdout",
     "output_type": "stream",
     "text": [
      "1.6666666666666667\n"
     ]
    }
   ],
   "source": [
    "# we have to write this on different line than the definition of y because if we run it all in one block,\n",
    "# it will keep redefining y as 15\n",
    "\n",
    "y /= 3\n",
    "\n",
    "print(y)"
   ]
  },
  {
   "cell_type": "code",
   "execution_count": 94,
   "metadata": {},
   "outputs": [],
   "source": [
    "z = 400"
   ]
  },
  {
   "cell_type": "code",
   "execution_count": 95,
   "metadata": {},
   "outputs": [
    {
     "name": "stdout",
     "output_type": "stream",
     "text": [
      "16\n"
     ]
    }
   ],
   "source": [
    "# this will equal 0 after the second run\n",
    "\n",
    "\n",
    "z //= 25\n",
    "\n",
    "print(z)"
   ]
  },
  {
   "cell_type": "code",
   "execution_count": 111,
   "metadata": {},
   "outputs": [],
   "source": [
    "w = 2"
   ]
  },
  {
   "cell_type": "code",
   "execution_count": 112,
   "metadata": {},
   "outputs": [
    {
     "name": "stdout",
     "output_type": "stream",
     "text": [
      "4\n"
     ]
    }
   ],
   "source": [
    "# this will keep powering to the 2\n",
    "\n",
    "w **= 2\n",
    "print(w)"
   ]
  },
  {
   "attachments": {},
   "cell_type": "markdown",
   "metadata": {},
   "source": [
    "#### Example using Inputs to make it user-friendly"
   ]
  },
  {
   "cell_type": "code",
   "execution_count": 121,
   "metadata": {},
   "outputs": [
    {
     "name": "stdout",
     "output_type": "stream",
     "text": [
      "13.0\n"
     ]
    }
   ],
   "source": [
    "# we will be finding the hypotenuse of a right triangle that we define the sides of\n",
    "\n",
    "# we will define the sides as inputs so a user can enter the number they wish\n",
    "\n",
    "# side_a = 5\n",
    "# side_b = 12\n",
    "\n",
    "side_a = input(\"Please enter the first side of the triangle\")\n",
    "side_b = input(\"please enter the second side of the traingle\")\n",
    "\n",
    "side_a = int(side_a)\n",
    "side_b = int(side_b)\n",
    "\n",
    "hypotenuse = ((side_a ** 2) + (side_b ** 2)) ** 0.5\n",
    "\n",
    "print(hypotenuse)"
   ]
  },
  {
   "cell_type": "code",
   "execution_count": 119,
   "metadata": {},
   "outputs": [],
   "source": [
    "# when adding an input, all inputs will default be a string class\n",
    "\n",
    "\n",
    "side_a = input(\"Please enter the first side of the triangle\")\n",
    "side_b = input(\"please enter the second side of the traingle\")"
   ]
  },
  {
   "cell_type": "code",
   "execution_count": 123,
   "metadata": {},
   "outputs": [
    {
     "name": "stdout",
     "output_type": "stream",
     "text": [
      "5\n",
      "12\n"
     ]
    }
   ],
   "source": [
    "print(side_a)\n",
    "print(side_b)"
   ]
  },
  {
   "cell_type": "code",
   "execution_count": 126,
   "metadata": {},
   "outputs": [
    {
     "name": "stdout",
     "output_type": "stream",
     "text": [
      "12.206555615733702\n"
     ]
    }
   ],
   "source": [
    "# we will be finding the hypotenuse of a right triangle that we define the sides of\n",
    "\n",
    "# we will define the sides as inputs so a user can enter the number they wish\n",
    "\n",
    "# you have to make sure to define side_a and side_b as an integer in another line\n",
    "# or else it will be counted as a string\n",
    "\n",
    "# side_a = 5\n",
    "# side_b = 12\n",
    "\n",
    "side_a = input(\"Please enter the first side of the triangle\")\n",
    "side_b = input(\"please enter the second side of the traingle\")\n",
    "\n",
    "side_a = int(side_a)\n",
    "side_b = int(side_b)\n",
    "\n",
    "hypotenuse = ((side_a ** 2) + (side_b ** 2)) ** 0.5\n",
    "\n",
    "print(hypotenuse)"
   ]
  },
  {
   "attachments": {},
   "cell_type": "markdown",
   "metadata": {},
   "source": [
    "We could do the same thing but clean the code\n",
    "by making it an integer on the input line\n"
   ]
  },
  {
   "cell_type": "code",
   "execution_count": 128,
   "metadata": {},
   "outputs": [
    {
     "name": "stdout",
     "output_type": "stream",
     "text": [
      "13.0\n"
     ]
    }
   ],
   "source": [
    "# now we can collect the input, convert it to an integer, and define it as a side in one line\n",
    "\n",
    "\n",
    "side_a = int(input(\"Please enter the first side of the triangle\"))\n",
    "side_b = int(input(\"please enter the second side of the traingle\"))\n",
    "\n",
    "side_a = int(side_a)\n",
    "side_b = int(side_b)\n",
    "\n",
    "hypotenuse = ((side_a ** 2) + (side_b ** 2)) ** 0.5\n",
    "\n",
    "print(hypotenuse)"
   ]
  },
  {
   "attachments": {},
   "cell_type": "markdown",
   "metadata": {},
   "source": [
    "## print() Function"
   ]
  },
  {
   "cell_type": "code",
   "execution_count": 129,
   "metadata": {},
   "outputs": [
    {
     "name": "stdout",
     "output_type": "stream",
     "text": [
      "hi it looks chill 35 23\n"
     ]
    }
   ],
   "source": [
    "print(\"hi\", \"it looks chill\", 35, 20+3)"
   ]
  },
  {
   "cell_type": "code",
   "execution_count": 131,
   "metadata": {},
   "outputs": [
    {
     "name": "stdout",
     "output_type": "stream",
     "text": [
      "hi$$it looks chill$$35$$23\n"
     ]
    }
   ],
   "source": [
    "# it looks like the print function places a space at every comma we placed\n",
    "# that is the default\n",
    "# we can change it by adding a sep= at the end to replace the spaces with whatever we wish\n",
    "\n",
    "# example\n",
    "\n",
    "print(\"hi\", \"it looks chill\", 35, 20+3, sep=\"$$\")"
   ]
  },
  {
   "cell_type": "code",
   "execution_count": 132,
   "metadata": {},
   "outputs": [
    {
     "name": "stdout",
     "output_type": "stream",
     "text": [
      "hi\n",
      "it looks chill\n",
      "35\n",
      "23\n"
     ]
    }
   ],
   "source": [
    "# we can also use the separator at the end and write sep=\"\\n\" to print a new line at each comma\n",
    "# example\n",
    "\n",
    "print(\"hi\", \"it looks chill\", 35, 20+3, sep=\"\\n\")"
   ]
  },
  {
   "cell_type": "code",
   "execution_count": 133,
   "metadata": {},
   "outputs": [
    {
     "name": "stdout",
     "output_type": "stream",
     "text": [
      "hiit looks chill3523\n"
     ]
    }
   ],
   "source": [
    "# if a add no character in the separator, there will be no spaces\n",
    "\n",
    "print(\"hi\", \"it looks chill\", 35, 20+3, sep=\"\")"
   ]
  },
  {
   "cell_type": "code",
   "execution_count": 135,
   "metadata": {},
   "outputs": [
    {
     "name": "stdout",
     "output_type": "stream",
     "text": [
      "hello\n",
      "bye\n"
     ]
    }
   ],
   "source": [
    "# we could also use the end parameter to change the end of a print with multiple print functions\n",
    "# default end starts at a new line\n",
    "\n",
    "# example\n",
    "\n",
    "print(\"hello\")\n",
    "print(\"bye\")\n"
   ]
  },
  {
   "cell_type": "code",
   "execution_count": 136,
   "metadata": {},
   "outputs": [
    {
     "name": "stdout",
     "output_type": "stream",
     "text": [
      "hello--bye\n"
     ]
    }
   ],
   "source": [
    "print(\"hello\", end=\"--\")\n",
    "print(\"bye\")"
   ]
  },
  {
   "cell_type": "code",
   "execution_count": null,
   "metadata": {},
   "outputs": [],
   "source": []
  }
 ],
 "metadata": {
  "kernelspec": {
   "display_name": "Python 3",
   "language": "python",
   "name": "python3"
  },
  "language_info": {
   "codemirror_mode": {
    "name": "ipython",
    "version": 3
   },
   "file_extension": ".py",
   "mimetype": "text/x-python",
   "name": "python",
   "nbconvert_exporter": "python",
   "pygments_lexer": "ipython3",
   "version": "3.11.4"
  },
  "orig_nbformat": 4
 },
 "nbformat": 4,
 "nbformat_minor": 2
}
