{
 "cells": [
  {
   "cell_type": "markdown",
   "id": "d9846005",
   "metadata": {},
   "source": [
    "Multiple Linear Regression and Regression Error Metrics"
   ]
  },
  {
   "cell_type": "markdown",
   "id": "35f443ca",
   "metadata": {
    "heading_collapsed": true
   },
   "source": [
    "##### import libraries"
   ]
  },
  {
   "cell_type": "code",
   "execution_count": 1,
   "id": "e5ae18e8",
   "metadata": {
    "ExecuteTime": {
     "end_time": "2023-11-01T14:52:45.203077Z",
     "start_time": "2023-11-01T14:52:43.730168Z"
    },
    "hidden": true
   },
   "outputs": [],
   "source": [
    "import pandas as pd\n",
    "import numpy as np\n",
    "import seaborn as sns\n",
    "import matplotlib.pyplot as plt\n",
    "import scipy.stats as stats\n",
    "plt.rcParams[\"figure.figsize\"] = (10,6)\n",
    "import warnings\n",
    "warnings.filterwarnings('ignore')"
   ]
  },
  {
   "cell_type": "code",
   "execution_count": 16,
   "id": "346f3e31",
   "metadata": {
    "ExecuteTime": {
     "end_time": "2023-11-01T15:01:47.972271Z",
     "start_time": "2023-11-01T15:01:47.961003Z"
    },
    "hidden": true
   },
   "outputs": [],
   "source": [
    "import missingno as msno"
   ]
  },
  {
   "cell_type": "code",
   "execution_count": 20,
   "id": "b45938f7",
   "metadata": {
    "ExecuteTime": {
     "end_time": "2023-11-01T15:05:50.615755Z",
     "start_time": "2023-11-01T15:05:42.636806Z"
    },
    "hidden": true
   },
   "outputs": [
    {
     "name": "stdout",
     "output_type": "stream",
     "text": [
      "Collecting summarytools\n",
      "  Downloading summarytools-0.2.3.tar.gz (11 kB)\n",
      "  Installing build dependencies ... \u001b[?25ldone\n",
      "\u001b[?25h  Getting requirements to build wheel ... \u001b[?25ldone\n",
      "\u001b[?25h    Preparing wheel metadata ... \u001b[?25ldone\n",
      "\u001b[?25hRequirement already satisfied: pandas>=1.4.0 in /Users/mahmooooodie/opt/anaconda3/lib/python3.9/site-packages (from summarytools) (1.4.3)\n",
      "Requirement already satisfied: numpy>=1.18.5 in /Users/mahmooooodie/opt/anaconda3/lib/python3.9/site-packages (from summarytools) (1.23.1)\n",
      "Requirement already satisfied: ipython>=7.20.0 in /Users/mahmooooodie/opt/anaconda3/lib/python3.9/site-packages (from summarytools) (8.2.0)\n",
      "Requirement already satisfied: matplotlib>=3.3.0 in /Users/mahmooooodie/opt/anaconda3/lib/python3.9/site-packages (from summarytools) (3.5.2)\n",
      "Requirement already satisfied: prompt-toolkit!=3.0.0,!=3.0.1,<3.1.0,>=2.0.0 in /Users/mahmooooodie/opt/anaconda3/lib/python3.9/site-packages (from ipython>=7.20.0->summarytools) (3.0.20)\n",
      "Requirement already satisfied: setuptools>=18.5 in /Users/mahmooooodie/opt/anaconda3/lib/python3.9/site-packages (from ipython>=7.20.0->summarytools) (61.2.0)\n",
      "Requirement already satisfied: traitlets>=5 in /Users/mahmooooodie/opt/anaconda3/lib/python3.9/site-packages (from ipython>=7.20.0->summarytools) (5.1.1)\n",
      "Requirement already satisfied: pickleshare in /Users/mahmooooodie/opt/anaconda3/lib/python3.9/site-packages (from ipython>=7.20.0->summarytools) (0.7.5)\n",
      "Requirement already satisfied: stack-data in /Users/mahmooooodie/opt/anaconda3/lib/python3.9/site-packages (from ipython>=7.20.0->summarytools) (0.2.0)\n",
      "Requirement already satisfied: backcall in /Users/mahmooooodie/opt/anaconda3/lib/python3.9/site-packages (from ipython>=7.20.0->summarytools) (0.2.0)\n",
      "Requirement already satisfied: matplotlib-inline in /Users/mahmooooodie/opt/anaconda3/lib/python3.9/site-packages (from ipython>=7.20.0->summarytools) (0.1.2)\n",
      "Requirement already satisfied: appnope in /Users/mahmooooodie/opt/anaconda3/lib/python3.9/site-packages (from ipython>=7.20.0->summarytools) (0.1.2)\n",
      "Requirement already satisfied: pexpect>4.3 in /Users/mahmooooodie/opt/anaconda3/lib/python3.9/site-packages (from ipython>=7.20.0->summarytools) (4.8.0)\n",
      "Requirement already satisfied: pygments>=2.4.0 in /Users/mahmooooodie/opt/anaconda3/lib/python3.9/site-packages (from ipython>=7.20.0->summarytools) (2.11.2)\n",
      "Requirement already satisfied: jedi>=0.16 in /Users/mahmooooodie/opt/anaconda3/lib/python3.9/site-packages (from ipython>=7.20.0->summarytools) (0.18.1)\n",
      "Requirement already satisfied: decorator in /Users/mahmooooodie/opt/anaconda3/lib/python3.9/site-packages (from ipython>=7.20.0->summarytools) (5.1.1)\n",
      "Requirement already satisfied: parso<0.9.0,>=0.8.0 in /Users/mahmooooodie/opt/anaconda3/lib/python3.9/site-packages (from jedi>=0.16->ipython>=7.20.0->summarytools) (0.8.3)\n",
      "Requirement already satisfied: fonttools>=4.22.0 in /Users/mahmooooodie/opt/anaconda3/lib/python3.9/site-packages (from matplotlib>=3.3.0->summarytools) (4.25.0)\n",
      "Requirement already satisfied: pillow>=6.2.0 in /Users/mahmooooodie/opt/anaconda3/lib/python3.9/site-packages (from matplotlib>=3.3.0->summarytools) (9.0.1)\n",
      "Requirement already satisfied: kiwisolver>=1.0.1 in /Users/mahmooooodie/opt/anaconda3/lib/python3.9/site-packages (from matplotlib>=3.3.0->summarytools) (1.3.2)\n",
      "Requirement already satisfied: cycler>=0.10 in /Users/mahmooooodie/opt/anaconda3/lib/python3.9/site-packages (from matplotlib>=3.3.0->summarytools) (0.11.0)\n",
      "Requirement already satisfied: packaging>=20.0 in /Users/mahmooooodie/opt/anaconda3/lib/python3.9/site-packages (from matplotlib>=3.3.0->summarytools) (21.3)\n",
      "Requirement already satisfied: pyparsing>=2.2.1 in /Users/mahmooooodie/opt/anaconda3/lib/python3.9/site-packages (from matplotlib>=3.3.0->summarytools) (3.0.4)\n",
      "Requirement already satisfied: python-dateutil>=2.7 in /Users/mahmooooodie/opt/anaconda3/lib/python3.9/site-packages (from matplotlib>=3.3.0->summarytools) (2.8.2)\n",
      "Requirement already satisfied: pytz>=2020.1 in /Users/mahmooooodie/opt/anaconda3/lib/python3.9/site-packages (from pandas>=1.4.0->summarytools) (2021.3)\n",
      "Requirement already satisfied: ptyprocess>=0.5 in /Users/mahmooooodie/opt/anaconda3/lib/python3.9/site-packages (from pexpect>4.3->ipython>=7.20.0->summarytools) (0.7.0)\n",
      "Requirement already satisfied: wcwidth in /Users/mahmooooodie/opt/anaconda3/lib/python3.9/site-packages (from prompt-toolkit!=3.0.0,!=3.0.1,<3.1.0,>=2.0.0->ipython>=7.20.0->summarytools) (0.2.5)\n",
      "Requirement already satisfied: six>=1.5 in /Users/mahmooooodie/opt/anaconda3/lib/python3.9/site-packages (from python-dateutil>=2.7->matplotlib>=3.3.0->summarytools) (1.16.0)\n",
      "Requirement already satisfied: executing in /Users/mahmooooodie/opt/anaconda3/lib/python3.9/site-packages (from stack-data->ipython>=7.20.0->summarytools) (0.8.3)\n",
      "Requirement already satisfied: asttokens in /Users/mahmooooodie/opt/anaconda3/lib/python3.9/site-packages (from stack-data->ipython>=7.20.0->summarytools) (2.0.5)\n",
      "Requirement already satisfied: pure-eval in /Users/mahmooooodie/opt/anaconda3/lib/python3.9/site-packages (from stack-data->ipython>=7.20.0->summarytools) (0.2.2)\n",
      "Building wheels for collected packages: summarytools\n",
      "  Building wheel for summarytools (PEP 517) ... \u001b[?25ldone\n",
      "\u001b[?25h  Created wheel for summarytools: filename=summarytools-0.2.3-py3-none-any.whl size=8573 sha256=c817dc70436fd228c16bf7b5c26f15ad6efaa13e97566a0e67a67eb239d472cc\n",
      "  Stored in directory: /Users/mahmooooodie/Library/Caches/pip/wheels/ba/b9/0e/dca846354555f16ac3dd84d4b305072a30f33d6d4243c38bfa\n",
      "Successfully built summarytools\n",
      "Installing collected packages: summarytools\n",
      "Successfully installed summarytools-0.2.3\n"
     ]
    }
   ],
   "source": [
    "!pip install summarytools"
   ]
  },
  {
   "cell_type": "code",
   "execution_count": 22,
   "id": "6662e1e9",
   "metadata": {
    "ExecuteTime": {
     "end_time": "2023-11-01T15:13:38.349604Z",
     "start_time": "2023-11-01T15:13:38.346125Z"
    },
    "hidden": true
   },
   "outputs": [],
   "source": [
    "from summarytools import dfSummary"
   ]
  },
  {
   "cell_type": "markdown",
   "id": "e223d501",
   "metadata": {},
   "source": [
    "## Start"
   ]
  },
  {
   "cell_type": "code",
   "execution_count": 2,
   "id": "401eadd3",
   "metadata": {
    "ExecuteTime": {
     "end_time": "2023-11-01T14:57:21.713799Z",
     "start_time": "2023-11-01T14:57:21.704905Z"
    }
   },
   "outputs": [],
   "source": [
    "# y = b0 +b1X1 +b2X2 +b3X3"
   ]
  },
  {
   "cell_type": "markdown",
   "id": "996939bf",
   "metadata": {},
   "source": [
    "### Read Dataset"
   ]
  },
  {
   "cell_type": "code",
   "execution_count": 3,
   "id": "b0ee27d2",
   "metadata": {
    "ExecuteTime": {
     "end_time": "2023-11-01T14:57:52.073575Z",
     "start_time": "2023-11-01T14:57:52.007959Z"
    }
   },
   "outputs": [
    {
     "data": {
      "text/html": [
       "<div>\n",
       "<style scoped>\n",
       "    .dataframe tbody tr th:only-of-type {\n",
       "        vertical-align: middle;\n",
       "    }\n",
       "\n",
       "    .dataframe tbody tr th {\n",
       "        vertical-align: top;\n",
       "    }\n",
       "\n",
       "    .dataframe thead th {\n",
       "        text-align: right;\n",
       "    }\n",
       "</style>\n",
       "<table border=\"1\" class=\"dataframe\">\n",
       "  <thead>\n",
       "    <tr style=\"text-align: right;\">\n",
       "      <th></th>\n",
       "      <th>TV</th>\n",
       "      <th>radio</th>\n",
       "      <th>newspaper</th>\n",
       "      <th>sales</th>\n",
       "    </tr>\n",
       "  </thead>\n",
       "  <tbody>\n",
       "    <tr>\n",
       "      <th>0</th>\n",
       "      <td>230.1</td>\n",
       "      <td>37.8</td>\n",
       "      <td>69.2</td>\n",
       "      <td>22.1</td>\n",
       "    </tr>\n",
       "    <tr>\n",
       "      <th>1</th>\n",
       "      <td>44.5</td>\n",
       "      <td>39.3</td>\n",
       "      <td>45.1</td>\n",
       "      <td>10.4</td>\n",
       "    </tr>\n",
       "    <tr>\n",
       "      <th>2</th>\n",
       "      <td>17.2</td>\n",
       "      <td>45.9</td>\n",
       "      <td>69.3</td>\n",
       "      <td>9.3</td>\n",
       "    </tr>\n",
       "    <tr>\n",
       "      <th>3</th>\n",
       "      <td>151.5</td>\n",
       "      <td>41.3</td>\n",
       "      <td>58.5</td>\n",
       "      <td>18.5</td>\n",
       "    </tr>\n",
       "    <tr>\n",
       "      <th>4</th>\n",
       "      <td>180.8</td>\n",
       "      <td>10.8</td>\n",
       "      <td>58.4</td>\n",
       "      <td>12.9</td>\n",
       "    </tr>\n",
       "  </tbody>\n",
       "</table>\n",
       "</div>"
      ],
      "text/plain": [
       "      TV  radio  newspaper  sales\n",
       "0  230.1   37.8       69.2   22.1\n",
       "1   44.5   39.3       45.1   10.4\n",
       "2   17.2   45.9       69.3    9.3\n",
       "3  151.5   41.3       58.5   18.5\n",
       "4  180.8   10.8       58.4   12.9"
      ]
     },
     "execution_count": 3,
     "metadata": {},
     "output_type": "execute_result"
    }
   ],
   "source": [
    "df = pd.read_csv('/Users/mahmooooodie/Desktop/Machine Learning/Advertising.csv')\n",
    "df.head()"
   ]
  },
  {
   "cell_type": "markdown",
   "id": "b8aca94a",
   "metadata": {},
   "source": [
    "## Data Preparation and EDA"
   ]
  },
  {
   "cell_type": "code",
   "execution_count": 9,
   "id": "950c4cfe",
   "metadata": {
    "ExecuteTime": {
     "end_time": "2023-11-01T14:59:29.067459Z",
     "start_time": "2023-11-01T14:59:29.062448Z"
    }
   },
   "outputs": [
    {
     "data": {
      "text/plain": [
       "(200, 4)"
      ]
     },
     "execution_count": 9,
     "metadata": {},
     "output_type": "execute_result"
    }
   ],
   "source": [
    "df.shape"
   ]
  },
  {
   "cell_type": "code",
   "execution_count": 7,
   "id": "eeb1f142",
   "metadata": {
    "ExecuteTime": {
     "end_time": "2023-11-01T14:59:20.784394Z",
     "start_time": "2023-11-01T14:59:20.772765Z"
    }
   },
   "outputs": [
    {
     "name": "stdout",
     "output_type": "stream",
     "text": [
      "<class 'pandas.core.frame.DataFrame'>\n",
      "RangeIndex: 200 entries, 0 to 199\n",
      "Data columns (total 4 columns):\n",
      " #   Column     Non-Null Count  Dtype  \n",
      "---  ------     --------------  -----  \n",
      " 0   TV         200 non-null    float64\n",
      " 1   radio      200 non-null    float64\n",
      " 2   newspaper  200 non-null    float64\n",
      " 3   sales      200 non-null    float64\n",
      "dtypes: float64(4)\n",
      "memory usage: 6.4 KB\n"
     ]
    }
   ],
   "source": [
    "df.info()"
   ]
  },
  {
   "cell_type": "code",
   "execution_count": 15,
   "id": "8929264a",
   "metadata": {
    "ExecuteTime": {
     "end_time": "2023-11-01T15:00:42.090098Z",
     "start_time": "2023-11-01T15:00:42.071360Z"
    }
   },
   "outputs": [
    {
     "data": {
      "text/html": [
       "<div>\n",
       "<style scoped>\n",
       "    .dataframe tbody tr th:only-of-type {\n",
       "        vertical-align: middle;\n",
       "    }\n",
       "\n",
       "    .dataframe tbody tr th {\n",
       "        vertical-align: top;\n",
       "    }\n",
       "\n",
       "    .dataframe thead th {\n",
       "        text-align: right;\n",
       "    }\n",
       "</style>\n",
       "<table border=\"1\" class=\"dataframe\">\n",
       "  <thead>\n",
       "    <tr style=\"text-align: right;\">\n",
       "      <th></th>\n",
       "      <th>TV</th>\n",
       "      <th>radio</th>\n",
       "      <th>newspaper</th>\n",
       "      <th>sales</th>\n",
       "    </tr>\n",
       "  </thead>\n",
       "  <tbody>\n",
       "    <tr>\n",
       "      <th>0</th>\n",
       "      <td>False</td>\n",
       "      <td>False</td>\n",
       "      <td>False</td>\n",
       "      <td>False</td>\n",
       "    </tr>\n",
       "    <tr>\n",
       "      <th>1</th>\n",
       "      <td>False</td>\n",
       "      <td>False</td>\n",
       "      <td>False</td>\n",
       "      <td>False</td>\n",
       "    </tr>\n",
       "    <tr>\n",
       "      <th>2</th>\n",
       "      <td>False</td>\n",
       "      <td>False</td>\n",
       "      <td>False</td>\n",
       "      <td>False</td>\n",
       "    </tr>\n",
       "    <tr>\n",
       "      <th>3</th>\n",
       "      <td>False</td>\n",
       "      <td>False</td>\n",
       "      <td>False</td>\n",
       "      <td>False</td>\n",
       "    </tr>\n",
       "    <tr>\n",
       "      <th>4</th>\n",
       "      <td>False</td>\n",
       "      <td>False</td>\n",
       "      <td>False</td>\n",
       "      <td>False</td>\n",
       "    </tr>\n",
       "    <tr>\n",
       "      <th>...</th>\n",
       "      <td>...</td>\n",
       "      <td>...</td>\n",
       "      <td>...</td>\n",
       "      <td>...</td>\n",
       "    </tr>\n",
       "    <tr>\n",
       "      <th>195</th>\n",
       "      <td>False</td>\n",
       "      <td>False</td>\n",
       "      <td>False</td>\n",
       "      <td>False</td>\n",
       "    </tr>\n",
       "    <tr>\n",
       "      <th>196</th>\n",
       "      <td>False</td>\n",
       "      <td>False</td>\n",
       "      <td>False</td>\n",
       "      <td>False</td>\n",
       "    </tr>\n",
       "    <tr>\n",
       "      <th>197</th>\n",
       "      <td>False</td>\n",
       "      <td>False</td>\n",
       "      <td>False</td>\n",
       "      <td>False</td>\n",
       "    </tr>\n",
       "    <tr>\n",
       "      <th>198</th>\n",
       "      <td>False</td>\n",
       "      <td>False</td>\n",
       "      <td>False</td>\n",
       "      <td>False</td>\n",
       "    </tr>\n",
       "    <tr>\n",
       "      <th>199</th>\n",
       "      <td>False</td>\n",
       "      <td>False</td>\n",
       "      <td>False</td>\n",
       "      <td>False</td>\n",
       "    </tr>\n",
       "  </tbody>\n",
       "</table>\n",
       "<p>200 rows × 4 columns</p>\n",
       "</div>"
      ],
      "text/plain": [
       "        TV  radio  newspaper  sales\n",
       "0    False  False      False  False\n",
       "1    False  False      False  False\n",
       "2    False  False      False  False\n",
       "3    False  False      False  False\n",
       "4    False  False      False  False\n",
       "..     ...    ...        ...    ...\n",
       "195  False  False      False  False\n",
       "196  False  False      False  False\n",
       "197  False  False      False  False\n",
       "198  False  False      False  False\n",
       "199  False  False      False  False\n",
       "\n",
       "[200 rows x 4 columns]"
      ]
     },
     "execution_count": 15,
     "metadata": {},
     "output_type": "execute_result"
    }
   ],
   "source": [
    "df.isnull()"
   ]
  },
  {
   "cell_type": "code",
   "execution_count": 14,
   "id": "c757139c",
   "metadata": {
    "ExecuteTime": {
     "end_time": "2023-11-01T15:00:10.640670Z",
     "start_time": "2023-11-01T15:00:10.628521Z"
    }
   },
   "outputs": [
    {
     "data": {
      "text/plain": [
       "TV           0\n",
       "radio        0\n",
       "newspaper    0\n",
       "sales        0\n",
       "dtype: int64"
      ]
     },
     "execution_count": 14,
     "metadata": {},
     "output_type": "execute_result"
    }
   ],
   "source": [
    "df.isnull().sum()"
   ]
  },
  {
   "cell_type": "code",
   "execution_count": 17,
   "id": "abe1c1a0",
   "metadata": {
    "ExecuteTime": {
     "end_time": "2023-11-01T15:02:10.447526Z",
     "start_time": "2023-11-01T15:02:10.259424Z"
    }
   },
   "outputs": [
    {
     "data": {
      "image/png": "[encoded data removed]",
      "text/plain": [
       "<Figure size 1800x720 with 2 Axes>"
      ]
     },
     "metadata": {
      "needs_background": "light"
     },
     "output_type": "display_data"
    }
   ],
   "source": [
    "msno.matrix(df);"
   ]
  },
  {
   "cell_type": "code",
   "execution_count": 18,
   "id": "6cde6aeb",
   "metadata": {
    "ExecuteTime": {
     "end_time": "2023-11-01T15:04:07.493540Z",
     "start_time": "2023-11-01T15:04:07.467270Z"
    }
   },
   "outputs": [
    {
     "data": {
      "text/html": [
       "<div>\n",
       "<style scoped>\n",
       "    .dataframe tbody tr th:only-of-type {\n",
       "        vertical-align: middle;\n",
       "    }\n",
       "\n",
       "    .dataframe tbody tr th {\n",
       "        vertical-align: top;\n",
       "    }\n",
       "\n",
       "    .dataframe thead th {\n",
       "        text-align: right;\n",
       "    }\n",
       "</style>\n",
       "<table border=\"1\" class=\"dataframe\">\n",
       "  <thead>\n",
       "    <tr style=\"text-align: right;\">\n",
       "      <th></th>\n",
       "      <th>TV</th>\n",
       "      <th>radio</th>\n",
       "      <th>newspaper</th>\n",
       "      <th>sales</th>\n",
       "    </tr>\n",
       "  </thead>\n",
       "  <tbody>\n",
       "    <tr>\n",
       "      <th>175</th>\n",
       "      <td>276.9</td>\n",
       "      <td>48.9</td>\n",
       "      <td>41.8</td>\n",
       "      <td>27.0</td>\n",
       "    </tr>\n",
       "    <tr>\n",
       "      <th>183</th>\n",
       "      <td>287.6</td>\n",
       "      <td>43.0</td>\n",
       "      <td>71.8</td>\n",
       "      <td>26.2</td>\n",
       "    </tr>\n",
       "    <tr>\n",
       "      <th>198</th>\n",
       "      <td>283.6</td>\n",
       "      <td>42.0</td>\n",
       "      <td>66.2</td>\n",
       "      <td>25.5</td>\n",
       "    </tr>\n",
       "    <tr>\n",
       "      <th>98</th>\n",
       "      <td>289.7</td>\n",
       "      <td>42.3</td>\n",
       "      <td>51.2</td>\n",
       "      <td>25.4</td>\n",
       "    </tr>\n",
       "    <tr>\n",
       "      <th>147</th>\n",
       "      <td>243.2</td>\n",
       "      <td>49.0</td>\n",
       "      <td>44.3</td>\n",
       "      <td>25.4</td>\n",
       "    </tr>\n",
       "    <tr>\n",
       "      <th>...</th>\n",
       "      <td>...</td>\n",
       "      <td>...</td>\n",
       "      <td>...</td>\n",
       "      <td>...</td>\n",
       "    </tr>\n",
       "    <tr>\n",
       "      <th>108</th>\n",
       "      <td>13.1</td>\n",
       "      <td>0.4</td>\n",
       "      <td>25.6</td>\n",
       "      <td>5.3</td>\n",
       "    </tr>\n",
       "    <tr>\n",
       "      <th>78</th>\n",
       "      <td>5.4</td>\n",
       "      <td>29.9</td>\n",
       "      <td>9.4</td>\n",
       "      <td>5.3</td>\n",
       "    </tr>\n",
       "    <tr>\n",
       "      <th>8</th>\n",
       "      <td>8.6</td>\n",
       "      <td>2.1</td>\n",
       "      <td>1.0</td>\n",
       "      <td>4.8</td>\n",
       "    </tr>\n",
       "    <tr>\n",
       "      <th>155</th>\n",
       "      <td>4.1</td>\n",
       "      <td>11.6</td>\n",
       "      <td>5.7</td>\n",
       "      <td>3.2</td>\n",
       "    </tr>\n",
       "    <tr>\n",
       "      <th>130</th>\n",
       "      <td>0.7</td>\n",
       "      <td>39.6</td>\n",
       "      <td>8.7</td>\n",
       "      <td>1.6</td>\n",
       "    </tr>\n",
       "  </tbody>\n",
       "</table>\n",
       "<p>200 rows × 4 columns</p>\n",
       "</div>"
      ],
      "text/plain": [
       "        TV  radio  newspaper  sales\n",
       "175  276.9   48.9       41.8   27.0\n",
       "183  287.6   43.0       71.8   26.2\n",
       "198  283.6   42.0       66.2   25.5\n",
       "98   289.7   42.3       51.2   25.4\n",
       "147  243.2   49.0       44.3   25.4\n",
       "..     ...    ...        ...    ...\n",
       "108   13.1    0.4       25.6    5.3\n",
       "78     5.4   29.9        9.4    5.3\n",
       "8      8.6    2.1        1.0    4.8\n",
       "155    4.1   11.6        5.7    3.2\n",
       "130    0.7   39.6        8.7    1.6\n",
       "\n",
       "[200 rows x 4 columns]"
      ]
     },
     "execution_count": 18,
     "metadata": {},
     "output_type": "execute_result"
    }
   ],
   "source": [
    "df.sort_values(by = 'sales', ascending = False)"
   ]
  },
  {
   "cell_type": "code",
   "execution_count": 19,
   "id": "40125721",
   "metadata": {
    "ExecuteTime": {
     "end_time": "2023-11-01T15:04:52.602812Z",
     "start_time": "2023-11-01T15:04:52.563341Z"
    }
   },
   "outputs": [
    {
     "data": {
      "text/html": [
       "<div>\n",
       "<style scoped>\n",
       "    .dataframe tbody tr th:only-of-type {\n",
       "        vertical-align: middle;\n",
       "    }\n",
       "\n",
       "    .dataframe tbody tr th {\n",
       "        vertical-align: top;\n",
       "    }\n",
       "\n",
       "    .dataframe thead th {\n",
       "        text-align: right;\n",
       "    }\n",
       "</style>\n",
       "<table border=\"1\" class=\"dataframe\">\n",
       "  <thead>\n",
       "    <tr style=\"text-align: right;\">\n",
       "      <th></th>\n",
       "      <th>count</th>\n",
       "      <th>mean</th>\n",
       "      <th>std</th>\n",
       "      <th>min</th>\n",
       "      <th>25%</th>\n",
       "      <th>50%</th>\n",
       "      <th>75%</th>\n",
       "      <th>max</th>\n",
       "    </tr>\n",
       "  </thead>\n",
       "  <tbody>\n",
       "    <tr>\n",
       "      <th>TV</th>\n",
       "      <td>200.0</td>\n",
       "      <td>147.0425</td>\n",
       "      <td>85.854236</td>\n",
       "      <td>0.7</td>\n",
       "      <td>74.375</td>\n",
       "      <td>149.75</td>\n",
       "      <td>218.825</td>\n",
       "      <td>296.4</td>\n",
       "    </tr>\n",
       "    <tr>\n",
       "      <th>radio</th>\n",
       "      <td>200.0</td>\n",
       "      <td>23.2640</td>\n",
       "      <td>14.846809</td>\n",
       "      <td>0.0</td>\n",
       "      <td>9.975</td>\n",
       "      <td>22.90</td>\n",
       "      <td>36.525</td>\n",
       "      <td>49.6</td>\n",
       "    </tr>\n",
       "    <tr>\n",
       "      <th>newspaper</th>\n",
       "      <td>200.0</td>\n",
       "      <td>30.5540</td>\n",
       "      <td>21.778621</td>\n",
       "      <td>0.3</td>\n",
       "      <td>12.750</td>\n",
       "      <td>25.75</td>\n",
       "      <td>45.100</td>\n",
       "      <td>114.0</td>\n",
       "    </tr>\n",
       "    <tr>\n",
       "      <th>sales</th>\n",
       "      <td>200.0</td>\n",
       "      <td>14.0225</td>\n",
       "      <td>5.217457</td>\n",
       "      <td>1.6</td>\n",
       "      <td>10.375</td>\n",
       "      <td>12.90</td>\n",
       "      <td>17.400</td>\n",
       "      <td>27.0</td>\n",
       "    </tr>\n",
       "  </tbody>\n",
       "</table>\n",
       "</div>"
      ],
      "text/plain": [
       "           count      mean        std  min     25%     50%      75%    max\n",
       "TV         200.0  147.0425  85.854236  0.7  74.375  149.75  218.825  296.4\n",
       "radio      200.0   23.2640  14.846809  0.0   9.975   22.90   36.525   49.6\n",
       "newspaper  200.0   30.5540  21.778621  0.3  12.750   25.75   45.100  114.0\n",
       "sales      200.0   14.0225   5.217457  1.6  10.375   12.90   17.400   27.0"
      ]
     },
     "execution_count": 19,
     "metadata": {},
     "output_type": "execute_result"
    }
   ],
   "source": [
    "df.describe().T"
   ]
  },
  {
   "cell_type": "code",
   "execution_count": 23,
   "id": "87183e35",
   "metadata": {
    "ExecuteTime": {
     "end_time": "2023-11-01T15:14:06.955455Z",
     "start_time": "2023-11-01T15:14:06.497501Z"
    }
   },
   "outputs": [
    {
     "data": {
      "text/html": [
       "<style type=\"text/css\">\n",
       "#T_e8d44 thead>tr>th {\n",
       "  text-align: left;\n",
       "}\n",
       "#T_e8d44_row0_col0, #T_e8d44_row1_col0, #T_e8d44_row2_col0, #T_e8d44_row3_col0 {\n",
       "  text-align: left;\n",
       "  font-size: 12px;\n",
       "  vertical-align: middle;\n",
       "  width: 5%;\n",
       "  max-width: 50px;\n",
       "  min-width: 20px;\n",
       "}\n",
       "#T_e8d44_row0_col1, #T_e8d44_row1_col1, #T_e8d44_row2_col1, #T_e8d44_row3_col1 {\n",
       "  text-align: left;\n",
       "  font-size: 12px;\n",
       "  vertical-align: middle;\n",
       "  width: 15%;\n",
       "  max-width: 200px;\n",
       "  min-width: 100px;\n",
       "  word-break: break-word;\n",
       "}\n",
       "#T_e8d44_row0_col2, #T_e8d44_row1_col2, #T_e8d44_row2_col2, #T_e8d44_row3_col2 {\n",
       "  text-align: left;\n",
       "  font-size: 12px;\n",
       "  vertical-align: middle;\n",
       "  width: 30%;\n",
       "  min-width: 100px;\n",
       "}\n",
       "#T_e8d44_row0_col3, #T_e8d44_row1_col3, #T_e8d44_row2_col3, #T_e8d44_row3_col3 {\n",
       "  text-align: left;\n",
       "  font-size: 12px;\n",
       "  vertical-align: middle;\n",
       "  width: 25%;\n",
       "  min-width: 100px;\n",
       "}\n",
       "#T_e8d44_row0_col4, #T_e8d44_row1_col4, #T_e8d44_row2_col4, #T_e8d44_row3_col4 {\n",
       "  text-align: left;\n",
       "  font-size: 12px;\n",
       "  vertical-align: middle;\n",
       "  width: 20%;\n",
       "  min-width: 150px;\n",
       "}\n",
       "#T_e8d44_row0_col5, #T_e8d44_row1_col5, #T_e8d44_row2_col5, #T_e8d44_row3_col5 {\n",
       "  text-align: left;\n",
       "  font-size: 12px;\n",
       "  vertical-align: middle;\n",
       "  width: 10%;\n",
       "}\n",
       "</style>\n",
       "<table id=\"T_e8d44\">\n",
       "  <caption><strong>Data Frame Summary</strong><br>df<br>Dimensions: 200 x 4<br>Duplicates: 0</caption>\n",
       "  <thead>\n",
       "    <tr>\n",
       "      <th id=\"T_e8d44_level0_col0\" class=\"col_heading level0 col0\" >No</th>\n",
       "      <th id=\"T_e8d44_level0_col1\" class=\"col_heading level0 col1\" >Variable</th>\n",
       "      <th id=\"T_e8d44_level0_col2\" class=\"col_heading level0 col2\" >Stats / Values</th>\n",
       "      <th id=\"T_e8d44_level0_col3\" class=\"col_heading level0 col3\" >Freqs / (% of Valid)</th>\n",
       "      <th id=\"T_e8d44_level0_col4\" class=\"col_heading level0 col4\" >Graph</th>\n",
       "      <th id=\"T_e8d44_level0_col5\" class=\"col_heading level0 col5\" >Missing</th>\n",
       "    </tr>\n",
       "  </thead>\n",
       "  <tbody>\n",
       "    <tr>\n",
       "      <td id=\"T_e8d44_row0_col0\" class=\"data row0 col0\" >1</td>\n",
       "      <td id=\"T_e8d44_row0_col1\" class=\"data row0 col1\" ><strong>TV</strong><br>[float64]</td>\n",
       "      <td id=\"T_e8d44_row0_col2\" class=\"data row0 col2\" >Mean (sd) : 147.0 (85.9)<br>min < med < max:<br>0.7 < 149.8 < 296.4<br>IQR (CV) : 144.4 (1.7)</td>\n",
       "      <td id=\"T_e8d44_row0_col3\" class=\"data row0 col3\" >190 distinct values</td>\n",
       "      <td id=\"T_e8d44_row0_col4\" class=\"data row0 col4\" ><img src = \"data:image/png;base64, iVBORw0KGgoAAAANSUhEUgAAAHoAAAAyCAYAAACTUs/lAAAAOXRFWHRTb2Z0d2FyZQBNYXRwbG90bGliIHZlcnNpb24zLjUuMiwgaHR0cHM6Ly9tYXRwbG90bGliLm9yZy8qNh9FAAAACXBIWXMAAAsTAAALEwEAmpwYAAABRUlEQVR4nO3ZPw6CMBiH4WpMWOoKgxsX0At4CE/A6rU4gadykJmFhAQHZ5QK9A+/91k1pOmbfKW6G4bBYPv2oRcAPw5jH+R5frPWFlMe0rbtq2max3LLSpPLnhnjd99GQ1tri6qqnlMeUtf1abklpctlz4zxu2+MbhGEFkFoEYQWQWgRo2/d+HC5MvV9fzbGTH7r9onQPzheM69rr+df3kPzQ0wY3kPzQ0wYjO6Auq67lGV5n/LdudON0AFlWXb0Nd02E5qz/7vNhObs/y7q0C5nWMx32BhEHdrxDIv2DhuDqEOvRXFSSIZOcVLMvYpJhk7R3KvYIqEVR2FqFgmd4ihUw//RIggtgtAiCC2C0CIILYLQIggtgtAiCC2C0CIILYLQIggtgtAiCC2C0CIILYLQIggtgtAiCC2C0CIILYLQIggt4g22voC7Lp7C+QAAAABJRU5ErkJggg==\"></img></td>\n",
       "      <td id=\"T_e8d44_row0_col5\" class=\"data row0 col5\" >0<br>(0.0%)</td>\n",
       "    </tr>\n",
       "    <tr>\n",
       "      <td id=\"T_e8d44_row1_col0\" class=\"data row1 col0\" >2</td>\n",
       "      <td id=\"T_e8d44_row1_col1\" class=\"data row1 col1\" ><strong>radio</strong><br>[float64]</td>\n",
       "      <td id=\"T_e8d44_row1_col2\" class=\"data row1 col2\" >Mean (sd) : 23.3 (14.8)<br>min < med < max:<br>0.0 < 22.9 < 49.6<br>IQR (CV) : 26.5 (1.6)</td>\n",
       "      <td id=\"T_e8d44_row1_col3\" class=\"data row1 col3\" >167 distinct values</td>\n",
       "      <td id=\"T_e8d44_row1_col4\" class=\"data row1 col4\" ><img src = \"data:image/png;base64, iVBORw0KGgoAAAANSUhEUgAAAHoAAAAyCAYAAACTUs/lAAAAOXRFWHRTb2Z0d2FyZQBNYXRwbG90bGliIHZlcnNpb24zLjUuMiwgaHR0cHM6Ly9tYXRwbG90bGliLm9yZy8qNh9FAAAACXBIWXMAAAsTAAALEwEAmpwYAAABWElEQVR4nO3YMU7DMBSH8QeqlMWs6cCCcgG4QA/BCbxyLZ+AU3APFgYye4kUKYwMENVWX0Pw//utjdI0n+K8+mZZFkP7bv/6ArCNw9oHfd8/hxCOJSfJOX+O4/jqd1nwtho6hHCMMX6UnCSldO93SbgGlm4RhBZBaBGEFkFoEYQWQWgRhBZBaBGrO2MtU9zelQytuL3L0i1i8ye65WWz5reZmeWcH0II74XHXnQvNg/d8rJZ89vMzFJKpxjjW+GxF90Ll9DTND0Nw/BScuw8z49mVnwz4MMldNd1dxVP6cnjO1GHYUxEM3+vagYhxddHM6Erhzy518euQzPk+dl1aIY8PwxjInb9RONbzWvst100Qv8Tla+xH7tohD6jlYGQ0Ge0MhAyjIkgtAhCiyC0CEKLILQIQosgtAhCiyC0CEKLILQIQosgtAhCiyC0CEKLILQIQosgtIgvvjd5fiWE34YAAAAASUVORK5CYII=\"></img></td>\n",
       "      <td id=\"T_e8d44_row1_col5\" class=\"data row1 col5\" >0<br>(0.0%)</td>\n",
       "    </tr>\n",
       "    <tr>\n",
       "      <td id=\"T_e8d44_row2_col0\" class=\"data row2 col0\" >3</td>\n",
       "      <td id=\"T_e8d44_row2_col1\" class=\"data row2 col1\" ><strong>newspaper</strong><br>[float64]</td>\n",
       "      <td id=\"T_e8d44_row2_col2\" class=\"data row2 col2\" >Mean (sd) : 30.6 (21.8)<br>min < med < max:<br>0.3 < 25.8 < 114.0<br>IQR (CV) : 32.4 (1.4)</td>\n",
       "      <td id=\"T_e8d44_row2_col3\" class=\"data row2 col3\" >172 distinct values</td>\n",
       "      <td id=\"T_e8d44_row2_col4\" class=\"data row2 col4\" ><img src = \"data:image/png;base64, iVBORw0KGgoAAAANSUhEUgAAAHoAAAAyCAYAAACTUs/lAAAAOXRFWHRTb2Z0d2FyZQBNYXRwbG90bGliIHZlcnNpb24zLjUuMiwgaHR0cHM6Ly9tYXRwbG90bGliLm9yZy8qNh9FAAAACXBIWXMAAAsTAAALEwEAmpwYAAABP0lEQVR4nO3cMU6EQBhA4dGY0IwtW9iYOYH3sPIEtJ6JjhPslbaxkJqGCg9gWGeSEQjvfe1uCMnb/PxDsQ/LsgSd3+PeN6BtPK190LbtR4zxknORaZq+x3G81rst1bYaOsZ46bruK+ciwzC81Lsl/QdHN4ShIQwNYWiI1WWsxDzPbymlz5zvuqHvo0ropmme3dCPzdENYWgIQ0MYGqLKMlbCDX0fm4d2Q9+HoxvC0BCGhtj8GV3Cxa2eQ4d2cavH0Q1haAhDQxgawtAQhoYwNIShIQ79wqSEb9HuO01o36Ld5+iGMDSEoSEMDWFoCENDnOZ4VYJ45kaGJp65Hd0QhoZAju4SZ3meG/oPZ3meO7ohDA1haAhDQxgawq27opKjWAjbHscMXVHJUSyEEPq+f08p5f5V9muM8Zb53V8/oB+86YYxaLXfKgAAAABJRU5ErkJggg==\"></img></td>\n",
       "      <td id=\"T_e8d44_row2_col5\" class=\"data row2 col5\" >0<br>(0.0%)</td>\n",
       "    </tr>\n",
       "    <tr>\n",
       "      <td id=\"T_e8d44_row3_col0\" class=\"data row3 col0\" >4</td>\n",
       "      <td id=\"T_e8d44_row3_col1\" class=\"data row3 col1\" ><strong>sales</strong><br>[float64]</td>\n",
       "      <td id=\"T_e8d44_row3_col2\" class=\"data row3 col2\" >Mean (sd) : 14.0 (5.2)<br>min < med < max:<br>1.6 < 12.9 < 27.0<br>IQR (CV) : 7.0 (2.7)</td>\n",
       "      <td id=\"T_e8d44_row3_col3\" class=\"data row3 col3\" >121 distinct values</td>\n",
       "      <td id=\"T_e8d44_row3_col4\" class=\"data row3 col4\" ><img src = \"data:image/png;base64, iVBORw0KGgoAAAANSUhEUgAAAHoAAAAyCAYAAACTUs/lAAAAOXRFWHRTb2Z0d2FyZQBNYXRwbG90bGliIHZlcnNpb24zLjUuMiwgaHR0cHM6Ly9tYXRwbG90bGliLm9yZy8qNh9FAAAACXBIWXMAAAsTAAALEwEAmpwYAAABR0lEQVR4nO3bsW2EMBhAYSeKROO0XJGOBZIFMkQmoL21mCBTpQg1DRISmYAL1nEG/N5XU1j3dOa3JZ7meQ4q3/PeC1AeL3sv4Ja6rr9ijJc1zw7D8Nv3/fej13RWhw4dY7y0bfuz5tmu694evZ4zc+uGMDSEoSEMDWFoCENDGBrC0BCGhjA0xKGvQFOM4/jRNM11zbPEe/FiQldV9eq9+DK3bghDQxgawtAQxQxjKYgTOjI0cUJ364YwNIShIQwNYWgIQ0Mgj1cpSjlzG/ofpZy5s4dO+Z5qmqb3EMKqH1m3ZQ+d+D3V56PXQ+EwBuE7ekMpg1sIeYc3Q28oZXALIe/w5tYNYWgIQ0P4jt5Rzls3Q+8o562bWzfEJv9orzWPb5PQXmsen+/ok7h3cDP0Sdw7uDmMQRgawtAQi+9oj0xlWQztkaksfxqVhss5kgwOAAAAAElFTkSuQmCC\"></img></td>\n",
       "      <td id=\"T_e8d44_row3_col5\" class=\"data row3 col5\" >0<br>(0.0%)</td>\n",
       "    </tr>\n",
       "  </tbody>\n",
       "</table>\n"
      ],
      "text/plain": [
       "<pandas.io.formats.style.Styler at 0x7fe77b757490>"
      ]
     },
     "execution_count": 23,
     "metadata": {},
     "output_type": "execute_result"
    }
   ],
   "source": [
    "dfSummary(df)"
   ]
  },
  {
   "cell_type": "code",
   "execution_count": 24,
   "id": "f5d63c53",
   "metadata": {
    "ExecuteTime": {
     "end_time": "2023-11-01T15:18:01.151687Z",
     "start_time": "2023-11-01T15:17:59.877996Z"
    }
   },
   "outputs": [
    {
     "data": {
      "image/png": "[encoded data removed]",
      "text/plain": [
       "<Figure size 720x720 with 20 Axes>"
      ]
     },
     "metadata": {
      "needs_background": "light"
     },
     "output_type": "display_data"
    }
   ],
   "source": [
    "sns.pairplot(df);"
   ]
  },
  {
   "cell_type": "code",
   "execution_count": 26,
   "id": "92b87c8a",
   "metadata": {
    "ExecuteTime": {
     "end_time": "2023-11-01T15:18:31.399206Z",
     "start_time": "2023-11-01T15:18:31.268450Z"
    }
   },
   "outputs": [
    {
     "data": {
      "image/png": "[encoded data removed]",
      "text/plain": [
       "<Figure size 432x288 with 2 Axes>"
      ]
     },
     "metadata": {
      "needs_background": "light"
     },
     "output_type": "display_data"
    }
   ],
   "source": [
    "sns.heatmap(df.corr(), annot = True);"
   ]
  },
  {
   "cell_type": "code",
   "execution_count": 27,
   "id": "1ba49638",
   "metadata": {
    "ExecuteTime": {
     "end_time": "2023-11-01T15:19:07.401086Z",
     "start_time": "2023-11-01T15:19:07.391236Z"
    }
   },
   "outputs": [],
   "source": [
    "from scipy.stats import skew"
   ]
  },
  {
   "cell_type": "code",
   "execution_count": 28,
   "id": "2018e13c",
   "metadata": {
    "ExecuteTime": {
     "end_time": "2023-11-01T15:20:38.677907Z",
     "start_time": "2023-11-01T15:20:38.653522Z"
    }
   },
   "outputs": [
    {
     "name": "stdout",
     "output_type": "stream",
     "text": [
      "TV -0.06932836662244649\n",
      "radio 0.0934668451108453\n",
      "newspaper 0.8879959753085498\n"
     ]
    }
   ],
   "source": [
    " for i in df.drop(columns = 'sales'):\n",
    "        print(i, skew(df[i]))\n",
    "    "
   ]
  },
  {
   "cell_type": "code",
   "execution_count": 127,
   "id": "34752fef",
   "metadata": {
    "ExecuteTime": {
     "end_time": "2023-11-05T13:44:04.777398Z",
     "start_time": "2023-11-05T13:44:04.774221Z"
    }
   },
   "outputs": [],
   "source": [
    "  ## the distribution can be considered symmetric if skewness is between -1 and 1"
   ]
  },
  {
   "cell_type": "code",
   "execution_count": 30,
   "id": "18365023",
   "metadata": {
    "ExecuteTime": {
     "end_time": "2023-11-01T15:29:39.226117Z",
     "start_time": "2023-11-01T15:29:38.915327Z"
    }
   },
   "outputs": [
    {
     "data": {
      "image/png": "[encoded data removed]",
      "text/plain": [
       "<Figure size 432x288 with 1 Axes>"
      ]
     },
     "metadata": {
      "needs_background": "light"
     },
     "output_type": "display_data"
    },
    {
     "data": {
      "image/png": "[encoded data removed]",
      "text/plain": [
       "<Figure size 432x288 with 1 Axes>"
      ]
     },
     "metadata": {
      "needs_background": "light"
     },
     "output_type": "display_data"
    },
    {
     "data": {
      "image/png": "[encoded data removed]",
      "text/plain": [
       "<Figure size 432x288 with 1 Axes>"
      ]
     },
     "metadata": {
      "needs_background": "light"
     },
     "output_type": "display_data"
    }
   ],
   "source": [
    "for j in df.drop(columns = \"sales\").columns:    \n",
    "    g = sns.distplot(df[j], color= \"b\", label= \"Skewness : %.2f\"%(df[j].skew()))   \n",
    "    g = g.legend(loc= \"best\")  \n",
    "    plt.show()"
   ]
  },
  {
   "cell_type": "code",
   "execution_count": 43,
   "id": "6742524b",
   "metadata": {
    "ExecuteTime": {
     "end_time": "2023-11-03T14:01:38.591656Z",
     "start_time": "2023-11-03T14:01:38.549668Z"
    }
   },
   "outputs": [
    {
     "data": {
      "text/html": [
       "<div>\n",
       "<style scoped>\n",
       "    .dataframe tbody tr th:only-of-type {\n",
       "        vertical-align: middle;\n",
       "    }\n",
       "\n",
       "    .dataframe tbody tr th {\n",
       "        vertical-align: top;\n",
       "    }\n",
       "\n",
       "    .dataframe thead th {\n",
       "        text-align: right;\n",
       "    }\n",
       "</style>\n",
       "<table border=\"1\" class=\"dataframe\">\n",
       "  <thead>\n",
       "    <tr style=\"text-align: right;\">\n",
       "      <th></th>\n",
       "      <th>TV</th>\n",
       "      <th>radio</th>\n",
       "      <th>newspaper</th>\n",
       "      <th>sales</th>\n",
       "    </tr>\n",
       "  </thead>\n",
       "  <tbody>\n",
       "    <tr>\n",
       "      <th>TV</th>\n",
       "      <td>1.000000</td>\n",
       "      <td>0.054809</td>\n",
       "      <td>0.056648</td>\n",
       "      <td>0.782224</td>\n",
       "    </tr>\n",
       "    <tr>\n",
       "      <th>radio</th>\n",
       "      <td>0.054809</td>\n",
       "      <td>1.000000</td>\n",
       "      <td>0.354104</td>\n",
       "      <td>0.576223</td>\n",
       "    </tr>\n",
       "    <tr>\n",
       "      <th>newspaper</th>\n",
       "      <td>0.056648</td>\n",
       "      <td>0.354104</td>\n",
       "      <td>1.000000</td>\n",
       "      <td>0.228299</td>\n",
       "    </tr>\n",
       "    <tr>\n",
       "      <th>sales</th>\n",
       "      <td>0.782224</td>\n",
       "      <td>0.576223</td>\n",
       "      <td>0.228299</td>\n",
       "      <td>1.000000</td>\n",
       "    </tr>\n",
       "  </tbody>\n",
       "</table>\n",
       "</div>"
      ],
      "text/plain": [
       "                 TV     radio  newspaper     sales\n",
       "TV         1.000000  0.054809   0.056648  0.782224\n",
       "radio      0.054809  1.000000   0.354104  0.576223\n",
       "newspaper  0.056648  0.354104   1.000000  0.228299\n",
       "sales      0.782224  0.576223   0.228299  1.000000"
      ]
     },
     "execution_count": 43,
     "metadata": {},
     "output_type": "execute_result"
    }
   ],
   "source": [
    "# checking correlation\n",
    "df.corr()"
   ]
  },
  {
   "cell_type": "markdown",
   "id": "237fa5df",
   "metadata": {},
   "source": [
    "## Train - Test- Split"
   ]
  },
  {
   "cell_type": "markdown",
   "id": "9160f0d7",
   "metadata": {},
   "source": [
    "- rows < 1000, use 70% 30% / 80% 20% split\n",
    "- rows < 1M, use 80% 20% / 90% 10% split\n",
    "- rows > 1M, use 95% 5% split"
   ]
  },
  {
   "cell_type": "code",
   "execution_count": 44,
   "id": "fb28fc95",
   "metadata": {
    "ExecuteTime": {
     "end_time": "2023-11-03T14:15:27.050004Z",
     "start_time": "2023-11-03T14:15:27.018725Z"
    }
   },
   "outputs": [],
   "source": [
    " # X : feature, y : target\n",
    "    \n",
    "X = df.drop(columns = 'sales')\n",
    "y = df['sales']"
   ]
  },
  {
   "cell_type": "code",
   "execution_count": 45,
   "id": "74eb41cc",
   "metadata": {
    "ExecuteTime": {
     "end_time": "2023-11-03T14:15:40.772208Z",
     "start_time": "2023-11-03T14:15:40.750446Z"
    }
   },
   "outputs": [
    {
     "name": "stdout",
     "output_type": "stream",
     "text": [
      "        TV  radio  newspaper\n",
      "0    230.1   37.8       69.2\n",
      "1     44.5   39.3       45.1\n",
      "2     17.2   45.9       69.3\n",
      "3    151.5   41.3       58.5\n",
      "4    180.8   10.8       58.4\n",
      "..     ...    ...        ...\n",
      "195   38.2    3.7       13.8\n",
      "196   94.2    4.9        8.1\n",
      "197  177.0    9.3        6.4\n",
      "198  283.6   42.0       66.2\n",
      "199  232.1    8.6        8.7\n",
      "\n",
      "[200 rows x 3 columns] 0      22.1\n",
      "1      10.4\n",
      "2       9.3\n",
      "3      18.5\n",
      "4      12.9\n",
      "       ... \n",
      "195     7.6\n",
      "196     9.7\n",
      "197    12.8\n",
      "198    25.5\n",
      "199    13.4\n",
      "Name: sales, Length: 200, dtype: float64\n"
     ]
    }
   ],
   "source": [
    "print(X,y)"
   ]
  },
  {
   "cell_type": "code",
   "execution_count": 46,
   "id": "e5457e88",
   "metadata": {
    "ExecuteTime": {
     "end_time": "2023-11-03T14:17:25.070920Z",
     "start_time": "2023-11-03T14:17:22.374254Z"
    }
   },
   "outputs": [],
   "source": [
    "# necessary package for randomly splitting the train split data\n",
    "from sklearn.model_selection import train_test_split"
   ]
  },
  {
   "cell_type": "code",
   "execution_count": 47,
   "id": "b4c376b8",
   "metadata": {
    "ExecuteTime": {
     "end_time": "2023-11-03T14:20:27.786887Z",
     "start_time": "2023-11-03T14:20:27.741828Z"
    }
   },
   "outputs": [],
   "source": [
    "X_train, X_test, y_train, y_test = train_test_split(X, y, test_size = 0.3, random_state = 42)"
   ]
  },
  {
   "cell_type": "code",
   "execution_count": 53,
   "id": "bf3f1fd2",
   "metadata": {
    "ExecuteTime": {
     "end_time": "2023-11-03T14:36:24.351729Z",
     "start_time": "2023-11-03T14:36:24.336371Z"
    }
   },
   "outputs": [
    {
     "name": "stdout",
     "output_type": "stream",
     "text": [
      "X train feature shape: (140, 3)\n",
      "y train feature shape: (140,)\n",
      "X test feature shape: (60, 3)\n",
      "y test feature shape: (60,)\n"
     ]
    }
   ],
   "source": [
    "# shape of train test splits\n",
    "print('X train feature shape: {}\\n\n",
    "y train feature shape: {}\\n\n",
    "X test feature shape: {}\\n\n",
    "y test feature shape: {}'.format(X_train.shape, y_train.shape, X_test.shape, y_test.shape))"
   ]
  },
  {
   "cell_type": "markdown",
   "id": "6525be6f",
   "metadata": {},
   "source": [
    "## Model Fitting and Comparing Actual with Predicted Labels"
   ]
  },
  {
   "cell_type": "code",
   "execution_count": 54,
   "id": "dcfe38d7",
   "metadata": {
    "ExecuteTime": {
     "end_time": "2023-11-03T14:42:21.985814Z",
     "start_time": "2023-11-03T14:42:21.982068Z"
    }
   },
   "outputs": [],
   "source": [
    "from sklearn.linear_model import LinearRegression"
   ]
  },
  {
   "cell_type": "code",
   "execution_count": 55,
   "id": "458b7c36",
   "metadata": {
    "ExecuteTime": {
     "end_time": "2023-11-03T14:43:38.375793Z",
     "start_time": "2023-11-03T14:43:38.372352Z"
    }
   },
   "outputs": [],
   "source": [
    "# first define model so we do not run into any errors\n",
    "model = LinearRegression()"
   ]
  },
  {
   "cell_type": "code",
   "execution_count": 56,
   "id": "efb17083",
   "metadata": {
    "ExecuteTime": {
     "end_time": "2023-11-03T14:45:04.415133Z",
     "start_time": "2023-11-03T14:45:04.377544Z"
    }
   },
   "outputs": [
    {
     "data": {
      "text/plain": [
       "LinearRegression()"
      ]
     },
     "execution_count": 56,
     "metadata": {},
     "output_type": "execute_result"
    }
   ],
   "source": [
    "model.fit(X_train, y_train)"
   ]
  },
  {
   "cell_type": "code",
   "execution_count": 57,
   "id": "c704e8cb",
   "metadata": {
    "ExecuteTime": {
     "end_time": "2023-11-03T14:46:08.998268Z",
     "start_time": "2023-11-03T14:46:08.981036Z"
    }
   },
   "outputs": [
    {
     "data": {
      "text/plain": [
       "array([16.5653963 , 21.18822792, 21.55107058, 10.88923816, 22.20231988,\n",
       "       13.35556872, 21.19692502,  7.35028523, 13.27547079, 15.12449511,\n",
       "        9.01443026,  6.52542825, 14.30205991,  8.97026042,  9.45679576,\n",
       "       12.00454351,  8.91549403, 16.15619251, 10.29582883, 18.72473553,\n",
       "       19.76821818, 13.77469028, 12.49638908, 21.53501762,  7.60860741,\n",
       "        5.6119801 , 20.91759483, 11.80627665,  9.08076637,  8.51412012,\n",
       "       12.17604891,  9.9691939 , 21.73008956, 12.77770578, 18.1011362 ,\n",
       "       20.07590796, 14.26202556, 20.93826535, 10.83938827,  4.38190607,\n",
       "        9.51332406, 12.40486324, 10.17045434,  8.09081363, 13.16388427,\n",
       "        5.2243552 ,  9.28893833, 14.09330719,  8.69024497, 11.66119763,\n",
       "       15.71848432, 11.63156862, 13.35360735, 11.1531472 ,  6.33636845,\n",
       "        9.76157954,  9.4195714 , 24.25516546,  7.69519137, 12.15317572])"
      ]
     },
     "execution_count": 57,
     "metadata": {},
     "output_type": "execute_result"
    }
   ],
   "source": [
    "y_pred = model.predict(X_test)\n",
    "y_pred"
   ]
  },
  {
   "cell_type": "code",
   "execution_count": 59,
   "id": "22644272",
   "metadata": {
    "ExecuteTime": {
     "end_time": "2023-11-03T14:46:49.173115Z",
     "start_time": "2023-11-03T14:46:49.166035Z"
    }
   },
   "outputs": [
    {
     "data": {
      "text/plain": [
       "array([0.04405928, 0.1992875 , 0.00688245])"
      ]
     },
     "execution_count": 59,
     "metadata": {},
     "output_type": "execute_result"
    }
   ],
   "source": [
    "model.coef_"
   ]
  },
  {
   "cell_type": "code",
   "execution_count": 60,
   "id": "3f28e643",
   "metadata": {
    "ExecuteTime": {
     "end_time": "2023-11-03T14:47:28.448882Z",
     "start_time": "2023-11-03T14:47:28.443672Z"
    }
   },
   "outputs": [
    {
     "data": {
      "text/plain": [
       "array(['TV', 'radio', 'newspaper'], dtype=object)"
      ]
     },
     "execution_count": 60,
     "metadata": {},
     "output_type": "execute_result"
    }
   ],
   "source": [
    "# labels of coefficients above for the model\n",
    "\n",
    "model.feature_names_in_"
   ]
  },
  {
   "cell_type": "code",
   "execution_count": 65,
   "id": "12a09d59",
   "metadata": {
    "ExecuteTime": {
     "end_time": "2023-11-03T14:48:13.518313Z",
     "start_time": "2023-11-03T14:48:13.509612Z"
    }
   },
   "outputs": [
    {
     "data": {
      "text/plain": [
       "2.7089490925159048"
      ]
     },
     "execution_count": 65,
     "metadata": {},
     "output_type": "execute_result"
    }
   ],
   "source": [
    "model.intercept_"
   ]
  },
  {
   "cell_type": "code",
   "execution_count": 75,
   "id": "34cdd741",
   "metadata": {
    "ExecuteTime": {
     "end_time": "2023-11-03T14:55:03.141744Z",
     "start_time": "2023-11-03T14:55:03.132799Z"
    }
   },
   "outputs": [
    {
     "data": {
      "text/plain": [
       "16.565396297434837"
      ]
     },
     "execution_count": 75,
     "metadata": {},
     "output_type": "execute_result"
    }
   ],
   "source": [
    "# prediction for any row's variables\n",
    "\n",
    "# sum function to get each row [Tv,radio, newspaper] multiplied by its coefficient and added intercept for regression\n",
    "\n",
    "sum(X_test.loc[95] * model.coef_) + model.intercept_"
   ]
  },
  {
   "cell_type": "code",
   "execution_count": 67,
   "id": "20763f75",
   "metadata": {
    "ExecuteTime": {
     "end_time": "2023-11-03T14:51:41.767078Z",
     "start_time": "2023-11-03T14:51:41.758510Z"
    }
   },
   "outputs": [
    {
     "data": {
      "text/plain": [
       "16.9"
      ]
     },
     "execution_count": 67,
     "metadata": {},
     "output_type": "execute_result"
    }
   ],
   "source": [
    " y_test.loc[95]"
   ]
  },
  {
   "cell_type": "code",
   "execution_count": 77,
   "id": "9621ff61",
   "metadata": {
    "ExecuteTime": {
     "end_time": "2023-11-03T14:56:33.029061Z",
     "start_time": "2023-11-03T14:56:33.023970Z"
    }
   },
   "outputs": [],
   "source": [
    "my_dict = {\"actual\": y_test, \"pred\": y_pred, \"residual\": y_test - y_pred}"
   ]
  },
  {
   "cell_type": "code",
   "execution_count": 79,
   "id": "819c38b6",
   "metadata": {
    "ExecuteTime": {
     "end_time": "2023-11-03T14:57:06.286954Z",
     "start_time": "2023-11-03T14:57:06.244625Z"
    }
   },
   "outputs": [
    {
     "data": {
      "text/html": [
       "<div>\n",
       "<style scoped>\n",
       "    .dataframe tbody tr th:only-of-type {\n",
       "        vertical-align: middle;\n",
       "    }\n",
       "\n",
       "    .dataframe tbody tr th {\n",
       "        vertical-align: top;\n",
       "    }\n",
       "\n",
       "    .dataframe thead th {\n",
       "        text-align: right;\n",
       "    }\n",
       "</style>\n",
       "<table border=\"1\" class=\"dataframe\">\n",
       "  <thead>\n",
       "    <tr style=\"text-align: right;\">\n",
       "      <th></th>\n",
       "      <th>actual</th>\n",
       "      <th>pred</th>\n",
       "      <th>residual</th>\n",
       "    </tr>\n",
       "  </thead>\n",
       "  <tbody>\n",
       "    <tr>\n",
       "      <th>95</th>\n",
       "      <td>16.9</td>\n",
       "      <td>16.565396</td>\n",
       "      <td>0.334604</td>\n",
       "    </tr>\n",
       "    <tr>\n",
       "      <th>15</th>\n",
       "      <td>22.4</td>\n",
       "      <td>21.188228</td>\n",
       "      <td>1.211772</td>\n",
       "    </tr>\n",
       "    <tr>\n",
       "      <th>30</th>\n",
       "      <td>21.4</td>\n",
       "      <td>21.551071</td>\n",
       "      <td>-0.151071</td>\n",
       "    </tr>\n",
       "    <tr>\n",
       "      <th>158</th>\n",
       "      <td>7.3</td>\n",
       "      <td>10.889238</td>\n",
       "      <td>-3.589238</td>\n",
       "    </tr>\n",
       "    <tr>\n",
       "      <th>128</th>\n",
       "      <td>24.7</td>\n",
       "      <td>22.202320</td>\n",
       "      <td>2.497680</td>\n",
       "    </tr>\n",
       "    <tr>\n",
       "      <th>115</th>\n",
       "      <td>12.6</td>\n",
       "      <td>13.355569</td>\n",
       "      <td>-0.755569</td>\n",
       "    </tr>\n",
       "    <tr>\n",
       "      <th>69</th>\n",
       "      <td>22.3</td>\n",
       "      <td>21.196925</td>\n",
       "      <td>1.103075</td>\n",
       "    </tr>\n",
       "    <tr>\n",
       "      <th>170</th>\n",
       "      <td>8.4</td>\n",
       "      <td>7.350285</td>\n",
       "      <td>1.049715</td>\n",
       "    </tr>\n",
       "    <tr>\n",
       "      <th>174</th>\n",
       "      <td>11.5</td>\n",
       "      <td>13.275471</td>\n",
       "      <td>-1.775471</td>\n",
       "    </tr>\n",
       "    <tr>\n",
       "      <th>45</th>\n",
       "      <td>14.9</td>\n",
       "      <td>15.124495</td>\n",
       "      <td>-0.224495</td>\n",
       "    </tr>\n",
       "    <tr>\n",
       "      <th>66</th>\n",
       "      <td>9.5</td>\n",
       "      <td>9.014430</td>\n",
       "      <td>0.485570</td>\n",
       "    </tr>\n",
       "    <tr>\n",
       "      <th>182</th>\n",
       "      <td>8.7</td>\n",
       "      <td>6.525428</td>\n",
       "      <td>2.174572</td>\n",
       "    </tr>\n",
       "    <tr>\n",
       "      <th>165</th>\n",
       "      <td>11.9</td>\n",
       "      <td>14.302060</td>\n",
       "      <td>-2.402060</td>\n",
       "    </tr>\n",
       "    <tr>\n",
       "      <th>78</th>\n",
       "      <td>5.3</td>\n",
       "      <td>8.970260</td>\n",
       "      <td>-3.670260</td>\n",
       "    </tr>\n",
       "    <tr>\n",
       "      <th>186</th>\n",
       "      <td>10.3</td>\n",
       "      <td>9.456796</td>\n",
       "      <td>0.843204</td>\n",
       "    </tr>\n",
       "    <tr>\n",
       "      <th>177</th>\n",
       "      <td>11.7</td>\n",
       "      <td>12.004544</td>\n",
       "      <td>-0.304544</td>\n",
       "    </tr>\n",
       "    <tr>\n",
       "      <th>56</th>\n",
       "      <td>5.5</td>\n",
       "      <td>8.915494</td>\n",
       "      <td>-3.415494</td>\n",
       "    </tr>\n",
       "    <tr>\n",
       "      <th>152</th>\n",
       "      <td>16.6</td>\n",
       "      <td>16.156193</td>\n",
       "      <td>0.443807</td>\n",
       "    </tr>\n",
       "    <tr>\n",
       "      <th>82</th>\n",
       "      <td>11.3</td>\n",
       "      <td>10.295829</td>\n",
       "      <td>1.004171</td>\n",
       "    </tr>\n",
       "    <tr>\n",
       "      <th>68</th>\n",
       "      <td>18.9</td>\n",
       "      <td>18.724736</td>\n",
       "      <td>0.175264</td>\n",
       "    </tr>\n",
       "    <tr>\n",
       "      <th>124</th>\n",
       "      <td>19.7</td>\n",
       "      <td>19.768218</td>\n",
       "      <td>-0.068218</td>\n",
       "    </tr>\n",
       "    <tr>\n",
       "      <th>16</th>\n",
       "      <td>12.5</td>\n",
       "      <td>13.774690</td>\n",
       "      <td>-1.274690</td>\n",
       "    </tr>\n",
       "    <tr>\n",
       "      <th>148</th>\n",
       "      <td>10.9</td>\n",
       "      <td>12.496389</td>\n",
       "      <td>-1.596389</td>\n",
       "    </tr>\n",
       "    <tr>\n",
       "      <th>93</th>\n",
       "      <td>22.2</td>\n",
       "      <td>21.535018</td>\n",
       "      <td>0.664982</td>\n",
       "    </tr>\n",
       "    <tr>\n",
       "      <th>65</th>\n",
       "      <td>9.3</td>\n",
       "      <td>7.608607</td>\n",
       "      <td>1.691393</td>\n",
       "    </tr>\n",
       "    <tr>\n",
       "      <th>60</th>\n",
       "      <td>8.1</td>\n",
       "      <td>5.611980</td>\n",
       "      <td>2.488020</td>\n",
       "    </tr>\n",
       "    <tr>\n",
       "      <th>84</th>\n",
       "      <td>21.7</td>\n",
       "      <td>20.917595</td>\n",
       "      <td>0.782405</td>\n",
       "    </tr>\n",
       "    <tr>\n",
       "      <th>67</th>\n",
       "      <td>13.4</td>\n",
       "      <td>11.806277</td>\n",
       "      <td>1.593723</td>\n",
       "    </tr>\n",
       "    <tr>\n",
       "      <th>125</th>\n",
       "      <td>10.6</td>\n",
       "      <td>9.080766</td>\n",
       "      <td>1.519234</td>\n",
       "    </tr>\n",
       "    <tr>\n",
       "      <th>132</th>\n",
       "      <td>5.7</td>\n",
       "      <td>8.514120</td>\n",
       "      <td>-2.814120</td>\n",
       "    </tr>\n",
       "    <tr>\n",
       "      <th>9</th>\n",
       "      <td>10.6</td>\n",
       "      <td>12.176049</td>\n",
       "      <td>-1.576049</td>\n",
       "    </tr>\n",
       "    <tr>\n",
       "      <th>18</th>\n",
       "      <td>11.3</td>\n",
       "      <td>9.969194</td>\n",
       "      <td>1.330806</td>\n",
       "    </tr>\n",
       "    <tr>\n",
       "      <th>55</th>\n",
       "      <td>23.7</td>\n",
       "      <td>21.730090</td>\n",
       "      <td>1.969910</td>\n",
       "    </tr>\n",
       "    <tr>\n",
       "      <th>75</th>\n",
       "      <td>8.7</td>\n",
       "      <td>12.777706</td>\n",
       "      <td>-4.077706</td>\n",
       "    </tr>\n",
       "    <tr>\n",
       "      <th>150</th>\n",
       "      <td>16.1</td>\n",
       "      <td>18.101136</td>\n",
       "      <td>-2.001136</td>\n",
       "    </tr>\n",
       "    <tr>\n",
       "      <th>104</th>\n",
       "      <td>20.7</td>\n",
       "      <td>20.075908</td>\n",
       "      <td>0.624092</td>\n",
       "    </tr>\n",
       "    <tr>\n",
       "      <th>135</th>\n",
       "      <td>11.6</td>\n",
       "      <td>14.262026</td>\n",
       "      <td>-2.662026</td>\n",
       "    </tr>\n",
       "    <tr>\n",
       "      <th>137</th>\n",
       "      <td>20.8</td>\n",
       "      <td>20.938265</td>\n",
       "      <td>-0.138265</td>\n",
       "    </tr>\n",
       "    <tr>\n",
       "      <th>164</th>\n",
       "      <td>11.9</td>\n",
       "      <td>10.839388</td>\n",
       "      <td>1.060612</td>\n",
       "    </tr>\n",
       "    <tr>\n",
       "      <th>76</th>\n",
       "      <td>6.9</td>\n",
       "      <td>4.381906</td>\n",
       "      <td>2.518094</td>\n",
       "    </tr>\n",
       "    <tr>\n",
       "      <th>79</th>\n",
       "      <td>11.0</td>\n",
       "      <td>9.513324</td>\n",
       "      <td>1.486676</td>\n",
       "    </tr>\n",
       "    <tr>\n",
       "      <th>197</th>\n",
       "      <td>12.8</td>\n",
       "      <td>12.404863</td>\n",
       "      <td>0.395137</td>\n",
       "    </tr>\n",
       "    <tr>\n",
       "      <th>38</th>\n",
       "      <td>10.1</td>\n",
       "      <td>10.170454</td>\n",
       "      <td>-0.070454</td>\n",
       "    </tr>\n",
       "    <tr>\n",
       "      <th>24</th>\n",
       "      <td>9.7</td>\n",
       "      <td>8.090814</td>\n",
       "      <td>1.609186</td>\n",
       "    </tr>\n",
       "    <tr>\n",
       "      <th>122</th>\n",
       "      <td>11.6</td>\n",
       "      <td>13.163884</td>\n",
       "      <td>-1.563884</td>\n",
       "    </tr>\n",
       "    <tr>\n",
       "      <th>195</th>\n",
       "      <td>7.6</td>\n",
       "      <td>5.224355</td>\n",
       "      <td>2.375645</td>\n",
       "    </tr>\n",
       "    <tr>\n",
       "      <th>29</th>\n",
       "      <td>10.5</td>\n",
       "      <td>9.288938</td>\n",
       "      <td>1.211062</td>\n",
       "    </tr>\n",
       "    <tr>\n",
       "      <th>19</th>\n",
       "      <td>14.6</td>\n",
       "      <td>14.093307</td>\n",
       "      <td>0.506693</td>\n",
       "    </tr>\n",
       "    <tr>\n",
       "      <th>143</th>\n",
       "      <td>10.4</td>\n",
       "      <td>8.690245</td>\n",
       "      <td>1.709755</td>\n",
       "    </tr>\n",
       "    <tr>\n",
       "      <th>86</th>\n",
       "      <td>12.0</td>\n",
       "      <td>11.661198</td>\n",
       "      <td>0.338802</td>\n",
       "    </tr>\n",
       "    <tr>\n",
       "      <th>114</th>\n",
       "      <td>14.6</td>\n",
       "      <td>15.718484</td>\n",
       "      <td>-1.118484</td>\n",
       "    </tr>\n",
       "    <tr>\n",
       "      <th>173</th>\n",
       "      <td>11.7</td>\n",
       "      <td>11.631569</td>\n",
       "      <td>0.068431</td>\n",
       "    </tr>\n",
       "    <tr>\n",
       "      <th>5</th>\n",
       "      <td>7.2</td>\n",
       "      <td>13.353607</td>\n",
       "      <td>-6.153607</td>\n",
       "    </tr>\n",
       "    <tr>\n",
       "      <th>126</th>\n",
       "      <td>6.6</td>\n",
       "      <td>11.153147</td>\n",
       "      <td>-4.553147</td>\n",
       "    </tr>\n",
       "    <tr>\n",
       "      <th>117</th>\n",
       "      <td>9.4</td>\n",
       "      <td>6.336368</td>\n",
       "      <td>3.063632</td>\n",
       "    </tr>\n",
       "    <tr>\n",
       "      <th>73</th>\n",
       "      <td>11.0</td>\n",
       "      <td>9.761580</td>\n",
       "      <td>1.238420</td>\n",
       "    </tr>\n",
       "    <tr>\n",
       "      <th>140</th>\n",
       "      <td>10.9</td>\n",
       "      <td>9.419571</td>\n",
       "      <td>1.480429</td>\n",
       "    </tr>\n",
       "    <tr>\n",
       "      <th>98</th>\n",
       "      <td>25.4</td>\n",
       "      <td>24.255165</td>\n",
       "      <td>1.144835</td>\n",
       "    </tr>\n",
       "    <tr>\n",
       "      <th>172</th>\n",
       "      <td>7.6</td>\n",
       "      <td>7.695191</td>\n",
       "      <td>-0.095191</td>\n",
       "    </tr>\n",
       "    <tr>\n",
       "      <th>96</th>\n",
       "      <td>11.7</td>\n",
       "      <td>12.153176</td>\n",
       "      <td>-0.453176</td>\n",
       "    </tr>\n",
       "  </tbody>\n",
       "</table>\n",
       "</div>"
      ],
      "text/plain": [
       "     actual       pred  residual\n",
       "95     16.9  16.565396  0.334604\n",
       "15     22.4  21.188228  1.211772\n",
       "30     21.4  21.551071 -0.151071\n",
       "158     7.3  10.889238 -3.589238\n",
       "128    24.7  22.202320  2.497680\n",
       "115    12.6  13.355569 -0.755569\n",
       "69     22.3  21.196925  1.103075\n",
       "170     8.4   7.350285  1.049715\n",
       "174    11.5  13.275471 -1.775471\n",
       "45     14.9  15.124495 -0.224495\n",
       "66      9.5   9.014430  0.485570\n",
       "182     8.7   6.525428  2.174572\n",
       "165    11.9  14.302060 -2.402060\n",
       "78      5.3   8.970260 -3.670260\n",
       "186    10.3   9.456796  0.843204\n",
       "177    11.7  12.004544 -0.304544\n",
       "56      5.5   8.915494 -3.415494\n",
       "152    16.6  16.156193  0.443807\n",
       "82     11.3  10.295829  1.004171\n",
       "68     18.9  18.724736  0.175264\n",
       "124    19.7  19.768218 -0.068218\n",
       "16     12.5  13.774690 -1.274690\n",
       "148    10.9  12.496389 -1.596389\n",
       "93     22.2  21.535018  0.664982\n",
       "65      9.3   7.608607  1.691393\n",
       "60      8.1   5.611980  2.488020\n",
       "84     21.7  20.917595  0.782405\n",
       "67     13.4  11.806277  1.593723\n",
       "125    10.6   9.080766  1.519234\n",
       "132     5.7   8.514120 -2.814120\n",
       "9      10.6  12.176049 -1.576049\n",
       "18     11.3   9.969194  1.330806\n",
       "55     23.7  21.730090  1.969910\n",
       "75      8.7  12.777706 -4.077706\n",
       "150    16.1  18.101136 -2.001136\n",
       "104    20.7  20.075908  0.624092\n",
       "135    11.6  14.262026 -2.662026\n",
       "137    20.8  20.938265 -0.138265\n",
       "164    11.9  10.839388  1.060612\n",
       "76      6.9   4.381906  2.518094\n",
       "79     11.0   9.513324  1.486676\n",
       "197    12.8  12.404863  0.395137\n",
       "38     10.1  10.170454 -0.070454\n",
       "24      9.7   8.090814  1.609186\n",
       "122    11.6  13.163884 -1.563884\n",
       "195     7.6   5.224355  2.375645\n",
       "29     10.5   9.288938  1.211062\n",
       "19     14.6  14.093307  0.506693\n",
       "143    10.4   8.690245  1.709755\n",
       "86     12.0  11.661198  0.338802\n",
       "114    14.6  15.718484 -1.118484\n",
       "173    11.7  11.631569  0.068431\n",
       "5       7.2  13.353607 -6.153607\n",
       "126     6.6  11.153147 -4.553147\n",
       "117     9.4   6.336368  3.063632\n",
       "73     11.0   9.761580  1.238420\n",
       "140    10.9   9.419571  1.480429\n",
       "98     25.4  24.255165  1.144835\n",
       "172     7.6   7.695191 -0.095191\n",
       "96     11.7  12.153176 -0.453176"
      ]
     },
     "execution_count": 79,
     "metadata": {},
     "output_type": "execute_result"
    }
   ],
   "source": [
    "comparison = pd.DataFrame(my_dict)\n",
    "comparison"
   ]
  },
  {
   "cell_type": "code",
   "execution_count": 80,
   "id": "20e3d67f",
   "metadata": {
    "ExecuteTime": {
     "end_time": "2023-11-03T14:58:47.724778Z",
     "start_time": "2023-11-03T14:58:47.696698Z"
    }
   },
   "outputs": [
    {
     "data": {
      "text/html": [
       "<div>\n",
       "<style scoped>\n",
       "    .dataframe tbody tr th:only-of-type {\n",
       "        vertical-align: middle;\n",
       "    }\n",
       "\n",
       "    .dataframe tbody tr th {\n",
       "        vertical-align: top;\n",
       "    }\n",
       "\n",
       "    .dataframe thead th {\n",
       "        text-align: right;\n",
       "    }\n",
       "</style>\n",
       "<table border=\"1\" class=\"dataframe\">\n",
       "  <thead>\n",
       "    <tr style=\"text-align: right;\">\n",
       "      <th></th>\n",
       "      <th>actual</th>\n",
       "      <th>pred</th>\n",
       "      <th>residual</th>\n",
       "    </tr>\n",
       "  </thead>\n",
       "  <tbody>\n",
       "    <tr>\n",
       "      <th>79</th>\n",
       "      <td>11.0</td>\n",
       "      <td>9.513324</td>\n",
       "      <td>1.486676</td>\n",
       "    </tr>\n",
       "    <tr>\n",
       "      <th>197</th>\n",
       "      <td>12.8</td>\n",
       "      <td>12.404863</td>\n",
       "      <td>0.395137</td>\n",
       "    </tr>\n",
       "    <tr>\n",
       "      <th>66</th>\n",
       "      <td>9.5</td>\n",
       "      <td>9.014430</td>\n",
       "      <td>0.485570</td>\n",
       "    </tr>\n",
       "    <tr>\n",
       "      <th>182</th>\n",
       "      <td>8.7</td>\n",
       "      <td>6.525428</td>\n",
       "      <td>2.174572</td>\n",
       "    </tr>\n",
       "    <tr>\n",
       "      <th>67</th>\n",
       "      <td>13.4</td>\n",
       "      <td>11.806277</td>\n",
       "      <td>1.593723</td>\n",
       "    </tr>\n",
       "    <tr>\n",
       "      <th>124</th>\n",
       "      <td>19.7</td>\n",
       "      <td>19.768218</td>\n",
       "      <td>-0.068218</td>\n",
       "    </tr>\n",
       "    <tr>\n",
       "      <th>76</th>\n",
       "      <td>6.9</td>\n",
       "      <td>4.381906</td>\n",
       "      <td>2.518094</td>\n",
       "    </tr>\n",
       "    <tr>\n",
       "      <th>15</th>\n",
       "      <td>22.4</td>\n",
       "      <td>21.188228</td>\n",
       "      <td>1.211772</td>\n",
       "    </tr>\n",
       "    <tr>\n",
       "      <th>173</th>\n",
       "      <td>11.7</td>\n",
       "      <td>11.631569</td>\n",
       "      <td>0.068431</td>\n",
       "    </tr>\n",
       "    <tr>\n",
       "      <th>122</th>\n",
       "      <td>11.6</td>\n",
       "      <td>13.163884</td>\n",
       "      <td>-1.563884</td>\n",
       "    </tr>\n",
       "    <tr>\n",
       "      <th>195</th>\n",
       "      <td>7.6</td>\n",
       "      <td>5.224355</td>\n",
       "      <td>2.375645</td>\n",
       "    </tr>\n",
       "    <tr>\n",
       "      <th>93</th>\n",
       "      <td>22.2</td>\n",
       "      <td>21.535018</td>\n",
       "      <td>0.664982</td>\n",
       "    </tr>\n",
       "    <tr>\n",
       "      <th>45</th>\n",
       "      <td>14.9</td>\n",
       "      <td>15.124495</td>\n",
       "      <td>-0.224495</td>\n",
       "    </tr>\n",
       "    <tr>\n",
       "      <th>56</th>\n",
       "      <td>5.5</td>\n",
       "      <td>8.915494</td>\n",
       "      <td>-3.415494</td>\n",
       "    </tr>\n",
       "    <tr>\n",
       "      <th>143</th>\n",
       "      <td>10.4</td>\n",
       "      <td>8.690245</td>\n",
       "      <td>1.709755</td>\n",
       "    </tr>\n",
       "    <tr>\n",
       "      <th>78</th>\n",
       "      <td>5.3</td>\n",
       "      <td>8.970260</td>\n",
       "      <td>-3.670260</td>\n",
       "    </tr>\n",
       "    <tr>\n",
       "      <th>55</th>\n",
       "      <td>23.7</td>\n",
       "      <td>21.730090</td>\n",
       "      <td>1.969910</td>\n",
       "    </tr>\n",
       "    <tr>\n",
       "      <th>115</th>\n",
       "      <td>12.6</td>\n",
       "      <td>13.355569</td>\n",
       "      <td>-0.755569</td>\n",
       "    </tr>\n",
       "    <tr>\n",
       "      <th>84</th>\n",
       "      <td>21.7</td>\n",
       "      <td>20.917595</td>\n",
       "      <td>0.782405</td>\n",
       "    </tr>\n",
       "    <tr>\n",
       "      <th>150</th>\n",
       "      <td>16.1</td>\n",
       "      <td>18.101136</td>\n",
       "      <td>-2.001136</td>\n",
       "    </tr>\n",
       "    <tr>\n",
       "      <th>135</th>\n",
       "      <td>11.6</td>\n",
       "      <td>14.262026</td>\n",
       "      <td>-2.662026</td>\n",
       "    </tr>\n",
       "    <tr>\n",
       "      <th>172</th>\n",
       "      <td>7.6</td>\n",
       "      <td>7.695191</td>\n",
       "      <td>-0.095191</td>\n",
       "    </tr>\n",
       "    <tr>\n",
       "      <th>165</th>\n",
       "      <td>11.9</td>\n",
       "      <td>14.302060</td>\n",
       "      <td>-2.402060</td>\n",
       "    </tr>\n",
       "    <tr>\n",
       "      <th>126</th>\n",
       "      <td>6.6</td>\n",
       "      <td>11.153147</td>\n",
       "      <td>-4.553147</td>\n",
       "    </tr>\n",
       "    <tr>\n",
       "      <th>128</th>\n",
       "      <td>24.7</td>\n",
       "      <td>22.202320</td>\n",
       "      <td>2.497680</td>\n",
       "    </tr>\n",
       "  </tbody>\n",
       "</table>\n",
       "</div>"
      ],
      "text/plain": [
       "     actual       pred  residual\n",
       "79     11.0   9.513324  1.486676\n",
       "197    12.8  12.404863  0.395137\n",
       "66      9.5   9.014430  0.485570\n",
       "182     8.7   6.525428  2.174572\n",
       "67     13.4  11.806277  1.593723\n",
       "124    19.7  19.768218 -0.068218\n",
       "76      6.9   4.381906  2.518094\n",
       "15     22.4  21.188228  1.211772\n",
       "173    11.7  11.631569  0.068431\n",
       "122    11.6  13.163884 -1.563884\n",
       "195     7.6   5.224355  2.375645\n",
       "93     22.2  21.535018  0.664982\n",
       "45     14.9  15.124495 -0.224495\n",
       "56      5.5   8.915494 -3.415494\n",
       "143    10.4   8.690245  1.709755\n",
       "78      5.3   8.970260 -3.670260\n",
       "55     23.7  21.730090  1.969910\n",
       "115    12.6  13.355569 -0.755569\n",
       "84     21.7  20.917595  0.782405\n",
       "150    16.1  18.101136 -2.001136\n",
       "135    11.6  14.262026 -2.662026\n",
       "172     7.6   7.695191 -0.095191\n",
       "165    11.9  14.302060 -2.402060\n",
       "126     6.6  11.153147 -4.553147\n",
       "128    24.7  22.202320  2.497680"
      ]
     },
     "execution_count": 80,
     "metadata": {},
     "output_type": "execute_result"
    }
   ],
   "source": [
    "# taking 25 random results and visualizing their residuals\n",
    "results_sample = comparison.sample(25)\n",
    "results_sample"
   ]
  },
  {
   "cell_type": "code",
   "execution_count": 81,
   "id": "628b7e41",
   "metadata": {
    "ExecuteTime": {
     "end_time": "2023-11-03T14:59:38.005330Z",
     "start_time": "2023-11-03T14:59:37.771937Z"
    }
   },
   "outputs": [
    {
     "data": {
      "image/png": "[encoded data removed]",
      "text/plain": [
       "<Figure size 1080x648 with 1 Axes>"
      ]
     },
     "metadata": {
      "needs_background": "light"
     },
     "output_type": "display_data"
    }
   ],
   "source": [
    "results_sample.plot(kind = 'bar', figsize = (15,9));"
   ]
  },
  {
   "cell_type": "markdown",
   "id": "ce4a3735",
   "metadata": {},
   "source": [
    "## Error Metrics"
   ]
  },
  {
   "cell_type": "code",
   "execution_count": 82,
   "id": "3ea02c51",
   "metadata": {
    "ExecuteTime": {
     "end_time": "2023-11-03T15:03:48.656581Z",
     "start_time": "2023-11-03T15:03:48.648969Z"
    }
   },
   "outputs": [],
   "source": [
    "# importing performance testing metrics\n",
    "from sklearn.metrics import mean_absolute_error, mean_squared_error, r2_score\n",
    "\n",
    "# RMSE will be calculated manually"
   ]
  },
  {
   "cell_type": "code",
   "execution_count": 84,
   "id": "3778e230",
   "metadata": {
    "ExecuteTime": {
     "end_time": "2023-11-05T10:42:13.611469Z",
     "start_time": "2023-11-05T10:42:13.598534Z"
    }
   },
   "outputs": [
    {
     "data": {
      "text/plain": [
       "0.8609466508230369"
      ]
     },
     "execution_count": 84,
     "metadata": {},
     "output_type": "execute_result"
    }
   ],
   "source": [
    "R2_score = r2_score(y_test,y_pred)\n",
    "R2_score"
   ]
  },
  {
   "cell_type": "code",
   "execution_count": 86,
   "id": "cb16860f",
   "metadata": {
    "ExecuteTime": {
     "end_time": "2023-11-05T10:51:54.686661Z",
     "start_time": "2023-11-05T10:51:54.679760Z"
    }
   },
   "outputs": [
    {
     "data": {
      "text/plain": [
       "1.5116692224549086"
      ]
     },
     "execution_count": 86,
     "metadata": {},
     "output_type": "execute_result"
    }
   ],
   "source": [
    "# MAE calculation\n",
    "# We prefer close to 0 value\n",
    "mae = mean_absolute_error(y_test,y_pred)\n",
    "mae"
   ]
  },
  {
   "cell_type": "code",
   "execution_count": 87,
   "id": "35017d64",
   "metadata": {
    "ExecuteTime": {
     "end_time": "2023-11-05T10:52:33.386962Z",
     "start_time": "2023-11-05T10:52:33.377458Z"
    }
   },
   "outputs": [
    {
     "data": {
      "text/plain": [
       "3.796797236715217"
      ]
     },
     "execution_count": 87,
     "metadata": {},
     "output_type": "execute_result"
    }
   ],
   "source": [
    "# MSE calculation\n",
    "# we prefer close to 0 value\n",
    "mse = mean_squared_error(y_test,y_pred)\n",
    "mse"
   ]
  },
  {
   "cell_type": "code",
   "execution_count": 88,
   "id": "f8d42260",
   "metadata": {
    "ExecuteTime": {
     "end_time": "2023-11-05T10:53:34.596693Z",
     "start_time": "2023-11-05T10:53:34.588042Z"
    }
   },
   "outputs": [
    {
     "data": {
      "text/plain": [
       "1.9485372043446378"
      ]
     },
     "execution_count": 88,
     "metadata": {},
     "output_type": "execute_result"
    }
   ],
   "source": [
    "# RMSE calculation\n",
    "rmse = np.sqrt(mean_squared_error(y_test,y_pred))\n",
    "rmse"
   ]
  },
  {
   "cell_type": "code",
   "execution_count": 89,
   "id": "8015b67e",
   "metadata": {
    "ExecuteTime": {
     "end_time": "2023-11-05T11:16:37.882907Z",
     "start_time": "2023-11-05T11:16:37.869991Z"
    }
   },
   "outputs": [
    {
     "data": {
      "text/plain": [
       "14.022500000000003"
      ]
     },
     "execution_count": 89,
     "metadata": {},
     "output_type": "execute_result"
    }
   ],
   "source": [
    "# mean error ratio\n",
    "sales_mean = df['sales'].mean()\n",
    "sales_mean"
   ]
  },
  {
   "cell_type": "code",
   "execution_count": 90,
   "id": "7bcae335",
   "metadata": {
    "ExecuteTime": {
     "end_time": "2023-11-05T11:16:51.141171Z",
     "start_time": "2023-11-05T11:16:51.135811Z"
    }
   },
   "outputs": [
    {
     "data": {
      "text/plain": [
       "0.10780311802138766"
      ]
     },
     "execution_count": 90,
     "metadata": {},
     "output_type": "execute_result"
    }
   ],
   "source": [
    "mae / sales_mean\n",
    "\n",
    "# Shows us that our mae is not too significant based on our test"
   ]
  },
  {
   "cell_type": "code",
   "execution_count": 92,
   "id": "88e3fc82",
   "metadata": {
    "ExecuteTime": {
     "end_time": "2023-11-05T11:18:14.168571Z",
     "start_time": "2023-11-05T11:18:14.162279Z"
    }
   },
   "outputs": [
    {
     "data": {
      "text/plain": [
       "0.2707646451570844"
      ]
     },
     "execution_count": 92,
     "metadata": {},
     "output_type": "execute_result"
    }
   ],
   "source": [
    "# same with mse to sales mean ratio, the closer to 0 it is the better after comparing\n",
    "# with other potential models\n",
    "\n",
    "mse / sales_mean"
   ]
  },
  {
   "cell_type": "code",
   "execution_count": 94,
   "id": "f42378d9",
   "metadata": {
    "ExecuteTime": {
     "end_time": "2023-11-05T11:18:48.653887Z",
     "start_time": "2023-11-05T11:18:48.647672Z"
    }
   },
   "outputs": [
    {
     "data": {
      "text/plain": [
       "0.1389579036794179"
      ]
     },
     "execution_count": 94,
     "metadata": {},
     "output_type": "execute_result"
    }
   ],
   "source": [
    "# rmse is more sensitive to heavier errors making it more reliable\n",
    "\n",
    "rmse / sales_mean"
   ]
  },
  {
   "cell_type": "markdown",
   "id": "13f2b498",
   "metadata": {},
   "source": [
    "## Adjusted R^2 Score"
   ]
  },
  {
   "cell_type": "markdown",
   "id": "c65ece09",
   "metadata": {},
   "source": [
    "Adjusted R^2 = 1-[(1-R^2)* (n-1)/(n-p-1)]"
   ]
  },
  {
   "cell_type": "code",
   "execution_count": 95,
   "id": "b2f55761",
   "metadata": {
    "ExecuteTime": {
     "end_time": "2023-11-05T12:22:28.826384Z",
     "start_time": "2023-11-05T12:22:28.815073Z"
    }
   },
   "outputs": [],
   "source": [
    "def adj_r2(y_test,y_pred, df):\n",
    "    r2 = r2_score(y_test,y_pred)  #r2 score\n",
    "    n = df.shape[0]             #number of observations\n",
    "    p = df.shape[1]-1          # number of ind. variables / features\n",
    "    adj_r2 = 1 - (1-r2)*(n-1)/(n-p-1) # adj r2 formula\n",
    "    return adj_r2\n",
    "    "
   ]
  },
  {
   "cell_type": "code",
   "execution_count": 96,
   "id": "88e5a26f",
   "metadata": {
    "ExecuteTime": {
     "end_time": "2023-11-05T12:22:46.081294Z",
     "start_time": "2023-11-05T12:22:46.065241Z"
    }
   },
   "outputs": [
    {
     "data": {
      "text/plain": [
       "0.8588182832335935"
      ]
     },
     "execution_count": 96,
     "metadata": {},
     "output_type": "execute_result"
    }
   ],
   "source": [
    "adj_r2(y_test,y_pred,df)"
   ]
  },
  {
   "cell_type": "code",
   "execution_count": 101,
   "id": "703fec38",
   "metadata": {
    "ExecuteTime": {
     "end_time": "2023-11-05T12:24:39.894081Z",
     "start_time": "2023-11-05T12:24:39.886391Z"
    }
   },
   "outputs": [
    {
     "data": {
      "text/plain": [
       "3"
      ]
     },
     "execution_count": 101,
     "metadata": {},
     "output_type": "execute_result"
    }
   ],
   "source": []
  },
  {
   "cell_type": "markdown",
   "id": "6cb2d224",
   "metadata": {},
   "source": [
    "## Evaluation Model"
   ]
  },
  {
   "cell_type": "code",
   "execution_count": 110,
   "id": "ad40dcc2",
   "metadata": {
    "ExecuteTime": {
     "end_time": "2023-11-05T13:00:28.023345Z",
     "start_time": "2023-11-05T13:00:28.016271Z"
    }
   },
   "outputs": [],
   "source": [
    "def eval_metric(actual, pred):\n",
    "    mae = mean_absolute_error(actual, pred)\n",
    "    mse = mean_squared_error(actual, pred)\n",
    "    rmse = np.sqrt(mean_squared_error(actual, pred))\n",
    "    R2_score = r2_score(actual, pred)\n",
    "    print('Model Testing Performance:')\n",
    "    print('-------------------------------------')\n",
    "    print(f'R2 score \\t: {R2_score}')\n",
    "    print(f'MAE \\t\\t: {mae}')\n",
    "    print(f'MSE \\t\\t: {mse}')\n",
    "    print(f'RMSE \\t\\t: {rmse}')"
   ]
  },
  {
   "cell_type": "code",
   "execution_count": 111,
   "id": "04790bda",
   "metadata": {
    "ExecuteTime": {
     "end_time": "2023-11-05T13:00:28.190651Z",
     "start_time": "2023-11-05T13:00:28.181029Z"
    }
   },
   "outputs": [
    {
     "name": "stdout",
     "output_type": "stream",
     "text": [
      "Model Testing Performance:\n",
      "-------------------------------------\n",
      "R2 score \t: 0.8609466508230369\n",
      "MAE \t\t: 1.5116692224549086\n",
      "MSE \t\t: 3.796797236715217\n",
      "RMSE \t\t: 1.9485372043446378\n"
     ]
    }
   ],
   "source": [
    "eval_metric(y_test,y_pred)"
   ]
  },
  {
   "cell_type": "code",
   "execution_count": 112,
   "id": "cfc35a47",
   "metadata": {
    "ExecuteTime": {
     "end_time": "2023-11-05T13:19:52.787809Z",
     "start_time": "2023-11-05T13:19:52.784876Z"
    }
   },
   "outputs": [],
   "source": [
    "# Testing for overfitting using r2 of train and comparing with r2 of test"
   ]
  },
  {
   "cell_type": "code",
   "execution_count": 114,
   "id": "70255ae1",
   "metadata": {
    "ExecuteTime": {
     "end_time": "2023-11-05T13:24:35.944875Z",
     "start_time": "2023-11-05T13:24:35.928931Z"
    }
   },
   "outputs": [
    {
     "data": {
      "text/plain": [
       "array([17.39149783, 15.19196153, 11.41650701, 11.20610472, 16.39256165,\n",
       "        6.90577778, 21.17740606,  6.10528574,  9.66662607, 11.67308587,\n",
       "        9.0704377 ,  6.30582199, 14.7930121 , 17.42999512, 16.14599956,\n",
       "       16.12273906, 14.9308629 , 19.61593142, 13.70741553, 21.09067507,\n",
       "       13.09101877, 13.79551693,  8.87971636, 16.97348947,  8.22902448,\n",
       "       15.34026923, 13.95862675, 23.23157581, 12.67992504, 23.10768546,\n",
       "        6.80057243, 18.81832259, 23.69669553, 18.39890879, 16.97890645,\n",
       "       16.44055305, 12.41657918, 11.94072527, 16.7732918 , 14.5933997 ,\n",
       "       13.22910727,  7.49691601, 19.30121038,  9.33105452, 19.3603766 ,\n",
       "       10.16463427,  6.94369039, 16.52918217, 13.53571009, 14.80225851,\n",
       "       11.13948107, 20.85632272, 24.02985438, 18.427486  , 17.84570024,\n",
       "       15.11333638, 17.21352856,  9.2345359 , 17.29735156, 19.22919752,\n",
       "       16.29255016,  3.54203145,  5.24055709, 15.86268553, 15.12384811,\n",
       "       16.31596188, 18.34249185, 23.4941462 , 14.34540589, 20.48784226,\n",
       "       17.29893239, 21.67652708, 10.30595955, 15.25363154, 13.68052604,\n",
       "        9.90613461, 18.01712723, 18.43772847, 20.3652561 , 19.37970879,\n",
       "       10.18390434, 15.52162749, 20.86386386,  8.24145294, 11.54953301,\n",
       "        7.25535492, 11.99074605, 14.68055076,  4.4950967 , 14.83591282,\n",
       "       19.81147067, 13.60063366, 17.42635854,  3.5132451 ,  8.56886762,\n",
       "       17.93522755, 14.44803773, 15.26734959, 23.38305647, 10.59905655,\n",
       "       24.94180909, 12.47872281, 12.99022295, 24.44392073, 13.19055975,\n",
       "       20.1322331 ,  6.91136723, 12.36791752,  7.89158996, 22.14077381,\n",
       "       16.21139454, 12.18638677, 14.34672625, 12.65039181, 14.12757003,\n",
       "        4.50133295,  8.02296589, 16.15950779,  9.73534671, 18.45288885,\n",
       "       12.81198432, 20.82621122,  9.96179489, 10.6914528 , 10.04931249,\n",
       "       14.53862883, 17.29195706, 11.86800298, 16.11235485, 17.1038322 ,\n",
       "        8.20867785, 14.70885801, 18.21928267, 18.10546473, 10.61464308,\n",
       "        6.20700241, 18.57459979, 19.38285038, 12.11917215, 17.21444781])"
      ]
     },
     "execution_count": 114,
     "metadata": {},
     "output_type": "execute_result"
    }
   ],
   "source": [
    "# X train prediction\n",
    "\n",
    "y_train_pred = model.predict(X_train)\n",
    "y_train_pred"
   ]
  },
  {
   "cell_type": "code",
   "execution_count": 115,
   "id": "0c9bbf2d",
   "metadata": {
    "ExecuteTime": {
     "end_time": "2023-11-05T13:25:59.680735Z",
     "start_time": "2023-11-05T13:25:59.671003Z"
    }
   },
   "outputs": [
    {
     "name": "stdout",
     "output_type": "stream",
     "text": [
      "Model Testing Performance:\n",
      "-------------------------------------\n",
      "R2 score \t: 0.9055159502227753\n",
      "MAE \t\t: 1.1581502948072528\n",
      "MSE \t\t: 2.4793551789057866\n",
      "RMSE \t\t: 1.574596830590544\n"
     ]
    }
   ],
   "source": [
    "eval_metric(y_train,y_train_pred)"
   ]
  },
  {
   "cell_type": "markdown",
   "id": "ef5c3699",
   "metadata": {},
   "source": [
    "## Plotting Residuals"
   ]
  },
  {
   "cell_type": "code",
   "execution_count": 116,
   "id": "62fdb39b",
   "metadata": {
    "ExecuteTime": {
     "end_time": "2023-11-05T13:35:43.323934Z",
     "start_time": "2023-11-05T13:35:43.312829Z"
    }
   },
   "outputs": [],
   "source": [
    "residuals = y_test - y_pred"
   ]
  },
  {
   "cell_type": "code",
   "execution_count": 118,
   "id": "396ce6ed",
   "metadata": {
    "ExecuteTime": {
     "end_time": "2023-11-05T13:38:52.256209Z",
     "start_time": "2023-11-05T13:38:52.141755Z"
    }
   },
   "outputs": [
    {
     "data": {
      "image/png": "[encoded data removed]",
      "text/plain": [
       "<Figure size 720x432 with 1 Axes>"
      ]
     },
     "metadata": {
      "needs_background": "light"
     },
     "output_type": "display_data"
    }
   ],
   "source": [
    "# we're looking for a no correlation view\n",
    "\n",
    "plt.figure(figsize = (10,6))\n",
    "sns.scatterplot(x = y_test, y = residuals)\n",
    "plt.xlabel('Sales')\n",
    "plt.ylabel('Residuals')\n",
    "plt.axhline(y = 0, color = 'r', linestyle = '--');"
   ]
  },
  {
   "cell_type": "code",
   "execution_count": 122,
   "id": "5cd66a2c",
   "metadata": {
    "ExecuteTime": {
     "end_time": "2023-11-05T13:40:24.600771Z",
     "start_time": "2023-11-05T13:40:24.493292Z"
    }
   },
   "outputs": [
    {
     "data": {
      "image/png": "[encoded data removed]",
      "text/plain": [
       "<Figure size 720x432 with 1 Axes>"
      ]
     },
     "metadata": {
      "needs_background": "light"
     },
     "output_type": "display_data"
    }
   ],
   "source": [
    "plt.figure(figsize = (10,6))\n",
    "sns.kdeplot(residuals);\n"
   ]
  },
  {
   "cell_type": "code",
   "execution_count": 125,
   "id": "e7947e60",
   "metadata": {
    "ExecuteTime": {
     "end_time": "2023-11-05T13:42:17.332236Z",
     "start_time": "2023-11-05T13:42:17.229058Z"
    }
   },
   "outputs": [
    {
     "data": {
      "image/png": "[encoded data removed]",
      "text/plain": [
       "<Figure size 720x432 with 1 Axes>"
      ]
     },
     "metadata": {
      "needs_background": "light"
     },
     "output_type": "display_data"
    }
   ],
   "source": [
    "# Plotting the Q-Q graph\n",
    "# checking if residuals are normally distributed\n",
    "\n",
    "plt.figure(figsize = (10,6))\n",
    "stats.probplot(residuals, dist = 'norm', plot = plt);"
   ]
  },
  {
   "cell_type": "code",
   "execution_count": 128,
   "id": "4cac09e5",
   "metadata": {
    "ExecuteTime": {
     "end_time": "2023-11-05T13:44:10.028055Z",
     "start_time": "2023-11-05T13:44:10.019067Z"
    }
   },
   "outputs": [
    {
     "data": {
      "text/plain": [
       "-0.9865673346742714"
      ]
     },
     "execution_count": 128,
     "metadata": {},
     "output_type": "execute_result"
    }
   ],
   "source": [
    "# we can consider normal since between -1 and 1\n",
    "skew(residuals)"
   ]
  },
  {
   "cell_type": "code",
   "execution_count": 130,
   "id": "b1861d9e",
   "metadata": {
    "ExecuteTime": {
     "end_time": "2023-11-05T13:46:30.462010Z",
     "start_time": "2023-11-05T13:45:18.341518Z"
    }
   },
   "outputs": [
    {
     "name": "stdout",
     "output_type": "stream",
     "text": [
      "Collecting yellowbrick\n",
      "  Downloading yellowbrick-1.5-py3-none-any.whl (282 kB)\n",
      "\u001b[K     |████████████████████████████████| 282 kB 922 kB/s eta 0:00:01\n",
      "\u001b[?25hRequirement already satisfied: scikit-learn>=1.0.0 in /Users/mahmooooodie/opt/anaconda3/lib/python3.9/site-packages (from yellowbrick) (1.0.2)\n",
      "Requirement already satisfied: numpy>=1.16.0 in /Users/mahmooooodie/opt/anaconda3/lib/python3.9/site-packages (from yellowbrick) (1.23.1)\n",
      "Requirement already satisfied: cycler>=0.10.0 in /Users/mahmooooodie/opt/anaconda3/lib/python3.9/site-packages (from yellowbrick) (0.11.0)\n",
      "Requirement already satisfied: matplotlib!=3.0.0,>=2.0.2 in /Users/mahmooooodie/opt/anaconda3/lib/python3.9/site-packages (from yellowbrick) (3.5.2)\n",
      "Requirement already satisfied: scipy>=1.0.0 in /Users/mahmooooodie/opt/anaconda3/lib/python3.9/site-packages (from yellowbrick) (1.11.2)\n",
      "Requirement already satisfied: python-dateutil>=2.7 in /Users/mahmooooodie/opt/anaconda3/lib/python3.9/site-packages (from matplotlib!=3.0.0,>=2.0.2->yellowbrick) (2.8.2)\n",
      "Requirement already satisfied: pyparsing>=2.2.1 in /Users/mahmooooodie/opt/anaconda3/lib/python3.9/site-packages (from matplotlib!=3.0.0,>=2.0.2->yellowbrick) (3.0.4)\n",
      "Requirement already satisfied: kiwisolver>=1.0.1 in /Users/mahmooooodie/opt/anaconda3/lib/python3.9/site-packages (from matplotlib!=3.0.0,>=2.0.2->yellowbrick) (1.3.2)\n",
      "Requirement already satisfied: packaging>=20.0 in /Users/mahmooooodie/opt/anaconda3/lib/python3.9/site-packages (from matplotlib!=3.0.0,>=2.0.2->yellowbrick) (21.3)\n",
      "Requirement already satisfied: pillow>=6.2.0 in /Users/mahmooooodie/opt/anaconda3/lib/python3.9/site-packages (from matplotlib!=3.0.0,>=2.0.2->yellowbrick) (9.0.1)\n",
      "Requirement already satisfied: fonttools>=4.22.0 in /Users/mahmooooodie/opt/anaconda3/lib/python3.9/site-packages (from matplotlib!=3.0.0,>=2.0.2->yellowbrick) (4.25.0)\n",
      "Requirement already satisfied: six>=1.5 in /Users/mahmooooodie/opt/anaconda3/lib/python3.9/site-packages (from python-dateutil>=2.7->matplotlib!=3.0.0,>=2.0.2->yellowbrick) (1.16.0)\n",
      "Requirement already satisfied: threadpoolctl>=2.0.0 in /Users/mahmooooodie/opt/anaconda3/lib/python3.9/site-packages (from scikit-learn>=1.0.0->yellowbrick) (2.2.0)\n",
      "Requirement already satisfied: joblib>=0.11 in /Users/mahmooooodie/opt/anaconda3/lib/python3.9/site-packages (from scikit-learn>=1.0.0->yellowbrick) (1.1.0)\n",
      "Installing collected packages: yellowbrick\n",
      "Successfully installed yellowbrick-1.5\n"
     ]
    }
   ],
   "source": [
    "!pip install yellowbrick"
   ]
  },
  {
   "cell_type": "code",
   "execution_count": 131,
   "id": "c2ca6a83",
   "metadata": {
    "ExecuteTime": {
     "end_time": "2023-11-05T13:46:44.560910Z",
     "start_time": "2023-11-05T13:46:42.806663Z"
    }
   },
   "outputs": [],
   "source": [
    "from yellowbrick.regressor import ResidualsPlot"
   ]
  },
  {
   "cell_type": "code",
   "execution_count": 132,
   "id": "64ae7bd2",
   "metadata": {
    "ExecuteTime": {
     "end_time": "2023-11-05T13:47:13.496472Z",
     "start_time": "2023-11-05T13:47:12.810918Z"
    }
   },
   "outputs": [
    {
     "data": {
      "image/png": "[encoded data removed]",
      "text/plain": [
       "<Figure size 576x396 with 2 Axes>"
      ]
     },
     "metadata": {},
     "output_type": "display_data"
    }
   ],
   "source": [
    "model = LinearRegression()\n",
    "visualizer = ResidualsPlot(model)\n",
    "visualizer.fit(X_train, y_train)\n",
    "visualizer.score(X_test, y_test)\n",
    "visualizer.show();"
   ]
  },
  {
   "cell_type": "code",
   "execution_count": 133,
   "id": "1d0d603e",
   "metadata": {
    "ExecuteTime": {
     "end_time": "2023-11-05T13:53:30.685514Z",
     "start_time": "2023-11-05T13:53:30.675424Z"
    }
   },
   "outputs": [],
   "source": [
    "# prediction error for linear regression\n",
    "from yellowbrick.regressor import PredictionError"
   ]
  },
  {
   "cell_type": "code",
   "execution_count": 139,
   "id": "5cc0069c",
   "metadata": {
    "ExecuteTime": {
     "end_time": "2023-11-05T13:56:45.468672Z",
     "start_time": "2023-11-05T13:56:45.323496Z"
    }
   },
   "outputs": [
    {
     "data": {
      "image/png": "[encoded data removed]",
      "text/plain": [
       "<Figure size 576x396 with 1 Axes>"
      ]
     },
     "metadata": {},
     "output_type": "display_data"
    }
   ],
   "source": [
    "\n",
    "model = LinearRegression()\n",
    "visualizer = PredictionError(model)\n",
    "visualizer.fit(X_train, y_train)\n",
    "visualizer.score(X_test, y_test)\n",
    "visualizer.show();"
   ]
  },
  {
   "cell_type": "markdown",
   "id": "d0bbe783",
   "metadata": {},
   "source": [
    "## Retraining Model on Full Data - Final Model"
   ]
  },
  {
   "cell_type": "code",
   "execution_count": 141,
   "id": "795d5dd8",
   "metadata": {
    "ExecuteTime": {
     "end_time": "2023-11-05T14:12:17.751253Z",
     "start_time": "2023-11-05T14:12:17.732233Z"
    }
   },
   "outputs": [
    {
     "data": {
      "text/plain": [
       "LinearRegression()"
      ]
     },
     "execution_count": 141,
     "metadata": {},
     "output_type": "execute_result"
    }
   ],
   "source": [
    "final_model = LinearRegression()\n",
    "final_model.fit(X,y)"
   ]
  },
  {
   "cell_type": "markdown",
   "id": "18f8f9e2",
   "metadata": {},
   "source": [
    "### Coefficients"
   ]
  },
  {
   "cell_type": "code",
   "execution_count": 142,
   "id": "7d68e26b",
   "metadata": {
    "ExecuteTime": {
     "end_time": "2023-11-05T14:13:27.521064Z",
     "start_time": "2023-11-05T14:13:27.512223Z"
    }
   },
   "outputs": [
    {
     "data": {
      "text/plain": [
       "array([ 0.04576465,  0.18853002, -0.00103749])"
      ]
     },
     "execution_count": 142,
     "metadata": {},
     "output_type": "execute_result"
    }
   ],
   "source": [
    "# retreiving coefficients\n",
    "\n",
    "final_model.coef_\n"
   ]
  },
  {
   "cell_type": "code",
   "execution_count": 144,
   "id": "daf41410",
   "metadata": {
    "ExecuteTime": {
     "end_time": "2023-11-05T14:15:16.250299Z",
     "start_time": "2023-11-05T14:15:16.233025Z"
    }
   },
   "outputs": [
    {
     "data": {
      "text/html": [
       "<div>\n",
       "<style scoped>\n",
       "    .dataframe tbody tr th:only-of-type {\n",
       "        vertical-align: middle;\n",
       "    }\n",
       "\n",
       "    .dataframe tbody tr th {\n",
       "        vertical-align: top;\n",
       "    }\n",
       "\n",
       "    .dataframe thead th {\n",
       "        text-align: right;\n",
       "    }\n",
       "</style>\n",
       "<table border=\"1\" class=\"dataframe\">\n",
       "  <thead>\n",
       "    <tr style=\"text-align: right;\">\n",
       "      <th></th>\n",
       "      <th>Coefficient</th>\n",
       "    </tr>\n",
       "  </thead>\n",
       "  <tbody>\n",
       "    <tr>\n",
       "      <th>TV</th>\n",
       "      <td>0.045765</td>\n",
       "    </tr>\n",
       "    <tr>\n",
       "      <th>radio</th>\n",
       "      <td>0.188530</td>\n",
       "    </tr>\n",
       "    <tr>\n",
       "      <th>newspaper</th>\n",
       "      <td>-0.001037</td>\n",
       "    </tr>\n",
       "  </tbody>\n",
       "</table>\n",
       "</div>"
      ],
      "text/plain": [
       "           Coefficient\n",
       "TV            0.045765\n",
       "radio         0.188530\n",
       "newspaper    -0.001037"
      ]
     },
     "execution_count": 144,
     "metadata": {},
     "output_type": "execute_result"
    }
   ],
   "source": [
    "# converting coefficients to datafram\n",
    "coeff_df = pd.DataFrame(final_model.coef_, index = X.columns, columns = [\"Coefficient\"] )\n",
    "coeff_df"
   ]
  },
  {
   "cell_type": "markdown",
   "id": "079928a5",
   "metadata": {},
   "source": [
    "## Prediction on New Data using Final Model"
   ]
  },
  {
   "cell_type": "code",
   "execution_count": 147,
   "id": "12f6bad9",
   "metadata": {
    "ExecuteTime": {
     "end_time": "2023-11-05T14:27:36.644047Z",
     "start_time": "2023-11-05T14:27:36.633192Z"
    }
   },
   "outputs": [
    {
     "data": {
      "text/plain": [
       "array([13.55862413])"
      ]
     },
     "execution_count": 147,
     "metadata": {},
     "output_type": "execute_result"
    }
   ],
   "source": [
    "# Example feature values\n",
    "# TV : 150, Radio : 20, newspaper : 15\n",
    "adv = [[150,20,15]]\n",
    "\n",
    "final_model.predict(adv)"
   ]
  },
  {
   "cell_type": "code",
   "execution_count": 149,
   "id": "e9e66f25",
   "metadata": {
    "ExecuteTime": {
     "end_time": "2023-11-05T14:28:50.243533Z",
     "start_time": "2023-11-05T14:28:50.237424Z"
    }
   },
   "outputs": [
    {
     "data": {
      "text/plain": [
       "13.558624130495994"
      ]
     },
     "execution_count": 149,
     "metadata": {},
     "output_type": "execute_result"
    }
   ],
   "source": [
    "sum(final_model.coef_*[150,20,15]) +final_model.intercept_"
   ]
  },
  {
   "cell_type": "code",
   "execution_count": 150,
   "id": "c8b40388",
   "metadata": {
    "ExecuteTime": {
     "end_time": "2023-11-05T14:32:02.922342Z",
     "start_time": "2023-11-05T14:32:02.913198Z"
    }
   },
   "outputs": [
    {
     "data": {
      "text/plain": [
       "array([13.55862413, 13.06843304])"
      ]
     },
     "execution_count": 150,
     "metadata": {},
     "output_type": "execute_result"
    }
   ],
   "source": [
    "adv_2 = [[150,20,15],[160,15,20]]\n",
    "final_model.predict(adv_2)"
   ]
  },
  {
   "cell_type": "code",
   "execution_count": 151,
   "id": "4b2e27a6",
   "metadata": {
    "ExecuteTime": {
     "end_time": "2023-11-05T14:32:27.346204Z",
     "start_time": "2023-11-05T14:32:27.336074Z"
    }
   },
   "outputs": [
    {
     "data": {
      "text/plain": [
       "-0.4901910952494273"
      ]
     },
     "execution_count": 151,
     "metadata": {},
     "output_type": "execute_result"
    }
   ],
   "source": [
    "final_model.predict(adv_2)[1] - final_model.predict(adv_2)[0]"
   ]
  },
  {
   "cell_type": "code",
   "execution_count": null,
   "id": "8663d42a",
   "metadata": {},
   "outputs": [],
   "source": []
  }
 ],
 "metadata": {
  "kernelspec": {
   "display_name": "Python 3 (ipykernel)",
   "language": "python",
   "name": "python3"
  },
  "language_info": {
   "codemirror_mode": {
    "name": "ipython",
    "version": 3
   },
   "file_extension": ".py",
   "mimetype": "text/x-python",
   "name": "python",
   "nbconvert_exporter": "python",
   "pygments_lexer": "ipython3",
   "version": "3.9.12"
  },
  "toc": {
   "base_numbering": 1,
   "nav_menu": {},
   "number_sections": true,
   "sideBar": true,
   "skip_h1_title": false,
   "title_cell": "Table of Contents",
   "title_sidebar": "Contents",
   "toc_cell": false,
   "toc_position": {
    "height": "calc(100% - 180px)",
    "left": "10px",
    "top": "150px",
    "width": "344.667px"
   },
   "toc_section_display": false,
   "toc_window_display": false
  }
 },
 "nbformat": 4,
 "nbformat_minor": 5
}
